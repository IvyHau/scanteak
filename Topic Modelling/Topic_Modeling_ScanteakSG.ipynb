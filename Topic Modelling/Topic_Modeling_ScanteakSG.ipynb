{
 "cells": [
  {
   "cell_type": "code",
   "execution_count": 69,
   "metadata": {},
   "outputs": [
    {
     "name": "stderr",
     "output_type": "stream",
     "text": [
      "[nltk_data] Downloading package stopwords to C:\\Users\\Yong\n",
      "[nltk_data]     Jie\\AppData\\Roaming\\nltk_data...\n",
      "[nltk_data]   Package stopwords is already up-to-date!\n"
     ]
    },
    {
     "data": {
      "text/plain": [
       "True"
      ]
     },
     "execution_count": 69,
     "metadata": {},
     "output_type": "execute_result"
    }
   ],
   "source": [
    "'''\n",
    "We will need the stopwords from NLTK and spacy’s en model for text pre-processing.\n",
    "Later, we will be using the spacy model for lemmatization.\n",
    "\n",
    "Lemmatization is nothing but converting a word to its root word.\n",
    "For example: the lemma of the word ‘machines’ is ‘machine’.\n",
    "\n",
    "Likewise, ‘walking’ –> ‘walk’, ‘mice’ –> ‘mouse’ and so on.\n",
    "\n",
    "'''\n",
    "\n",
    "# Run in python console\n",
    "import nltk\n",
    "nltk.download('stopwords')\n",
    "\n",
    "# nltk.download('stopwords') # You already did this in a previous lab"
   ]
  },
  {
   "cell_type": "code",
   "execution_count": 70,
   "metadata": {},
   "outputs": [],
   "source": [
    "import re\n",
    "import numpy as np\n",
    "import pandas as pd\n",
    "from pprint import pprint"
   ]
  },
  {
   "cell_type": "code",
   "execution_count": 71,
   "metadata": {},
   "outputs": [],
   "source": [
    "# Gensim (Topic Modeling Pacakge)\n",
    "import gensim\n",
    "import gensim.corpora as corpora\n",
    "from gensim.utils import simple_preprocess\n",
    "from gensim.models import CoherenceModel"
   ]
  },
  {
   "cell_type": "code",
   "execution_count": 72,
   "metadata": {},
   "outputs": [],
   "source": [
    "# spacy for lemmatization\n",
    "import spacy"
   ]
  },
  {
   "cell_type": "code",
   "execution_count": 73,
   "metadata": {},
   "outputs": [],
   "source": [
    "# Plotting tools\n",
    "import pyLDAvis\n",
    "import pyLDAvis.gensim_models  # don't skip this\n",
    "import matplotlib.pyplot as plt\n",
    "%matplotlib inline"
   ]
  },
  {
   "cell_type": "code",
   "execution_count": 74,
   "metadata": {},
   "outputs": [],
   "source": [
    "# Enable logging for gensim - optional\n",
    "import logging\n",
    "logging.basicConfig(format='%(asctime)s : %(levelname)s : %(message)s', level=logging.ERROR)\n",
    "\n",
    "import warnings\n",
    "warnings.filterwarnings(\"ignore\",category=DeprecationWarning)"
   ]
  },
  {
   "cell_type": "code",
   "execution_count": 75,
   "metadata": {},
   "outputs": [],
   "source": [
    "# NLTK Stop words\n",
    "from nltk.corpus import stopwords\n",
    "stop_words = stopwords.words('english')\n",
    "# stop_words.extend(['scanteaksg','scanteak'])"
   ]
  },
  {
   "cell_type": "code",
   "execution_count": 76,
   "metadata": {},
   "outputs": [
    {
     "data": {
      "text/html": [
       "<div>\n",
       "<style scoped>\n",
       "    .dataframe tbody tr th:only-of-type {\n",
       "        vertical-align: middle;\n",
       "    }\n",
       "\n",
       "    .dataframe tbody tr th {\n",
       "        vertical-align: top;\n",
       "    }\n",
       "\n",
       "    .dataframe thead th {\n",
       "        text-align: right;\n",
       "    }\n",
       "</style>\n",
       "<table border=\"1\" class=\"dataframe\">\n",
       "  <thead>\n",
       "    <tr style=\"text-align: right;\">\n",
       "      <th></th>\n",
       "      <th>date</th>\n",
       "      <th>username</th>\n",
       "      <th>text</th>\n",
       "    </tr>\n",
       "  </thead>\n",
       "  <tbody>\n",
       "    <tr>\n",
       "      <th>0</th>\n",
       "      <td>2013-12-23 01:24:35</td>\n",
       "      <td>phumyatmon</td>\n",
       "      <td>Cute :heart_suit::heart_suit: :)</td>\n",
       "    </tr>\n",
       "    <tr>\n",
       "      <th>1</th>\n",
       "      <td>2014-12-16 10:12:58</td>\n",
       "      <td>giftsnsuchsg</td>\n",
       "      <td>:) my pleasure! So want to go for it but l m s...</td>\n",
       "    </tr>\n",
       "    <tr>\n",
       "      <th>2</th>\n",
       "      <td>2014-12-16 09:59:05</td>\n",
       "      <td>uniquegrabs</td>\n",
       "      <td>@giftsnsuchsg Thank you so much for your well ...</td>\n",
       "    </tr>\n",
       "    <tr>\n",
       "      <th>3</th>\n",
       "      <td>2014-12-16 08:34:55</td>\n",
       "      <td>giftsnsuchsg</td>\n",
       "      <td>All the best!</td>\n",
       "    </tr>\n",
       "    <tr>\n",
       "      <th>4</th>\n",
       "      <td>2014-12-16 02:09:05</td>\n",
       "      <td>uniquegrabs</td>\n",
       "      <td>#cardmaking #christmas #handmadecard #workshop...</td>\n",
       "    </tr>\n",
       "  </tbody>\n",
       "</table>\n",
       "</div>"
      ],
      "text/plain": [
       "                  date      username  \\\n",
       "0  2013-12-23 01:24:35    phumyatmon   \n",
       "1  2014-12-16 10:12:58  giftsnsuchsg   \n",
       "2  2014-12-16 09:59:05   uniquegrabs   \n",
       "3  2014-12-16 08:34:55  giftsnsuchsg   \n",
       "4  2014-12-16 02:09:05   uniquegrabs   \n",
       "\n",
       "                                                text  \n",
       "0                   Cute :heart_suit::heart_suit: :)  \n",
       "1  :) my pleasure! So want to go for it but l m s...  \n",
       "2  @giftsnsuchsg Thank you so much for your well ...  \n",
       "3                                      All the best!  \n",
       "4  #cardmaking #christmas #handmadecard #workshop...  "
      ]
     },
     "execution_count": 76,
     "metadata": {},
     "output_type": "execute_result"
    }
   ],
   "source": [
    "'''\n",
    "We will be using the 20-Newsgroups dataset for this exercise.\n",
    "This version of the dataset contains about 11k newsgroups posts from \n",
    "20 different topics. This is available as newsgroups.json.\n",
    "'''\n",
    "# Import Dataset\n",
    "df = pd.read_csv('./scanteaksg.csv', encoding='utf-8')\n",
    "\n",
    "df.head()"
   ]
  },
  {
   "cell_type": "code",
   "execution_count": 77,
   "metadata": {
    "scrolled": true
   },
   "outputs": [
    {
     "name": "stderr",
     "output_type": "stream",
     "text": [
      "[nltk_data] Downloading package words to C:\\Users\\Yong\n",
      "[nltk_data]     Jie\\AppData\\Roaming\\nltk_data...\n",
      "[nltk_data]   Package words is already up-to-date!\n"
     ]
    }
   ],
   "source": [
    "import nltk\n",
    "nltk.download('words')\n",
    "words = set(nltk.corpus.words.words())\n",
    "\n",
    "\n",
    "\n"
   ]
  },
  {
   "cell_type": "code",
   "execution_count": 78,
   "metadata": {},
   "outputs": [
    {
     "name": "stdout",
     "output_type": "stream",
     "text": [
      "['Cute :heart_suit::heart_suit: :)', ':) my pleasure! So want to go for it but l m so bz during this season.....', '@giftsnsuchsg Thank you so much for your well wishes, Mrs Chan! :)', 'All the best!', '#cardmaking #christmas #handmadecard #workshop #scanteaksg #papercrafts #crafts #stationery #uniquegrabs', 'hermeswechat:aifeihermes', '#trickeye #chistmas #snowglobe', '#scanteaksmile', 'wow!', 'Hi! Looks like we will be doing business in future haha!', 'exactly my thoughts. pink polka dot chair will be most ideal haha', '@cherrychoo cannot help thinking of you and polka dots. Though you would have preferred pink instead I think.', 'nice! polka dots! :smiling_face_with_heart-eyes:', ':thumbs_up_medium-light_skin_tone:', 'Amazing :clapping_hands_medium_skin_tone::clapping_hands_medium_skin_tone::clapping_hands_medium_skin_tone:', 'What do you think of this? @stephlimmss', '@eternalgluck zhong kan bu zhong yong', '@hellonoraa the coffee table though', 'Love it!', 'i wan @hpu3m @theminiloft']\n"
     ]
    }
   ],
   "source": [
    "'''\n",
    "As you can see there are many emails, newline and extra spaces that is quite distracting.\n",
    "Let’s get rid of them using regular expressions.\n",
    "'''\n",
    "# Convert to list\n",
    "data = df.text.values.tolist()\n",
    "new_data = []\n",
    "\n",
    "# Remove Emails\n",
    "data = [re.sub(r'[^\\x00-\\x7F]+', '', sent) for sent in data]\n",
    "\n",
    "# # Remove new line characters\n",
    "# data = [re.sub('\\s+', ' ', sent) for sent in data]\n",
    "\n",
    "# # Remove distracting single quotes\n",
    "# data = [re.sub(\"\\'\", \"\", sent) for sent in data]\n",
    "\n",
    "        \n",
    "    \n",
    "\n",
    "print(data[:20])"
   ]
  },
  {
   "cell_type": "code",
   "execution_count": 79,
   "metadata": {},
   "outputs": [
    {
     "name": "stdout",
     "output_type": "stream",
     "text": [
      "['cute', 'heart_suit', 'heart_suit']\n",
      "[['heart_suit'], ['pleasure', 'want', 'go', 'it', 'so', 'bz', 'this'], ['giftsnsuchsg', 'you', 'much', 'your', 'wishes', 'mrs', 'chan'], ['the'], ['christmas', 'handmadecard', 'scanteaksg', 'papercrafts', 'crafts', 'uniquegrabs'], ['hermeswechat', 'aifeihermes'], ['trickeye', 'chistmas', 'snowglobe'], ['scanteaksmile'], [], ['looks', 'we', 'be', 'business', 'future', 'haha'], ['my', 'thoughts', 'polka', 'chair', 'be', 'ideal', 'haha'], ['cherrychoo', 'help', 'of', 'and', 'dots', 'you', 'have', 'pink', 'think'], ['polka', 'dots', 'eyes'], [], [], ['do', 'think', 'this', 'stephlimmss'], ['eternalgluck', 'zhong', 'bu', 'zhong', 'yong'], ['hellonoraa', 'coffee', 'though'], ['it'], ['hpu', 'theminiloft'], [], ['love'], ['sallytumultuous', 'pleasure', 'ours', 're', 'you', 'happy', 'andy', 'and', 'definitely', 'on', 'compliments', 'him', 'great', 'hugging_face'], ['you', 'the', 'scanteaksg', 'thanks', 'the', 'staff', 'park', 'forgive', 'if', 'got', 'name', 'up', 'believe', 'name', 'andy', 'him', 'say'], ['post'], ['cuuute'], ['thanks', 'can', 'to', 'doing', 'size', 'versions'], [], ['cool', 'wait', 'see', 'in', 'windows'], ['isn', 'just'], ['is'], ['nadon', 'letting', 'we', 'love', 'products', 'we', 'hope', 'that', 'they', 'll', 'you', 'your', 'well', 'for', 'years', 'come'], ['folded_hands'], ['for', 'feature', 'loveeee', 'products', 'eyes', 'my', 'table', 'chairs', 'from', 'scanteak'], ['how', 'this'], ['great', 'visualtroop'], ['don', 'watchmerchant', 'to', 'get', 'shots', 'on', 'page'], ['you', 'great'], ['nakspud', 'we', 've', 'very', 'pieces', 'though'], ['scanteaksg', 'is', 'still'], ['stuff'], [], [], ['scanteaksg', 'outofstock', 'catsofinstagram', 'felixthegangsta', 'feelathome'], ['scanteaksg', 'eyes'], ['is', 'eyes', 'purchasing', 'prologue', 'we', 'serve', 'family', 'and', 'felix', 'for', 'years', 'come', 'we', 'this', 'it', 'too', 'to', 'share'], ['awww', 'cute', 'felix'], ['pinprestige', 'scanteak', 'scanteaksg', 'maxmara', 'audemarspiguet', 'chinesemagazine', 'redefiningluxe', 'watch', 'watches'], ['may', 'what', 'the', 'for', 'queen'], ['raising_hands'], ['depends', 'you', 'but', 'feel', 'to', 'quotation', 'our', 'website', 'www', 'scanteak', 'com', 'sg', 'more', 'and', 'details', 'particular', 'is', 'the', 'slank', 'table'], ['much', 'the', 'table'], ['purple_heart'], [], [], ['dreams', 'made', 'these'], ['lianaalin', 'there', 'it', 'the', 'koniska', 'table', 'can', 'it', 'this', 'https', 'scanteak', 'com', 'sg', 'products', 'koniska', 'table'], ['is', 'the', 'koniska', 'table'], ['nadeeaannaa'], ['rozie', 'yup', 'is'], ['this', 'villa'], ['content'], [], ['jarrodstone', 'cup', 'scanteak'], ['jarrodstone', 'on', 'to', 'suntec', 'east', 'we', 'here', 'tomorrow'], [], [], [], ['popupshop', 'popup', 'sgdesign', 'greetingcards', 'christmas', 'xmas', 'giftideas', 'totebags', 'canvasbag', 'scanteaksg', 'ngeeanncity', 'orchardroad', 'sgchristmas', 'christmas'], [], [], ['love', 'set', 'available'], ['is', 'available', 'find', 'in', 'website', 'scanteaksg'], ['much', 'the', 'furniture'], ['all', 'fabric', 'removed', 'washing'], [], [], ['lemon'], ['can', 'the', 'covers'], ['mantolnya', 'keren']]\n"
     ]
    }
   ],
   "source": [
    "'''\n",
    "After removing the emails and extra spaces, the text still looks messy.\n",
    "It is not ready for the LDA to consume. You need to break down each sentence\n",
    "into a list of words through tokenization, while clearing up all the messy \n",
    "text in the process.\n",
    "\n",
    "Let’s tokenize each sentence into a list of words, removing punctuations and \n",
    "unnecessary characters altogether.\n",
    "\n",
    "Gensim’s simple_preprocess() is great for this.\n",
    "Additionally I have set deacc=True to remove the punctuations.\n",
    "'''\n",
    "def sent_to_words(sentences):\n",
    "    for sentence in sentences:\n",
    "        yield(gensim.utils.simple_preprocess(str(sentence), deacc=True))  # deacc=True removes punctuations\n",
    "\n",
    "data_words = list(sent_to_words(data))\n",
    "print(data_words[0])\n",
    "for list_of_words in data_words:\n",
    "    for word in list_of_words:\n",
    "        if word.lower() in words or not word.isalpha():\n",
    "            list_of_words.remove(word)\n",
    "    \n",
    "print(data_words[:80])"
   ]
  },
  {
   "cell_type": "code",
   "execution_count": 80,
   "metadata": {},
   "outputs": [
    {
     "name": "stdout",
     "output_type": "stream",
     "text": [
      "[['heart_suit'], ['pleasure', 'want', 'go', 'it', 'so', 'bz', 'this'], ['giftsnsuchsg', 'you', 'much', 'your', 'wishes', 'mrs', 'chan'], ['the'], ['christmas', 'handmadecard', 'scanteaksg', 'papercrafts', 'crafts', 'uniquegrabs'], ['hermeswechat', 'aifeihermes'], ['trickeye', 'chistmas', 'snowglobe'], ['scanteaksmile'], ['looks', 'we', 'be', 'business', 'future', 'haha'], ['my', 'thoughts', 'polka', 'chair', 'be', 'ideal', 'haha'], ['cherrychoo', 'help', 'of', 'and', 'dots', 'you', 'have', 'pink', 'think'], ['polka', 'dots', 'eyes'], ['do', 'think', 'this', 'stephlimmss'], ['eternalgluck', 'zhong', 'bu', 'zhong', 'yong'], ['hellonoraa', 'coffee', 'though'], ['it'], ['hpu', 'theminiloft'], ['love'], ['sallytumultuous', 'pleasure', 'ours', 're', 'you', 'happy', 'andy', 'and', 'definitely', 'on', 'compliments', 'him', 'great', 'hugging_face'], ['you', 'the', 'scanteaksg', 'thanks', 'the', 'staff', 'park', 'forgive', 'if', 'got', 'name', 'up', 'believe', 'name', 'andy', 'him', 'say']]\n"
     ]
    }
   ],
   "source": [
    "data_words = [x for x in data_words if x]\n",
    "\n",
    "print(data_words[0:20])"
   ]
  },
  {
   "cell_type": "code",
   "execution_count": 81,
   "metadata": {},
   "outputs": [
    {
     "name": "stdout",
     "output_type": "stream",
     "text": [
      "['heart_suit']\n"
     ]
    }
   ],
   "source": [
    "'''\n",
    "Bigrams are two words frequently occurring together in the document.\n",
    "Trigrams are 3 words frequently occurring.\n",
    "\n",
    "Some examples in our example are: ‘front_bumper’, ‘oil_leak’, ‘maryland_college_park’ etc.\n",
    "\n",
    "Gensim’s Phrases model can build and implement the bigrams, trigrams, \n",
    "quadgrams and more.\n",
    "\n",
    "The two important arguments to Phrases are min_count and threshold.\n",
    "The higher the values of these param, the harder it is for words to be combined to bigrams.\n",
    "'''\n",
    "# Build the bigram and trigram models\n",
    "bigram = gensim.models.Phrases(data_words, min_count=5, threshold=100) # higher threshold fewer phrases.\n",
    "trigram = gensim.models.Phrases(bigram[data_words], threshold=100)  \n",
    "\n",
    "# Faster way to get a sentence clubbed as a trigram/bigram\n",
    "bigram_mod = gensim.models.phrases.Phraser(bigram)\n",
    "trigram_mod = gensim.models.phrases.Phraser(trigram)\n",
    "\n",
    "# See trigram example\n",
    "print(trigram_mod[bigram_mod[data_words[0]]])"
   ]
  },
  {
   "cell_type": "code",
   "execution_count": 82,
   "metadata": {},
   "outputs": [],
   "source": [
    "'''\n",
    "The bigrams model is ready. Let’s define the functions to remove the stopwords, \n",
    "make bigrams and lemmatization and call them sequentially.\n",
    "'''\n",
    "# Define functions for stopwords, bigrams, trigrams and lemmatization\n",
    "def remove_stopwords(texts):\n",
    "    return [[word for word in simple_preprocess(str(doc)) if word not in stop_words] for doc in texts]\n",
    "\n",
    "def make_bigrams(texts):\n",
    "    return [bigram_mod[doc] for doc in texts]\n",
    "\n",
    "def make_trigrams(texts):\n",
    "    return [trigram_mod[bigram_mod[doc]] for doc in texts]\n",
    "\n",
    "def lemmatization(texts, allowed_postags=['NOUN', 'ADJ', 'VERB', 'ADV']):\n",
    "    \"\"\"https://spacy.io/api/annotation\"\"\"\n",
    "    texts_out = []\n",
    "    for sent in texts:\n",
    "        doc = nlp(\" \".join(sent)) \n",
    "        texts_out.append([token.lemma_ for token in doc if token.pos_ in allowed_postags])\n",
    "    return texts_out"
   ]
  },
  {
   "cell_type": "code",
   "execution_count": 83,
   "metadata": {},
   "outputs": [
    {
     "name": "stdout",
     "output_type": "stream",
     "text": [
      "[['heart_suit']]\n"
     ]
    }
   ],
   "source": [
    "'''\n",
    "Let’s call the functions in order.\n",
    "'''\n",
    "# Remove Stop Words\n",
    "data_words_nostops = remove_stopwords(data_words)\n",
    "\n",
    "# Form Bigrams\n",
    "data_words_bigrams = make_bigrams(data_words_nostops)\n",
    "\n",
    "# Initialize spacy 'en' model, keeping only tagger component (for efficiency)\n",
    "# python3 -m spacy download en\n",
    "nlp = spacy.load('en_core_web_sm', disable=['parser', 'ner'])\n",
    "\n",
    "# Do lemmatization keeping only noun, adj, vb, adv\n",
    "data_lemmatized = lemmatization(data_words_bigrams, allowed_postags=['NOUN', 'ADJ', 'VERB', 'ADV'])\n",
    "\n",
    "print(data_lemmatized[:1])"
   ]
  },
  {
   "cell_type": "code",
   "execution_count": 84,
   "metadata": {},
   "outputs": [
    {
     "name": "stdout",
     "output_type": "stream",
     "text": [
      "[[(0, 1)]]\n"
     ]
    }
   ],
   "source": [
    "'''\n",
    "The two main inputs to the LDA topic model are the dictionary(id2word) and the corpus.\n",
    "Let’s create them.\n",
    "'''\n",
    "# Create Dictionary\n",
    "id2word = corpora.Dictionary(data_lemmatized)\n",
    "\n",
    "# Create Corpus\n",
    "texts = data_lemmatized\n",
    "\n",
    "# Term Document Frequency\n",
    "corpus = [id2word.doc2bow(text) for text in texts]\n",
    "\n",
    "# View\n",
    "print(corpus[:1])"
   ]
  },
  {
   "cell_type": "code",
   "execution_count": 85,
   "metadata": {},
   "outputs": [
    {
     "data": {
      "text/plain": [
       "\"\\nGensim creates a unique id for each word in the document.\\nThe produced corpus shown above is a mapping of (word_id, word_frequency).\\n\\nFor example, (0, 1) above implies, word id 0 occurs once in the first document.\\n\\nLikewise, word id 1 occurs twice and so on.\\n\\nThis is used as the input by the LDA model.\\n\\nIf you want to see what word a given id corresponds to, pass the id as a key to the dictionary.\\n\\nid2word[0]\\n'addition'\\n\\nOr, you can see a human-readable form of the corpus itself.\\n\\n# Human readable format of corpus (term-frequency)\\n[[(id2word[id], freq) for id, freq in cp] for cp in corpus[:1]]\\n\\n[[('addition', 1),\\n  ('anyone', 2),\\n  ('body', 1),\\n  ('bricklin', 1),\\n  ('bring', 1),\\n  ('call', 1),\\n  ('car', 5),\\n  ('could', 1),\\n  ('day', 1),\\n  ('door', 2),\\n  ('early', 1),\\n  ('engine', 1),\\n  ('enlighten', 1),\\n  ('front_bumper', 1),\\n  ('maryland_college', 1),\\n  (..truncated..)]]\\n\\n\\nAlright, without digressing further let’s jump back on track with the next step:\\n\\nBuilding the topic model.\\n\""
      ]
     },
     "execution_count": 85,
     "metadata": {},
     "output_type": "execute_result"
    }
   ],
   "source": [
    "'''\n",
    "Gensim creates a unique id for each word in the document.\n",
    "The produced corpus shown above is a mapping of (word_id, word_frequency).\n",
    "\n",
    "For example, (0, 1) above implies, word id 0 occurs once in the first document.\n",
    "\n",
    "Likewise, word id 1 occurs twice and so on.\n",
    "\n",
    "This is used as the input by the LDA model.\n",
    "\n",
    "If you want to see what word a given id corresponds to, pass the id as a key to the dictionary.\n",
    "\n",
    "id2word[0]\n",
    "'addition'\n",
    "\n",
    "Or, you can see a human-readable form of the corpus itself.\n",
    "\n",
    "# Human readable format of corpus (term-frequency)\n",
    "[[(id2word[id], freq) for id, freq in cp] for cp in corpus[:1]]\n",
    "\n",
    "[[('addition', 1),\n",
    "  ('anyone', 2),\n",
    "  ('body', 1),\n",
    "  ('bricklin', 1),\n",
    "  ('bring', 1),\n",
    "  ('call', 1),\n",
    "  ('car', 5),\n",
    "  ('could', 1),\n",
    "  ('day', 1),\n",
    "  ('door', 2),\n",
    "  ('early', 1),\n",
    "  ('engine', 1),\n",
    "  ('enlighten', 1),\n",
    "  ('front_bumper', 1),\n",
    "  ('maryland_college', 1),\n",
    "  (..truncated..)]]\n",
    "\n",
    "\n",
    "Alright, without digressing further let’s jump back on track with the next step:\n",
    "\n",
    "Building the topic model.\n",
    "'''"
   ]
  },
  {
   "cell_type": "code",
   "execution_count": 86,
   "metadata": {},
   "outputs": [],
   "source": [
    "'''\n",
    "We have everything required to train the LDA model.\n",
    "In addition to the corpus and dictionary, you need to provide the number of topics as well.\n",
    "\n",
    "Apart from that, alpha and eta are hyperparameters that affect sparsity of the topics.\n",
    "According to the Gensim docs, both defaults to 1.0/num_topics prior.\n",
    "\n",
    "chunksize is the number of documents to be used in each training chunk.\n",
    "\n",
    "update_every determines how often the model parameters should be updated and \n",
    "passes is the total number of training passes.\n",
    "'''\n",
    "# Build LDA model\n",
    "lda_model = gensim.models.ldamodel.LdaModel(corpus=corpus,\n",
    "                                           id2word=id2word,\n",
    "                                           num_topics=10, \n",
    "                                           random_state=100,\n",
    "                                           update_every=1,\n",
    "                                           chunksize=100,\n",
    "                                           passes=10,\n",
    "                                           alpha='auto',\n",
    "                                           per_word_topics=True)"
   ]
  },
  {
   "cell_type": "code",
   "execution_count": 87,
   "metadata": {},
   "outputs": [
    {
     "name": "stdout",
     "output_type": "stream",
     "text": [
      "[(0,\n",
      "  '0.067*\"scanteaksg\" + 0.063*\"cantik\" + 0.028*\"scanteak\" + 0.028*\"website\" + '\n",
      "  '0.020*\"detail\" + 0.020*\"rumah\" + 0.020*\"www\" + 0.020*\"feel\" + '\n",
      "  '0.020*\"promotion\" + 0.012*\"breaker\"'),\n",
      " (1,\n",
      "  '0.049*\"red_heart\" + 0.031*\"cute\" + 0.031*\"set\" + 0.031*\"awww\" + '\n",
      "  '0.019*\"join\" + 0.019*\"omg\" + 0.019*\"start\" + 0.019*\"planter\" + '\n",
      "  '0.019*\"struggle\" + 0.019*\"keep\"'),\n",
      " (2,\n",
      "  '0.198*\"scanteaksg\" + 0.186*\"scanteak\" + 0.159*\"feelathome\" + '\n",
      "  '0.019*\"interior\" + 0.010*\"name\" + 0.010*\"staff\" + 0.007*\"decor\" + '\n",
      "  '0.007*\"modern\" + 0.007*\"designer\" + 0.007*\"workfromhome\"'),\n",
      " (3,\n",
      "  '0.044*\"love\" + 0.040*\"cover\" + 0.032*\"great\" + 0.026*\"idea\" + '\n",
      "  '0.026*\"coffee\" + 0.026*\"hope\" + 0.022*\"post\" + 0.016*\"use\" + 0.013*\"year\" + '\n",
      "  '0.012*\"come\"'),\n",
      " (4,\n",
      "  '0.056*\"look\" + 0.038*\"year\" + 0.036*\"table\" + 0.028*\"think\" + '\n",
      "  '0.028*\"product\" + 0.022*\"koniska\" + 0.021*\"machine\" + 0.018*\"want\" + '\n",
      "  '0.018*\"family\" + 0.018*\"serve\"'),\n",
      " (5,\n",
      "  '0.052*\"much\" + 0.037*\"hugging_face\" + 0.037*\"furniture\" + 0.031*\"zhong\" + '\n",
      "  '0.016*\"eternalgluck\" + 0.016*\"yong\" + 0.016*\"nakspud\" + 0.016*\"aifeiherme\" '\n",
      "  '+ 0.016*\"piece\" + 0.016*\"hermeswechat\"'),\n",
      " (6,\n",
      "  '0.056*\"sghome\" + 0.054*\"furniturestyle\" + 0.054*\"homestyling\" + '\n",
      "  '0.054*\"homestyle\" + 0.054*\"homeinspo\" + 0.054*\"homeinspiration\" + '\n",
      "  '0.054*\"sginterior\" + 0.054*\"interiorsg\" + 0.054*\"homefurniture\" + '\n",
      "  '0.054*\"sgreno\"'),\n",
      " (7,\n",
      "  '0.379*\"eye\" + 0.030*\"heart_suit\" + 0.019*\"love\" + 0.016*\"dot\" + '\n",
      "  '0.015*\"thank\" + 0.011*\"leave\" + 0.011*\"dress\" + 0.011*\"simple\" + '\n",
      "  '0.011*\"monkey\" + 0.011*\"blossom\"'),\n",
      " (8,\n",
      "  '0.068*\"sparkle\" + 0.048*\"chair\" + 0.044*\"sofa\" + 0.029*\"teak\" + '\n",
      "  '0.025*\"product\" + 0.025*\"raising_hand\" + 0.025*\"cushion\" + 0.022*\"love\" + '\n",
      "  '0.021*\"watch\" + 0.015*\"jackson\"'),\n",
      " (9,\n",
      "  '0.033*\"christma\" + 0.017*\"orchardroad\" + 0.017*\"popupshop\" + '\n",
      "  '0.017*\"giftideas\" + 0.017*\"greetingcard\" + 0.017*\"popup\" + '\n",
      "  '0.017*\"canvasbag\" + 0.017*\"xmas\" + 0.017*\"sgdesign\" + 0.017*\"ngeeanncity\"')]\n"
     ]
    },
    {
     "data": {
      "text/plain": [
       "'\\nThe output will look like this...\\n\\n\\n[(0,\\n  \\'0.016*\"car\" + 0.014*\"power\" + 0.010*\"light\" + 0.009*\"drive\" + 0.007*\"mount\" \\'\\n  \\'+ 0.007*\"controller\" + 0.007*\"cool\" + 0.007*\"engine\" + 0.007*\"back\" + \\'\\n  \\'0.006*\"turn\"\\'),\\n (1,\\n  \\'0.072*\"line\" + 0.066*\"organization\" + 0.037*\"write\" + 0.032*\"article\" + \\'\\n  \\'0.028*\"university\" + 0.027*\"nntp_post\" + 0.026*\"host\" + 0.016*\"reply\" + \\'\\n  \\'0.014*\"get\" + 0.013*\"thank\"\\'),\\n (2,\\n  \\'0.017*\"patient\" + 0.011*\"study\" + 0.010*\"slave\" + 0.009*\"wing\" + \\'\\n  \\'0.009*\"disease\" + 0.008*\"food\" + 0.008*\"eat\" + 0.008*\"pain\" + \\'\\n  \\'0.007*\"treatment\" + 0.007*\"syndrome\"\\'),\\n (3,\\n  \\'0.013*\"key\" + 0.009*\"use\" + 0.009*\"may\" + 0.007*\"public\" + 0.007*\"system\" + \\'\\n  \\'0.007*\"order\" + 0.007*\"government\" + 0.006*\"state\" + 0.006*\"provide\" + \\'\\n  \\'0.006*\"law\"\\'),\\n  \\n  so on...\\n\\n\\n\\nHow to interpret this?\\n\\nTopic 0 is a represented as _\\n\\n0.016“car” + 0.014“power” + 0.010“light” + 0.009“drive” \\n+ 0.007“mount” + 0.007“controller” + 0.007“cool” + 0.007“engine” \\n+ 0.007“back” + ‘0.006“turn”.\\n\\nIt means the top 10 keywords that contribute to this topic are:\\n‘car’, ‘power’, ‘light’.. and so on\\nand the weight of ‘car’ on topic 0 is 0.016.\\n\\n--> The weights reflect how important a keyword is to that topic.\\n\\nLooking at these keywords, can you guess what this topic could be?\\nYou may summarise it either are ‘cars’ or ‘automobiles’.\\n\\nLikewise, can you go through the remaining topic keywords and judge what the topic is?\\nhttps://www.machinelearningplus.com/wp-content/uploads/2018/03/Inferring-Topic-from-Keywords.png\\n'"
      ]
     },
     "execution_count": 87,
     "metadata": {},
     "output_type": "execute_result"
    }
   ],
   "source": [
    "'''\n",
    "The above LDA model is built with 20 different topics where each topic is a \n",
    "combination of keywords and each keyword contributes a certain weightage to the topic.\n",
    "\n",
    "You can see the keywords for each topic and the weightage(importance) of \n",
    "each keyword using lda_model.print_topics() as shown next.\n",
    "'''\n",
    "# Print the Keyword in the 10 topics\n",
    "pprint(lda_model.print_topics())\n",
    "doc_lda = lda_model[corpus]\n",
    "\n",
    "'''\n",
    "The output will look like this...\n",
    "\n",
    "\n",
    "[(0,\n",
    "  '0.016*\"car\" + 0.014*\"power\" + 0.010*\"light\" + 0.009*\"drive\" + 0.007*\"mount\" '\n",
    "  '+ 0.007*\"controller\" + 0.007*\"cool\" + 0.007*\"engine\" + 0.007*\"back\" + '\n",
    "  '0.006*\"turn\"'),\n",
    " (1,\n",
    "  '0.072*\"line\" + 0.066*\"organization\" + 0.037*\"write\" + 0.032*\"article\" + '\n",
    "  '0.028*\"university\" + 0.027*\"nntp_post\" + 0.026*\"host\" + 0.016*\"reply\" + '\n",
    "  '0.014*\"get\" + 0.013*\"thank\"'),\n",
    " (2,\n",
    "  '0.017*\"patient\" + 0.011*\"study\" + 0.010*\"slave\" + 0.009*\"wing\" + '\n",
    "  '0.009*\"disease\" + 0.008*\"food\" + 0.008*\"eat\" + 0.008*\"pain\" + '\n",
    "  '0.007*\"treatment\" + 0.007*\"syndrome\"'),\n",
    " (3,\n",
    "  '0.013*\"key\" + 0.009*\"use\" + 0.009*\"may\" + 0.007*\"public\" + 0.007*\"system\" + '\n",
    "  '0.007*\"order\" + 0.007*\"government\" + 0.006*\"state\" + 0.006*\"provide\" + '\n",
    "  '0.006*\"law\"'),\n",
    "  \n",
    "  so on...\n",
    "\n",
    "\n",
    "\n",
    "How to interpret this?\n",
    "\n",
    "Topic 0 is a represented as _\n",
    "\n",
    "0.016“car” + 0.014“power” + 0.010“light” + 0.009“drive” \n",
    "+ 0.007“mount” + 0.007“controller” + 0.007“cool” + 0.007“engine” \n",
    "+ 0.007“back” + ‘0.006“turn”.\n",
    "\n",
    "It means the top 10 keywords that contribute to this topic are:\n",
    "‘car’, ‘power’, ‘light’.. and so on\n",
    "and the weight of ‘car’ on topic 0 is 0.016.\n",
    "\n",
    "--> The weights reflect how important a keyword is to that topic.\n",
    "\n",
    "Looking at these keywords, can you guess what this topic could be?\n",
    "You may summarise it either are ‘cars’ or ‘automobiles’.\n",
    "\n",
    "Likewise, can you go through the remaining topic keywords and judge what the topic is?\n",
    "https://www.machinelearningplus.com/wp-content/uploads/2018/03/Inferring-Topic-from-Keywords.png\n",
    "'''"
   ]
  },
  {
   "cell_type": "code",
   "execution_count": 88,
   "metadata": {},
   "outputs": [
    {
     "name": "stdout",
     "output_type": "stream",
     "text": [
      "\n",
      "Perplexity:  -5.882299511894839\n",
      "\n",
      "Coherence Score:  0.5244710096941111\n"
     ]
    },
    {
     "data": {
      "text/plain": [
       "'\\nPerplexity:  -8.86067503009\\n\\nCoherence Score:  0.532947587081\\n\\n\\nThere you have a coherence score of 0.53.\\n'"
      ]
     },
     "execution_count": 88,
     "metadata": {},
     "output_type": "execute_result"
    }
   ],
   "source": [
    "'''\n",
    "Model perplexity and topic coherence provide a convenient measure to judge \n",
    "how good a given topic model is. In my experience, topic coherence score, \n",
    "in particular, has been more helpful.\n",
    "'''\n",
    "# Compute Perplexity\n",
    "print('\\nPerplexity: ', lda_model.log_perplexity(corpus))  # a measure of how good the model is. lower the better.\n",
    "\n",
    "# Compute Coherence Score\n",
    "coherence_model_lda = CoherenceModel(model=lda_model, texts=data_lemmatized, dictionary=id2word, coherence='c_v')\n",
    "coherence_lda = coherence_model_lda.get_coherence()\n",
    "print('\\nCoherence Score: ', coherence_lda)\n",
    "\n",
    "'''\n",
    "Perplexity:  -8.86067503009\n",
    "\n",
    "Coherence Score:  0.532947587081\n",
    "\n",
    "\n",
    "There you have a coherence score of 0.53.\n",
    "'''"
   ]
  },
  {
   "cell_type": "code",
   "execution_count": 89,
   "metadata": {},
   "outputs": [
    {
     "data": {
      "text/html": [
       "\n",
       "<link rel=\"stylesheet\" type=\"text/css\" href=\"https://cdn.jsdelivr.net/gh/bmabey/pyLDAvis@3.3.1/pyLDAvis/js/ldavis.v1.0.0.css\">\n",
       "\n",
       "\n",
       "<div id=\"ldavis_el2527224720838286248886691596\"></div>\n",
       "<script type=\"text/javascript\">\n",
       "\n",
       "var ldavis_el2527224720838286248886691596_data = {\"mdsDat\": {\"x\": [-0.36963571127446876, 0.08716191223929526, 0.06124762049201103, 0.03680668708565521, 0.06786822381007537, 0.03802121493825607, 0.038268203461428785, 0.012938304372753166, 0.012217045197367339, 0.015106499677626747], \"y\": [0.043220118339879925, 0.26925097130635467, -0.0507685853307287, -0.12032074053119383, 0.09837390075087446, -0.06861774544867694, -0.07197548053936133, -0.05119719253471968, -0.04124129635091097, -0.006723949661518383], \"topics\": [1, 2, 3, 4, 5, 6, 7, 8, 9, 10], \"cluster\": [1, 1, 1, 1, 1, 1, 1, 1, 1, 1], \"Freq\": [42.26088326613196, 14.701449738198022, 8.47675501258796, 8.196395766050903, 6.999357632422323, 5.575429642159675, 5.462223114789214, 3.341444637462236, 2.5444001526807734, 2.4416610375169316]}, \"tinfo\": {\"Term\": [\"eye\", \"scanteaksg\", \"scanteak\", \"feelathome\", \"cantik\", \"sghome\", \"sparkle\", \"look\", \"furniturestyle\", \"interiorsg\", \"homestyling\", \"homestyle\", \"homeinspo\", \"homeinspiration\", \"homefurniture\", \"sghomedecor\", \"sginterior\", \"sgreno\", \"teakfurniture\", \"instahome\", \"love\", \"chair\", \"year\", \"sofa\", \"product\", \"much\", \"table\", \"cover\", \"red_heart\", \"hugging_face\", \"sghome\", \"furniturestyle\", \"homefurniture\", \"homeinspiration\", \"homeinspo\", \"homestyle\", \"homestyling\", \"instahome\", \"interiorsg\", \"sghomedecor\", \"sginterior\", \"sgreno\", \"teakfurniture\", \"brp\", \"response\", \"sale\", \"beetje\", \"ik\", \"jakke\", \"oeh\", \"onweer\", \"vaak\", \"vind\", \"alook\", \"event\", \"take\", \"toh\", \"weekend\", \"house\", \"indah\", \"item\", \"feelathome\", \"scanteak\", \"scanteaksg\", \"interior\", \"name\", \"staff\", \"designer\", \"furnituredesign\", \"homedecor\", \"homedesign\", \"interiordecor\", \"interiordesign\", \"livingroom\", \"luxuryfurniture\", \"modern\", \"naiise\", \"workfromhome\", \"believe\", \"forgive\", \"park\", \"say\", \"clear\", \"disciplinary\", \"partial\", \"policy\", \"refund\", \"catsofinstagram\", \"felixthegangsta\", \"outofstock\", \"floor\", \"decor\", \"thank\", \"get\", \"come\", \"andy\", \"need\", \"look\", \"koniska\", \"machine\", \"want\", \"family\", \"serve\", \"purchase\", \"guy\", \"https\", \"year\", \"think\", \"table\", \"also\", \"know\", \"s\", \"interesting\", \"amytois\", \"especially\", \"frame\", \"kid\", \"kor\", \"pet\", \"round\", \"seater\", \"solid\", \"lianaalin\", \"hari\", \"whole\", \"bz\", \"go\", \"product\", \"come\", \"new\", \"many\", \"item\", \"scanteak\", \"eye\", \"heart_suit\", \"dot\", \"dress\", \"leave\", \"simple\", \"monkey\", \"blossom\", \"giftsnsuchsg\", \"cherrychoo\", \"help\", \"pink\", \"chan\", \"mr\", \"wish\", \"size\", \"version\", \"ble\", \"blingtastc\", \"cantiknyaa\", \"loaf\", \"kind\", \"really\", \"word\", \"nadeeaannaa\", \"villa\", \"thank\", \"polka\", \"much\", \"love\", \"think\", \"cantik\", \"website\", \"rumah\", \"detail\", \"www\", \"feel\", \"breaker\", \"delivery\", \"sj\", \"langsirnya\", \"rumahnya\", \"yet\", \"langsir\", \"playmobilxxl\", \"kriti\", \"mono\", \"side\", \"writing\", \"zata\", \"clean\", \"good\", \"promotion\", \"depend\", \"particular\", \"quotation\", \"slank\", \"christmas\", \"craft\", \"handmadecard\", \"papercraft\", \"scanteaksg\", \"place\", \"pm\", \"scanteak\", \"table\", \"com\", \"sparkle\", \"chair\", \"sofa\", \"teak\", \"raising_hand\", \"cushion\", \"watch\", \"jackson\", \"bench\", \"wood\", \"ideal\", \"thought\", \"page\", \"shot\", \"watchmerchant\", \"rozie\", \"lemon\", \"colour\", \"two_heart\", \"audemarspiguet\", \"chinesemagazine\", \"maxmara\", \"pinprestige\", \"redefiningluxe\", \"daybe\", \"westgate\", \"feature\", \"loveeee\", \"polka\", \"haha\", \"product\", \"love\", \"table\", \"get\", \"cover\", \"great\", \"idea\", \"coffee\", \"hope\", \"post\", \"use\", \"compliment\", \"definitely\", \"sallytumultuous\", \"let\", \"nadon\", \"fire\", \"give\", \"gorgeousss\", \"insta\", \"mind\", \"repost\", \"hellonoraa\", \"though\", \"hpu\", \"theminiloft\", \"stuff\", \"content\", \"gumkid\", \"homesweethome\", \"kiddymouthwash\", \"kiddytoothpaste\", \"scanteakstool\", \"sunstargum\", \"love\", \"year\", \"come\", \"product\", \"hugging_face\", \"pleasure\", \"happy\", \"andy\", \"red_heart\", \"cute\", \"set\", \"awww\", \"join\", \"omg\", \"planter\", \"start\", \"fern\", \"keep\", \"struggle\", \"nest\", \"re\", \"chistma\", \"snowglobe\", \"trickeye\", \"bro\", \"uniquely\", \"curlass\", \"lah\", \"available\", \"felix\", \"sale\", \"blue_heart\", \"comfy\", \"meow\", \"grimacing_face\", \"gusta\", \"cantikk\", \"clapping_hand\", \"love\", \"sparkle\", \"much\", \"rachtjy\", \"feed\", \"nice\", \"zhong\", \"much\", \"furniture\", \"eternalgluck\", \"yong\", \"aifeiherme\", \"hermeswechat\", \"piece\", \"keren\", \"mantolnya\", \"nakspud\", \"scanteaksmile\", \"queen\", \"find\", \"hugging_face\", \"available\", \"blue_heart\", \"comfy\", \"meow\", \"grimacing_face\", \"gusta\", \"cantikk\", \"clapping_hand\", \"dresser\", \"totally\", \"plant\", \"relieved_face\", \"feed\", \"nice\", \"rachtjy\", \"website\", \"scanteaksg\", \"re\", \"table\", \"awww\", \"sparkle\", \"christma\", \"canvasbag\", \"giftideas\", \"greetingcard\", \"ngeeanncity\", \"orchardroad\", \"popup\", \"popupshop\", \"sgchristma\", \"sgdesign\", \"totebag\", \"xmas\", \"east\", \"suntec\", \"tomorrow\", \"jarrodstone\", \"blue_heart\", \"comfy\", \"meow\", \"grimacing_face\", \"gusta\", \"cantikk\", \"clapping_hand\", \"dresser\", \"totally\", \"plant\", \"relieved_face\", \"feed\", \"nice\", \"rachtjy\", \"scanteaksg\", \"sparkle\", \"eye\"], \"Freq\": [29.0, 32.0, 29.0, 22.0, 4.0, 22.0, 4.0, 4.0, 21.0, 21.0, 21.0, 21.0, 21.0, 21.0, 21.0, 21.0, 21.0, 21.0, 21.0, 21.0, 6.0, 3.0, 4.0, 2.0, 4.0, 2.0, 4.0, 2.0, 2.0, 2.0, 22.10629242301814, 21.18206132709017, 21.179116047475024, 21.179116047475024, 21.179116047475024, 21.179116047475024, 21.179116047475024, 21.179116047475024, 21.179116047475024, 21.179116047475024, 21.179116047475024, 21.179116047475024, 21.179116047475024, 1.917790405263294, 1.9177268089860324, 2.8376769196720897, 0.9978764121162017, 0.9978764121162017, 0.9978764121162017, 0.9978764121162017, 0.9978764121162017, 0.9978764121162017, 0.9978764121162017, 0.9978738388564281, 0.9978738388564281, 0.9978738388564281, 0.9978738388564281, 0.9978738388564281, 0.9978704384774416, 0.9978704384774416, 1.8353492276582446, 21.795492308403517, 25.492363891039766, 27.179184265553214, 2.549446267962254, 1.3552042334363295, 1.3552038497923038, 0.994132031954198, 0.994132031954198, 0.994132031954198, 0.994132031954198, 0.994132031954198, 0.994132031954198, 0.994132031954198, 0.994132031954198, 0.994132031954198, 0.994132031954198, 0.994132031954198, 0.7164632743516843, 0.7164632743516843, 0.7164632743516843, 0.7164632743516843, 0.716462634944975, 0.716462634944975, 0.716462634944975, 0.716462634944975, 0.716462634944975, 0.7164609085468597, 0.7164609085468597, 0.7164609085468597, 0.7164598215554538, 0.9941333747082877, 0.735529295433108, 0.7164664074445601, 0.7164658319785217, 0.7164647449871158, 0.7164642334617483, 4.430894734062001, 1.7595133163021246, 1.6857534796036993, 1.4410464302412105, 1.441043775763067, 1.441043775763067, 1.4410427434660114, 1.4409387764053965, 1.4407455893849634, 2.9701186000782815, 2.249723316057085, 2.8867405567694213, 0.8772818734309107, 0.8772818734309107, 0.8772705918988014, 0.8772704444277934, 0.8772523054938139, 0.877177463957272, 0.877177463957272, 0.877177463957272, 0.877177463957272, 0.877177463957272, 0.877177463957272, 0.877177463957272, 0.877177463957272, 0.6322689691979042, 0.6322687479913922, 0.6322687479913922, 0.6322671258103046, 0.6322671258103046, 2.2143919170270006, 1.387557220942507, 0.8771751781566486, 0.8771752518921526, 0.9497256051187595, 1.4409063327836444, 29.00182296153592, 2.3067722314080483, 1.18749371298927, 0.8710883524749349, 0.8710883524749349, 0.8710883524749349, 0.8710805098286755, 0.8710654662072144, 0.6278047599213099, 0.6278047599213099, 0.6278047599213099, 0.6278047599213099, 0.6278046886245257, 0.6278046886245257, 0.6278046886245257, 0.6278030487984897, 0.6278030487984897, 0.6278030487984897, 0.6278030487984897, 0.6278006247078276, 0.6278006247078276, 0.6277994839592809, 0.6277994839592809, 0.6277994839592809, 0.6277913561258848, 0.6277912848291006, 1.170787521817898, 0.6278036191727631, 0.6278079682765978, 1.4308875303712314, 0.627810891444749, 4.115373837693552, 1.861555989991765, 1.338388902559881, 1.3383895114027244, 1.3382750489481405, 1.338252887068636, 0.8148001914588516, 0.8148001914588516, 0.8148001914588516, 0.8147916676590422, 0.8147916676590422, 0.814781621752124, 0.814781621752124, 0.8147722455723336, 0.8147633564668181, 0.8147633564668181, 0.8147633564668181, 0.8147633564668181, 0.8147633564668181, 0.8144171684259865, 0.8144171684259865, 1.2835279004578621, 0.5872291052381917, 0.5872291052381917, 0.5872291052381917, 0.5872291052381917, 0.5872283746267795, 0.5872283746267795, 0.5872283746267795, 0.5872283746267795, 4.410299259396911, 0.8147939812618477, 0.8147621996654153, 1.8619972792847561, 0.5872291052381917, 0.5872291052381917, 3.5193640629618055, 2.512622538849359, 2.2936474767610324, 1.5056252353827746, 1.2869153612937703, 1.2865477451571825, 1.068086472693, 0.7835004174037169, 0.7834909117621903, 0.783172230280196, 0.564680985946302, 0.564680985946302, 0.5646805494627626, 0.5646805494627626, 0.5646805494627626, 0.5646713833084334, 0.5646713833084334, 0.5646713833084334, 0.5646713833084334, 0.564674681184065, 0.564674681184065, 0.564674681184065, 0.564674681184065, 0.564674681184065, 0.564671916788315, 0.564671916788315, 0.5646711893157491, 0.5646711893157491, 0.5646804524664204, 0.5646792885103151, 1.2869952862796668, 1.1688011695752454, 0.5647509203089616, 0.5646780275578678, 2.064852104875927, 1.6149832800546464, 1.3226939128784765, 1.3226117146306344, 1.322546906301122, 1.0977214897173888, 0.8050196108719907, 0.5803507985801001, 0.5803507985801001, 0.5803507985801001, 0.5803507035532239, 0.5803507035532239, 0.5803507035532239, 0.5803507035532239, 0.5803507035532239, 0.5803507035532239, 0.5803507035532239, 0.5803507035532239, 0.5803489930694539, 0.5803489930694539, 0.5803472825856837, 0.5803472825856837, 0.5803405831909174, 0.5803405831909174, 0.5803380174652623, 0.5803380174652623, 0.5803380174652623, 0.5803380174652623, 0.5803380174652623, 0.5803380174652623, 2.2237001713172124, 0.6615618597195789, 0.6294455313711179, 0.6127590494919954, 0.5803509411204143, 0.5803508936069762, 0.5803507985801001, 0.5803496582575867, 1.5186380839522464, 0.9727139042501215, 0.9727133810669137, 0.9727075097886936, 0.592198164876864, 0.592198164876864, 0.592198164876864, 0.592198164876864, 0.5921963628013707, 0.5921963628013707, 0.5921963628013707, 0.5921874686868391, 0.59211201404199, 0.42678687610608773, 0.42678687610608773, 0.42678687610608773, 0.42678687610608773, 0.42678687610608773, 0.42678577160820474, 0.42678577160820474, 0.42678687610608773, 0.42678678890888644, 0.5921475905001161, 0.046320039829886854, 0.046320039829886854, 0.046320039829886854, 0.046320039829886854, 0.046320039829886854, 0.046320039829886854, 0.046320039829886854, 0.4267834754152374, 0.046380162300176, 0.04633384605342437, 0.04632009796135438, 0.046320039829886854, 0.046320039829886854, 0.7327739541721259, 1.2281120319644092, 0.8829443973591329, 0.3874062408632778, 0.3874062408632778, 0.38740508996808026, 0.38740508996808026, 0.38740508996808026, 0.38740508996808026, 0.38740508996808026, 0.38740508996808026, 0.38740185860848714, 0.38740185860848714, 0.38738680844051937, 0.8829531618687142, 0.38738680844051937, 0.04204587557761392, 0.04204587557761392, 0.04204587557761392, 0.04204587557761392, 0.04204587557761392, 0.04204587557761392, 0.04204587557761392, 0.04204587557761392, 0.04204587557761392, 0.04204587557761392, 0.04204587557761392, 0.04204587557761392, 0.04204587557761392, 0.04204599177376367, 0.04227089218818234, 0.042139192152164204, 0.0420583140987873, 0.04205152769032682, 0.04204959108783097, 0.04204944999250627, 0.7501119536636013, 0.39657320991640604, 0.39657320991640604, 0.39657320991640604, 0.39657320991640604, 0.39657320991640604, 0.39657320991640604, 0.39657320991640604, 0.39657320991640604, 0.39657320991640604, 0.39657320991640604, 0.39657320991640604, 0.3965725727488571, 0.3965725727488571, 0.3965725727488571, 0.3965725302710205, 0.04304055377416832, 0.04304055377416832, 0.04304055377416832, 0.04304055377416832, 0.04304055377416832, 0.04304055377416832, 0.04304055377416832, 0.04304055377416832, 0.04304055377416832, 0.04304055377416832, 0.04304055377416832, 0.04304055377416832, 0.04304055377416832, 0.04304056704849226, 0.3965509940078651, 0.04309645726199664, 0.04304055377416832], \"Total\": [29.0, 32.0, 29.0, 22.0, 4.0, 22.0, 4.0, 4.0, 21.0, 21.0, 21.0, 21.0, 21.0, 21.0, 21.0, 21.0, 21.0, 21.0, 21.0, 21.0, 6.0, 3.0, 4.0, 2.0, 4.0, 2.0, 4.0, 2.0, 2.0, 2.0, 22.689247910082447, 21.769428115938542, 21.76941065566776, 21.76941065566776, 21.76941065566776, 21.76941065566776, 21.76941065566776, 21.76941065566776, 21.76941065566776, 21.76941065566776, 21.76941065566776, 21.76941065566776, 21.76941065566776, 2.4517232096466324, 2.4517076305258922, 3.9175085568081234, 1.5318092164995394, 1.5318092164995394, 1.5318092164995394, 1.5318092164995394, 1.5318092164995394, 1.5318092164995394, 1.5318092164995394, 1.5318066432397661, 1.5318066432397661, 1.5318066432397661, 1.5318066432397661, 1.5318066432397661, 1.5318032428607793, 1.5318032428607793, 3.250435931231669, 22.329787004998092, 29.238464533744146, 32.41758106892751, 3.0836737438891224, 1.8894317093631974, 1.889431325719172, 1.528359507881066, 1.528359507881066, 1.528359507881066, 1.528359507881066, 1.528359507881066, 1.528359507881066, 1.528359507881066, 1.528359507881066, 1.528359507881066, 1.528359507881066, 1.528359507881066, 1.2506907502785525, 1.2506907502785525, 1.2506907502785525, 1.2506907502785525, 1.2506901108718431, 1.2506901108718431, 1.2506901108718431, 1.2506901108718431, 1.2506901108718431, 1.2506883844737275, 1.2506883844737275, 1.2506883844737275, 1.2506872974823218, 2.4481555133130968, 2.3724068076460867, 1.7540858512529447, 3.1360884590017477, 1.7680552802052845, 1.8143330553071764, 4.974407629088917, 2.3029594827198556, 2.229344355751583, 1.9844129541516125, 1.9844129459142177, 1.9844129459142177, 1.9844126695547104, 1.9843702714577385, 1.9842540460770384, 4.112061413775402, 3.352817020979378, 4.457181058108681, 1.4206483973413124, 1.4206483973413124, 1.4206371260091355, 1.4206369785381276, 1.420655640440352, 1.420649774105964, 1.420649774105964, 1.420649774105964, 1.420649774105964, 1.420649774105964, 1.420649774105964, 1.420649774105964, 1.420649774105964, 1.1756354931083062, 1.175635271901794, 1.175635271901794, 1.1756336497207067, 1.1756336497207067, 4.533295216793654, 3.1360884590017477, 2.3404379379806497, 2.340450020654922, 3.250435931231669, 29.238464533744146, 29.546002454924146, 2.850705116451584, 1.7313447027573046, 1.4149393422429692, 1.4149393422429692, 1.4149393422429692, 1.4149314995967097, 1.4149164676583121, 1.1716557496893445, 1.1716557496893445, 1.1716557496893445, 1.1716557496893445, 1.17165567839256, 1.17165567839256, 1.17165567839256, 1.1716540385665242, 1.1716540385665242, 1.1716540385665242, 1.1716540385665242, 1.1716516202197453, 1.1716516282123293, 1.1716535428795203, 1.1716535428795203, 1.1716535428795203, 1.1716423802713845, 1.1716423071327065, 2.3724068076460867, 1.67504900747475, 2.3580889869666413, 6.219984839745676, 3.352817020979378, 4.663628925464542, 2.4100368787647075, 1.88664395253605, 1.8866457617086267, 1.8865870930814872, 1.8865723144902125, 1.3630552414350208, 1.3630552414350208, 1.3630552414350208, 1.3630467176352112, 1.3630467176352112, 1.3630366819282254, 1.3630366819282254, 1.3630336540274521, 1.3630538101078564, 1.3630538101078564, 1.3630538101078564, 1.3630538101078564, 1.3630538101078564, 1.3630648092677011, 1.3630648092677011, 2.1775208346019026, 1.1354841552143606, 1.1354841552143606, 1.1354841552143606, 1.1354841552143606, 1.1354834246029484, 1.1354834246029484, 1.1354834246029484, 1.1354834246029484, 32.41758106892751, 2.2828566348885104, 2.2828339139825875, 29.238464533744146, 4.457181058108681, 1.6991310992873399, 4.070186321115355, 3.0633939693103422, 2.844517644884935, 2.056327789465074, 1.8376714810132893, 1.8375879314148207, 1.6187923890682054, 1.3342028330271887, 1.3341933435247741, 1.333874802555012, 1.1153834015697737, 1.1153834015697737, 1.1153829650862341, 1.1153829650862341, 1.1153829650862341, 1.1153738345928148, 1.1153738368987778, 1.1153738405319946, 1.1153738405319946, 1.1153816765580924, 1.1153816765580924, 1.1153816765580924, 1.1153816765580924, 1.1153816765580924, 1.115379103984355, 1.115379103984355, 1.1153798283384095, 1.1153798283384095, 1.67504900747475, 1.7540676821009724, 4.533295216793654, 6.219984839745676, 4.457181058108681, 1.7540858512529447, 2.614007951931926, 2.1641260148389794, 1.871703232561735, 1.8716585311080742, 1.8716653354241093, 1.6467234119117677, 1.3542330407440766, 1.1293526749136367, 1.1293526749136367, 1.1293526749136367, 1.1293525798867605, 1.1293525798867605, 1.1293525798867605, 1.1293525798867605, 1.1293525798867605, 1.1293525798867605, 1.1293525798867605, 1.1293525798867605, 1.1293508694029906, 1.1293508694029906, 1.1293491589192204, 1.1293491646631038, 1.129342495185364, 1.129342495185364, 1.1293483099896109, 1.1293483099896109, 1.1293483099896109, 1.1293483099896109, 1.1293483099896109, 1.1293483099896109, 6.219984839745676, 4.112061413775402, 3.1360884590017477, 4.533295216793654, 2.5339073425376286, 1.6929978706258926, 1.692999471515608, 1.7680552802052845, 2.08430657755365, 1.538382397851525, 1.5383818746683173, 1.5383798436069223, 1.1578666584782675, 1.1578666584782675, 1.1578666584782675, 1.1578666584782675, 1.1578648564027743, 1.1578648564027743, 1.1578648564027743, 1.1578559622882427, 1.1578939162324362, 0.9924553697074913, 0.9924553697074913, 0.9924553697074913, 0.9924553697074913, 0.9924553697074913, 0.9924542652096083, 0.9924542709534917, 1.3378147991098084, 1.5560999586697373, 3.9175085568081234, 0.6124925094218923, 0.6124925094218923, 0.6124925094218923, 0.6124925094218923, 0.6124925094218923, 0.6124925094218923, 0.6124925094218923, 6.219984839745676, 4.070186321115355, 2.3580889869666413, 0.613015838010771, 0.6125017544652767, 0.6125017544652767, 1.3027166728570596, 2.3580889869666413, 2.0165413658662215, 0.9573489595482115, 0.9573489595482115, 0.957347808653014, 0.957347808653014, 0.957347808653014, 0.957347808653014, 0.957347808653014, 0.9573478143968974, 0.9573446161269352, 0.9573446161269352, 0.9573478989582567, 2.5339073425376286, 1.3378147991098084, 0.6124925094218923, 0.6124925094218923, 0.6124925094218923, 0.6124925094218923, 0.6124925094218923, 0.6124925094218923, 0.6124925094218923, 0.6124925094218923, 0.6124925094218923, 0.6124925094218923, 0.6124925094218923, 0.6125017544652767, 0.6125017544652767, 0.613015838010771, 2.4100368787647075, 32.41758106892751, 1.1578939162324362, 4.457181058108681, 1.5383798436069223, 4.070186321115355, 1.3190598831538503, 0.965521139406655, 0.965521139406655, 0.965521139406655, 0.965521139406655, 0.965521139406655, 0.965521139406655, 0.965521139406655, 0.965521139406655, 0.965521139406655, 0.965521139406655, 0.965521139406655, 0.965520502239106, 0.965520502239106, 0.965520502239106, 1.4890135825358644, 0.6124925094218923, 0.6124925094218923, 0.6124925094218923, 0.6124925094218923, 0.6124925094218923, 0.6124925094218923, 0.6124925094218923, 0.6124925094218923, 0.6124925094218923, 0.6124925094218923, 0.6124925094218923, 0.6125017544652767, 0.6125017544652767, 0.613015838010771, 32.41758106892751, 4.070186321115355, 29.546002454924146], \"Category\": [\"Default\", \"Default\", \"Default\", \"Default\", \"Default\", \"Default\", \"Default\", \"Default\", \"Default\", \"Default\", \"Default\", \"Default\", \"Default\", \"Default\", \"Default\", \"Default\", \"Default\", \"Default\", \"Default\", \"Default\", \"Default\", \"Default\", \"Default\", \"Default\", \"Default\", \"Default\", \"Default\", \"Default\", \"Default\", \"Default\", \"Topic1\", \"Topic1\", \"Topic1\", \"Topic1\", \"Topic1\", \"Topic1\", \"Topic1\", \"Topic1\", \"Topic1\", \"Topic1\", \"Topic1\", \"Topic1\", \"Topic1\", \"Topic1\", \"Topic1\", \"Topic1\", \"Topic1\", \"Topic1\", \"Topic1\", \"Topic1\", \"Topic1\", \"Topic1\", \"Topic1\", \"Topic1\", \"Topic1\", \"Topic1\", \"Topic1\", \"Topic1\", \"Topic1\", \"Topic1\", \"Topic1\", \"Topic2\", \"Topic2\", \"Topic2\", \"Topic2\", \"Topic2\", \"Topic2\", \"Topic2\", \"Topic2\", \"Topic2\", \"Topic2\", \"Topic2\", \"Topic2\", \"Topic2\", \"Topic2\", \"Topic2\", \"Topic2\", \"Topic2\", \"Topic2\", \"Topic2\", \"Topic2\", \"Topic2\", \"Topic2\", \"Topic2\", \"Topic2\", \"Topic2\", \"Topic2\", \"Topic2\", \"Topic2\", \"Topic2\", \"Topic2\", \"Topic2\", \"Topic2\", \"Topic2\", \"Topic2\", \"Topic2\", \"Topic2\", \"Topic3\", \"Topic3\", \"Topic3\", \"Topic3\", \"Topic3\", \"Topic3\", \"Topic3\", \"Topic3\", \"Topic3\", \"Topic3\", \"Topic3\", \"Topic3\", \"Topic3\", \"Topic3\", \"Topic3\", \"Topic3\", \"Topic3\", \"Topic3\", \"Topic3\", \"Topic3\", \"Topic3\", \"Topic3\", \"Topic3\", \"Topic3\", \"Topic3\", \"Topic3\", \"Topic3\", \"Topic3\", \"Topic3\", \"Topic3\", \"Topic3\", \"Topic3\", \"Topic3\", \"Topic3\", \"Topic3\", \"Topic3\", \"Topic4\", \"Topic4\", \"Topic4\", \"Topic4\", \"Topic4\", \"Topic4\", \"Topic4\", \"Topic4\", \"Topic4\", \"Topic4\", \"Topic4\", \"Topic4\", \"Topic4\", \"Topic4\", \"Topic4\", \"Topic4\", \"Topic4\", \"Topic4\", \"Topic4\", \"Topic4\", \"Topic4\", \"Topic4\", \"Topic4\", \"Topic4\", \"Topic4\", \"Topic4\", \"Topic4\", \"Topic4\", \"Topic4\", \"Topic4\", \"Topic4\", \"Topic5\", \"Topic5\", \"Topic5\", \"Topic5\", \"Topic5\", \"Topic5\", \"Topic5\", \"Topic5\", \"Topic5\", \"Topic5\", \"Topic5\", \"Topic5\", \"Topic5\", \"Topic5\", \"Topic5\", \"Topic5\", \"Topic5\", \"Topic5\", \"Topic5\", \"Topic5\", \"Topic5\", \"Topic5\", \"Topic5\", \"Topic5\", \"Topic5\", \"Topic5\", \"Topic5\", \"Topic5\", \"Topic5\", \"Topic5\", \"Topic5\", \"Topic5\", \"Topic5\", \"Topic5\", \"Topic5\", \"Topic5\", \"Topic6\", \"Topic6\", \"Topic6\", \"Topic6\", \"Topic6\", \"Topic6\", \"Topic6\", \"Topic6\", \"Topic6\", \"Topic6\", \"Topic6\", \"Topic6\", \"Topic6\", \"Topic6\", \"Topic6\", \"Topic6\", \"Topic6\", \"Topic6\", \"Topic6\", \"Topic6\", \"Topic6\", \"Topic6\", \"Topic6\", \"Topic6\", \"Topic6\", \"Topic6\", \"Topic6\", \"Topic6\", \"Topic6\", \"Topic6\", \"Topic6\", \"Topic6\", \"Topic6\", \"Topic6\", \"Topic7\", \"Topic7\", \"Topic7\", \"Topic7\", \"Topic7\", \"Topic7\", \"Topic7\", \"Topic7\", \"Topic7\", \"Topic7\", \"Topic7\", \"Topic7\", \"Topic7\", \"Topic7\", \"Topic7\", \"Topic7\", \"Topic7\", \"Topic7\", \"Topic7\", \"Topic7\", \"Topic7\", \"Topic7\", \"Topic7\", \"Topic7\", \"Topic7\", \"Topic7\", \"Topic7\", \"Topic7\", \"Topic7\", \"Topic7\", \"Topic7\", \"Topic7\", \"Topic7\", \"Topic7\", \"Topic7\", \"Topic7\", \"Topic7\", \"Topic7\", \"Topic8\", \"Topic8\", \"Topic8\", \"Topic8\", \"Topic8\", \"Topic8\", \"Topic8\", \"Topic8\", \"Topic8\", \"Topic8\", \"Topic8\", \"Topic8\", \"Topic8\", \"Topic8\", \"Topic8\", \"Topic8\", \"Topic8\", \"Topic8\", \"Topic8\", \"Topic8\", \"Topic8\", \"Topic8\", \"Topic8\", \"Topic8\", \"Topic8\", \"Topic8\", \"Topic8\", \"Topic8\", \"Topic8\", \"Topic8\", \"Topic8\", \"Topic8\", \"Topic8\", \"Topic8\", \"Topic8\", \"Topic8\", \"Topic9\", \"Topic9\", \"Topic9\", \"Topic9\", \"Topic9\", \"Topic9\", \"Topic9\", \"Topic9\", \"Topic9\", \"Topic9\", \"Topic9\", \"Topic9\", \"Topic9\", \"Topic9\", \"Topic9\", \"Topic9\", \"Topic9\", \"Topic9\", \"Topic9\", \"Topic9\", \"Topic9\", \"Topic9\", \"Topic9\", \"Topic9\", \"Topic9\", \"Topic9\", \"Topic9\", \"Topic9\", \"Topic9\", \"Topic9\", \"Topic9\", \"Topic9\", \"Topic9\", \"Topic9\", \"Topic9\", \"Topic9\", \"Topic10\", \"Topic10\", \"Topic10\", \"Topic10\", \"Topic10\", \"Topic10\", \"Topic10\", \"Topic10\", \"Topic10\", \"Topic10\", \"Topic10\", \"Topic10\", \"Topic10\", \"Topic10\", \"Topic10\", \"Topic10\", \"Topic10\", \"Topic10\", \"Topic10\", \"Topic10\", \"Topic10\", \"Topic10\", \"Topic10\", \"Topic10\", \"Topic10\", \"Topic10\", \"Topic10\", \"Topic10\", \"Topic10\", \"Topic10\", \"Topic10\", \"Topic10\", \"Topic10\"], \"logprob\": [30.0, 29.0, 28.0, 27.0, 26.0, 25.0, 24.0, 23.0, 22.0, 21.0, 20.0, 19.0, 18.0, 17.0, 16.0, 15.0, 14.0, 13.0, 12.0, 11.0, 10.0, 9.0, 8.0, 7.0, 6.0, 5.0, 4.0, 3.0, 2.0, 1.0, -2.8823, -2.925, -2.9252, -2.9252, -2.9252, -2.9252, -2.9252, -2.9252, -2.9252, -2.9252, -2.9252, -2.9252, -2.9252, -5.327, -5.327, -4.9352, -5.9803, -5.9803, -5.9803, -5.9803, -5.9803, -5.9803, -5.9803, -5.9803, -5.9803, -5.9803, -5.9803, -5.9803, -5.9803, -5.9803, -5.3709, -1.8405, -1.6839, -1.6198, -3.9864, -4.6183, -4.6183, -4.9281, -4.9281, -4.9281, -4.9281, -4.9281, -4.9281, -4.9281, -4.9281, -4.9281, -4.9281, -4.9281, -5.2557, -5.2557, -5.2557, -5.2557, -5.2557, -5.2557, -5.2557, -5.2557, -5.2557, -5.2557, -5.2557, -5.2557, -5.2557, -4.9281, -5.2294, -5.2557, -5.2557, -5.2557, -5.2557, -2.883, -3.8066, -3.8494, -4.0063, -4.0063, -4.0063, -4.0063, -4.0063, -4.0065, -3.283, -3.5608, -3.3115, -4.5026, -4.5026, -4.5026, -4.5026, -4.5026, -4.5027, -4.5027, -4.5027, -4.5027, -4.5027, -4.5027, -4.5027, -4.5027, -4.8301, -4.8301, -4.8301, -4.8301, -4.8301, -3.5767, -4.0441, -4.5027, -4.5027, -4.4232, -4.0064, -0.9706, -3.5022, -4.1662, -4.476, -4.476, -4.476, -4.476, -4.476, -4.8035, -4.8035, -4.8035, -4.8035, -4.8035, -4.8035, -4.8035, -4.8035, -4.8035, -4.8035, -4.8035, -4.8035, -4.8035, -4.8035, -4.8035, -4.8035, -4.8035, -4.8035, -4.1803, -4.8035, -4.8035, -3.9797, -4.8035, -2.7654, -3.5587, -3.8887, -3.8887, -3.8887, -3.8888, -4.3849, -4.3849, -4.3849, -4.3849, -4.3849, -4.385, -4.385, -4.385, -4.385, -4.385, -4.385, -4.385, -4.385, -4.3854, -4.3854, -3.9305, -4.7125, -4.7125, -4.7125, -4.7125, -4.7125, -4.7125, -4.7125, -4.7125, -2.6962, -4.3849, -4.385, -3.5585, -4.7125, -4.7125, -2.6944, -3.0313, -3.1225, -3.5435, -3.7004, -3.7007, -3.8868, -4.1967, -4.1967, -4.1971, -4.5242, -4.5242, -4.5242, -4.5242, -4.5242, -4.5242, -4.5242, -4.5242, -4.5242, -4.5242, -4.5242, -4.5242, -4.5242, -4.5242, -4.5242, -4.5242, -4.5242, -4.5242, -4.5242, -4.5242, -3.7004, -3.7967, -4.524, -4.5242, -3.2071, -3.4528, -3.6525, -3.6526, -3.6526, -3.8389, -4.1491, -4.4763, -4.4763, -4.4763, -4.4763, -4.4763, -4.4763, -4.4763, -4.4763, -4.4763, -4.4763, -4.4763, -4.4763, -4.4763, -4.4763, -4.4763, -4.4763, -4.4763, -4.4763, -4.4763, -4.4763, -4.4763, -4.4763, -4.4763, -3.133, -4.3453, -4.3951, -4.4219, -4.4763, -4.4763, -4.4763, -4.4763, -3.0229, -3.4684, -3.4684, -3.4684, -3.9646, -3.9646, -3.9646, -3.9646, -3.9646, -3.9646, -3.9646, -3.9646, -3.9648, -4.2922, -4.2922, -4.2922, -4.2922, -4.2922, -4.2922, -4.2922, -4.2922, -4.2922, -3.9647, -6.5129, -6.5129, -6.5129, -6.5129, -6.5129, -6.5129, -6.5129, -4.2922, -6.5116, -6.5126, -6.5129, -6.5129, -6.5129, -3.4791, -2.9627, -3.2927, -4.1165, -4.1165, -4.1165, -4.1165, -4.1165, -4.1165, -4.1165, -4.1165, -4.1165, -4.1165, -4.1165, -3.2927, -4.1165, -6.3372, -6.3372, -6.3372, -6.3372, -6.3372, -6.3372, -6.3372, -6.3372, -6.3372, -6.3372, -6.3372, -6.3372, -6.3372, -6.3372, -6.3319, -6.335, -6.3369, -6.3371, -6.3371, -6.3371, -3.4145, -4.0519, -4.0519, -4.0519, -4.0519, -4.0519, -4.0519, -4.0519, -4.0519, -4.0519, -4.0519, -4.0519, -4.0519, -4.0519, -4.0519, -4.0519, -6.2726, -6.2726, -6.2726, -6.2726, -6.2726, -6.2726, -6.2726, -6.2726, -6.2726, -6.2726, -6.2726, -6.2726, -6.2726, -6.2726, -4.0519, -6.2713, -6.2726], \"loglift\": [30.0, 29.0, 28.0, 27.0, 26.0, 25.0, 24.0, 23.0, 22.0, 21.0, 20.0, 19.0, 18.0, 17.0, 16.0, 15.0, 14.0, 13.0, 12.0, 11.0, 10.0, 9.0, 8.0, 7.0, 6.0, 5.0, 4.0, 3.0, 2.0, 1.0, 0.8353, 0.834, 0.8338, 0.8338, 0.8338, 0.8338, 0.8338, 0.8338, 0.8338, 0.8338, 0.8338, 0.8338, 0.8338, 0.6157, 0.6157, 0.5388, 0.4327, 0.4327, 0.4327, 0.4327, 0.4327, 0.4327, 0.4327, 0.4327, 0.4327, 0.4327, 0.4327, 0.4327, 0.4327, 0.4327, 0.2898, 1.893, 1.7801, 1.741, 1.727, 1.5849, 1.5849, 1.4871, 1.4871, 1.4871, 1.4871, 1.4871, 1.4871, 1.4871, 1.4871, 1.4871, 1.4871, 1.4871, 1.3601, 1.3601, 1.3601, 1.3601, 1.3601, 1.3601, 1.3601, 1.3601, 1.3601, 1.3601, 1.3601, 1.3601, 1.3601, 1.016, 0.7462, 1.0219, 0.4408, 1.0139, 0.9881, 2.3521, 2.1987, 2.1883, 2.1479, 2.1479, 2.1479, 2.1479, 2.1478, 2.1478, 2.1425, 2.0688, 2.0335, 1.9858, 1.9858, 1.9858, 1.9858, 1.9858, 1.9857, 1.9857, 1.9857, 1.9857, 1.9857, 1.9857, 1.9857, 1.9857, 1.8476, 1.8476, 1.8476, 1.8476, 1.8476, 1.7514, 1.6524, 1.4865, 1.4865, 1.2375, -0.5424, 2.4829, 2.2898, 2.1244, 2.0164, 2.0164, 2.0164, 2.0164, 2.0164, 1.8775, 1.8775, 1.8775, 1.8775, 1.8775, 1.8775, 1.8775, 1.8775, 1.8775, 1.8775, 1.8775, 1.8775, 1.8775, 1.8775, 1.8775, 1.8775, 1.8775, 1.8775, 1.7952, 1.5201, 1.1781, 1.032, 0.8262, 2.5343, 2.4011, 2.316, 2.316, 2.316, 2.316, 2.1448, 2.1448, 2.1448, 2.1448, 2.1448, 2.1448, 2.1448, 2.1448, 2.1448, 2.1448, 2.1448, 2.1448, 2.1448, 2.1443, 2.1443, 2.1308, 2.0, 2.0, 2.0, 2.0, 2.0, 2.0, 2.0, 2.0, 0.6646, 1.6291, 1.6291, -0.0945, 0.6325, 1.5969, 2.7414, 2.6886, 2.6716, 2.5751, 2.5305, 2.5303, 2.471, 2.3545, 2.3545, 2.3543, 2.2061, 2.2061, 2.2061, 2.2061, 2.2061, 2.2061, 2.2061, 2.2061, 2.2061, 2.2061, 2.2061, 2.2061, 2.2061, 2.2061, 2.2061, 2.2061, 2.2061, 2.2061, 1.7995, 1.7534, 1.6277, 1.215, 0.8209, 1.7534, 2.6715, 2.6146, 2.5601, 2.5601, 2.56, 2.5018, 2.3872, 2.2415, 2.2415, 2.2415, 2.2415, 2.2415, 2.2415, 2.2415, 2.2415, 2.2415, 2.2415, 2.2415, 2.2415, 2.2415, 2.2415, 2.2415, 2.2415, 2.2415, 2.2415, 2.2415, 2.2415, 2.2415, 2.2415, 2.2415, 1.8787, 1.0802, 1.3014, 0.9061, 1.4334, 1.8367, 1.8367, 1.7933, 3.0821, 2.9404, 2.9404, 2.9404, 2.7283, 2.7283, 2.7283, 2.7283, 2.7283, 2.7283, 2.7283, 2.7283, 2.7281, 2.5549, 2.5549, 2.5549, 2.5549, 2.5549, 2.5549, 2.5549, 2.2563, 2.1051, 1.5093, 0.8168, 0.8168, 0.8168, 0.8168, 0.8168, 0.8168, 0.8168, 0.7195, -1.0758, -0.531, 0.816, 0.8168, 0.8168, 3.0959, 3.0189, 2.8454, 2.7666, 2.7666, 2.7666, 2.7666, 2.7666, 2.7666, 2.7666, 2.7666, 2.7666, 2.7666, 2.7665, 2.617, 2.4319, 0.9925, 0.9925, 0.9925, 0.9925, 0.9925, 0.9925, 0.9925, 0.9925, 0.9925, 0.9925, 0.9925, 0.9925, 0.9925, 0.9916, -0.372, -2.9742, 0.356, -0.9921, 0.0716, -0.9013, 3.148, 2.8227, 2.8227, 2.8227, 2.8227, 2.8227, 2.8227, 2.8227, 2.8227, 2.8227, 2.8227, 2.8227, 2.8227, 2.8227, 2.8227, 2.3895, 1.0571, 1.0571, 1.0571, 1.0571, 1.0571, 1.0571, 1.0571, 1.0571, 1.0571, 1.0571, 1.0571, 1.0571, 1.0571, 1.0562, -0.6912, -0.8355, -2.8191]}, \"token.table\": {\"Topic\": [1, 3, 3, 2, 7, 6, 8, 1, 2, 6, 4, 4, 4, 5, 1, 3, 5, 4, 2, 6, 4, 4, 6, 10, 5, 5, 2, 7, 6, 3, 5, 2, 3, 7, 7, 7, 7, 5, 6, 8, 6, 1, 2, 7, 5, 5, 2, 5, 2, 4, 4, 3, 1, 4, 3, 6, 5, 2, 3, 2, 8, 7, 2, 2, 3, 3, 9, 2, 1, 2, 6, 4, 7, 3, 5, 7, 7, 7, 3, 2, 6, 5, 3, 7, 3, 4, 7, 4, 2, 2, 1, 1, 1, 1, 1, 7, 7, 1, 7, 3, 3, 7, 9, 7, 6, 1, 1, 7, 1, 3, 2, 2, 2, 1, 1, 3, 6, 1, 5, 8, 8, 3, 7, 7, 4, 3, 3, 3, 5, 5, 5, 4, 6, 7, 3, 2, 4, 3, 3, 4, 6, 7, 6, 2, 3, 1, 3, 6, 7, 2, 4, 5, 4, 4, 9, 4, 7, 2, 2, 2, 3, 8, 1, 3, 1, 8, 1, 2, 6, 5, 2, 2, 5, 3, 4, 6, 1, 5, 8, 5, 3, 7, 1, 5, 2, 4, 6, 7, 3, 6, 7, 5, 3, 5, 6, 8, 4, 8, 6, 2, 7, 1, 3, 6, 5, 5, 3, 1, 8, 7, 2, 2, 3, 5, 2, 5, 7, 3, 3, 8, 1, 1, 1, 1, 6, 5, 4, 4, 5, 5, 6, 3, 6, 2, 8, 8, 7, 7, 3, 5, 6, 1, 6, 1, 2, 4, 7, 3, 4, 7, 6, 1, 6, 7, 1, 4, 4, 1, 3, 6, 6, 5, 1, 6, 3, 4, 6, 4, 2, 5, 5, 3, 7, 5, 5, 9], \"Freq\": [0.6528239085613333, 0.7039039370131699, 0.7039003482153043, 0.5655931752789384, 0.5655931752789384, 0.8965540863875909, 0.6500345179090334, 0.6528228118937557, 0.7995581639804094, 0.7495165560923303, 0.8534942628828075, 0.8534942628828075, 0.7067555031393484, 0.7336459811762308, 0.8157527701865908, 0.8506051185567616, 0.8577011730412409, 0.8534960245370959, 0.7995596764263436, 0.9793059691487823, 0.8534930683491748, 0.8534930164130056, 0.8965540863875909, 0.7581156949516322, 0.8806821643826956, 0.7336408314563152, 0.7995585727490164, 0.534285492454637, 0.8965603851019446, 0.5885361055538482, 0.5885361055538482, 0.3188685565069524, 0.3188685565069524, 0.3188685565069524, 0.8854629932819449, 0.8854709747160144, 0.7651086135839283, 0.8806821643826956, 0.5441916454196923, 0.6500334386278604, 0.8965561542508749, 0.40847078323333175, 0.40847078323333175, 0.8854629932819449, 0.7336459811762308, 0.8806815977200637, 0.6542963189246035, 0.5300412087398736, 0.7995585727490164, 0.5775857334518194, 0.7067440773926003, 0.7039032548534454, 0.6528239085613333, 0.9815202596101744, 0.5039273715982037, 0.8965555720060925, 0.5300618440752529, 0.9852310725165325, 0.6426322386480041, 0.7995596764263436, 0.8636586510681179, 0.885463067787271, 0.7995603713358533, 0.7995581639804094, 0.7039032548534454, 0.49589858007720167, 0.49589858007720167, 0.6542963189246035, 0.964655565968901, 0.5700975236107738, 0.5700975236107738, 0.8534930164130056, 0.885463067787271, 0.8506051185567616, 0.7336408314563152, 0.885463067787271, 0.9241606016869627, 0.8854664155907749, 0.5039382087020432, 0.5701034288495803, 0.5701034288495803, 0.8806821643826956, 0.5906676386052143, 0.5906676386052143, 0.8506039448632113, 0.7015808083613715, 0.8854644088852834, 0.8534930164130056, 0.6542963189246035, 0.6542963189246035, 0.9646563396759921, 0.9646563396759921, 0.9646563396759921, 0.9646563396759921, 0.9646563396759921, 0.8854664155907749, 0.5342835500949241, 0.6528253577348555, 0.8854657499873585, 0.5039677262984777, 0.3946474218739709, 0.3946474218739709, 0.3946474218739709, 0.5342727322382912, 0.8965526998094244, 0.6528228118937557, 0.6528253577348555, 0.885463067787271, 0.9646563396759921, 0.7039095948558414, 0.9728655652839612, 0.6542963189246035, 0.6542963189246035, 0.9646563396759921, 0.6153020832630752, 0.3076510416315376, 0.7495112251643838, 0.6528228118937557, 0.6715855461149993, 0.8636573068908084, 0.8636586510681179, 0.7039032548534454, 0.8854664155907749, 0.8854664155907749, 0.853494623967376, 0.7039039370131699, 0.8684477582028267, 0.7039032548534454, 0.7336467515694567, 0.7336559707148497, 0.7336505690244636, 0.7067440773926003, 0.8965603880223988, 0.885463067787271, 0.8506037848143415, 0.6542963189246035, 0.8534960187148546, 0.8041158461982771, 0.16077209603631257, 0.16077209603631257, 0.16077209603631257, 0.32154419207262513, 0.8965555720060925, 0.6542963189246035, 0.8971247509789649, 0.4272682566065532, 0.4272682566065532, 0.8965540863875909, 0.885463067787271, 0.6542963189246035, 0.7067479947156626, 0.7336467515694567, 0.8534930683491748, 0.4240722065736642, 0.4240722065736642, 0.8535027554810476, 0.885463067787271, 0.6542963189246035, 0.5292596684201061, 0.5511667205063927, 0.5511667205063927, 0.8636652852948342, 0.4272704624087613, 0.4272704624087613, 0.6528228118937557, 0.8636573068908084, 0.6528228118937557, 0.7995596764263436, 0.8965530506579743, 0.8806821643826956, 0.7995581639804094, 0.7995585727490164, 0.8806815977200637, 0.7039032548534454, 0.8534930164130056, 0.8965540863875909, 0.4380476569212318, 0.4380476569212318, 0.8636573068908084, 0.7336576004893417, 0.5906681971373686, 0.5906681971373686, 0.4380520167826925, 0.4380520167826925, 0.7995585727490164, 0.596997458305753, 0.596997458305753, 0.6072665225783409, 0.4411801800577586, 0.2205900900288793, 0.2205900900288793, 0.45923785623976426, 0.5039274417777194, 0.8806815977200637, 0.5441669037866341, 0.8636369757031002, 0.853494623967376, 0.95955173847189, 0.8965540863875909, 0.7995585727490164, 0.885463067787271, 0.8157579538025908, 0.7039032548534454, 0.8965603898759792, 0.5300417170159678, 0.7336505690244636, 0.7039095217856284, 0.7657928391212797, 0.25526427970709326, 0.8854629932819449, 0.7995581639804094, 0.8550380602629618, 0.03420152241051847, 0.06840304482103694, 0.832881390582214, 0.12338983564180948, 0.8854664155907749, 0.7039032548534454, 0.5039273715982037, 0.6500336596955842, 0.9696222672159986, 0.9646563396759921, 0.9646563396759921, 0.9646563396759921, 0.8965530506579743, 0.7336467515694567, 0.7067440773926003, 0.8534942628828075, 0.7336459811762308, 0.8806815977200637, 0.703106905874336, 0.7039032548534454, 0.9827559930730341, 0.5292597758848797, 0.8636573068908084, 0.8636586510681179, 0.8854709747160144, 0.8854664155907749, 0.6730711543661169, 0.2243570514553723, 0.2243570514553723, 0.6528239085613333, 0.972607582432309, 0.9646563396759921, 0.42151286903117796, 0.42151286903117796, 0.8854657454838691, 0.5965133162607805, 0.29825665813039026, 0.8854644088852834, 0.8965526998094244, 0.6528239085613333, 0.8965603851019446, 0.7384253447623423, 0.6528228118937557, 0.8534942628828075, 0.8535028087601608, 0.6528228118937557, 0.5039273695063766, 0.6177444413212314, 0.8965530506579743, 0.8298628197860288, 0.6528239085613333, 0.8965561542508749, 0.8506039448632113, 0.8534930683491748, 0.7496955472016705, 0.853494623967376, 0.6542963189246035, 0.7336467515694567, 0.5300576918326277, 0.7295610882536926, 0.24318702941789752, 0.7336559707148497, 0.7336467515694567, 0.7676266227612217], \"Term\": [\"alook\", \"also\", \"amytois\", \"andy\", \"andy\", \"audemarspiguet\", \"awww\", \"beetje\", \"believe\", \"bench\", \"ble\", \"blingtastc\", \"blossom\", \"breaker\", \"brp\", \"bz\", \"cantik\", \"cantiknyaa\", \"catsofinstagram\", \"chair\", \"chan\", \"cherrychoo\", \"chinesemagazine\", \"christma\", \"christmas\", \"clean\", \"clear\", \"coffee\", \"colour\", \"com\", \"com\", \"come\", \"come\", \"come\", \"compliment\", \"content\", \"cover\", \"craft\", \"cushion\", \"cute\", \"daybe\", \"decor\", \"decor\", \"definitely\", \"delivery\", \"depend\", \"designer\", \"detail\", \"disciplinary\", \"dot\", \"dress\", \"especially\", \"event\", \"eye\", \"family\", \"feature\", \"feel\", \"feelathome\", \"felix\", \"felixthegangsta\", \"fern\", \"fire\", \"floor\", \"forgive\", \"frame\", \"furniture\", \"furniture\", \"furnituredesign\", \"furniturestyle\", \"get\", \"get\", \"giftsnsuchsg\", \"give\", \"go\", \"good\", \"gorgeousss\", \"great\", \"gumkid\", \"guy\", \"haha\", \"haha\", \"handmadecard\", \"happy\", \"happy\", \"hari\", \"heart_suit\", \"hellonoraa\", \"help\", \"homedecor\", \"homedesign\", \"homefurniture\", \"homeinspiration\", \"homeinspo\", \"homestyle\", \"homestyling\", \"homesweethome\", \"hope\", \"house\", \"hpu\", \"https\", \"hugging_face\", \"hugging_face\", \"hugging_face\", \"idea\", \"ideal\", \"ik\", \"indah\", \"insta\", \"instahome\", \"interesting\", \"interior\", \"interiordecor\", \"interiordesign\", \"interiorsg\", \"item\", \"item\", \"jackson\", \"jakke\", \"jarrodstone\", \"join\", \"keep\", \"kid\", \"kiddymouthwash\", \"kiddytoothpaste\", \"kind\", \"know\", \"koniska\", \"kor\", \"kriti\", \"langsir\", \"langsirnya\", \"leave\", \"lemon\", \"let\", \"lianaalin\", \"livingroom\", \"loaf\", \"look\", \"love\", \"love\", \"love\", \"love\", \"loveeee\", \"luxuryfurniture\", \"machine\", \"many\", \"many\", \"maxmara\", \"mind\", \"modern\", \"monkey\", \"mono\", \"mr\", \"much\", \"much\", \"nadeeaannaa\", \"nadon\", \"naiise\", \"name\", \"need\", \"need\", \"nest\", \"new\", \"new\", \"oeh\", \"omg\", \"onweer\", \"outofstock\", \"page\", \"papercraft\", \"park\", \"partial\", \"particular\", \"pet\", \"pink\", \"pinprestige\", \"place\", \"place\", \"planter\", \"playmobilxxl\", \"pleasure\", \"pleasure\", \"pm\", \"pm\", \"policy\", \"polka\", \"polka\", \"post\", \"product\", \"product\", \"product\", \"promotion\", \"purchase\", \"quotation\", \"raising_hand\", \"re\", \"really\", \"red_heart\", \"redefiningluxe\", \"refund\", \"repost\", \"response\", \"round\", \"rozie\", \"rumah\", \"rumahnya\", \"s\", \"sale\", \"sale\", \"sallytumultuous\", \"say\", \"scanteak\", \"scanteak\", \"scanteak\", \"scanteaksg\", \"scanteaksg\", \"scanteakstool\", \"seater\", \"serve\", \"set\", \"sghome\", \"sghomedecor\", \"sginterior\", \"sgreno\", \"shot\", \"side\", \"simple\", \"size\", \"sj\", \"slank\", \"sofa\", \"solid\", \"sparkle\", \"staff\", \"start\", \"struggle\", \"stuff\", \"sunstargum\", \"table\", \"table\", \"table\", \"take\", \"teak\", \"teakfurniture\", \"thank\", \"thank\", \"theminiloft\", \"think\", \"think\", \"though\", \"thought\", \"toh\", \"two_heart\", \"use\", \"vaak\", \"version\", \"villa\", \"vind\", \"want\", \"watch\", \"watchmerchant\", \"website\", \"weekend\", \"westgate\", \"whole\", \"wish\", \"wood\", \"word\", \"workfromhome\", \"writing\", \"www\", \"year\", \"year\", \"yet\", \"zata\", \"zhong\"]}, \"R\": 30, \"lambda.step\": 0.01, \"plot.opts\": {\"xlab\": \"PC1\", \"ylab\": \"PC2\"}, \"topic.order\": [7, 3, 5, 8, 1, 9, 4, 2, 6, 10]};\n",
       "\n",
       "function LDAvis_load_lib(url, callback){\n",
       "  var s = document.createElement('script');\n",
       "  s.src = url;\n",
       "  s.async = true;\n",
       "  s.onreadystatechange = s.onload = callback;\n",
       "  s.onerror = function(){console.warn(\"failed to load library \" + url);};\n",
       "  document.getElementsByTagName(\"head\")[0].appendChild(s);\n",
       "}\n",
       "\n",
       "if(typeof(LDAvis) !== \"undefined\"){\n",
       "   // already loaded: just create the visualization\n",
       "   !function(LDAvis){\n",
       "       new LDAvis(\"#\" + \"ldavis_el2527224720838286248886691596\", ldavis_el2527224720838286248886691596_data);\n",
       "   }(LDAvis);\n",
       "}else if(typeof define === \"function\" && define.amd){\n",
       "   // require.js is available: use it to load d3/LDAvis\n",
       "   require.config({paths: {d3: \"https://d3js.org/d3.v5\"}});\n",
       "   require([\"d3\"], function(d3){\n",
       "      window.d3 = d3;\n",
       "      LDAvis_load_lib(\"https://cdn.jsdelivr.net/gh/bmabey/pyLDAvis@3.3.1/pyLDAvis/js/ldavis.v3.0.0.js\", function(){\n",
       "        new LDAvis(\"#\" + \"ldavis_el2527224720838286248886691596\", ldavis_el2527224720838286248886691596_data);\n",
       "      });\n",
       "    });\n",
       "}else{\n",
       "    // require.js not available: dynamically load d3 & LDAvis\n",
       "    LDAvis_load_lib(\"https://d3js.org/d3.v5.js\", function(){\n",
       "         LDAvis_load_lib(\"https://cdn.jsdelivr.net/gh/bmabey/pyLDAvis@3.3.1/pyLDAvis/js/ldavis.v3.0.0.js\", function(){\n",
       "                 new LDAvis(\"#\" + \"ldavis_el2527224720838286248886691596\", ldavis_el2527224720838286248886691596_data);\n",
       "            })\n",
       "         });\n",
       "}\n",
       "</script>"
      ],
      "text/plain": [
       "PreparedData(topic_coordinates=              x         y  topics  cluster       Freq\n",
       "topic                                                \n",
       "6     -0.369636  0.043220       1        1  42.260883\n",
       "2      0.087162  0.269251       2        1  14.701450\n",
       "4      0.061248 -0.050769       3        1   8.476755\n",
       "7      0.036807 -0.120321       4        1   8.196396\n",
       "0      0.067868  0.098374       5        1   6.999358\n",
       "8      0.038021 -0.068618       6        1   5.575430\n",
       "3      0.038268 -0.071975       7        1   5.462223\n",
       "1      0.012938 -0.051197       8        1   3.341445\n",
       "5      0.012217 -0.041241       9        1   2.544400\n",
       "9      0.015106 -0.006724      10        1   2.441661, topic_info=           Term       Freq      Total Category  logprob  loglift\n",
       "35          eye  29.000000  29.000000  Default  30.0000  30.0000\n",
       "14   scanteaksg  32.000000  32.000000  Default  29.0000  29.0000\n",
       "77     scanteak  29.000000  29.000000  Default  28.0000  28.0000\n",
       "88   feelathome  22.000000  22.000000  Default  27.0000  27.0000\n",
       "158      cantik   4.000000   4.000000  Default  26.0000  26.0000\n",
       "..          ...        ...        ...      ...      ...      ...\n",
       "221        nice   0.043041   0.612502  Topic10  -6.2726   1.0571\n",
       "234     rachtjy   0.043041   0.613016  Topic10  -6.2726   1.0562\n",
       "14   scanteaksg   0.396551  32.417581  Topic10  -4.0519  -0.6912\n",
       "171     sparkle   0.043096   4.070186  Topic10  -6.2713  -0.8355\n",
       "35          eye   0.043041  29.546002  Topic10  -6.2726  -2.8191\n",
       "\n",
       "[377 rows x 6 columns], token_table=      Topic      Freq     Term\n",
       "term                          \n",
       "246       1  0.652824    alook\n",
       "279       3  0.703904     also\n",
       "210       3  0.703900  amytois\n",
       "46        2  0.565593     andy\n",
       "46        7  0.565593     andy\n",
       "...     ...       ...      ...\n",
       "73        3  0.729561     year\n",
       "73        7  0.243187     year\n",
       "235       5  0.733656      yet\n",
       "256       5  0.733647     zata\n",
       "39        9  0.767627    zhong\n",
       "\n",
       "[276 rows x 3 columns], R=30, lambda_step=0.01, plot_opts={'xlab': 'PC1', 'ylab': 'PC2'}, topic_order=[7, 3, 5, 8, 1, 9, 4, 2, 6, 10])"
      ]
     },
     "execution_count": 89,
     "metadata": {},
     "output_type": "execute_result"
    }
   ],
   "source": [
    "'''\n",
    "Now that the LDA model is built, the next step is to examine the produced \n",
    "topics and the associated keywords. There is no better tool than pyLDAvis package’s \n",
    "interactive chart and is designed to work well with jupyter notebooks.\n",
    "'''\n",
    "# Visualize the topics\n",
    "pyLDAvis.enable_notebook()\n",
    "vis = pyLDAvis.gensim_models.prepare(lda_model, corpus, id2word)\n",
    "vis"
   ]
  },
  {
   "cell_type": "code",
   "execution_count": 90,
   "metadata": {},
   "outputs": [
    {
     "data": {
      "text/plain": [
       "'\\nSo how to infer pyLDAvis’s output?\\n\\nEach bubble on the left-hand side plot represents a topic. \\nThe larger the bubble, the more prevalent is that topic.\\n\\nA good topic model will have fairly big, non-overlapping bubbles scattered \\nthroughout the chart instead of being clustered in one quadrant.\\n\\nA model with too many topics, will typically have many overlaps, \\nsmall sized bubbles clustered in one region of the chart.\\n\\nAlright, if you move the cursor over one of the bubbles, \\nthe words and bars on the right-hand side will update. \\nThese words are the salient keywords that form the selected topic.\\n\\nWe have successfully built a good looking topic model.\\n'"
      ]
     },
     "execution_count": 90,
     "metadata": {},
     "output_type": "execute_result"
    }
   ],
   "source": [
    "'''\n",
    "So how to infer pyLDAvis’s output?\n",
    "\n",
    "Each bubble on the left-hand side plot represents a topic. \n",
    "The larger the bubble, the more prevalent is that topic.\n",
    "\n",
    "A good topic model will have fairly big, non-overlapping bubbles scattered \n",
    "throughout the chart instead of being clustered in one quadrant.\n",
    "\n",
    "A model with too many topics, will typically have many overlaps, \n",
    "small sized bubbles clustered in one region of the chart.\n",
    "\n",
    "Alright, if you move the cursor over one of the bubbles, \n",
    "the words and bars on the right-hand side will update. \n",
    "These words are the salient keywords that form the selected topic.\n",
    "\n",
    "We have successfully built a good looking topic model.\n",
    "'''"
   ]
  },
  {
   "cell_type": "code",
   "execution_count": null,
   "metadata": {},
   "outputs": [],
   "source": []
  }
 ],
 "metadata": {
  "kernelspec": {
   "display_name": "Python 3",
   "language": "python",
   "name": "python3"
  },
  "language_info": {
   "codemirror_mode": {
    "name": "ipython",
    "version": 3
   },
   "file_extension": ".py",
   "mimetype": "text/x-python",
   "name": "python",
   "nbconvert_exporter": "python",
   "pygments_lexer": "ipython3",
   "version": "3.8.3"
  }
 },
 "nbformat": 4,
 "nbformat_minor": 2
}
