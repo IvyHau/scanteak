{
 "cells": [
  {
   "cell_type": "code",
   "execution_count": 108,
   "metadata": {},
   "outputs": [
    {
     "name": "stderr",
     "output_type": "stream",
     "text": [
      "[nltk_data] Downloading package stopwords to C:\\Users\\Yong\n",
      "[nltk_data]     Jie\\AppData\\Roaming\\nltk_data...\n",
      "[nltk_data]   Package stopwords is already up-to-date!\n"
     ]
    },
    {
     "data": {
      "text/plain": [
       "True"
      ]
     },
     "execution_count": 108,
     "metadata": {},
     "output_type": "execute_result"
    }
   ],
   "source": [
    "'''\n",
    "We will need the stopwords from NLTK and spacy’s en model for text pre-processing.\n",
    "Later, we will be using the spacy model for lemmatization.\n",
    "\n",
    "Lemmatization is nothing but converting a word to its root word.\n",
    "For example: the lemma of the word ‘machines’ is ‘machine’.\n",
    "\n",
    "Likewise, ‘walking’ –> ‘walk’, ‘mice’ –> ‘mouse’ and so on.\n",
    "\n",
    "'''\n",
    "\n",
    "# Run in python console\n",
    "import nltk\n",
    "nltk.download('stopwords')\n",
    "\n",
    "# nltk.download('stopwords') # You already did this in a previous lab"
   ]
  },
  {
   "cell_type": "code",
   "execution_count": 109,
   "metadata": {},
   "outputs": [],
   "source": [
    "import re\n",
    "import numpy as np\n",
    "import pandas as pd\n",
    "from pprint import pprint"
   ]
  },
  {
   "cell_type": "code",
   "execution_count": 110,
   "metadata": {},
   "outputs": [],
   "source": [
    "# Gensim (Topic Modeling Pacakge)\n",
    "import gensim\n",
    "import gensim.corpora as corpora\n",
    "from gensim.utils import simple_preprocess\n",
    "from gensim.models import CoherenceModel"
   ]
  },
  {
   "cell_type": "code",
   "execution_count": 111,
   "metadata": {},
   "outputs": [],
   "source": [
    "# spacy for lemmatization\n",
    "import spacy"
   ]
  },
  {
   "cell_type": "code",
   "execution_count": 112,
   "metadata": {},
   "outputs": [],
   "source": [
    "# Plotting tools\n",
    "import pyLDAvis\n",
    "import pyLDAvis.gensim_models  # don't skip this\n",
    "import matplotlib.pyplot as plt\n",
    "%matplotlib inline"
   ]
  },
  {
   "cell_type": "code",
   "execution_count": 113,
   "metadata": {},
   "outputs": [],
   "source": [
    "# Enable logging for gensim - optional\n",
    "import logging\n",
    "logging.basicConfig(format='%(asctime)s : %(levelname)s : %(message)s', level=logging.ERROR)\n",
    "\n",
    "import warnings\n",
    "warnings.filterwarnings(\"ignore\",category=DeprecationWarning)"
   ]
  },
  {
   "cell_type": "code",
   "execution_count": 114,
   "metadata": {},
   "outputs": [],
   "source": [
    "# NLTK Stop words\n",
    "from nltk.corpus import stopwords\n",
    "stop_words = stopwords.words('english')\n",
    "stop_words.extend(['scanteaksg','scanteak'])"
   ]
  },
  {
   "cell_type": "code",
   "execution_count": 115,
   "metadata": {},
   "outputs": [
    {
     "data": {
      "text/html": [
       "<div>\n",
       "<style scoped>\n",
       "    .dataframe tbody tr th:only-of-type {\n",
       "        vertical-align: middle;\n",
       "    }\n",
       "\n",
       "    .dataframe tbody tr th {\n",
       "        vertical-align: top;\n",
       "    }\n",
       "\n",
       "    .dataframe thead th {\n",
       "        text-align: right;\n",
       "    }\n",
       "</style>\n",
       "<table border=\"1\" class=\"dataframe\">\n",
       "  <thead>\n",
       "    <tr style=\"text-align: right;\">\n",
       "      <th></th>\n",
       "      <th>date</th>\n",
       "      <th>username</th>\n",
       "      <th>text</th>\n",
       "    </tr>\n",
       "  </thead>\n",
       "  <tbody>\n",
       "    <tr>\n",
       "      <th>0</th>\n",
       "      <td>2013-12-23 01:24:35</td>\n",
       "      <td>phumyatmon</td>\n",
       "      <td>Cute :heart_suit::heart_suit: :)</td>\n",
       "    </tr>\n",
       "    <tr>\n",
       "      <th>1</th>\n",
       "      <td>2014-12-16 10:12:58</td>\n",
       "      <td>giftsnsuchsg</td>\n",
       "      <td>:) my pleasure! So want to go for it but l m s...</td>\n",
       "    </tr>\n",
       "    <tr>\n",
       "      <th>2</th>\n",
       "      <td>2014-12-16 09:59:05</td>\n",
       "      <td>uniquegrabs</td>\n",
       "      <td>@giftsnsuchsg Thank you so much for your well ...</td>\n",
       "    </tr>\n",
       "    <tr>\n",
       "      <th>3</th>\n",
       "      <td>2014-12-16 08:34:55</td>\n",
       "      <td>giftsnsuchsg</td>\n",
       "      <td>All the best!</td>\n",
       "    </tr>\n",
       "    <tr>\n",
       "      <th>4</th>\n",
       "      <td>2014-12-16 02:09:05</td>\n",
       "      <td>uniquegrabs</td>\n",
       "      <td>#cardmaking #christmas #handmadecard #workshop...</td>\n",
       "    </tr>\n",
       "  </tbody>\n",
       "</table>\n",
       "</div>"
      ],
      "text/plain": [
       "                  date      username  \\\n",
       "0  2013-12-23 01:24:35    phumyatmon   \n",
       "1  2014-12-16 10:12:58  giftsnsuchsg   \n",
       "2  2014-12-16 09:59:05   uniquegrabs   \n",
       "3  2014-12-16 08:34:55  giftsnsuchsg   \n",
       "4  2014-12-16 02:09:05   uniquegrabs   \n",
       "\n",
       "                                                text  \n",
       "0                   Cute :heart_suit::heart_suit: :)  \n",
       "1  :) my pleasure! So want to go for it but l m s...  \n",
       "2  @giftsnsuchsg Thank you so much for your well ...  \n",
       "3                                      All the best!  \n",
       "4  #cardmaking #christmas #handmadecard #workshop...  "
      ]
     },
     "execution_count": 115,
     "metadata": {},
     "output_type": "execute_result"
    }
   ],
   "source": [
    "'''\n",
    "We will be using the 20-Newsgroups dataset for this exercise.\n",
    "This version of the dataset contains about 11k newsgroups posts from \n",
    "20 different topics. This is available as newsgroups.json.\n",
    "'''\n",
    "# Import Dataset\n",
    "df = pd.read_csv('./scanteaksg.csv', encoding='utf-8')\n",
    "\n",
    "df.head()"
   ]
  },
  {
   "cell_type": "code",
   "execution_count": 116,
   "metadata": {
    "scrolled": true
   },
   "outputs": [
    {
     "name": "stderr",
     "output_type": "stream",
     "text": [
      "[nltk_data] Downloading package words to C:\\Users\\Yong\n",
      "[nltk_data]     Jie\\AppData\\Roaming\\nltk_data...\n",
      "[nltk_data]   Package words is already up-to-date!\n"
     ]
    }
   ],
   "source": [
    "import nltk\n",
    "nltk.download('words')\n",
    "words = set(nltk.corpus.words.words())\n",
    "\n",
    "\n",
    "\n"
   ]
  },
  {
   "cell_type": "code",
   "execution_count": 117,
   "metadata": {},
   "outputs": [
    {
     "name": "stdout",
     "output_type": "stream",
     "text": [
      "['Cute :heart_suit::heart_suit: :)', ':) my pleasure! So want to go for it but l m so bz during this season.....', '@giftsnsuchsg Thank you so much for your well wishes, Mrs Chan! :)', 'All the best!', '#cardmaking #christmas #handmadecard #workshop #scanteaksg #papercrafts #crafts #stationery #uniquegrabs', 'hermeswechat:aifeihermes', '#trickeye #chistmas #snowglobe', '#scanteaksmile', 'wow!', 'Hi! Looks like we will be doing business in future haha!', 'exactly my thoughts. pink polka dot chair will be most ideal haha', '@cherrychoo cannot help thinking of you and polka dots. Though you would have preferred pink instead I think.', 'nice! polka dots! :smiling_face_with_heart-eyes:', ':thumbs_up_medium-light_skin_tone:', 'Amazing :clapping_hands_medium_skin_tone::clapping_hands_medium_skin_tone::clapping_hands_medium_skin_tone:', 'What do you think of this? @stephlimmss', '@eternalgluck zhong kan bu zhong yong', '@hellonoraa the coffee table though', 'Love it!', 'i wan @hpu3m @theminiloft']\n"
     ]
    }
   ],
   "source": [
    "'''\n",
    "As you can see there are many emails, newline and extra spaces that is quite distracting.\n",
    "Let’s get rid of them using regular expressions.\n",
    "'''\n",
    "# Convert to list\n",
    "data = df.text.values.tolist()\n",
    "new_data = []\n",
    "\n",
    "# Remove Emails\n",
    "data = [re.sub(r'[^\\x00-\\x7F]+', '', sent) for sent in data]\n",
    "\n",
    "# # Remove new line characters\n",
    "# data = [re.sub('\\s+', ' ', sent) for sent in data]\n",
    "\n",
    "# # Remove distracting single quotes\n",
    "# data = [re.sub(\"\\'\", \"\", sent) for sent in data]\n",
    "\n",
    "        \n",
    "    \n",
    "\n",
    "print(data[:20])"
   ]
  },
  {
   "cell_type": "code",
   "execution_count": 118,
   "metadata": {},
   "outputs": [
    {
     "name": "stdout",
     "output_type": "stream",
     "text": [
      "['cute', 'heart_suit', 'heart_suit']\n",
      "[['heart_suit'], ['pleasure', 'want', 'go', 'it', 'so', 'bz', 'this'], ['giftsnsuchsg', 'you', 'much', 'your', 'wishes', 'mrs', 'chan'], ['the'], ['christmas', 'handmadecard', 'scanteaksg', 'papercrafts', 'crafts', 'uniquegrabs'], ['hermeswechat', 'aifeihermes'], ['trickeye', 'chistmas', 'snowglobe'], ['scanteaksmile'], [], ['looks', 'we', 'be', 'business', 'future', 'haha'], ['my', 'thoughts', 'polka', 'chair', 'be', 'ideal', 'haha'], ['cherrychoo', 'help', 'of', 'and', 'dots', 'you', 'have', 'pink', 'think'], ['polka', 'dots', 'eyes'], [], [], ['do', 'think', 'this', 'stephlimmss'], ['eternalgluck', 'zhong', 'bu', 'zhong', 'yong'], ['hellonoraa', 'coffee', 'though'], ['it'], ['hpu', 'theminiloft'], [], ['love'], ['sallytumultuous', 'pleasure', 'ours', 're', 'you', 'happy', 'andy', 'and', 'definitely', 'on', 'compliments', 'him', 'great', 'hugging_face'], ['you', 'the', 'scanteaksg', 'thanks', 'the', 'staff', 'park', 'forgive', 'if', 'got', 'name', 'up', 'believe', 'name', 'andy', 'him', 'say'], ['post'], ['cuuute'], ['thanks', 'can', 'to', 'doing', 'size', 'versions'], [], ['cool', 'wait', 'see', 'in', 'windows'], ['isn', 'just'], ['is'], ['nadon', 'letting', 'we', 'love', 'products', 'we', 'hope', 'that', 'they', 'll', 'you', 'your', 'well', 'for', 'years', 'come'], ['folded_hands'], ['for', 'feature', 'loveeee', 'products', 'eyes', 'my', 'table', 'chairs', 'from', 'scanteak'], ['how', 'this'], ['great', 'visualtroop'], ['don', 'watchmerchant', 'to', 'get', 'shots', 'on', 'page'], ['you', 'great'], ['nakspud', 'we', 've', 'very', 'pieces', 'though'], ['scanteaksg', 'is', 'still'], ['stuff'], [], [], ['scanteaksg', 'outofstock', 'catsofinstagram', 'felixthegangsta', 'feelathome'], ['scanteaksg', 'eyes'], ['is', 'eyes', 'purchasing', 'prologue', 'we', 'serve', 'family', 'and', 'felix', 'for', 'years', 'come', 'we', 'this', 'it', 'too', 'to', 'share'], ['awww', 'cute', 'felix'], ['pinprestige', 'scanteak', 'scanteaksg', 'maxmara', 'audemarspiguet', 'chinesemagazine', 'redefiningluxe', 'watch', 'watches'], ['may', 'what', 'the', 'for', 'queen'], ['raising_hands'], ['depends', 'you', 'but', 'feel', 'to', 'quotation', 'our', 'website', 'www', 'scanteak', 'com', 'sg', 'more', 'and', 'details', 'particular', 'is', 'the', 'slank', 'table'], ['much', 'the', 'table'], ['purple_heart'], [], [], ['dreams', 'made', 'these'], ['lianaalin', 'there', 'it', 'the', 'koniska', 'table', 'can', 'it', 'this', 'https', 'scanteak', 'com', 'sg', 'products', 'koniska', 'table'], ['is', 'the', 'koniska', 'table'], ['nadeeaannaa'], ['rozie', 'yup', 'is'], ['this', 'villa'], ['content'], [], ['jarrodstone', 'cup', 'scanteak'], ['jarrodstone', 'on', 'to', 'suntec', 'east', 'we', 'here', 'tomorrow'], [], [], [], ['popupshop', 'popup', 'sgdesign', 'greetingcards', 'christmas', 'xmas', 'giftideas', 'totebags', 'canvasbag', 'scanteaksg', 'ngeeanncity', 'orchardroad', 'sgchristmas', 'christmas'], [], [], ['love', 'set', 'available'], ['is', 'available', 'find', 'in', 'website', 'scanteaksg'], ['much', 'the', 'furniture'], ['all', 'fabric', 'removed', 'washing'], [], [], ['lemon'], ['can', 'the', 'covers'], ['mantolnya', 'keren']]\n"
     ]
    }
   ],
   "source": [
    "'''\n",
    "After removing the emails and extra spaces, the text still looks messy.\n",
    "It is not ready for the LDA to consume. You need to break down each sentence\n",
    "into a list of words through tokenization, while clearing up all the messy \n",
    "text in the process.\n",
    "\n",
    "Let’s tokenize each sentence into a list of words, removing punctuations and \n",
    "unnecessary characters altogether.\n",
    "\n",
    "Gensim’s simple_preprocess() is great for this.\n",
    "Additionally I have set deacc=True to remove the punctuations.\n",
    "'''\n",
    "def sent_to_words(sentences):\n",
    "    for sentence in sentences:\n",
    "        yield(gensim.utils.simple_preprocess(str(sentence), deacc=True))  # deacc=True removes punctuations\n",
    "\n",
    "data_words = list(sent_to_words(data))\n",
    "print(data_words[0])\n",
    "for list_of_words in data_words:\n",
    "    for word in list_of_words:\n",
    "        if word.lower() in words or not word.isalpha():\n",
    "            list_of_words.remove(word)\n",
    "    \n",
    "print(data_words[:80])"
   ]
  },
  {
   "cell_type": "code",
   "execution_count": 119,
   "metadata": {},
   "outputs": [
    {
     "name": "stdout",
     "output_type": "stream",
     "text": [
      "[['heart_suit'], ['pleasure', 'want', 'go', 'it', 'so', 'bz', 'this'], ['giftsnsuchsg', 'you', 'much', 'your', 'wishes', 'mrs', 'chan'], ['the'], ['christmas', 'handmadecard', 'scanteaksg', 'papercrafts', 'crafts', 'uniquegrabs'], ['hermeswechat', 'aifeihermes'], ['trickeye', 'chistmas', 'snowglobe'], ['scanteaksmile'], ['looks', 'we', 'be', 'business', 'future', 'haha'], ['my', 'thoughts', 'polka', 'chair', 'be', 'ideal', 'haha'], ['cherrychoo', 'help', 'of', 'and', 'dots', 'you', 'have', 'pink', 'think'], ['polka', 'dots', 'eyes'], ['do', 'think', 'this', 'stephlimmss'], ['eternalgluck', 'zhong', 'bu', 'zhong', 'yong'], ['hellonoraa', 'coffee', 'though'], ['it'], ['hpu', 'theminiloft'], ['love'], ['sallytumultuous', 'pleasure', 'ours', 're', 'you', 'happy', 'andy', 'and', 'definitely', 'on', 'compliments', 'him', 'great', 'hugging_face'], ['you', 'the', 'scanteaksg', 'thanks', 'the', 'staff', 'park', 'forgive', 'if', 'got', 'name', 'up', 'believe', 'name', 'andy', 'him', 'say']]\n"
     ]
    }
   ],
   "source": [
    "data_words = [x for x in data_words if x]\n",
    "\n",
    "print(data_words[0:20])"
   ]
  },
  {
   "cell_type": "code",
   "execution_count": 120,
   "metadata": {},
   "outputs": [
    {
     "name": "stdout",
     "output_type": "stream",
     "text": [
      "['heart_suit']\n"
     ]
    }
   ],
   "source": [
    "'''\n",
    "Bigrams are two words frequently occurring together in the document.\n",
    "Trigrams are 3 words frequently occurring.\n",
    "\n",
    "Some examples in our example are: ‘front_bumper’, ‘oil_leak’, ‘maryland_college_park’ etc.\n",
    "\n",
    "Gensim’s Phrases model can build and implement the bigrams, trigrams, \n",
    "quadgrams and more.\n",
    "\n",
    "The two important arguments to Phrases are min_count and threshold.\n",
    "The higher the values of these param, the harder it is for words to be combined to bigrams.\n",
    "'''\n",
    "# Build the bigram and trigram models\n",
    "bigram = gensim.models.Phrases(data_words, min_count=5, threshold=100) # higher threshold fewer phrases.\n",
    "trigram = gensim.models.Phrases(bigram[data_words], threshold=100)  \n",
    "\n",
    "# Faster way to get a sentence clubbed as a trigram/bigram\n",
    "bigram_mod = gensim.models.phrases.Phraser(bigram)\n",
    "trigram_mod = gensim.models.phrases.Phraser(trigram)\n",
    "\n",
    "# See trigram example\n",
    "print(trigram_mod[bigram_mod[data_words[0]]])"
   ]
  },
  {
   "cell_type": "code",
   "execution_count": 121,
   "metadata": {},
   "outputs": [],
   "source": [
    "'''\n",
    "The bigrams model is ready. Let’s define the functions to remove the stopwords, \n",
    "make bigrams and lemmatization and call them sequentially.\n",
    "'''\n",
    "# Define functions for stopwords, bigrams, trigrams and lemmatization\n",
    "def remove_stopwords(texts):\n",
    "    return [[word for word in simple_preprocess(str(doc)) if word not in stop_words] for doc in texts]\n",
    "\n",
    "def make_bigrams(texts):\n",
    "    return [bigram_mod[doc] for doc in texts]\n",
    "\n",
    "def make_trigrams(texts):\n",
    "    return [trigram_mod[bigram_mod[doc]] for doc in texts]\n",
    "\n",
    "def lemmatization(texts, allowed_postags=['NOUN', 'ADJ', 'VERB', 'ADV']):\n",
    "    \"\"\"https://spacy.io/api/annotation\"\"\"\n",
    "    texts_out = []\n",
    "    for sent in texts:\n",
    "        doc = nlp(\" \".join(sent)) \n",
    "        texts_out.append([token.lemma_ for token in doc if token.pos_ in allowed_postags])\n",
    "    return texts_out"
   ]
  },
  {
   "cell_type": "code",
   "execution_count": 122,
   "metadata": {},
   "outputs": [
    {
     "name": "stdout",
     "output_type": "stream",
     "text": [
      "[['heart_suit']]\n"
     ]
    }
   ],
   "source": [
    "'''\n",
    "Let’s call the functions in order.\n",
    "'''\n",
    "# Remove Stop Words\n",
    "data_words_nostops = remove_stopwords(data_words)\n",
    "\n",
    "# Form Bigrams\n",
    "data_words_bigrams = make_bigrams(data_words_nostops)\n",
    "\n",
    "# Initialize spacy 'en' model, keeping only tagger component (for efficiency)\n",
    "# python3 -m spacy download en\n",
    "nlp = spacy.load('en_core_web_sm', disable=['parser', 'ner'])\n",
    "\n",
    "# Do lemmatization keeping only noun, adj, vb, adv\n",
    "data_lemmatized = lemmatization(data_words_bigrams, allowed_postags=['NOUN', 'ADJ', 'VERB', 'ADV'])\n",
    "\n",
    "print(data_lemmatized[:1])"
   ]
  },
  {
   "cell_type": "code",
   "execution_count": 123,
   "metadata": {},
   "outputs": [
    {
     "name": "stdout",
     "output_type": "stream",
     "text": [
      "[[(0, 1)]]\n"
     ]
    }
   ],
   "source": [
    "'''\n",
    "The two main inputs to the LDA topic model are the dictionary(id2word) and the corpus.\n",
    "Let’s create them.\n",
    "'''\n",
    "# Create Dictionary\n",
    "id2word = corpora.Dictionary(data_lemmatized)\n",
    "\n",
    "# Create Corpus\n",
    "texts = data_lemmatized\n",
    "\n",
    "# Term Document Frequency\n",
    "corpus = [id2word.doc2bow(text) for text in texts]\n",
    "\n",
    "# View\n",
    "print(corpus[:1])"
   ]
  },
  {
   "cell_type": "code",
   "execution_count": 124,
   "metadata": {},
   "outputs": [
    {
     "data": {
      "text/plain": [
       "\"\\nGensim creates a unique id for each word in the document.\\nThe produced corpus shown above is a mapping of (word_id, word_frequency).\\n\\nFor example, (0, 1) above implies, word id 0 occurs once in the first document.\\n\\nLikewise, word id 1 occurs twice and so on.\\n\\nThis is used as the input by the LDA model.\\n\\nIf you want to see what word a given id corresponds to, pass the id as a key to the dictionary.\\n\\nid2word[0]\\n'addition'\\n\\nOr, you can see a human-readable form of the corpus itself.\\n\\n# Human readable format of corpus (term-frequency)\\n[[(id2word[id], freq) for id, freq in cp] for cp in corpus[:1]]\\n\\n[[('addition', 1),\\n  ('anyone', 2),\\n  ('body', 1),\\n  ('bricklin', 1),\\n  ('bring', 1),\\n  ('call', 1),\\n  ('car', 5),\\n  ('could', 1),\\n  ('day', 1),\\n  ('door', 2),\\n  ('early', 1),\\n  ('engine', 1),\\n  ('enlighten', 1),\\n  ('front_bumper', 1),\\n  ('maryland_college', 1),\\n  (..truncated..)]]\\n\\n\\nAlright, without digressing further let’s jump back on track with the next step:\\n\\nBuilding the topic model.\\n\""
      ]
     },
     "execution_count": 124,
     "metadata": {},
     "output_type": "execute_result"
    }
   ],
   "source": [
    "'''\n",
    "Gensim creates a unique id for each word in the document.\n",
    "The produced corpus shown above is a mapping of (word_id, word_frequency).\n",
    "\n",
    "For example, (0, 1) above implies, word id 0 occurs once in the first document.\n",
    "\n",
    "Likewise, word id 1 occurs twice and so on.\n",
    "\n",
    "This is used as the input by the LDA model.\n",
    "\n",
    "If you want to see what word a given id corresponds to, pass the id as a key to the dictionary.\n",
    "\n",
    "id2word[0]\n",
    "'addition'\n",
    "\n",
    "Or, you can see a human-readable form of the corpus itself.\n",
    "\n",
    "# Human readable format of corpus (term-frequency)\n",
    "[[(id2word[id], freq) for id, freq in cp] for cp in corpus[:1]]\n",
    "\n",
    "[[('addition', 1),\n",
    "  ('anyone', 2),\n",
    "  ('body', 1),\n",
    "  ('bricklin', 1),\n",
    "  ('bring', 1),\n",
    "  ('call', 1),\n",
    "  ('car', 5),\n",
    "  ('could', 1),\n",
    "  ('day', 1),\n",
    "  ('door', 2),\n",
    "  ('early', 1),\n",
    "  ('engine', 1),\n",
    "  ('enlighten', 1),\n",
    "  ('front_bumper', 1),\n",
    "  ('maryland_college', 1),\n",
    "  (..truncated..)]]\n",
    "\n",
    "\n",
    "Alright, without digressing further let’s jump back on track with the next step:\n",
    "\n",
    "Building the topic model.\n",
    "'''"
   ]
  },
  {
   "cell_type": "code",
   "execution_count": 125,
   "metadata": {},
   "outputs": [],
   "source": [
    "'''\n",
    "We have everything required to train the LDA model.\n",
    "In addition to the corpus and dictionary, you need to provide the number of topics as well.\n",
    "\n",
    "Apart from that, alpha and eta are hyperparameters that affect sparsity of the topics.\n",
    "According to the Gensim docs, both defaults to 1.0/num_topics prior.\n",
    "\n",
    "chunksize is the number of documents to be used in each training chunk.\n",
    "\n",
    "update_every determines how often the model parameters should be updated and \n",
    "passes is the total number of training passes.\n",
    "'''\n",
    "# Build LDA model\n",
    "lda_model = gensim.models.ldamodel.LdaModel(corpus=corpus,\n",
    "                                           id2word=id2word,\n",
    "                                           num_topics=20, \n",
    "                                           random_state=100,\n",
    "                                           update_every=1,\n",
    "                                           chunksize=100,\n",
    "                                           passes=10,\n",
    "                                           alpha='auto',\n",
    "                                           per_word_topics=True)"
   ]
  },
  {
   "cell_type": "code",
   "execution_count": 126,
   "metadata": {},
   "outputs": [
    {
     "name": "stdout",
     "output_type": "stream",
     "text": [
      "[(0,\n",
      "  '0.231*\"sparkle\" + 0.002*\"sale\" + 0.002*\"teak\" + 0.002*\"writing\" + '\n",
      "  '0.002*\"zata\" + 0.002*\"promotion\" + 0.002*\"jackson\" + 0.002*\"wood\" + '\n",
      "  '0.002*\"mono\" + 0.002*\"clapping_hand\"'),\n",
      " (1,\n",
      "  '0.041*\"lemon\" + 0.041*\"stuff\" + 0.041*\"yuniqueee\" + 0.002*\"table\" + '\n",
      "  '0.002*\"koniska\" + 0.002*\"activity\" + 0.002*\"teak\" + 0.002*\"wood\" + '\n",
      "  '0.002*\"sale\" + 0.002*\"clapping_hand\"'),\n",
      " (2,\n",
      "  '0.120*\"look\" + 0.078*\"furniture\" + 0.046*\"zhong\" + 0.024*\"need\" + '\n",
      "  '0.024*\"diy\" + 0.024*\"home\" + 0.024*\"business\" + 0.024*\"future\" + '\n",
      "  '0.024*\"haha\" + 0.024*\"trickeye\"'),\n",
      " (3,\n",
      "  '0.062*\"name\" + 0.032*\"staff\" + 0.032*\"forgive\" + 0.032*\"get\" + 0.032*\"park\" '\n",
      "  '+ 0.032*\"say\" + 0.032*\"andy\" + 0.032*\"believe\" + 0.032*\"thank\" + '\n",
      "  '0.002*\"eye\"'),\n",
      " (4,\n",
      "  '0.064*\"post\" + 0.033*\"giftsnsuchsg\" + 0.033*\"wish\" + 0.033*\"mr\" + '\n",
      "  '0.033*\"chan\" + 0.033*\"much\" + 0.033*\"lah\" + 0.033*\"curlass\" + 0.002*\"zata\" '\n",
      "  '+ 0.002*\"sale\"'),\n",
      " (5,\n",
      "  '0.118*\"much\" + 0.036*\"table\" + 0.036*\"rozie\" + 0.036*\"dq\" + 0.002*\"re\" + '\n",
      "  '0.002*\"cantikk\" + 0.002*\"teak\" + 0.002*\"wood\" + 0.002*\"clapping_hand\" + '\n",
      "  '0.002*\"sale\"'),\n",
      " (6,\n",
      "  '0.171*\"cantik\" + 0.055*\"rumah\" + 0.055*\"cute\" + 0.055*\"awww\" + '\n",
      "  '0.055*\"hugging_face\" + 0.023*\"aunty\" + 0.023*\"felix\" + 0.023*\"folded_hand\" '\n",
      "  '+ 0.023*\"queen\" + 0.023*\"nadeeaannaa\"'),\n",
      " (7,\n",
      "  '0.034*\"homesweethome\" + 0.034*\"gumkid\" + 0.034*\"sunstargum\" + '\n",
      "  '0.034*\"scanteakstool\" + 0.034*\"kiddytoothpaste\" + 0.034*\"kiddymouthwash\" + '\n",
      "  '0.034*\"nakspud\" + 0.034*\"piece\" + 0.002*\"clapping_hand\" + 0.002*\"jackson\"'),\n",
      " (8,\n",
      "  '0.057*\"great\" + 0.029*\"east\" + 0.029*\"tomorrow\" + 0.029*\"jarrodstone\" + '\n",
      "  '0.029*\"suntec\" + 0.029*\"website\" + 0.029*\"wait\" + 0.029*\"window\" + '\n",
      "  '0.029*\"see\" + 0.029*\"find\"'),\n",
      " (9,\n",
      "  '0.120*\"heart_suit\" + 0.116*\"red_heart\" + 0.031*\"uniquely\" + 0.031*\"bro\" + '\n",
      "  '0.031*\"colour\" + 0.002*\"join\" + 0.002*\"omg\" + 0.002*\"planter\" + '\n",
      "  '0.002*\"start\" + 0.002*\"nest\"'),\n",
      " (10,\n",
      "  '0.305*\"feelathome\" + 0.057*\"year\" + 0.041*\"love\" + 0.031*\"come\" + '\n",
      "  '0.022*\"product\" + 0.022*\"look\" + 0.022*\"think\" + 0.022*\"hope\" + '\n",
      "  '0.022*\"family\" + 0.022*\"serve\"'),\n",
      " (11,\n",
      "  '0.057*\"want\" + 0.057*\"coffee\" + 0.024*\"uniquegrab\" + 0.024*\"papercraft\" + '\n",
      "  '0.024*\"handmadecard\" + 0.024*\"craft\" + 0.024*\"christma\" + 0.024*\"bz\" + '\n",
      "  '0.024*\"go\" + 0.024*\"pleasure\"'),\n",
      " (12,\n",
      "  '0.106*\"chair\" + 0.106*\"product\" + 0.067*\"think\" + 0.028*\"loveeee\" + '\n",
      "  '0.028*\"feature\" + 0.028*\"stephlimmss\" + 0.028*\"table\" + 0.002*\"eye\" + '\n",
      "  '0.002*\"almost\" + 0.002*\"item\"'),\n",
      " (13,\n",
      "  '0.033*\"chair\" + 0.033*\"thought\" + 0.033*\"ideal\" + 0.033*\"haha\" + '\n",
      "  '0.033*\"polka\" + 0.033*\"watchmerchant\" + 0.033*\"page\" + 0.033*\"shot\" + '\n",
      "  '0.033*\"get\" + 0.002*\"activity\"'),\n",
      " (14,\n",
      "  '0.044*\"christma\" + 0.023*\"xmas\" + 0.023*\"sgdesign\" + 0.023*\"totebag\" + '\n",
      "  '0.023*\"popup\" + 0.023*\"orchardroad\" + 0.023*\"ngeeanncity\" + '\n",
      "  '0.023*\"popupshop\" + 0.023*\"giftideas\" + 0.023*\"greetingcard\"'),\n",
      " (15,\n",
      "  '0.064*\"koniska\" + 0.064*\"table\" + 0.052*\"https\" + 0.052*\"cushion\" + '\n",
      "  '0.043*\"love\" + 0.022*\"lianaalin\" + 0.022*\"com\" + 0.022*\"mind\" + '\n",
      "  '0.022*\"gorgeousss\" + 0.022*\"insta\"'),\n",
      " (16,\n",
      "  '0.076*\"sofa\" + 0.054*\"idea\" + 0.045*\"watch\" + 0.023*\"audemarspiguet\" + '\n",
      "  '0.023*\"maxmara\" + 0.023*\"chinesemagazine\" + 0.023*\"pinprestige\" + '\n",
      "  '0.023*\"redefiningluxe\" + 0.023*\"daybe\" + 0.023*\"westgate\"'),\n",
      " (17,\n",
      "  '0.565*\"eye\" + 0.048*\"love\" + 0.027*\"set\" + 0.012*\"thank\" + 0.012*\"kind\" + '\n",
      "  '0.012*\"really\" + 0.012*\"word\" + 0.012*\"available\" + 0.012*\"polka\" + '\n",
      "  '0.012*\"blingtastc\"'),\n",
      " (18,\n",
      "  '0.090*\"cover\" + 0.057*\"detail\" + 0.057*\"website\" + 0.057*\"feel\" + '\n",
      "  '0.057*\"www\" + 0.024*\"particular\" + 0.024*\"depend\" + 0.024*\"com\" + '\n",
      "  '0.024*\"slank\" + 0.024*\"quotation\"'),\n",
      " (19,\n",
      "  '0.095*\"interior\" + 0.060*\"raising_hand\" + 0.026*\"sallytumultuous\" + '\n",
      "  '0.026*\"great\" + 0.026*\"pleasure\" + 0.026*\"andy\" + 0.026*\"compliment\" + '\n",
      "  '0.026*\"definitely\" + 0.026*\"hugging_face\" + 0.026*\"happy\"')]\n"
     ]
    },
    {
     "data": {
      "text/plain": [
       "'\\nThe output will look like this...\\n\\n\\n[(0,\\n  \\'0.016*\"car\" + 0.014*\"power\" + 0.010*\"light\" + 0.009*\"drive\" + 0.007*\"mount\" \\'\\n  \\'+ 0.007*\"controller\" + 0.007*\"cool\" + 0.007*\"engine\" + 0.007*\"back\" + \\'\\n  \\'0.006*\"turn\"\\'),\\n (1,\\n  \\'0.072*\"line\" + 0.066*\"organization\" + 0.037*\"write\" + 0.032*\"article\" + \\'\\n  \\'0.028*\"university\" + 0.027*\"nntp_post\" + 0.026*\"host\" + 0.016*\"reply\" + \\'\\n  \\'0.014*\"get\" + 0.013*\"thank\"\\'),\\n (2,\\n  \\'0.017*\"patient\" + 0.011*\"study\" + 0.010*\"slave\" + 0.009*\"wing\" + \\'\\n  \\'0.009*\"disease\" + 0.008*\"food\" + 0.008*\"eat\" + 0.008*\"pain\" + \\'\\n  \\'0.007*\"treatment\" + 0.007*\"syndrome\"\\'),\\n (3,\\n  \\'0.013*\"key\" + 0.009*\"use\" + 0.009*\"may\" + 0.007*\"public\" + 0.007*\"system\" + \\'\\n  \\'0.007*\"order\" + 0.007*\"government\" + 0.006*\"state\" + 0.006*\"provide\" + \\'\\n  \\'0.006*\"law\"\\'),\\n  \\n  so on...\\n\\n\\n\\nHow to interpret this?\\n\\nTopic 0 is a represented as _\\n\\n0.016“car” + 0.014“power” + 0.010“light” + 0.009“drive” \\n+ 0.007“mount” + 0.007“controller” + 0.007“cool” + 0.007“engine” \\n+ 0.007“back” + ‘0.006“turn”.\\n\\nIt means the top 10 keywords that contribute to this topic are:\\n‘car’, ‘power’, ‘light’.. and so on\\nand the weight of ‘car’ on topic 0 is 0.016.\\n\\n--> The weights reflect how important a keyword is to that topic.\\n\\nLooking at these keywords, can you guess what this topic could be?\\nYou may summarise it either are ‘cars’ or ‘automobiles’.\\n\\nLikewise, can you go through the remaining topic keywords and judge what the topic is?\\nhttps://www.machinelearningplus.com/wp-content/uploads/2018/03/Inferring-Topic-from-Keywords.png\\n'"
      ]
     },
     "execution_count": 126,
     "metadata": {},
     "output_type": "execute_result"
    }
   ],
   "source": [
    "'''\n",
    "The above LDA model is built with 20 different topics where each topic is a \n",
    "combination of keywords and each keyword contributes a certain weightage to the topic.\n",
    "\n",
    "You can see the keywords for each topic and the weightage(importance) of \n",
    "each keyword using lda_model.print_topics() as shown next.\n",
    "'''\n",
    "# Print the Keyword in the 10 topics\n",
    "pprint(lda_model.print_topics())\n",
    "doc_lda = lda_model[corpus]\n",
    "\n",
    "'''\n",
    "The output will look like this...\n",
    "\n",
    "\n",
    "[(0,\n",
    "  '0.016*\"car\" + 0.014*\"power\" + 0.010*\"light\" + 0.009*\"drive\" + 0.007*\"mount\" '\n",
    "  '+ 0.007*\"controller\" + 0.007*\"cool\" + 0.007*\"engine\" + 0.007*\"back\" + '\n",
    "  '0.006*\"turn\"'),\n",
    " (1,\n",
    "  '0.072*\"line\" + 0.066*\"organization\" + 0.037*\"write\" + 0.032*\"article\" + '\n",
    "  '0.028*\"university\" + 0.027*\"nntp_post\" + 0.026*\"host\" + 0.016*\"reply\" + '\n",
    "  '0.014*\"get\" + 0.013*\"thank\"'),\n",
    " (2,\n",
    "  '0.017*\"patient\" + 0.011*\"study\" + 0.010*\"slave\" + 0.009*\"wing\" + '\n",
    "  '0.009*\"disease\" + 0.008*\"food\" + 0.008*\"eat\" + 0.008*\"pain\" + '\n",
    "  '0.007*\"treatment\" + 0.007*\"syndrome\"'),\n",
    " (3,\n",
    "  '0.013*\"key\" + 0.009*\"use\" + 0.009*\"may\" + 0.007*\"public\" + 0.007*\"system\" + '\n",
    "  '0.007*\"order\" + 0.007*\"government\" + 0.006*\"state\" + 0.006*\"provide\" + '\n",
    "  '0.006*\"law\"'),\n",
    "  \n",
    "  so on...\n",
    "\n",
    "\n",
    "\n",
    "How to interpret this?\n",
    "\n",
    "Topic 0 is a represented as _\n",
    "\n",
    "0.016“car” + 0.014“power” + 0.010“light” + 0.009“drive” \n",
    "+ 0.007“mount” + 0.007“controller” + 0.007“cool” + 0.007“engine” \n",
    "+ 0.007“back” + ‘0.006“turn”.\n",
    "\n",
    "It means the top 10 keywords that contribute to this topic are:\n",
    "‘car’, ‘power’, ‘light’.. and so on\n",
    "and the weight of ‘car’ on topic 0 is 0.016.\n",
    "\n",
    "--> The weights reflect how important a keyword is to that topic.\n",
    "\n",
    "Looking at these keywords, can you guess what this topic could be?\n",
    "You may summarise it either are ‘cars’ or ‘automobiles’.\n",
    "\n",
    "Likewise, can you go through the remaining topic keywords and judge what the topic is?\n",
    "https://www.machinelearningplus.com/wp-content/uploads/2018/03/Inferring-Topic-from-Keywords.png\n",
    "'''"
   ]
  },
  {
   "cell_type": "code",
   "execution_count": 127,
   "metadata": {},
   "outputs": [
    {
     "name": "stdout",
     "output_type": "stream",
     "text": [
      "\n",
      "Perplexity:  -17.402312211042073\n",
      "\n",
      "Coherence Score:  0.5271841377996267\n"
     ]
    },
    {
     "data": {
      "text/plain": [
       "'\\nPerplexity:  -8.86067503009\\n\\nCoherence Score:  0.532947587081\\n\\n\\nThere you have a coherence score of 0.53.\\n'"
      ]
     },
     "execution_count": 127,
     "metadata": {},
     "output_type": "execute_result"
    }
   ],
   "source": [
    "'''\n",
    "Model perplexity and topic coherence provide a convenient measure to judge \n",
    "how good a given topic model is. In my experience, topic coherence score, \n",
    "in particular, has been more helpful.\n",
    "'''\n",
    "# Compute Perplexity\n",
    "print('\\nPerplexity: ', lda_model.log_perplexity(corpus))  # a measure of how good the model is. lower the better.\n",
    "\n",
    "# Compute Coherence Score\n",
    "coherence_model_lda = CoherenceModel(model=lda_model, texts=data_lemmatized, dictionary=id2word, coherence='c_v')\n",
    "coherence_lda = coherence_model_lda.get_coherence()\n",
    "print('\\nCoherence Score: ', coherence_lda)\n",
    "\n",
    "'''\n",
    "Perplexity:  -8.86067503009\n",
    "\n",
    "Coherence Score:  0.532947587081\n",
    "\n",
    "\n",
    "There you have a coherence score of 0.53.\n",
    "'''"
   ]
  },
  {
   "cell_type": "code",
   "execution_count": 128,
   "metadata": {},
   "outputs": [
    {
     "data": {
      "text/html": [
       "\n",
       "<link rel=\"stylesheet\" type=\"text/css\" href=\"https://cdn.jsdelivr.net/gh/bmabey/pyLDAvis@3.3.1/pyLDAvis/js/ldavis.v1.0.0.css\">\n",
       "\n",
       "\n",
       "<div id=\"ldavis_el1782813583189092486482288145\"></div>\n",
       "<script type=\"text/javascript\">\n",
       "\n",
       "var ldavis_el1782813583189092486482288145_data = {\"mdsDat\": {\"x\": [-0.19468075219211628, -0.27660695922110984, 0.03804300084196872, -0.021367186666012977, 0.036698228682915925, 0.04845155685833844, 0.030944586587510692, 0.04037256166609457, 0.03804849677383775, 0.0002756050738668759, 0.024423049795883913, 0.031688449198035686, 0.031068210188807944, 0.026228856465203867, 0.030105879260694423, 0.022755829295350277, 0.02782414745687345, 0.021564822585124307, 0.025650029990216216, 0.018511587358515123], \"y\": [-0.253541614034396, 0.19617132638633283, 0.0059520182418250035, -0.021137173167671244, 0.0004772845891243834, 0.02083527656391373, -0.006359425865578507, 0.004629555142923993, 0.031978220098390464, -0.048621612122393916, -0.01769551767592475, 0.010253346874489174, 0.02159872711201156, 0.01850452084968019, 0.00884428514857452, 0.013033308687961568, 0.008110902445994144, -0.002787869653981563, 0.0064512615711085144, 0.0033031788076164645], \"topics\": [1, 2, 3, 4, 5, 6, 7, 8, 9, 10, 11, 12, 13, 14, 15, 16, 17, 18, 19, 20], \"cluster\": [1, 1, 1, 1, 1, 1, 1, 1, 1, 1, 1, 1, 1, 1, 1, 1, 1, 1, 1, 1], \"Freq\": [30.21113570287585, 9.09177012138112, 5.37315805538458, 4.971831593301435, 4.364509363306465, 4.245199083435798, 4.171414741178097, 4.15596926262548, 4.02668835639066, 3.9247884319711277, 3.7850323471483946, 2.886363573583328, 2.8747575978244546, 2.5904800627912334, 2.4341063347651475, 2.4290327087865498, 2.322613655437309, 2.1944869618529492, 2.1445657392263726, 1.8020963067336484]}, \"tinfo\": {\"Term\": [\"eye\", \"feelathome\", \"look\", \"cantik\", \"sparkle\", \"product\", \"think\", \"chair\", \"table\", \"love\", \"heart_suit\", \"much\", \"red_heart\", \"cover\", \"interior\", \"sofa\", \"hugging_face\", \"furniture\", \"website\", \"koniska\", \"great\", \"raising_hand\", \"detail\", \"feel\", \"www\", \"year\", \"want\", \"coffee\", \"post\", \"name\", \"feelathome\", \"year\", \"hope\", \"family\", \"serve\", \"purchase\", \"guy\", \"come\", \"hari\", \"whole\", \"let\", \"nadon\", \"cherrychoo\", \"help\", \"pink\", \"catsofinstagram\", \"felixthegangsta\", \"outofstock\", \"prologue\", \"share\", \"aifeiherme\", \"hermeswechat\", \"cat\", \"loaf\", \"think\", \"love\", \"felix\", \"dot\", \"happy\", \"look\", \"product\", \"hugging_face\", \"table\", \"eye\", \"set\", \"kind\", \"really\", \"word\", \"ble\", \"blingtastc\", \"still\", \"polka\", \"available\", \"thank\", \"love\", \"dot\", \"dress\", \"leave\", \"simple\", \"monkey\", \"blossom\", \"sale\", \"blue_heart\", \"feed\", \"nice\", \"comfy\", \"meow\", \"dig\", \"hand\", \"heart\", \"perfect\", \"cersei\", \"jamie\", \"post\", \"sghome\", \"furniturestyle\", \"homefurniture\", \"homeinspiration\", \"homeinspo\", \"homestyle\", \"homestyling\", \"instahome\", \"interiorsg\", \"sghomedecor\", \"cover\", \"detail\", \"feel\", \"www\", \"website\", \"depend\", \"particular\", \"quotation\", \"slank\", \"villa\", \"com\", \"table\", \"promotion\", \"kriti\", \"mono\", \"side\", \"writing\", \"zata\", \"bio\", \"cira\", \"dm\", \"macrydog\", \"main\", \"overload\", \"part\", \"refer\", \"representitive\", \"machine\", \"cashconverter\", \"charm\", \"sale\", \"koniska\", \"https\", \"cushion\", \"lianaalin\", \"fire\", \"give\", \"gorgeousss\", \"insta\", \"mind\", \"repost\", \"cuuute\", \"cantiknyaa\", \"com\", \"table\", \"sofa\", \"love\", \"product\", \"cashconverter\", \"charm\", \"converter\", \"eclectic\", \"html\", \"like\", \"newsletter\", \"sign\", \"singapore\", \"subscribe\", \"thumbs_up\", \"decor\", \"sale\", \"eye\", \"cantik\", \"promotion\", \"interior\", \"raising_hand\", \"compliment\", \"definitely\", \"sallytumultuous\", \"floor\", \"wall\", \"two_heart\", \"andy\", \"need\", \"pleasure\", \"great\", \"happy\", \"hugging_face\", \"designer\", \"furnituredesign\", \"homedecor\", \"homedesign\", \"interiordecor\", \"interiordesign\", \"livingroom\", \"luxuryfurniture\", \"modern\", \"naiise\", \"workfromhome\", \"decor\", \"use\", \"blue_heart\", \"feed\", \"nice\", \"heart_suit\", \"bz\", \"go\", \"want\", \"coffee\", \"craft\", \"handmadecard\", \"papercraft\", \"uniquegrab\", \"bz\", \"go\", \"hellonoraa\", \"though\", \"hpu\", \"theminiloft\", \"keren\", \"mantolnya\", \"scanteaksmile\", \"content\", \"pleasure\", \"christma\", \"bring\", \"customer\", \"follower\", \"huat\", \"keen\", \"meetup\", \"pm\", \"also\", \"know\", \"blue_heart\", \"feed\", \"nice\", \"heart_suit\", \"chan\", \"giftsnsuchsg\", \"cantik\", \"rumah\", \"cute\", \"awww\", \"aunty\", \"folded_hand\", \"queen\", \"nadeeaannaa\", \"hugging_face\", \"felix\", \"fern\", \"keep\", \"struggle\", \"langsirnya\", \"rumahnya\", \"yet\", \"langsir\", \"re\", \"blue_heart\", \"feed\", \"nice\", \"comfy\", \"meow\", \"dig\", \"hand\", \"heart\", \"perfect\", \"cersei\", \"jamie\", \"grimacing_face\", \"heart_suit\", \"bz\", \"go\", \"pleasure\", \"want\", \"chan\", \"giftsnsuchsg\", \"mr\", \"much\", \"wish\", \"christma\", \"craft\", \"christma\", \"canvasbag\", \"giftideas\", \"greetingcard\", \"ngeeanncity\", \"orchardroad\", \"popup\", \"popupshop\", \"sgchristma\", \"sgdesign\", \"totebag\", \"xmas\", \"clear\", \"disciplinary\", \"partial\", \"policy\", \"refund\", \"dream\", \"make\", \"favourite\", \"oooh\", \"staff\", \"come\", \"blue_heart\", \"feed\", \"nice\", \"comfy\", \"meow\", \"dig\", \"hand\", \"heart_suit\", \"bz\", \"go\", \"pleasure\", \"want\", \"chan\", \"giftsnsuchsg\", \"idea\", \"watch\", \"sofa\", \"audemarspiguet\", \"chinesemagazine\", \"maxmara\", \"pinprestige\", \"redefiningluxe\", \"daybe\", \"westgate\", \"size\", \"version\", \"fabric\", \"remove\", \"washing\", \"cup\", \"jarrodstone\", \"thank\", \"use\", \"blue_heart\", \"feed\", \"nice\", \"comfy\", \"meow\", \"dig\", \"hand\", \"heart\", \"perfect\", \"cersei\", \"jamie\", \"great\", \"eye\", \"cat\", \"heart_suit\", \"bz\", \"go\", \"pleasure\", \"want\", \"chan\", \"giftsnsuchsg\", \"mr\", \"chair\", \"feature\", \"loveeee\", \"stephlimmss\", \"product\", \"think\", \"table\", \"almost\", \"branch\", \"call\", \"include\", \"later\", \"other\", \"tv\", \"write\", \"response\", \"jackson\", \"teak\", \"bench\", \"s\", \"sale\", \"item\", \"kriti\", \"mono\", \"side\", \"writing\", \"zata\", \"promotion\", \"blue_heart\", \"feed\", \"eye\", \"heart_suit\", \"furniture\", \"zhong\", \"business\", \"future\", \"diy\", \"home\", \"chistma\", \"snowglobe\", \"trickeye\", \"yong\", \"eternalgluck\", \"look\", \"haha\", \"need\", \"interesting\", \"blue_heart\", \"feed\", \"nice\", \"comfy\", \"meow\", \"dig\", \"hand\", \"heart\", \"perfect\", \"cersei\", \"jamie\", \"grimacing_face\", \"playmobilxxl\", \"gusta\", \"house\", \"heart_suit\", \"bz\", \"go\", \"pleasure\", \"want\", \"chan\", \"giftsnsuchsg\", \"mr\", \"much\", \"wish\", \"christma\", \"craft\", \"handmadecard\", \"papercraft\", \"uniquegrab\", \"heart_suit\", \"red_heart\", \"bro\", \"uniquely\", \"colour\", \"join\", \"omg\", \"planter\", \"start\", \"nest\", \"blue_heart\", \"feed\", \"nice\", \"comfy\", \"meow\", \"dig\", \"hand\", \"heart\", \"perfect\", \"cersei\", \"jamie\", \"grimacing_face\", \"playmobilxxl\", \"gusta\", \"house\", \"indah\", \"mantap\", \"masyaallah\", \"tulip\", \"cantikk\", \"bz\", \"go\", \"pleasure\", \"want\", \"chan\", \"giftsnsuchsg\", \"mr\", \"much\", \"wish\", \"christma\", \"craft\", \"handmadecard\", \"papercraft\", \"uniquegrab\", \"aifeiherme\", \"hermeswechat\", \"chistma\", \"snowglobe\", \"trickeye\", \"scanteaksmile\", \"great\", \"east\", \"suntec\", \"tomorrow\", \"see\", \"wait\", \"window\", \"find\", \"visualtroop\", \"jarrodstone\", \"available\", \"website\", \"blue_heart\", \"feed\", \"nice\", \"comfy\", \"meow\", \"dig\", \"hand\", \"heart\", \"perfect\", \"cersei\", \"jamie\", \"grimacing_face\", \"playmobilxxl\", \"gusta\", \"house\", \"indah\", \"mantap\", \"masyaallah\", \"zhong\", \"eternalgluck\", \"yong\", \"heart_suit\", \"bz\", \"go\", \"pleasure\", \"want\", \"chan\", \"giftsnsuchsg\", \"mr\", \"much\", \"wish\", \"christma\", \"craft\", \"handmadecard\", \"papercraft\", \"uniquegrab\", \"name\", \"believe\", \"forgive\", \"park\", \"say\", \"get\", \"staff\", \"andy\", \"thank\", \"blue_heart\", \"feed\", \"nice\", \"comfy\", \"meow\", \"dig\", \"hand\", \"heart\", \"perfect\", \"cersei\", \"jamie\", \"grimacing_face\", \"playmobilxxl\", \"gusta\", \"house\", \"indah\", \"mantap\", \"masyaallah\", \"tulip\", \"cantikk\", \"alook\", \"eye\", \"heart_suit\", \"bz\", \"go\", \"pleasure\", \"want\", \"chan\", \"giftsnsuchsg\", \"mr\", \"much\", \"wish\", \"christma\", \"craft\", \"handmadecard\", \"papercraft\", \"uniquegrab\", \"aifeiherme\", \"hermeswechat\", \"chistma\", \"snowglobe\", \"trickeye\", \"post\", \"chan\", \"giftsnsuchsg\", \"mr\", \"wish\", \"curlass\", \"lah\", \"much\", \"blue_heart\", \"feed\", \"nice\", \"comfy\", \"meow\", \"dig\", \"hand\", \"heart\", \"perfect\", \"cersei\", \"jamie\", \"grimacing_face\", \"playmobilxxl\", \"gusta\", \"house\", \"indah\", \"mantap\", \"masyaallah\", \"tulip\", \"cantikk\", \"alook\", \"event\", \"heart_suit\", \"bz\", \"go\", \"pleasure\", \"want\", \"christma\", \"craft\", \"handmadecard\", \"papercraft\", \"uniquegrab\", \"aifeiherme\", \"hermeswechat\", \"chistma\", \"snowglobe\", \"trickeye\", \"scanteaksmile\", \"business\", \"future\", \"haha\", \"look\", \"chair\", \"ideal\", \"ideal\", \"thought\", \"page\", \"shot\", \"watchmerchant\", \"get\", \"haha\", \"polka\", \"chair\", \"blue_heart\", \"feed\", \"nice\", \"comfy\", \"meow\", \"dig\", \"hand\", \"heart\", \"perfect\", \"cersei\", \"jamie\", \"grimacing_face\", \"playmobilxxl\", \"gusta\", \"house\", \"indah\", \"mantap\", \"masyaallah\", \"tulip\", \"cantikk\", \"alook\", \"heart_suit\", \"bz\", \"go\", \"pleasure\", \"want\", \"chan\", \"giftsnsuchsg\", \"mr\", \"much\", \"wish\", \"christma\", \"craft\", \"handmadecard\", \"papercraft\", \"uniquegrab\", \"aifeiherme\", \"hermeswechat\", \"chistma\", \"snowglobe\", \"trickeye\", \"scanteaksmile\", \"gumkid\", \"homesweethome\", \"kiddymouthwash\", \"kiddytoothpaste\", \"scanteakstool\", \"sunstargum\", \"nakspud\", \"piece\", \"blue_heart\", \"feed\", \"nice\", \"comfy\", \"meow\", \"dig\", \"hand\", \"heart\", \"perfect\", \"cersei\", \"jamie\", \"grimacing_face\", \"playmobilxxl\", \"gusta\", \"house\", \"indah\", \"mantap\", \"masyaallah\", \"tulip\", \"cantikk\", \"alook\", \"event\", \"heart_suit\", \"bz\", \"go\", \"pleasure\", \"want\", \"chan\", \"giftsnsuchsg\", \"mr\", \"much\", \"wish\", \"christma\", \"craft\", \"handmadecard\", \"papercraft\", \"uniquegrab\", \"aifeiherme\", \"hermeswechat\", \"chistma\", \"snowglobe\", \"trickeye\", \"scanteaksmile\", \"business\", \"much\", \"rozie\", \"dq\", \"table\", \"re\", \"blue_heart\", \"feed\", \"nice\", \"comfy\", \"meow\", \"dig\", \"hand\", \"heart\", \"perfect\", \"cersei\", \"jamie\", \"grimacing_face\", \"playmobilxxl\", \"gusta\", \"house\", \"indah\", \"mantap\", \"masyaallah\", \"tulip\", \"cantikk\", \"alook\", \"event\", \"take\", \"toh\", \"weekend\", \"heart_suit\", \"bz\", \"go\", \"pleasure\", \"want\", \"chan\", \"giftsnsuchsg\", \"mr\", \"wish\", \"christma\", \"craft\", \"handmadecard\", \"papercraft\", \"uniquegrab\", \"aifeiherme\", \"hermeswechat\", \"chistma\", \"snowglobe\", \"trickeye\", \"scanteaksmile\", \"business\", \"future\", \"haha\", \"look\", \"chair\", \"sparkle\", \"blue_heart\", \"feed\", \"nice\", \"comfy\", \"meow\", \"dig\", \"hand\", \"heart\", \"perfect\", \"cersei\", \"jamie\", \"grimacing_face\", \"playmobilxxl\", \"gusta\", \"house\", \"indah\", \"mantap\", \"masyaallah\", \"tulip\", \"cantikk\", \"alook\", \"event\", \"take\", \"toh\", \"weekend\", \"wood\", \"clapping_hand\", \"activity\", \"holiday\", \"heart_suit\", \"bz\", \"go\", \"pleasure\", \"want\", \"chan\", \"giftsnsuchsg\", \"mr\", \"much\", \"wish\", \"christma\", \"craft\", \"handmadecard\", \"papercraft\", \"uniquegrab\", \"aifeiherme\", \"hermeswechat\", \"chistma\", \"snowglobe\", \"trickeye\", \"scanteaksmile\", \"business\", \"future\", \"haha\", \"look\", \"chair\", \"ideal\", \"polka\", \"thought\", \"stuff\", \"lemon\", \"yuniqueee\", \"blue_heart\", \"feed\", \"nice\", \"comfy\", \"meow\", \"dig\", \"hand\", \"heart\", \"perfect\", \"cersei\", \"jamie\", \"grimacing_face\", \"playmobilxxl\", \"gusta\", \"house\", \"indah\", \"mantap\", \"masyaallah\", \"tulip\", \"cantikk\", \"alook\", \"event\", \"take\", \"toh\", \"weekend\", \"wood\", \"clapping_hand\", \"table\", \"koniska\", \"heart_suit\", \"bz\", \"go\", \"pleasure\", \"want\", \"chan\", \"giftsnsuchsg\", \"mr\", \"much\", \"wish\", \"christma\", \"craft\", \"handmadecard\", \"papercraft\", \"uniquegrab\", \"aifeiherme\", \"hermeswechat\", \"chistma\", \"snowglobe\", \"trickeye\", \"scanteaksmile\", \"business\", \"future\", \"haha\", \"look\"], \"Freq\": [45.0, 80.0, 10.0, 7.0, 5.0, 11.0, 8.0, 5.0, 8.0, 16.0, 3.0, 3.0, 3.0, 5.0, 4.0, 4.0, 6.0, 3.0, 4.0, 3.0, 3.0, 3.0, 3.0, 3.0, 3.0, 15.0, 3.0, 3.0, 2.0, 2.0, 79.13473534760874, 14.788280027391208, 5.798089307186002, 5.798087855352235, 5.798087855352235, 5.798066077845728, 5.798064626011961, 8.121340318315722, 2.464581704970314, 2.464581704970314, 2.464580737081136, 2.464580737081136, 2.4645778334136015, 2.4645778334136015, 2.4645778334136015, 2.464574445801478, 2.464574445801478, 2.464574445801478, 2.464573961856889, 2.464573961856889, 2.4645579916854508, 2.4645579916854508, 2.464521211896683, 2.4644229711451064, 5.798092210853536, 10.590131373321563, 2.4645812210257247, 2.464591383862095, 2.464584124693259, 5.798128022753126, 5.798141573201619, 2.464610741645657, 2.464598885003225, 44.19157823310376, 2.130948184640759, 0.9058045447509758, 0.9058045447509758, 0.9058045447509758, 0.9058012678784192, 0.9058012678784192, 0.9057842281411247, 0.9058014863365896, 0.9058017047947601, 0.9058048360285365, 3.7851574341448173, 0.9057964617986695, 0.0520844192463711, 0.0520844192463711, 0.0520844192463711, 0.0520844192463711, 0.05204716302588684, 0.05204716302588684, 0.05197491708843667, 0.05197491708843667, 0.05197491708843667, 0.05197491708843667, 0.05197491708843667, 0.05197491708843667, 0.05197491708843667, 0.05197491708843667, 0.05197491708843667, 0.05197491708843667, 0.05197491708843667, 0.0521100061595842, 0.05197492619086044, 0.05197492619086044, 0.05197492619086044, 0.05197492619086044, 0.05197492619086044, 0.05197492619086044, 0.05197492619086044, 0.05197492619086044, 0.05197492619086044, 0.05197492619086044, 4.15771633986083, 2.6399545301824983, 2.6399531530422053, 2.639946095198204, 2.6399545301824983, 1.1221752480367007, 1.1221752480367007, 1.1221752480367007, 1.1221752480367007, 1.1221613044912346, 1.1221752480367007, 1.1221743873240175, 0.06471093475533289, 0.06459290414921019, 0.06459290414921019, 0.06459290414921019, 0.06459290414921019, 0.06459290414921019, 0.0645735219754779, 0.0645735219754779, 0.0645735219754779, 0.0645735219754779, 0.0645735219754779, 0.0645735219754779, 0.0645735219754779, 0.0645735219754779, 0.0645735219754779, 0.06457694330839317, 0.06449700461795138, 0.06449700461795138, 0.06449700461795138, 2.729785621593349, 2.225866846057266, 2.2258295733576303, 0.9461607902777337, 0.9461606309926925, 0.9461606309926925, 0.9461606309926925, 0.9461606309926925, 0.9461606309926925, 0.9461606309926925, 0.9461482864020012, 0.9461324375404041, 0.9461607902777337, 2.729784028742937, 0.9461585602871572, 1.8380311856905298, 0.9461570470792661, 0.054364104017742484, 0.054364104017742484, 0.054364104017742484, 0.054364104017742484, 0.054364104017742484, 0.054364104017742484, 0.054364104017742484, 0.054364104017742484, 0.054364104017742484, 0.054364104017742484, 0.054364104017742484, 0.054364104017742484, 0.054364104017742484, 0.05443800232153388, 0.05443104355629743, 0.054364104017742484, 3.56549180949147, 2.263886773152398, 0.9623285791788815, 0.9623285791788815, 0.9623285791788815, 0.9623274605552264, 0.9623274605552264, 0.9623174628563094, 0.9623285791788815, 0.9623274605552264, 0.9623285791788815, 0.9623285791788815, 0.9623276003831833, 0.9623276003831833, 0.05546926546703712, 0.05546926546703712, 0.05546926546703712, 0.05546926546703712, 0.05546926546703712, 0.05546926546703712, 0.05546926546703712, 0.05546926546703712, 0.05546926546703712, 0.05546926546703712, 0.05546926546703712, 0.05546926546703712, 0.055267908839502757, 0.05521754892690682, 0.05521754892690682, 0.05521754892690682, 0.05521754892690682, 0.05521754892690682, 0.05521754892690682, 2.073573863390461, 2.0735737273849066, 0.8814217349826602, 0.8814217349826602, 0.8814217349826602, 0.8814217349826602, 0.8814212589632208, 0.8814212589632208, 0.8814205109326732, 0.8814205109326732, 0.8814186748576925, 0.8814186748576925, 0.8814186748576925, 0.8814186748576925, 0.8814118065772097, 0.8814118065772097, 0.8814212589632208, 0.8814217349826602, 0.05070728225418389, 0.05070728225418389, 0.05070728225418389, 0.05070728225418389, 0.05070728225418389, 0.05070728225418389, 0.05070728225418389, 0.050707214251406826, 0.050707214251406826, 0.050575259112700444, 0.050575259112700444, 0.050575259112700444, 0.050575259112700444, 0.050575259112700444, 0.050575259112700444, 6.143187677995277, 1.9655673405256298, 1.9655646676918608, 1.9655593220243228, 0.8355081240404975, 0.8354996377932808, 0.8354995709724367, 0.8354995709724367, 1.9655534417900309, 0.8355055848484169, 0.048078073518410876, 0.048078073518410876, 0.048078073518410876, 0.04807806098950258, 0.04807806098950258, 0.04807804428429153, 0.04807804428429153, 0.04802102939895654, 0.047940865267400344, 0.047940865267400344, 0.047940865267400344, 0.047940865267400344, 0.047940865267400344, 0.047940865267400344, 0.047940865267400344, 0.047940865267400344, 0.047940865267400344, 0.047940865267400344, 0.047940865267400344, 0.047940865267400344, 0.047940865267400344, 0.047940865267400344, 0.047940865267400344, 0.047940865267400344, 0.047940865267400344, 0.047940865267400344, 0.047940865267400344, 0.047940865267400344, 0.047940865267400344, 0.047940865267400344, 0.047940865267400344, 0.047940865267400344, 1.5648648555815314, 0.8055374013606674, 0.8055374013606674, 0.8055374013606674, 0.8055374013606674, 0.8055374013606674, 0.8055374013606674, 0.8055374013606674, 0.8055374013606674, 0.8055374013606674, 0.8055374013606674, 0.8055374013606674, 0.8055368687732516, 0.8055368687732516, 0.8055368687732516, 0.8055368687732516, 0.8055368687732516, 0.8055334069550483, 0.8055334069550483, 0.8055264833186416, 0.8055264833186416, 0.8055368687732516, 0.8055314763256657, 0.04622105241959253, 0.04622105241959253, 0.04622105241959253, 0.04622105241959253, 0.04622105241959253, 0.04622105241959253, 0.04622105241959253, 0.04622105241959253, 0.04622105241959253, 0.04622105241959253, 0.04622105241959253, 0.04622105241959253, 0.04622105241959253, 0.04622105241959253, 1.8812520440485887, 1.5534856424890375, 2.6348634916628786, 0.7996795263036568, 0.7996795263036568, 0.7996795263036568, 0.7996795263036568, 0.7996795263036568, 0.799678042745958, 0.799678042745958, 0.7996779782434493, 0.7996779782434493, 0.7996779782434493, 0.7996779782434493, 0.7996779782434493, 0.7996764301832419, 0.7996764301832419, 0.7996775912283974, 0.04592108956638514, 0.04588495606732352, 0.04588495606732352, 0.04588495606732352, 0.04588495606732352, 0.04588495606732352, 0.04588495606732352, 0.04588495606732352, 0.04588495606732352, 0.04588495606732352, 0.04588495606732352, 0.04588495606732352, 0.04600421717440148, 0.04600421314299469, 0.04588496009873031, 0.04588495606732352, 0.04588495606732352, 0.04588495606732352, 0.04588495606732352, 0.04588495606732352, 0.04588495606732352, 0.04588495606732352, 0.04588495606732352, 3.5617366175801988, 0.9613159032697001, 0.9613159032697001, 0.9613148344763108, 3.561727061309895, 2.26151425221687, 0.9613145829955134, 0.055353057181904565, 0.055353057181904565, 0.055353057181904565, 0.055353057181904565, 0.055353057181904565, 0.055353057181904565, 0.055353057181904565, 0.055353057181904565, 0.055353057181904565, 0.05535282534804439, 0.05535282534804439, 0.055352801771719626, 0.055352797842332165, 0.055353057181904565, 0.055353057181904565, 0.05523875915945163, 0.05523875915945163, 0.05523875915945163, 0.05523875915945163, 0.05523875915945163, 0.05523875915945163, 0.05515952699069678, 0.05515952699069678, 0.05537541146716772, 0.05515952699069678, 2.539312908838278, 1.4970085043639547, 0.7706534175262151, 0.7706534175262151, 0.7706534175262151, 0.7706534175262151, 0.7706526899484337, 0.7706526899484337, 0.7706526899484337, 0.7706077620204386, 0.7705967270907556, 3.8976416927236235, 0.7706534175262151, 0.7706534175262151, 0.04433666873229529, 0.04421949460429762, 0.04421949460429762, 0.04421949460429762, 0.04421949460429762, 0.04421949460429762, 0.04421949460429762, 0.04421949460429762, 0.04421949460429762, 0.04421949460429762, 0.04421949460429762, 0.04421949460429762, 0.04421949460429762, 0.04421949460429762, 0.04421949460429762, 0.04421949460429762, 0.04421949460429762, 0.04421949460429762, 0.04421949460429762, 0.04421949460429762, 0.04421949460429762, 0.04421949460429762, 0.04421949460429762, 0.04421949460429762, 0.04421949460429762, 0.04421949460429762, 0.04421949460429762, 0.04421949460429762, 0.04421949460429762, 0.04421949460429762, 0.04421949460429762, 2.96991186534077, 2.8746149847046625, 0.7758608644875563, 0.7758608644875563, 0.7758547613444561, 0.04468194866335347, 0.04468194866335347, 0.04468194866335347, 0.04468194866335347, 0.04468187641970881, 0.04451819254914604, 0.04451819254914604, 0.04451819254914604, 0.04451819254914604, 0.04451819254914604, 0.04451819254914604, 0.04451819254914604, 0.04451819254914604, 0.04451819254914604, 0.04451819254914604, 0.04451819254914604, 0.04451819254914604, 0.04451819254914604, 0.04451819254914604, 0.04451819254914604, 0.04451819254914604, 0.04451819254914604, 0.04451819254914604, 0.04451819254914604, 0.04451819254914604, 0.04451819254914604, 0.04451819254914604, 0.04451819254914604, 0.04451819254914604, 0.04451819254914604, 0.04451819254914604, 0.04451819254914604, 0.04451819254914604, 0.04451819254914604, 0.04451819254914604, 0.04451819254914604, 0.04451819254914604, 0.04451819254914604, 0.04451819254914604, 0.04451819254914604, 0.04451819254914604, 0.04451819254914604, 0.04451819254914604, 0.04451819254914604, 0.04451819254914604, 1.412428326689575, 0.7271264441908218, 0.7271264441908218, 0.7271264441908218, 0.7271259376406087, 0.7271259376406087, 0.7271259376406087, 0.7271259376406087, 0.7271246482400664, 0.7271264441908218, 0.7271256613404925, 0.7271259376406087, 0.041721850001991495, 0.041721850001991495, 0.041721850001991495, 0.041721850001991495, 0.041721850001991495, 0.041721850001991495, 0.041721850001991495, 0.041721850001991495, 0.041721850001991495, 0.041721850001991495, 0.041721850001991495, 0.041721850001991495, 0.041721850001991495, 0.041721850001991495, 0.041721850001991495, 0.041721850001991495, 0.041721850001991495, 0.041721850001991495, 0.041807350497329344, 0.0417753342213628, 0.04176497296700469, 0.041721850001991495, 0.041721850001991495, 0.041721850001991495, 0.041721850001991495, 0.041721850001991495, 0.041721850001991495, 0.041721850001991495, 0.041721850001991495, 0.041721850001991495, 0.041721850001991495, 0.041721850001991495, 0.041721850001991495, 0.041721850001991495, 0.041721850001991495, 0.041721850001991495, 1.3882824056912049, 0.7146404328395498, 0.7146404328395498, 0.7146404328395498, 0.7146404328395498, 0.7146404328395498, 0.7146404328395498, 0.7146404328395498, 0.7146402668545538, 0.04100533799116503, 0.04100533799116503, 0.04100533799116503, 0.04100533799116503, 0.04100533799116503, 0.04100533799116503, 0.04100533799116503, 0.04100533799116503, 0.04100533799116503, 0.04100533799116503, 0.04100533799116503, 0.04100533799116503, 0.04100533799116503, 0.04100533799116503, 0.04100533799116503, 0.04100533799116503, 0.04100533799116503, 0.04100533799116503, 0.04100533799116503, 0.04100533799116503, 0.04100533799116503, 0.04175143536098828, 0.04100533799116503, 0.04100533799116503, 0.04100533799116503, 0.04100533799116503, 0.04100533799116503, 0.04100533799116503, 0.04100533799116503, 0.04100533799116503, 0.04100533799116503, 0.04100533799116503, 0.04100533799116503, 0.04100533799116503, 0.04100533799116503, 0.04100533799116503, 0.04100533799116503, 0.04100533799116503, 0.04100533799116503, 0.04100533799116503, 0.04100533799116503, 0.04100533799116503, 1.3450993000031926, 0.6924663472380083, 0.6924663472380083, 0.6924663472380083, 0.6924663472380083, 0.6924646316191562, 0.6924646316191562, 0.6924663472380083, 0.03973302833301893, 0.03973302833301893, 0.03973302833301893, 0.03973302833301893, 0.03973302833301893, 0.03973302833301893, 0.03973302833301893, 0.03973302833301893, 0.03973302833301893, 0.03973302833301893, 0.03973302833301893, 0.03973302833301893, 0.03973302833301893, 0.03973302833301893, 0.03973302833301893, 0.03973302833301893, 0.03973302833301893, 0.03973302833301893, 0.03973302833301893, 0.03973302833301893, 0.03973302833301893, 0.03973302833301893, 0.03973302833301893, 0.03973302833301893, 0.03973302833301893, 0.03973302833301893, 0.03973302833301893, 0.03973302833301893, 0.03973302833301893, 0.03973302833301893, 0.03973302833301893, 0.03973302833301893, 0.03973302833301893, 0.03973302833301893, 0.03973302833301893, 0.03973302833301893, 0.03973302833301893, 0.03973302833301893, 0.03973302833301893, 0.03973302833301893, 0.03973302833301893, 0.03973302833301893, 0.03973302833301893, 0.03973302833301893, 0.6910196313059627, 0.6910196313059627, 0.6910193200254474, 0.6910193200254474, 0.6910193200254474, 0.6910193200254474, 0.6910196313059627, 0.691019475665705, 0.6910196313059627, 0.039650014670861246, 0.039650014670861246, 0.039650014670861246, 0.039650014670861246, 0.039650014670861246, 0.039650014670861246, 0.039650014670861246, 0.039650014670861246, 0.039650014670861246, 0.039650014670861246, 0.039650014670861246, 0.039650014670861246, 0.039650014670861246, 0.039650014670861246, 0.039650014670861246, 0.039650014670861246, 0.039650014670861246, 0.039650014670861246, 0.039650014670861246, 0.039650014670861246, 0.039650014670861246, 0.039650014670861246, 0.039650014670861246, 0.039650014670861246, 0.039650014670861246, 0.039650014670861246, 0.039650014670861246, 0.039650014670861246, 0.039650014670861246, 0.039650014670861246, 0.039650014670861246, 0.039650014670861246, 0.039650014670861246, 0.039650014670861246, 0.039650014670861246, 0.039650014670861246, 0.039650014670861246, 0.039650014670861246, 0.039650014670861246, 0.039650014670861246, 0.039650014670861246, 0.039650014670861246, 0.6820115337432715, 0.6820115337432715, 0.6820115337432715, 0.6820115337432715, 0.6820115337432715, 0.6820115337432715, 0.6820096734750545, 0.6820096734750545, 0.03913312774011713, 0.03913312774011713, 0.03913312774011713, 0.03913312774011713, 0.03913312774011713, 0.03913312774011713, 0.03913312774011713, 0.03913312774011713, 0.03913312774011713, 0.03913312774011713, 0.03913312774011713, 0.03913312774011713, 0.03913312774011713, 0.03913312774011713, 0.03913312774011713, 0.03913312774011713, 0.03913312774011713, 0.03913312774011713, 0.03913312774011713, 0.03913312774011713, 0.03913312774011713, 0.03913312774011713, 0.03913312774011713, 0.03913312774011713, 0.03913312774011713, 0.03913312774011713, 0.03913312774011713, 0.03913312774011713, 0.03913312774011713, 0.03913312774011713, 0.03913312774011713, 0.03913312774011713, 0.03913312774011713, 0.03913312774011713, 0.03913312774011713, 0.03913312774011713, 0.03913312774011713, 0.03913312774011713, 0.03913312774011713, 0.03913312774011713, 0.03913312774011713, 0.03913312774011713, 0.03913312774011713, 0.03913312774011713, 2.235895402788674, 0.6785659636642405, 0.6785659636642405, 0.6785674400875122, 0.03903339284181045, 0.03893571601767809, 0.03893571601767809, 0.03893571601767809, 0.03893571601767809, 0.03893571601767809, 0.03893571601767809, 0.03893571601767809, 0.03893571601767809, 0.03893571601767809, 0.03893571601767809, 0.03893571601767809, 0.03893571601767809, 0.03893571601767809, 0.03893571601767809, 0.03893571601767809, 0.03893571601767809, 0.03893571601767809, 0.03893571601767809, 0.03893571601767809, 0.03893571601767809, 0.03893571601767809, 0.03893571601767809, 0.03893571601767809, 0.03893571601767809, 0.03893571601767809, 0.03893571601767809, 0.03893571601767809, 0.03893571601767809, 0.03893571601767809, 0.03893571601767809, 0.03893571601767809, 0.03893571601767809, 0.03893571601767809, 0.03893571601767809, 0.03893571601767809, 0.03893571601767809, 0.03893571601767809, 0.03893571601767809, 0.03893571601767809, 0.03893571601767809, 0.03893571601767809, 0.03893571601767809, 0.03893571601767809, 0.03893571601767809, 0.03893571601767809, 0.03893571601767809, 0.03893571601767809, 0.03893571601767809, 0.03893571601767809, 0.03893571601767809, 4.269293375890024, 0.03749727413115763, 0.03749727413115763, 0.03749727413115763, 0.03749727413115763, 0.03749727413115763, 0.03749727413115763, 0.03749727413115763, 0.03749727413115763, 0.03749727413115763, 0.03749727413115763, 0.03749727413115763, 0.03749727413115763, 0.03749727413115763, 0.03749727413115763, 0.03749727413115763, 0.03749727413115763, 0.03749727413115763, 0.03749727413115763, 0.03749727413115763, 0.03749727413115763, 0.03749727413115763, 0.03749727413115763, 0.03749727413115763, 0.03749727413115763, 0.03749727413115763, 0.03749727413115763, 0.03749727413115763, 0.03749727413115763, 0.03749727413115763, 0.03749727413115763, 0.03749727413115763, 0.03749727413115763, 0.03749727413115763, 0.03749727413115763, 0.03749727413115763, 0.03749727413115763, 0.03749727413115763, 0.03749727413115763, 0.03749727413115763, 0.03749727413115763, 0.03749727413115763, 0.03749727413115763, 0.03749727413115763, 0.03749727413115763, 0.03749727413115763, 0.03749727413115763, 0.03749727413115763, 0.03749727413115763, 0.03749727413115763, 0.03749727413115763, 0.03749727413115763, 0.03749727413115763, 0.03749727413115763, 0.03749727413115763, 0.03749727413115763, 0.03749727413115763, 0.03749727413115763, 0.03749727413115763, 0.6306440716839541, 0.6306440716839541, 0.6306440716839541, 0.03618592425747337, 0.03618592425747337, 0.03618592425747337, 0.03618592425747337, 0.03618592425747337, 0.03618592425747337, 0.03618592425747337, 0.03618592425747337, 0.03618592425747337, 0.03618592425747337, 0.03618592425747337, 0.03618592425747337, 0.03618592425747337, 0.03618592425747337, 0.03618592425747337, 0.03618592425747337, 0.03618592425747337, 0.03618592425747337, 0.03618592425747337, 0.03618592425747337, 0.03618592425747337, 0.03618592425747337, 0.03618592425747337, 0.03618592425747337, 0.03618592425747337, 0.03618592425747337, 0.03618592425747337, 0.03627997761975816, 0.03627997761975816, 0.03618592425747337, 0.03618592425747337, 0.03618592425747337, 0.03618592425747337, 0.03618592425747337, 0.03618592425747337, 0.03618592425747337, 0.03618592425747337, 0.03618592425747337, 0.03618592425747337, 0.03618592425747337, 0.03618592425747337, 0.03618592425747337, 0.03618592425747337, 0.03618592425747337, 0.03618592425747337, 0.03618592425747337, 0.03618592425747337, 0.03618592425747337, 0.03618592425747337, 0.03618592425747337, 0.03618592425747337, 0.03618592425747337, 0.03618592425747337, 0.03618592425747337], \"Total\": [45.0, 80.0, 10.0, 7.0, 5.0, 11.0, 8.0, 5.0, 8.0, 16.0, 3.0, 3.0, 3.0, 5.0, 4.0, 4.0, 6.0, 3.0, 4.0, 3.0, 3.0, 3.0, 3.0, 3.0, 3.0, 15.0, 3.0, 3.0, 2.0, 2.0, 80.00898881272717, 15.662533492509654, 6.67234277230445, 6.672341320470683, 6.672341320470683, 6.672319542964176, 6.672318091130409, 9.75490420734024, 3.3388351700887617, 3.3388351700887617, 3.3388342021995836, 3.3388342021995836, 3.338831298532049, 3.338831298532049, 3.338831298532049, 3.338827910919926, 3.338827910919926, 3.338827910919926, 3.3388274269753366, 3.3388274269753366, 3.3388114568038985, 3.3388114568038985, 3.3387746810465373, 3.338676440814766, 8.878700401198158, 16.981308599288823, 4.12639940572519, 4.192666393690776, 4.245947641267984, 10.5258036859909, 11.070829677820429, 6.163586834743012, 8.618012220677077, 45.157674621923015, 3.0946446424002705, 1.8695010025104872, 1.8695010025104872, 1.8695010025104872, 1.8694977256379304, 1.8694977256379304, 1.8694806859006359, 2.5208674050909443, 2.5549019738927723, 3.2969288578125098, 16.981308599288823, 4.192666393690776, 1.0157808770058827, 1.0157808770058827, 1.0157808770058827, 1.0157808770058827, 1.0157436207853985, 1.0161189109103528, 1.0156713899712166, 1.0156713899712166, 1.0156713899712166, 1.0156713899712166, 1.0156713899712166, 1.0156713899712166, 1.0156713899712166, 1.0156713899712166, 1.0156713899712166, 1.0156713899712166, 1.0156713899712166, 2.3211727355892693, 1.0236444315479891, 1.0236445222875996, 1.0236443861781839, 1.0236443861781839, 1.0236443861781839, 1.0236443861781839, 1.0236443861781839, 1.0236443861781839, 1.0236443861781839, 1.0236443861781839, 5.1089982776583955, 3.591236467980064, 3.591235090839771, 3.5912280329957698, 4.276640555618681, 2.073457185834266, 2.073457185834266, 2.073457185834266, 2.073457185834266, 2.0734432422888, 2.9653280342138983, 8.618012220677077, 1.0161462668412944, 1.0159540741155308, 1.0159540741155308, 1.0159540741155308, 1.0159540741155308, 1.0159540741155308, 1.0158554597730438, 1.0158554597730438, 1.0158554597730438, 1.0158554597730438, 1.0158554597730438, 1.0158554597730438, 1.0158554597730438, 1.0158554597730438, 1.0158554597730438, 1.016292146521127, 1.015853104535158, 1.015853104535158, 1.0161189109103528, 3.69126110790548, 3.1872482790071124, 3.187211021430745, 1.90754222322758, 1.907542063942539, 1.907542063942539, 1.907542063942539, 1.907542063942539, 1.907542063942539, 1.907542063942539, 1.9075297193518475, 1.9075138704902506, 2.9653280342138983, 8.618012220677077, 4.4971596193036305, 16.981308599288823, 11.070829677820429, 1.015853104535158, 1.015853104535158, 1.015853104535158, 1.015853104535158, 1.015853104535158, 1.015853104535158, 1.015853104535158, 1.015853104535158, 1.015853104535158, 1.015853104535158, 1.015853104535158, 1.0161048210752883, 1.0161189109103528, 45.157674621923015, 7.111059289234021, 1.0161462668412944, 4.525945635412512, 3.224340599073439, 1.9227824050999225, 1.9227824050999225, 1.9227824050999225, 1.9227812864762674, 1.9227812864762674, 1.9227712887773507, 2.5964174999483074, 2.649215209398185, 2.753628404950443, 3.293608142894584, 4.245947641267984, 6.163586834743012, 1.0159230913880786, 1.0159230913880786, 1.0159230913880786, 1.0159230913880786, 1.0159230913880786, 1.0159230913880786, 1.0159230913880786, 1.0159230913880786, 1.0159230913880786, 1.0159230913880786, 1.0159230913880786, 1.0161048210752883, 1.0158992103261444, 1.0156713899712166, 1.0156713899712166, 1.0156713899712166, 3.941065047639572, 1.8465173746984684, 1.8465173746984684, 3.0386699791257086, 3.038669843120154, 1.8465178507179079, 1.8465178507179079, 1.8465178507179079, 1.8465178507179079, 1.8465173746984684, 1.8465173746984684, 1.8465166266679207, 1.8465166266679207, 1.8465147905929402, 1.8465147905929402, 1.8465147905929402, 1.8465147905929402, 1.8465079223124572, 1.8465079223124572, 2.753628404950443, 3.3651616538798463, 1.0158033979894319, 1.0158033979894319, 1.0158033979894319, 1.0158033979894319, 1.0158033979894319, 1.0158033979894319, 1.0158034282359687, 1.0158033299866547, 1.0158033299866547, 1.0156713899712166, 1.0156713899712166, 1.0156713899712166, 3.941065047639572, 1.6684046937529378, 1.6684046937529378, 7.111059289234021, 2.9332978501061775, 2.9332951772724085, 2.9332898316048706, 1.803238633621045, 1.8032301473738286, 1.8032300805529846, 1.8032300805529846, 6.163586834743012, 4.12639940572519, 1.015808583098959, 1.015808583098959, 1.015808583098959, 1.0158085705700506, 1.0158085705700506, 1.0158085538648396, 1.0158085538648396, 1.0158492158036367, 1.0156713899712166, 1.0156713899712166, 1.0156713899712166, 1.0156713899712166, 1.0156713899712166, 1.0156713899712166, 1.0156713899712166, 1.0156713899712166, 1.0156713899712166, 1.0156713899712166, 1.0156713899712166, 1.0156713899712166, 3.941065047639572, 1.8465173746984684, 1.8465173746984684, 2.753628404950443, 3.0386699791257086, 1.6684046937529378, 1.6684046937529378, 1.6684046937529378, 3.865731966685851, 1.6684046937529378, 3.3651616538798463, 1.8465178507179079, 3.3651616538798463, 1.774987723789023, 1.774987723789023, 1.774987723789023, 1.774987723789023, 1.774987723789023, 1.774987723789023, 1.774987723789023, 1.774987723789023, 1.774987723789023, 1.774987723789023, 1.774987723789023, 1.774987191201607, 1.774987191201607, 1.774987191201607, 1.774987191201607, 1.774987191201607, 1.7749837293834039, 1.7749837293834039, 1.774976805746997, 1.774976805746997, 2.448622286049992, 9.75490420734024, 1.0156713899712166, 1.0156713899712166, 1.0156713899712166, 1.0156713899712166, 1.0156713899712166, 1.0156713899712166, 1.0156713899712166, 3.941065047639572, 1.8465173746984684, 1.8465173746984684, 2.753628404950443, 3.0386699791257086, 1.6684046937529378, 1.6684046937529378, 2.8510384628292127, 2.5232720612696617, 4.4971596193036305, 1.7694659450842811, 1.7694659450842811, 1.7694659450842811, 1.7694659450842811, 1.7694659450842811, 1.7694644615265827, 1.7694644615265827, 1.769464397024074, 1.769464397024074, 1.769464397024074, 1.769464397024074, 1.769464397024074, 1.7694628489638664, 2.454867443152697, 3.2969288578125098, 1.0158992103261444, 1.0156713899712166, 1.0156713899712166, 1.0156713899712166, 1.0156713899712166, 1.0156713899712166, 1.0156713899712166, 1.0156713899712166, 1.0156713899712166, 1.0156713899712166, 1.0156713899712166, 1.0156713899712166, 3.293608142894584, 45.157674621923015, 3.3387746810465373, 3.941065047639572, 1.8465173746984684, 1.8465173746984684, 2.753628404950443, 3.0386699791257086, 1.6684046937529378, 1.6684046937529378, 1.6684046937529378, 5.173618082072553, 1.9218277511269515, 1.9218277511269515, 1.9218266823335621, 11.070829677820429, 8.878700401198158, 8.618012220677077, 1.015864905039156, 1.015864905039156, 1.015864905039156, 1.015864905039156, 1.015864905039156, 1.015864905039156, 1.015864905039156, 1.015864905039156, 1.0158649352856928, 1.0158646732052958, 1.0158647034518327, 1.0158646496289712, 1.0158646456995837, 1.0161189109103528, 1.0162090350117734, 1.0159540741155308, 1.0159540741155308, 1.0159540741155308, 1.0159540741155308, 1.0159540741155308, 1.0161462668412944, 1.0156713899712166, 1.0156713899712166, 45.157674621923015, 3.941065047639572, 3.5111323752438466, 2.468545885102943, 1.742105297769866, 1.742105297769866, 1.742105297769866, 1.742105297769866, 1.7421045701920843, 1.7421045701920843, 1.7421045701920843, 1.7421027652291021, 1.7421020915537773, 10.5258036859909, 2.393474914404967, 2.649215209398185, 1.015788548975946, 1.0156713899712166, 1.0156713899712166, 1.0156713899712166, 1.0156713899712166, 1.0156713899712166, 1.0156713899712166, 1.0156713899712166, 1.0156713899712166, 1.0156713899712166, 1.0156713899712166, 1.0156713899712166, 1.0156713899712166, 1.0156713899712166, 1.0156713899712166, 1.0156713899712166, 3.941065047639572, 1.8465173746984684, 1.8465173746984684, 2.753628404950443, 3.0386699791257086, 1.6684046937529378, 1.6684046937529378, 1.6684046937529378, 3.865731966685851, 1.6684046937529378, 3.3651616538798463, 1.8465178507179079, 1.8465178507179079, 1.8465178507179079, 1.8465178507179079, 3.941065047639572, 3.8457681670034645, 1.7470140467863586, 1.7470140467863586, 1.7470079436432584, 1.0158351309621558, 1.0158351309621558, 1.0158351309621558, 1.0158351309621558, 1.015835058718511, 1.0156713899712166, 1.0156713899712166, 1.0156713899712166, 1.0156713899712166, 1.0156713899712166, 1.0156713899712166, 1.0156713899712166, 1.0156713899712166, 1.0156713899712166, 1.0156713899712166, 1.0156713899712166, 1.0156713899712166, 1.0156713899712166, 1.0156713899712166, 1.0156713899712166, 1.0156713899712166, 1.0156713899712166, 1.0156713899712166, 1.0156713899712166, 1.0156713899712166, 1.8465173746984684, 1.8465173746984684, 2.753628404950443, 3.0386699791257086, 1.6684046937529378, 1.6684046937529378, 1.6684046937529378, 3.865731966685851, 1.6684046937529378, 3.3651616538798463, 1.8465178507179079, 1.8465178507179079, 1.8465178507179079, 1.8465178507179079, 3.3388114568038985, 3.3388114568038985, 1.7421045701920843, 1.7421045701920843, 1.7421045701920843, 1.8465079223124572, 3.293608142894584, 1.7010759690367785, 1.7010759690367785, 1.7010759690367785, 1.7010754624865652, 1.7010754624865652, 1.7010754624865652, 1.7010754624865652, 1.7010741730860228, 2.454867443152697, 2.5549019738927723, 4.276640555618681, 1.0156713899712166, 1.0156713899712166, 1.0156713899712166, 1.0156713899712166, 1.0156713899712166, 1.0156713899712166, 1.0156713899712166, 1.0156713899712166, 1.0156713899712166, 1.0156713899712166, 1.0156713899712166, 1.0156713899712166, 1.0156713899712166, 1.0156713899712166, 1.0156713899712166, 1.0156713899712166, 1.0156713899712166, 1.0156713899712166, 2.468545885102943, 1.7421020915537773, 1.7421027652291021, 3.941065047639572, 1.8465173746984684, 1.8465173746984684, 2.753628404950443, 3.0386699791257086, 1.6684046937529378, 1.6684046937529378, 1.6684046937529378, 3.865731966685851, 1.6684046937529378, 3.3651616538798463, 1.8465178507179079, 1.8465178507179079, 1.8465178507179079, 1.8465178507179079, 2.362948442547988, 1.689306469696333, 1.689306469696333, 1.689306469696333, 1.689306469696333, 2.340675775050919, 2.448622286049992, 2.5964174999483074, 3.2969288578125098, 1.0156713899712166, 1.0156713899712166, 1.0156713899712166, 1.0156713899712166, 1.0156713899712166, 1.0156713899712166, 1.0156713899712166, 1.0156713899712166, 1.0156713899712166, 1.0156713899712166, 1.0156713899712166, 1.0156713899712166, 1.0156713899712166, 1.0156713899712166, 1.0156713899712166, 1.0156713899712166, 1.0156713899712166, 1.0156713899712166, 1.0156713899712166, 1.0156713899712166, 1.0156713899712166, 45.157674621923015, 3.941065047639572, 1.8465173746984684, 1.8465173746984684, 2.753628404950443, 3.0386699791257086, 1.6684046937529378, 1.6684046937529378, 1.6684046937529378, 3.865731966685851, 1.6684046937529378, 3.3651616538798463, 1.8465178507179079, 1.8465178507179079, 1.8465178507179079, 1.8465178507179079, 3.3388114568038985, 3.3388114568038985, 1.7421045701920843, 1.7421045701920843, 1.7421045701920843, 2.3211727355892693, 1.6684046937529378, 1.6684046937529378, 1.6684046937529378, 1.6684046937529378, 1.6684029781340854, 1.6684029781340854, 3.865731966685851, 1.0156713899712166, 1.0156713899712166, 1.0156713899712166, 1.0156713899712166, 1.0156713899712166, 1.0156713899712166, 1.0156713899712166, 1.0156713899712166, 1.0156713899712166, 1.0156713899712166, 1.0156713899712166, 1.0156713899712166, 1.0156713899712166, 1.0156713899712166, 1.0156713899712166, 1.0156713899712166, 1.0156713899712166, 1.0156713899712166, 1.0156713899712166, 1.0156713899712166, 1.0156713899712166, 1.0156713899712166, 3.941065047639572, 1.8465173746984684, 1.8465173746984684, 2.753628404950443, 3.0386699791257086, 3.3651616538798463, 1.8465178507179079, 1.8465178507179079, 1.8465178507179079, 1.8465178507179079, 3.3388114568038985, 3.3388114568038985, 1.7421045701920843, 1.7421045701920843, 1.7421045701920843, 1.8465079223124572, 1.742105297769866, 1.742105297769866, 2.393474914404967, 10.5258036859909, 5.173618082072553, 1.6670409914830497, 1.6670409914830497, 1.6670409914830497, 1.6670406802025346, 1.6670406802025346, 1.6670406802025346, 2.340675775050919, 2.393474914404967, 2.5208674050909443, 5.173618082072553, 1.0156713899712166, 1.0156713899712166, 1.0156713899712166, 1.0156713899712166, 1.0156713899712166, 1.0156713899712166, 1.0156713899712166, 1.0156713899712166, 1.0156713899712166, 1.0156713899712166, 1.0156713899712166, 1.0156713899712166, 1.0156713899712166, 1.0156713899712166, 1.0156713899712166, 1.0156713899712166, 1.0156713899712166, 1.0156713899712166, 1.0156713899712166, 1.0156713899712166, 1.0156713899712166, 3.941065047639572, 1.8465173746984684, 1.8465173746984684, 2.753628404950443, 3.0386699791257086, 1.6684046937529378, 1.6684046937529378, 1.6684046937529378, 3.865731966685851, 1.6684046937529378, 3.3651616538798463, 1.8465178507179079, 1.8465178507179079, 1.8465178507179079, 1.8465178507179079, 3.3388114568038985, 3.3388114568038985, 1.7421045701920843, 1.7421045701920843, 1.7421045701920843, 1.8465079223124572, 1.6585497808511025, 1.6585497808511025, 1.6585497808511025, 1.6585497808511025, 1.6585497808511025, 1.6585497808511025, 1.6585479205828857, 1.6585479205828857, 1.0156713899712166, 1.0156713899712166, 1.0156713899712166, 1.0156713899712166, 1.0156713899712166, 1.0156713899712166, 1.0156713899712166, 1.0156713899712166, 1.0156713899712166, 1.0156713899712166, 1.0156713899712166, 1.0156713899712166, 1.0156713899712166, 1.0156713899712166, 1.0156713899712166, 1.0156713899712166, 1.0156713899712166, 1.0156713899712166, 1.0156713899712166, 1.0156713899712166, 1.0156713899712166, 1.0156713899712166, 3.941065047639572, 1.8465173746984684, 1.8465173746984684, 2.753628404950443, 3.0386699791257086, 1.6684046937529378, 1.6684046937529378, 1.6684046937529378, 3.865731966685851, 1.6684046937529378, 3.3651616538798463, 1.8465178507179079, 1.8465178507179079, 1.8465178507179079, 1.8465178507179079, 3.3388114568038985, 3.3388114568038985, 1.7421045701920843, 1.7421045701920843, 1.7421045701920843, 1.8465079223124572, 1.742105297769866, 3.865731966685851, 1.6553016224945105, 1.6553016224945105, 8.618012220677077, 1.0158492158036367, 1.0156713899712166, 1.0156713899712166, 1.0156713899712166, 1.0156713899712166, 1.0156713899712166, 1.0156713899712166, 1.0156713899712166, 1.0156713899712166, 1.0156713899712166, 1.0156713899712166, 1.0156713899712166, 1.0156713899712166, 1.0156713899712166, 1.0156713899712166, 1.0156713899712166, 1.0156713899712166, 1.0156713899712166, 1.0156713899712166, 1.0156713899712166, 1.0156713899712166, 1.0156713899712166, 1.0156713899712166, 1.0156713899712166, 1.0156713899712166, 1.0156713899712166, 3.941065047639572, 1.8465173746984684, 1.8465173746984684, 2.753628404950443, 3.0386699791257086, 1.6684046937529378, 1.6684046937529378, 1.6684046937529378, 1.6684046937529378, 3.3651616538798463, 1.8465178507179079, 1.8465178507179079, 1.8465178507179079, 1.8465178507179079, 3.3388114568038985, 3.3388114568038985, 1.7421045701920843, 1.7421045701920843, 1.7421045701920843, 1.8465079223124572, 1.742105297769866, 1.742105297769866, 2.393474914404967, 10.5258036859909, 5.173618082072553, 5.247467476606815, 1.0156713899712166, 1.0156713899712166, 1.0156713899712166, 1.0156713899712166, 1.0156713899712166, 1.0156713899712166, 1.0156713899712166, 1.0156713899712166, 1.0156713899712166, 1.0156713899712166, 1.0156713899712166, 1.0156713899712166, 1.0156713899712166, 1.0156713899712166, 1.0156713899712166, 1.0156713899712166, 1.0156713899712166, 1.0156713899712166, 1.0156713899712166, 1.0156713899712166, 1.0156713899712166, 1.0156713899712166, 1.0156713899712166, 1.0156713899712166, 1.0156713899712166, 1.0156713899712166, 1.0156713899712166, 1.0156713899712166, 1.0156713899712166, 3.941065047639572, 1.8465173746984684, 1.8465173746984684, 2.753628404950443, 3.0386699791257086, 1.6684046937529378, 1.6684046937529378, 1.6684046937529378, 3.865731966685851, 1.6684046937529378, 3.3651616538798463, 1.8465178507179079, 1.8465178507179079, 1.8465178507179079, 1.8465178507179079, 3.3388114568038985, 3.3388114568038985, 1.7421045701920843, 1.7421045701920843, 1.7421045701920843, 1.8465079223124572, 1.742105297769866, 1.742105297769866, 2.393474914404967, 10.5258036859909, 5.173618082072553, 1.6670409914830497, 2.5208674050909443, 1.6670409914830497, 1.610129522274429, 1.610129522274429, 1.610129522274429, 1.0156713899712166, 1.0156713899712166, 1.0156713899712166, 1.0156713899712166, 1.0156713899712166, 1.0156713899712166, 1.0156713899712166, 1.0156713899712166, 1.0156713899712166, 1.0156713899712166, 1.0156713899712166, 1.0156713899712166, 1.0156713899712166, 1.0156713899712166, 1.0156713899712166, 1.0156713899712166, 1.0156713899712166, 1.0156713899712166, 1.0156713899712166, 1.0156713899712166, 1.0156713899712166, 1.0156713899712166, 1.0156713899712166, 1.0156713899712166, 1.0156713899712166, 1.0156713899712166, 1.0156713899712166, 8.618012220677077, 3.69126110790548, 3.941065047639572, 1.8465173746984684, 1.8465173746984684, 2.753628404950443, 3.0386699791257086, 1.6684046937529378, 1.6684046937529378, 1.6684046937529378, 3.865731966685851, 1.6684046937529378, 3.3651616538798463, 1.8465178507179079, 1.8465178507179079, 1.8465178507179079, 1.8465178507179079, 3.3388114568038985, 3.3388114568038985, 1.7421045701920843, 1.7421045701920843, 1.7421045701920843, 1.8465079223124572, 1.742105297769866, 1.742105297769866, 2.393474914404967, 10.5258036859909], \"Category\": [\"Default\", \"Default\", \"Default\", \"Default\", \"Default\", \"Default\", \"Default\", \"Default\", \"Default\", \"Default\", \"Default\", \"Default\", \"Default\", \"Default\", \"Default\", \"Default\", \"Default\", \"Default\", \"Default\", \"Default\", \"Default\", \"Default\", \"Default\", \"Default\", \"Default\", \"Default\", \"Default\", \"Default\", \"Default\", \"Default\", \"Topic1\", \"Topic1\", \"Topic1\", \"Topic1\", \"Topic1\", \"Topic1\", \"Topic1\", \"Topic1\", \"Topic1\", \"Topic1\", \"Topic1\", \"Topic1\", \"Topic1\", \"Topic1\", \"Topic1\", \"Topic1\", \"Topic1\", \"Topic1\", \"Topic1\", \"Topic1\", \"Topic1\", \"Topic1\", \"Topic1\", \"Topic1\", \"Topic1\", \"Topic1\", \"Topic1\", \"Topic1\", \"Topic1\", \"Topic1\", \"Topic1\", \"Topic1\", \"Topic1\", \"Topic2\", \"Topic2\", \"Topic2\", \"Topic2\", \"Topic2\", \"Topic2\", \"Topic2\", \"Topic2\", \"Topic2\", \"Topic2\", \"Topic2\", \"Topic2\", \"Topic2\", \"Topic2\", \"Topic2\", \"Topic2\", \"Topic2\", \"Topic2\", \"Topic2\", \"Topic2\", \"Topic2\", \"Topic2\", \"Topic2\", \"Topic2\", \"Topic2\", \"Topic2\", \"Topic2\", \"Topic2\", \"Topic2\", \"Topic2\", \"Topic2\", \"Topic2\", \"Topic2\", \"Topic2\", \"Topic2\", \"Topic2\", \"Topic2\", \"Topic2\", \"Topic2\", \"Topic2\", \"Topic2\", \"Topic3\", \"Topic3\", \"Topic3\", \"Topic3\", \"Topic3\", \"Topic3\", \"Topic3\", \"Topic3\", \"Topic3\", \"Topic3\", \"Topic3\", \"Topic3\", \"Topic3\", \"Topic3\", \"Topic3\", \"Topic3\", \"Topic3\", \"Topic3\", \"Topic3\", \"Topic3\", \"Topic3\", \"Topic3\", \"Topic3\", \"Topic3\", \"Topic3\", \"Topic3\", \"Topic3\", \"Topic3\", \"Topic3\", \"Topic3\", \"Topic3\", \"Topic4\", \"Topic4\", \"Topic4\", \"Topic4\", \"Topic4\", \"Topic4\", \"Topic4\", \"Topic4\", \"Topic4\", \"Topic4\", \"Topic4\", \"Topic4\", \"Topic4\", \"Topic4\", \"Topic4\", \"Topic4\", \"Topic4\", \"Topic4\", \"Topic4\", \"Topic4\", \"Topic4\", \"Topic4\", \"Topic4\", \"Topic4\", \"Topic4\", \"Topic4\", \"Topic4\", \"Topic4\", \"Topic4\", \"Topic4\", \"Topic4\", \"Topic4\", \"Topic4\", \"Topic5\", \"Topic5\", \"Topic5\", \"Topic5\", \"Topic5\", \"Topic5\", \"Topic5\", \"Topic5\", \"Topic5\", \"Topic5\", \"Topic5\", \"Topic5\", \"Topic5\", \"Topic5\", \"Topic5\", \"Topic5\", \"Topic5\", \"Topic5\", \"Topic5\", \"Topic5\", \"Topic5\", \"Topic5\", \"Topic5\", \"Topic5\", \"Topic5\", \"Topic5\", \"Topic5\", \"Topic5\", \"Topic5\", \"Topic5\", \"Topic5\", \"Topic5\", \"Topic5\", \"Topic6\", \"Topic6\", \"Topic6\", \"Topic6\", \"Topic6\", \"Topic6\", \"Topic6\", \"Topic6\", \"Topic6\", \"Topic6\", \"Topic6\", \"Topic6\", \"Topic6\", \"Topic6\", \"Topic6\", \"Topic6\", \"Topic6\", \"Topic6\", \"Topic6\", \"Topic6\", \"Topic6\", \"Topic6\", \"Topic6\", \"Topic6\", \"Topic6\", \"Topic6\", \"Topic6\", \"Topic6\", \"Topic6\", \"Topic6\", \"Topic6\", \"Topic6\", \"Topic6\", \"Topic7\", \"Topic7\", \"Topic7\", \"Topic7\", \"Topic7\", \"Topic7\", \"Topic7\", \"Topic7\", \"Topic7\", \"Topic7\", \"Topic7\", \"Topic7\", \"Topic7\", \"Topic7\", \"Topic7\", \"Topic7\", \"Topic7\", \"Topic7\", \"Topic7\", \"Topic7\", \"Topic7\", \"Topic7\", \"Topic7\", \"Topic7\", \"Topic7\", \"Topic7\", \"Topic7\", \"Topic7\", \"Topic7\", \"Topic7\", \"Topic7\", \"Topic7\", \"Topic7\", \"Topic7\", \"Topic7\", \"Topic7\", \"Topic7\", \"Topic7\", \"Topic7\", \"Topic7\", \"Topic7\", \"Topic7\", \"Topic8\", \"Topic8\", \"Topic8\", \"Topic8\", \"Topic8\", \"Topic8\", \"Topic8\", \"Topic8\", \"Topic8\", \"Topic8\", \"Topic8\", \"Topic8\", \"Topic8\", \"Topic8\", \"Topic8\", \"Topic8\", \"Topic8\", \"Topic8\", \"Topic8\", \"Topic8\", \"Topic8\", \"Topic8\", \"Topic8\", \"Topic8\", \"Topic8\", \"Topic8\", \"Topic8\", \"Topic8\", \"Topic8\", \"Topic8\", \"Topic8\", \"Topic8\", \"Topic8\", \"Topic8\", \"Topic8\", \"Topic8\", \"Topic8\", \"Topic9\", \"Topic9\", \"Topic9\", \"Topic9\", \"Topic9\", \"Topic9\", \"Topic9\", \"Topic9\", \"Topic9\", \"Topic9\", \"Topic9\", \"Topic9\", \"Topic9\", \"Topic9\", \"Topic9\", \"Topic9\", \"Topic9\", \"Topic9\", \"Topic9\", \"Topic9\", \"Topic9\", \"Topic9\", \"Topic9\", \"Topic9\", \"Topic9\", \"Topic9\", \"Topic9\", \"Topic9\", \"Topic9\", \"Topic9\", \"Topic9\", \"Topic9\", \"Topic9\", \"Topic9\", \"Topic9\", \"Topic9\", \"Topic9\", \"Topic9\", \"Topic9\", \"Topic9\", \"Topic9\", \"Topic10\", \"Topic10\", \"Topic10\", \"Topic10\", \"Topic10\", \"Topic10\", \"Topic10\", \"Topic10\", \"Topic10\", \"Topic10\", \"Topic10\", \"Topic10\", \"Topic10\", \"Topic10\", \"Topic10\", \"Topic10\", \"Topic10\", \"Topic10\", \"Topic10\", \"Topic10\", \"Topic10\", \"Topic10\", \"Topic10\", \"Topic10\", \"Topic10\", \"Topic10\", \"Topic10\", \"Topic10\", \"Topic10\", \"Topic10\", \"Topic10\", \"Topic10\", \"Topic11\", \"Topic11\", \"Topic11\", \"Topic11\", \"Topic11\", \"Topic11\", \"Topic11\", \"Topic11\", \"Topic11\", \"Topic11\", \"Topic11\", \"Topic11\", \"Topic11\", \"Topic11\", \"Topic11\", \"Topic11\", \"Topic11\", \"Topic11\", \"Topic11\", \"Topic11\", \"Topic11\", \"Topic11\", \"Topic11\", \"Topic11\", \"Topic11\", \"Topic11\", \"Topic11\", \"Topic11\", \"Topic11\", \"Topic11\", \"Topic11\", \"Topic11\", \"Topic11\", \"Topic11\", \"Topic11\", \"Topic11\", \"Topic11\", \"Topic11\", \"Topic11\", \"Topic11\", \"Topic11\", \"Topic11\", \"Topic11\", \"Topic11\", \"Topic11\", \"Topic12\", \"Topic12\", \"Topic12\", \"Topic12\", \"Topic12\", \"Topic12\", \"Topic12\", \"Topic12\", \"Topic12\", \"Topic12\", \"Topic12\", \"Topic12\", \"Topic12\", \"Topic12\", \"Topic12\", \"Topic12\", \"Topic12\", \"Topic12\", \"Topic12\", \"Topic12\", \"Topic12\", \"Topic12\", \"Topic12\", \"Topic12\", \"Topic12\", \"Topic12\", \"Topic12\", \"Topic12\", \"Topic12\", \"Topic12\", \"Topic12\", \"Topic12\", \"Topic12\", \"Topic12\", \"Topic12\", \"Topic12\", \"Topic12\", \"Topic12\", \"Topic12\", \"Topic12\", \"Topic12\", \"Topic12\", \"Topic12\", \"Topic12\", \"Topic12\", \"Topic12\", \"Topic12\", \"Topic12\", \"Topic12\", \"Topic12\", \"Topic13\", \"Topic13\", \"Topic13\", \"Topic13\", \"Topic13\", \"Topic13\", \"Topic13\", \"Topic13\", \"Topic13\", \"Topic13\", \"Topic13\", \"Topic13\", \"Topic13\", \"Topic13\", \"Topic13\", \"Topic13\", \"Topic13\", \"Topic13\", \"Topic13\", \"Topic13\", \"Topic13\", \"Topic13\", \"Topic13\", \"Topic13\", \"Topic13\", \"Topic13\", \"Topic13\", \"Topic13\", \"Topic13\", \"Topic13\", \"Topic13\", \"Topic13\", \"Topic13\", \"Topic13\", \"Topic13\", \"Topic13\", \"Topic13\", \"Topic13\", \"Topic13\", \"Topic13\", \"Topic13\", \"Topic13\", \"Topic13\", \"Topic13\", \"Topic13\", \"Topic13\", \"Topic13\", \"Topic13\", \"Topic14\", \"Topic14\", \"Topic14\", \"Topic14\", \"Topic14\", \"Topic14\", \"Topic14\", \"Topic14\", \"Topic14\", \"Topic14\", \"Topic14\", \"Topic14\", \"Topic14\", \"Topic14\", \"Topic14\", \"Topic14\", \"Topic14\", \"Topic14\", \"Topic14\", \"Topic14\", \"Topic14\", \"Topic14\", \"Topic14\", \"Topic14\", \"Topic14\", \"Topic14\", \"Topic14\", \"Topic14\", \"Topic14\", \"Topic14\", \"Topic14\", \"Topic14\", \"Topic14\", \"Topic14\", \"Topic14\", \"Topic14\", \"Topic14\", \"Topic14\", \"Topic14\", \"Topic14\", \"Topic14\", \"Topic14\", \"Topic14\", \"Topic14\", \"Topic14\", \"Topic14\", \"Topic14\", \"Topic14\", \"Topic14\", \"Topic14\", \"Topic14\", \"Topic15\", \"Topic15\", \"Topic15\", \"Topic15\", \"Topic15\", \"Topic15\", \"Topic15\", \"Topic15\", \"Topic15\", \"Topic15\", \"Topic15\", \"Topic15\", \"Topic15\", \"Topic15\", \"Topic15\", \"Topic15\", \"Topic15\", \"Topic15\", \"Topic15\", \"Topic15\", \"Topic15\", \"Topic15\", \"Topic15\", \"Topic15\", \"Topic15\", \"Topic15\", \"Topic15\", \"Topic15\", \"Topic15\", \"Topic15\", \"Topic15\", \"Topic15\", \"Topic15\", \"Topic15\", \"Topic15\", \"Topic15\", \"Topic15\", \"Topic15\", \"Topic15\", \"Topic15\", \"Topic15\", \"Topic15\", \"Topic15\", \"Topic15\", \"Topic15\", \"Topic15\", \"Topic15\", \"Topic15\", \"Topic15\", \"Topic15\", \"Topic15\", \"Topic15\", \"Topic16\", \"Topic16\", \"Topic16\", \"Topic16\", \"Topic16\", \"Topic16\", \"Topic16\", \"Topic16\", \"Topic16\", \"Topic16\", \"Topic16\", \"Topic16\", \"Topic16\", \"Topic16\", \"Topic16\", \"Topic16\", \"Topic16\", \"Topic16\", \"Topic16\", \"Topic16\", \"Topic16\", \"Topic16\", \"Topic16\", \"Topic16\", \"Topic16\", \"Topic16\", \"Topic16\", \"Topic16\", \"Topic16\", \"Topic16\", \"Topic16\", \"Topic16\", \"Topic16\", \"Topic16\", \"Topic16\", \"Topic16\", \"Topic16\", \"Topic16\", \"Topic16\", \"Topic16\", \"Topic16\", \"Topic16\", \"Topic16\", \"Topic16\", \"Topic16\", \"Topic16\", \"Topic16\", \"Topic16\", \"Topic16\", \"Topic16\", \"Topic16\", \"Topic17\", \"Topic17\", \"Topic17\", \"Topic17\", \"Topic17\", \"Topic17\", \"Topic17\", \"Topic17\", \"Topic17\", \"Topic17\", \"Topic17\", \"Topic17\", \"Topic17\", \"Topic17\", \"Topic17\", \"Topic17\", \"Topic17\", \"Topic17\", \"Topic17\", \"Topic17\", \"Topic17\", \"Topic17\", \"Topic17\", \"Topic17\", \"Topic17\", \"Topic17\", \"Topic17\", \"Topic17\", \"Topic17\", \"Topic17\", \"Topic17\", \"Topic17\", \"Topic17\", \"Topic17\", \"Topic17\", \"Topic17\", \"Topic17\", \"Topic17\", \"Topic17\", \"Topic17\", \"Topic17\", \"Topic17\", \"Topic17\", \"Topic17\", \"Topic17\", \"Topic17\", \"Topic17\", \"Topic17\", \"Topic17\", \"Topic17\", \"Topic17\", \"Topic17\", \"Topic18\", \"Topic18\", \"Topic18\", \"Topic18\", \"Topic18\", \"Topic18\", \"Topic18\", \"Topic18\", \"Topic18\", \"Topic18\", \"Topic18\", \"Topic18\", \"Topic18\", \"Topic18\", \"Topic18\", \"Topic18\", \"Topic18\", \"Topic18\", \"Topic18\", \"Topic18\", \"Topic18\", \"Topic18\", \"Topic18\", \"Topic18\", \"Topic18\", \"Topic18\", \"Topic18\", \"Topic18\", \"Topic18\", \"Topic18\", \"Topic18\", \"Topic18\", \"Topic18\", \"Topic18\", \"Topic18\", \"Topic18\", \"Topic18\", \"Topic18\", \"Topic18\", \"Topic18\", \"Topic18\", \"Topic18\", \"Topic18\", \"Topic18\", \"Topic18\", \"Topic18\", \"Topic18\", \"Topic18\", \"Topic18\", \"Topic18\", \"Topic18\", \"Topic18\", \"Topic18\", \"Topic18\", \"Topic18\", \"Topic19\", \"Topic19\", \"Topic19\", \"Topic19\", \"Topic19\", \"Topic19\", \"Topic19\", \"Topic19\", \"Topic19\", \"Topic19\", \"Topic19\", \"Topic19\", \"Topic19\", \"Topic19\", \"Topic19\", \"Topic19\", \"Topic19\", \"Topic19\", \"Topic19\", \"Topic19\", \"Topic19\", \"Topic19\", \"Topic19\", \"Topic19\", \"Topic19\", \"Topic19\", \"Topic19\", \"Topic19\", \"Topic19\", \"Topic19\", \"Topic19\", \"Topic19\", \"Topic19\", \"Topic19\", \"Topic19\", \"Topic19\", \"Topic19\", \"Topic19\", \"Topic19\", \"Topic19\", \"Topic19\", \"Topic19\", \"Topic19\", \"Topic19\", \"Topic19\", \"Topic19\", \"Topic19\", \"Topic19\", \"Topic19\", \"Topic19\", \"Topic19\", \"Topic19\", \"Topic19\", \"Topic19\", \"Topic19\", \"Topic19\", \"Topic19\", \"Topic19\", \"Topic19\", \"Topic20\", \"Topic20\", \"Topic20\", \"Topic20\", \"Topic20\", \"Topic20\", \"Topic20\", \"Topic20\", \"Topic20\", \"Topic20\", \"Topic20\", \"Topic20\", \"Topic20\", \"Topic20\", \"Topic20\", \"Topic20\", \"Topic20\", \"Topic20\", \"Topic20\", \"Topic20\", \"Topic20\", \"Topic20\", \"Topic20\", \"Topic20\", \"Topic20\", \"Topic20\", \"Topic20\", \"Topic20\", \"Topic20\", \"Topic20\", \"Topic20\", \"Topic20\", \"Topic20\", \"Topic20\", \"Topic20\", \"Topic20\", \"Topic20\", \"Topic20\", \"Topic20\", \"Topic20\", \"Topic20\", \"Topic20\", \"Topic20\", \"Topic20\", \"Topic20\", \"Topic20\", \"Topic20\", \"Topic20\", \"Topic20\", \"Topic20\", \"Topic20\", \"Topic20\", \"Topic20\", \"Topic20\", \"Topic20\", \"Topic20\", \"Topic20\"], \"logprob\": [30.0, 29.0, 28.0, 27.0, 26.0, 25.0, 24.0, 23.0, 22.0, 21.0, 20.0, 19.0, 18.0, 17.0, 16.0, 15.0, 14.0, 13.0, 12.0, 11.0, 10.0, 9.0, 8.0, 7.0, 6.0, 5.0, 4.0, 3.0, 2.0, 1.0, -1.1888, -2.8661, -3.8024, -3.8024, -3.8024, -3.8024, -3.8024, -3.4655, -4.658, -4.658, -4.658, -4.658, -4.658, -4.658, -4.658, -4.658, -4.658, -4.658, -4.658, -4.658, -4.658, -4.658, -4.658, -4.658, -3.8024, -3.2001, -4.658, -4.6579, -4.6579, -3.8024, -3.8024, -4.6579, -4.6579, -0.5706, -3.6026, -4.4581, -4.4581, -4.4581, -4.4581, -4.4581, -4.4581, -4.4581, -4.4581, -4.4581, -3.028, -4.4581, -7.314, -7.314, -7.314, -7.314, -7.3147, -7.3147, -7.3161, -7.3161, -7.3161, -7.3161, -7.3161, -7.3161, -7.3161, -7.3161, -7.3161, -7.3161, -7.3161, -7.3135, -7.3161, -7.3161, -7.3161, -7.3161, -7.3161, -7.3161, -7.3161, -7.3161, -7.3161, -7.3161, -2.4082, -2.8624, -2.8624, -2.8624, -2.8624, -3.7179, -3.7179, -3.7179, -3.7179, -3.7179, -3.7179, -3.7179, -6.571, -6.5728, -6.5728, -6.5728, -6.5728, -6.5728, -6.5731, -6.5731, -6.5731, -6.5731, -6.5731, -6.5731, -6.5731, -6.5731, -6.5731, -6.5731, -6.5743, -6.5743, -6.5743, -2.7513, -2.9554, -2.9554, -3.8109, -3.8109, -3.8109, -3.8109, -3.8109, -3.8109, -3.8109, -3.8109, -3.8109, -3.8109, -2.7513, -3.8109, -3.1469, -3.8109, -6.6676, -6.6676, -6.6676, -6.6676, -6.6676, -6.6676, -6.6676, -6.6676, -6.6676, -6.6676, -6.6676, -6.6676, -6.6676, -6.6662, -6.6664, -6.6676, -2.354, -2.8082, -3.6637, -3.6637, -3.6637, -3.6637, -3.6637, -3.6637, -3.6637, -3.6637, -3.6637, -3.6637, -3.6637, -3.6637, -6.5172, -6.5172, -6.5172, -6.5172, -6.5172, -6.5172, -6.5172, -6.5172, -6.5172, -6.5172, -6.5172, -6.5172, -6.5208, -6.5217, -6.5217, -6.5217, -6.5217, -6.5217, -6.5217, -2.8683, -2.8683, -3.7238, -3.7238, -3.7238, -3.7238, -3.7238, -3.7238, -3.7238, -3.7238, -3.7238, -3.7238, -3.7238, -3.7238, -3.7238, -3.7238, -3.7238, -3.7238, -6.5792, -6.5792, -6.5792, -6.5792, -6.5792, -6.5792, -6.5792, -6.5792, -6.5792, -6.5818, -6.5818, -6.5818, -6.5818, -6.5818, -6.5818, -1.7647, -2.9042, -2.9042, -2.9042, -3.7597, -3.7597, -3.7597, -3.7597, -2.9042, -3.7597, -6.6149, -6.6149, -6.6149, -6.6149, -6.6149, -6.6149, -6.6149, -6.6161, -6.6178, -6.6178, -6.6178, -6.6178, -6.6178, -6.6178, -6.6178, -6.6178, -6.6178, -6.6178, -6.6178, -6.6178, -6.6178, -6.6178, -6.6178, -6.6178, -6.6178, -6.6178, -6.6178, -6.6178, -6.6178, -6.6178, -6.6178, -6.6178, -3.1285, -3.7926, -3.7926, -3.7926, -3.7926, -3.7926, -3.7926, -3.7926, -3.7926, -3.7926, -3.7926, -3.7926, -3.7926, -3.7926, -3.7926, -3.7926, -3.7926, -3.7926, -3.7926, -3.7926, -3.7926, -3.7926, -3.7926, -6.6506, -6.6506, -6.6506, -6.6506, -6.6506, -6.6506, -6.6506, -6.6506, -6.6506, -6.6506, -6.6506, -6.6506, -6.6506, -6.6506, -2.9128, -3.1042, -2.5759, -3.7683, -3.7683, -3.7683, -3.7683, -3.7683, -3.7683, -3.7683, -3.7683, -3.7683, -3.7683, -3.7683, -3.7683, -3.7683, -3.7683, -3.7683, -6.6255, -6.6263, -6.6263, -6.6263, -6.6263, -6.6263, -6.6263, -6.6263, -6.6263, -6.6263, -6.6263, -6.6263, -6.6237, -6.6237, -6.6263, -6.6263, -6.6263, -6.6263, -6.6263, -6.6263, -6.6263, -6.6263, -6.6263, -2.2488, -3.5585, -3.5585, -3.5585, -2.2488, -2.703, -3.5585, -6.4131, -6.4131, -6.4131, -6.4131, -6.4131, -6.4131, -6.4131, -6.4131, -6.4131, -6.4131, -6.4131, -6.4131, -6.4131, -6.4131, -6.4131, -6.4152, -6.4152, -6.4152, -6.4152, -6.4152, -6.4152, -6.4166, -6.4166, -6.4127, -6.4166, -2.5509, -3.0793, -3.7433, -3.7433, -3.7433, -3.7433, -3.7433, -3.7433, -3.7433, -3.7434, -3.7434, -2.1224, -3.7433, -3.7433, -6.5988, -6.6014, -6.6014, -6.6014, -6.6014, -6.6014, -6.6014, -6.6014, -6.6014, -6.6014, -6.6014, -6.6014, -6.6014, -6.6014, -6.6014, -6.6014, -6.6014, -6.6014, -6.6014, -6.6014, -6.6014, -6.6014, -6.6014, -6.6014, -6.6014, -6.6014, -6.6014, -6.6014, -6.6014, -6.6014, -6.6014, -2.1232, -2.1558, -3.4655, -3.4655, -3.4655, -6.3199, -6.3199, -6.3199, -6.3199, -6.3199, -6.3236, -6.3236, -6.3236, -6.3236, -6.3236, -6.3236, -6.3236, -6.3236, -6.3236, -6.3236, -6.3236, -6.3236, -6.3236, -6.3236, -6.3236, -6.3236, -6.3236, -6.3236, -6.3236, -6.3236, -6.3236, -6.3236, -6.3236, -6.3236, -6.3236, -6.3236, -6.3236, -6.3236, -6.3236, -6.3236, -6.3236, -6.3236, -6.3236, -6.3236, -6.3236, -6.3236, -6.3236, -6.3236, -6.3236, -6.3236, -2.8624, -3.5264, -3.5264, -3.5264, -3.5264, -3.5264, -3.5264, -3.5264, -3.5264, -3.5264, -3.5264, -3.5264, -6.3845, -6.3845, -6.3845, -6.3845, -6.3845, -6.3845, -6.3845, -6.3845, -6.3845, -6.3845, -6.3845, -6.3845, -6.3845, -6.3845, -6.3845, -6.3845, -6.3845, -6.3845, -6.3824, -6.3832, -6.3834, -6.3845, -6.3845, -6.3845, -6.3845, -6.3845, -6.3845, -6.3845, -6.3845, -6.3845, -6.3845, -6.3845, -6.3845, -6.3845, -6.3845, -6.3845, -2.7755, -3.4396, -3.4396, -3.4396, -3.4396, -3.4396, -3.4396, -3.4396, -3.4396, -6.2977, -6.2977, -6.2977, -6.2977, -6.2977, -6.2977, -6.2977, -6.2977, -6.2977, -6.2977, -6.2977, -6.2977, -6.2977, -6.2977, -6.2977, -6.2977, -6.2977, -6.2977, -6.2977, -6.2977, -6.2977, -6.2796, -6.2977, -6.2977, -6.2977, -6.2977, -6.2977, -6.2977, -6.2977, -6.2977, -6.2977, -6.2977, -6.2977, -6.2977, -6.2977, -6.2977, -6.2977, -6.2977, -6.2977, -6.2977, -6.2977, -6.2977, -2.7449, -3.4088, -3.4088, -3.4088, -3.4088, -3.4088, -3.4088, -3.4088, -6.2669, -6.2669, -6.2669, -6.2669, -6.2669, -6.2669, -6.2669, -6.2669, -6.2669, -6.2669, -6.2669, -6.2669, -6.2669, -6.2669, -6.2669, -6.2669, -6.2669, -6.2669, -6.2669, -6.2669, -6.2669, -6.2669, -6.2669, -6.2669, -6.2669, -6.2669, -6.2669, -6.2669, -6.2669, -6.2669, -6.2669, -6.2669, -6.2669, -6.2669, -6.2669, -6.2669, -6.2669, -6.2669, -6.2669, -6.2669, -6.2669, -6.2669, -6.2669, -6.2669, -3.4088, -3.4088, -3.4088, -3.4088, -3.4088, -3.4088, -3.4088, -3.4088, -3.4088, -6.2669, -6.2669, -6.2669, -6.2669, -6.2669, -6.2669, -6.2669, -6.2669, -6.2669, -6.2669, -6.2669, -6.2669, -6.2669, -6.2669, -6.2669, -6.2669, -6.2669, -6.2669, -6.2669, -6.2669, -6.2669, -6.2669, -6.2669, -6.2669, -6.2669, -6.2669, -6.2669, -6.2669, -6.2669, -6.2669, -6.2669, -6.2669, -6.2669, -6.2669, -6.2669, -6.2669, -6.2669, -6.2669, -6.2669, -6.2669, -6.2669, -6.2669, -3.3772, -3.3772, -3.3772, -3.3772, -3.3772, -3.3772, -3.3772, -3.3772, -6.2352, -6.2352, -6.2352, -6.2352, -6.2352, -6.2352, -6.2352, -6.2352, -6.2352, -6.2352, -6.2352, -6.2352, -6.2352, -6.2352, -6.2352, -6.2352, -6.2352, -6.2352, -6.2352, -6.2352, -6.2352, -6.2352, -6.2352, -6.2352, -6.2352, -6.2352, -6.2352, -6.2352, -6.2352, -6.2352, -6.2352, -6.2352, -6.2352, -6.2352, -6.2352, -6.2352, -6.2352, -6.2352, -6.2352, -6.2352, -6.2352, -6.2352, -6.2352, -6.2352, -2.1331, -3.3255, -3.3255, -3.3255, -6.181, -6.1836, -6.1836, -6.1836, -6.1836, -6.1836, -6.1836, -6.1836, -6.1836, -6.1836, -6.1836, -6.1836, -6.1836, -6.1836, -6.1836, -6.1836, -6.1836, -6.1836, -6.1836, -6.1836, -6.1836, -6.1836, -6.1836, -6.1836, -6.1836, -6.1836, -6.1836, -6.1836, -6.1836, -6.1836, -6.1836, -6.1836, -6.1836, -6.1836, -6.1836, -6.1836, -6.1836, -6.1836, -6.1836, -6.1836, -6.1836, -6.1836, -6.1836, -6.1836, -6.1836, -6.1836, -6.1836, -6.1836, -6.1836, -6.1836, -6.1836, -1.4633, -6.1982, -6.1982, -6.1982, -6.1982, -6.1982, -6.1982, -6.1982, -6.1982, -6.1982, -6.1982, -6.1982, -6.1982, -6.1982, -6.1982, -6.1982, -6.1982, -6.1982, -6.1982, -6.1982, -6.1982, -6.1982, -6.1982, -6.1982, -6.1982, -6.1982, -6.1982, -6.1982, -6.1982, -6.1982, -6.1982, -6.1982, -6.1982, -6.1982, -6.1982, -6.1982, -6.1982, -6.1982, -6.1982, -6.1982, -6.1982, -6.1982, -6.1982, -6.1982, -6.1982, -6.1982, -6.1982, -6.1982, -6.1982, -6.1982, -6.1982, -6.1982, -6.1982, -6.1982, -6.1982, -6.1982, -6.1982, -6.1982, -6.1982, -3.2017, -3.2017, -3.2017, -6.0598, -6.0598, -6.0598, -6.0598, -6.0598, -6.0598, -6.0598, -6.0598, -6.0598, -6.0598, -6.0598, -6.0598, -6.0598, -6.0598, -6.0598, -6.0598, -6.0598, -6.0598, -6.0598, -6.0598, -6.0598, -6.0598, -6.0598, -6.0598, -6.0598, -6.0598, -6.0598, -6.0572, -6.0572, -6.0598, -6.0598, -6.0598, -6.0598, -6.0598, -6.0598, -6.0598, -6.0598, -6.0598, -6.0598, -6.0598, -6.0598, -6.0598, -6.0598, -6.0598, -6.0598, -6.0598, -6.0598, -6.0598, -6.0598, -6.0598, -6.0598, -6.0598, -6.0598, -6.0598], \"loglift\": [30.0, 29.0, 28.0, 27.0, 26.0, 25.0, 24.0, 23.0, 22.0, 21.0, 20.0, 19.0, 18.0, 17.0, 16.0, 15.0, 14.0, 13.0, 12.0, 11.0, 10.0, 9.0, 8.0, 7.0, 6.0, 5.0, 4.0, 3.0, 2.0, 1.0, 1.186, 1.1395, 1.0565, 1.0565, 1.0565, 1.0565, 1.0565, 1.0137, 0.8934, 0.8934, 0.8934, 0.8934, 0.8934, 0.8934, 0.8934, 0.8934, 0.8934, 0.8934, 0.8934, 0.8934, 0.8934, 0.8934, 0.8934, 0.8933, 0.7708, 0.7248, 0.6816, 0.6656, 0.653, 0.6007, 0.5502, 0.2803, -0.0549, 2.3762, 2.0247, 1.6732, 1.6732, 1.6732, 1.6732, 1.6732, 1.6732, 1.3743, 1.3609, 1.1059, 0.8968, 0.8655, -0.5727, -0.5727, -0.5727, -0.5727, -0.5734, -0.5738, -0.5747, -0.5747, -0.5747, -0.5747, -0.5747, -0.5747, -0.5747, -0.5747, -0.5747, -0.5747, -0.5747, -1.3987, -0.5826, -0.5826, -0.5826, -0.5826, -0.5826, -0.5826, -0.5826, -0.5826, -0.5826, -0.5826, 2.7177, 2.616, 2.616, 2.616, 2.4413, 2.3098, 2.3098, 2.3098, 2.3098, 2.3098, 1.952, 0.8852, 0.1699, 0.1683, 0.1683, 0.1683, 0.1683, 0.1683, 0.1681, 0.1681, 0.1681, 0.1681, 0.1681, 0.1681, 0.1681, 0.1681, 0.1681, 0.1677, 0.1669, 0.1669, 0.1666, 2.6996, 2.6424, 2.6424, 2.3002, 2.3002, 2.3002, 2.3002, 2.3002, 2.3002, 2.3002, 2.3002, 2.3002, 1.8591, 1.8517, 1.4426, 0.778, 0.5417, 0.0736, 0.0736, 0.0736, 0.0736, 0.0736, 0.0736, 0.0736, 0.0736, 0.0736, 0.0736, 0.0736, 0.0734, 0.0733, -3.7195, -1.8711, 0.0733, 2.8931, 2.778, 2.4395, 2.4395, 2.4395, 2.4395, 2.4395, 2.4395, 2.1391, 2.119, 2.0803, 1.9013, 1.6473, 1.2746, 0.2239, 0.2239, 0.2239, 0.2239, 0.2239, 0.2239, 0.2239, 0.2239, 0.2239, 0.2239, 0.2239, 0.2238, 0.2203, 0.2196, 0.2196, 0.2196, -1.1363, -0.3781, -0.3781, 2.7772, 2.7772, 2.4199, 2.4199, 2.4199, 2.4199, 2.4199, 2.4199, 2.4199, 2.4199, 2.4199, 2.4199, 2.4199, 2.4199, 2.4199, 2.4199, 2.0202, 1.8197, 0.162, 0.162, 0.162, 0.162, 0.162, 0.162, 0.162, 0.162, 0.162, 0.1595, 0.1595, 0.1595, -1.1964, -0.3368, -0.3368, 3.0306, 2.7766, 2.7766, 2.7766, 2.4076, 2.4076, 2.4076, 2.4076, 2.034, 1.5798, 0.1263, 0.1263, 0.1263, 0.1263, 0.1263, 0.1263, 0.1263, 0.1251, 0.1236, 0.1236, 0.1236, 0.1236, 0.1236, 0.1236, 0.1236, 0.1236, 0.1236, 0.1236, 0.1236, 0.1236, -1.2323, -0.4742, -0.4742, -0.8738, -0.9723, -0.3727, -0.3727, -0.3727, -1.213, -0.3727, -1.0743, -0.4742, 2.4149, 2.3906, 2.3906, 2.3906, 2.3906, 2.3906, 2.3906, 2.3906, 2.3906, 2.3906, 2.3906, 2.3906, 2.3906, 2.3906, 2.3906, 2.3906, 2.3906, 2.3906, 2.3906, 2.3906, 2.3906, 2.0689, 0.6866, 0.0908, 0.0908, 0.0908, 0.0908, 0.0908, 0.0908, 0.0908, -1.2651, -0.507, -0.507, -0.9066, -1.0051, -0.4056, -0.4056, 2.7965, 2.7272, 2.6776, 2.418, 2.418, 2.418, 2.418, 2.418, 2.418, 2.418, 2.418, 2.418, 2.418, 2.418, 2.418, 2.418, 2.0906, 1.7957, 0.1156, 0.1151, 0.1151, 0.1151, 0.1151, 0.1151, 0.1151, 0.1151, 0.1151, 0.1151, 0.1151, 0.1151, -1.0588, -3.677, -1.075, -1.2408, -0.4827, -0.4827, -0.8823, -0.9808, -0.3813, -0.3813, -0.3813, 2.8645, 2.5451, 2.5451, 2.5451, 2.1038, 1.8702, 1.0445, 0.3281, 0.3281, 0.3281, 0.3281, 0.3281, 0.3281, 0.3281, 0.3281, 0.3281, 0.3281, 0.3281, 0.3281, 0.3281, 0.3278, 0.3278, 0.3259, 0.3259, 0.3259, 0.3259, 0.3259, 0.3258, 0.3248, 0.3248, -3.4659, -1.0311, 2.9501, 2.774, 2.4585, 2.4585, 2.4585, 2.4585, 2.4585, 2.4585, 2.4585, 2.4584, 2.4584, 2.2807, 2.1409, 2.0393, 0.1425, 0.14, 0.14, 0.14, 0.14, 0.14, 0.14, 0.14, 0.14, 0.14, 0.14, 0.14, 0.14, 0.14, 0.14, 0.14, -1.2159, -0.4578, -0.4578, -0.8574, -0.9559, -0.3563, -0.3563, -0.3563, -1.1966, -0.3563, -1.0579, -0.4578, -0.4578, -0.4578, -0.4578, 3.2623, 3.2541, 2.7335, 2.7335, 2.7335, 0.4213, 0.4213, 0.4213, 0.4213, 0.4213, 0.4178, 0.4178, 0.4178, 0.4178, 0.4178, 0.4178, 0.4178, 0.4178, 0.4178, 0.4178, 0.4178, 0.4178, 0.4178, 0.4178, 0.4178, 0.4178, 0.4178, 0.4178, 0.4178, 0.4178, -0.18, -0.18, -0.5796, -0.6781, -0.0786, -0.0786, -0.0786, -0.9188, -0.0786, -0.7802, -0.18, -0.18, -0.18, -0.18, -0.7723, -0.7723, -0.1218, -0.1218, -0.1218, -0.18, 2.7025, 2.6993, 2.6993, 2.6993, 2.6993, 2.6993, 2.6993, 2.6993, 2.6993, 2.3325, 2.2925, 1.7774, 0.3569, 0.3569, 0.3569, 0.3569, 0.3569, 0.3569, 0.3569, 0.3569, 0.3569, 0.3569, 0.3569, 0.3569, 0.3569, 0.3569, 0.3569, 0.3569, 0.3569, 0.3569, -0.5291, -0.1813, -0.1816, -0.999, -0.2408, -0.2408, -0.6404, -0.7389, -0.1394, -0.1394, -0.1394, -0.9797, -0.1394, -0.841, -0.2408, -0.2408, -0.2408, -0.2408, 3.1215, 2.793, 2.793, 2.793, 2.793, 2.4669, 2.4218, 2.3632, 2.1244, 0.4437, 0.4437, 0.4437, 0.4437, 0.4437, 0.4437, 0.4437, 0.4437, 0.4437, 0.4437, 0.4437, 0.4437, 0.4437, 0.4437, 0.4437, 0.4437, 0.4437, 0.4437, 0.4437, 0.4437, 0.4437, -3.3329, -0.9122, -0.154, -0.154, -0.5536, -0.6521, -0.0526, -0.0526, -0.0526, -0.8929, -0.0526, -0.7542, -0.154, -0.154, -0.154, -0.154, -0.7463, -0.7463, -0.0958, -0.0958, -0.0958, 3.17, 2.8362, 2.8362, 2.8362, 2.8362, 2.8362, 2.8362, 1.9959, 0.4745, 0.4745, 0.4745, 0.4745, 0.4745, 0.4745, 0.4745, 0.4745, 0.4745, 0.4745, 0.4745, 0.4745, 0.4745, 0.4745, 0.4745, 0.4745, 0.4745, 0.4745, 0.4745, 0.4745, 0.4745, 0.4745, -0.8814, -0.1233, -0.1233, -0.5229, -0.6214, -0.7235, -0.1233, -0.1233, -0.1233, -0.1233, -0.7156, -0.7156, -0.0651, -0.0651, -0.0651, -0.1233, -0.0651, -0.0651, -0.3827, -1.8638, -1.1536, -0.021, 2.837, 2.837, 2.837, 2.837, 2.837, 2.4976, 2.4753, 2.4235, 1.7045, 0.4745, 0.4745, 0.4745, 0.4745, 0.4745, 0.4745, 0.4745, 0.4745, 0.4745, 0.4745, 0.4745, 0.4745, 0.4745, 0.4745, 0.4745, 0.4745, 0.4745, 0.4745, 0.4745, 0.4745, 0.4745, -0.8814, -0.1233, -0.1233, -0.5229, -0.6214, -0.0219, -0.0219, -0.0219, -0.8621, -0.0219, -0.7235, -0.1233, -0.1233, -0.1233, -0.1233, -0.7156, -0.7156, -0.0651, -0.0651, -0.0651, -0.1233, 2.8738, 2.8738, 2.8738, 2.8738, 2.8738, 2.8738, 2.8738, 2.8738, 0.5061, 0.5061, 0.5061, 0.5061, 0.5061, 0.5061, 0.5061, 0.5061, 0.5061, 0.5061, 0.5061, 0.5061, 0.5061, 0.5061, 0.5061, 0.5061, 0.5061, 0.5061, 0.5061, 0.5061, 0.5061, 0.5061, -0.8498, -0.0916, -0.0916, -0.4912, -0.5897, 0.0098, 0.0098, 0.0098, -0.8305, 0.0098, -0.6918, -0.0916, -0.0916, -0.0916, -0.0916, -0.6839, -0.6839, -0.0334, -0.0334, -0.0334, -0.0916, -0.0334, 3.2717, 2.9275, 2.9275, 1.2776, 0.5602, 0.5578, 0.5578, 0.5578, 0.5578, 0.5578, 0.5578, 0.5578, 0.5578, 0.5578, 0.5578, 0.5578, 0.5578, 0.5578, 0.5578, 0.5578, 0.5578, 0.5578, 0.5578, 0.5578, 0.5578, 0.5578, 0.5578, 0.5578, 0.5578, 0.5578, -0.7981, -0.0399, -0.0399, -0.4395, -0.538, 0.0615, 0.0615, 0.0615, 0.0615, -0.6401, -0.0399, -0.0399, -0.0399, -0.0399, -0.6322, -0.6322, 0.0183, 0.0183, 0.0183, -0.0399, 0.0183, 0.0183, -0.2994, -1.7805, -1.0702, 3.6359, 0.5432, 0.5432, 0.5432, 0.5432, 0.5432, 0.5432, 0.5432, 0.5432, 0.5432, 0.5432, 0.5432, 0.5432, 0.5432, 0.5432, 0.5432, 0.5432, 0.5432, 0.5432, 0.5432, 0.5432, 0.5432, 0.5432, 0.5432, 0.5432, 0.5432, 0.5432, 0.5432, 0.5432, 0.5432, -0.8127, -0.0546, -0.0546, -0.4542, -0.5527, 0.0469, 0.0469, 0.0469, -0.7934, 0.0469, -0.6547, -0.0546, -0.0546, -0.0546, -0.0546, -0.6469, -0.6469, 0.0037, 0.0037, 0.0037, -0.0546, 0.0037, 0.0037, -0.314, -1.7951, -1.0848, 0.0477, -0.3659, 0.0477, 3.0789, 3.0789, 3.0789, 0.6816, 0.6816, 0.6816, 0.6816, 0.6816, 0.6816, 0.6816, 0.6816, 0.6816, 0.6816, 0.6816, 0.6816, 0.6816, 0.6816, 0.6816, 0.6816, 0.6816, 0.6816, 0.6816, 0.6816, 0.6816, 0.6816, 0.6816, 0.6816, 0.6816, 0.6816, 0.6816, -1.4541, -0.6062, -0.6743, 0.0838, 0.0838, -0.3158, -0.4143, 0.1853, 0.1853, 0.1853, -0.655, 0.1853, -0.5163, 0.0838, 0.0838, 0.0838, 0.0838, -0.5085, -0.5085, 0.142, 0.142, 0.142, 0.0838, 0.142, 0.142, -0.1756, -1.6567]}, \"token.table\": {\"Topic\": [1, 5, 14, 9, 7, 2, 13, 7, 14, 2, 2, 12, 11, 6, 7, 4, 8, 1, 1, 10, 16, 15, 1, 9, 11, 6, 8, 8, 6, 12, 3, 4, 1, 8, 5, 6, 3, 6, 9, 15, 4, 7, 4, 9, 5, 3, 3, 8, 11, 1, 2, 18, 8, 13, 11, 2, 9, 1, 8, 10, 3, 1, 1, 7, 1, 13, 4, 5, 7, 14, 11, 11, 14, 16, 8, 15, 4, 6, 4, 5, 13, 8, 17, 1, 11, 16, 6, 1, 5, 1, 12, 6, 1, 1, 11, 17, 1, 6, 4, 1, 5, 7, 9, 16, 4, 5, 9, 13, 6, 17, 17, 2, 4, 15, 20, 1, 4, 1, 1, 11, 1, 2, 4, 10, 8, 6, 9, 4, 15, 15, 18, 7, 1, 17, 14, 5, 11, 8, 8, 8, 1, 16, 6, 14, 8, 3, 17, 1, 9, 5, 6, 8, 2, 16, 8, 8, 15, 1, 4, 10, 1, 1, 7, 3, 5, 2, 12, 9, 8, 9, 4, 18, 7, 5, 14, 6, 17, 13, 1, 2, 8, 8, 1, 16, 9, 3, 11, 4, 9, 19, 8, 14, 10, 2, 20, 17, 13, 1, 3, 4, 10, 18, 2, 9, 14, 6, 1, 10, 6, 16, 13, 8, 11, 5, 6, 12, 9, 3, 13, 13, 5, 6, 9, 9, 16, 3, 13, 9, 1, 13, 15, 2, 3, 8, 1, 11, 20, 11], \"Freq\": [0.599015555647612, 0.3851460714695958, 0.3851460714695958, 0.5651422694955394, 0.5545577725294857, 0.3914044492581262, 0.3914044492581262, 0.6818282934236177, 0.591958900257902, 0.5349030310581251, 0.5349030310581251, 0.5724052430142191, 0.5740181154836836, 0.5415600273803529, 0.8437561488319836, 0.5242425837474984, 0.5633841781538209, 0.5990221536522198, 0.5990126036321988, 0.7731533206636697, 0.19328833016591743, 0.599374962048676, 0.5990119958679314, 0.5651422694955394, 0.5740183552183323, 0.29716254458297864, 0.5943250891659573, 0.56338434719804, 0.6581827257502804, 0.5724072427023843, 0.3372308184666314, 0.3372308184666314, 0.820100313643292, 0.1025125392054115, 0.520079649859305, 0.5415627996589688, 0.7829323445834705, 0.5415598877699502, 0.5651432583541179, 0.5993755783859746, 0.6275078702200886, 0.6818270508526679, 0.5242382280365133, 0.5651427433231764, 0.520079649859305, 0.48228630271796274, 0.8353668789979145, 0.56338434719804, 0.5740181154836836, 0.47702340520334446, 0.23851170260167223, 0.6041195069289049, 0.5633854459879366, 0.5878632219854605, 0.5740191719235593, 0.9743637237387553, 0.565142763924396, 0.8992345732662168, 0.5633876435805881, 0.5203379956469066, 0.8353671993382318, 0.9873890568084936, 0.4846840558442045, 0.24234202792210224, 0.5990126036321988, 0.58786339704074, 0.5242348354474469, 0.5200799524279865, 0.5545603823540609, 0.591958900257902, 0.8544252051424439, 0.5740181154836836, 0.4272270472736644, 0.4272270472736644, 0.5633841781538209, 0.599374962048676, 0.5242348354474469, 0.5415600273803529, 0.5242348354474469, 0.30361838950311526, 0.30361838950311526, 0.5633841781538209, 0.6029363794476156, 0.8992377039062138, 0.41780258233815926, 0.41780258233815926, 0.5415598877699502, 0.47103736762112597, 0.23551868381056298, 0.5990113012817074, 0.761215550551949, 0.541560246768274, 0.5990119958679314, 0.599015555647612, 0.5740181154836836, 0.6029363794476156, 0.8992343776019407, 0.5415607852666519, 0.6275005349200589, 0.3244863832738375, 0.16224319163691875, 0.3244863832738375, 0.7014987788047274, 0.5998652733250248, 0.5242348354474469, 0.883793205270223, 0.40735397049208344, 0.40735397049208344, 0.5415607852666519, 0.6029363794476156, 0.6029363794476156, 0.5349020934768878, 0.8127303683759939, 0.5993755783859746, 0.6210680483563986, 0.5990114749281124, 0.524234791672391, 0.5990397798212285, 0.5700277317527379, 0.38001848783515857, 0.6477710440089806, 0.23555310691235656, 0.11777655345617828, 0.5203379956469066, 0.5633854459879366, 0.5415607852666519, 0.5651422694955394, 0.5242348354474469, 0.599374962048676, 0.2586832218627187, 0.5173664437254374, 0.5545604029039581, 0.5990114749281124, 0.602937055715916, 0.42320009272893455, 0.37747027740610295, 0.37747027740610295, 0.5633841781538209, 0.5633876435805881, 0.5633841781538209, 0.5990126036321988, 0.5998653853357114, 0.5415598877699502, 0.591958900257902, 0.56338434719804, 0.48228630271796274, 0.602937055715916, 0.5990119958679314, 0.5651422694955394, 0.3631572067611632, 0.3631572067611632, 0.56338434719804, 0.39668885320206815, 0.39668885320206815, 0.5633841781538209, 0.5633841781538209, 0.43081670944499223, 0.5419648007069016, 0.0903274667844836, 0.3613098671379344, 0.5990126904557663, 0.8992375082405754, 0.5545604029039581, 0.48228630271796274, 0.6202818649415415, 0.5349020934768878, 0.78007822357569, 0.5651422694955394, 0.56338434719804, 0.565142763924396, 0.5242348354474469, 0.6041195069289049, 0.6818264295688913, 0.520079649859305, 0.591958900257902, 0.5415627996589688, 0.6029363794476156, 0.58786339704074, 0.8992345732662168, 0.6462777575808376, 0.5633841781538209, 0.5633841781538209, 0.5990126904557663, 0.5998653853357114, 0.565142763924396, 0.48228630271796274, 0.5740183552183323, 0.22236257652665806, 0.6670877295799742, 0.762272471021875, 0.4083929178040584, 0.4083929178040584, 0.5203382850246195, 0.5349079065335424, 0.6210680483563986, 0.6029363794476156, 0.5878632219854605, 0.23207207750314252, 0.11603603875157126, 0.3481081162547138, 0.11603603875157126, 0.11603603875157126, 0.3033125806249557, 0.3033125806249557, 0.3033125806249557, 0.5415607852666519, 0.6757745761069172, 0.22525819203563904, 0.541560246768274, 0.5998652733250248, 0.5878632219854605, 0.5633841781538209, 0.5740183552183323, 0.5200826566512123, 0.5415598877699502, 0.5724052430142191, 0.565142763924396, 0.4822895460095333, 0.5878638426364671, 0.58786339704074, 0.5200799524279865, 0.6581826962911725, 0.565142763924396, 0.7926216243973464, 0.5998653853357114, 0.7014851870257317, 0.2338283956752439, 0.5651427433231764, 0.5990113012817074, 0.58786339704074, 0.599374962048676, 0.5349020934768878, 0.835368841086214, 0.5633841781538209, 0.9576994684272184, 0.5740189499489664, 0.6210680483563986, 0.4050967843193638], \"Term\": [\"aifeiherme\", \"andy\", \"andy\", \"audemarspiguet\", \"aunty\", \"available\", \"available\", \"awww\", \"believe\", \"ble\", \"blingtastc\", \"bro\", \"business\", \"bz\", \"cantik\", \"cantiknyaa\", \"canvasbag\", \"cat\", \"catsofinstagram\", \"chair\", \"chair\", \"chan\", \"cherrychoo\", \"chinesemagazine\", \"chistma\", \"christma\", \"christma\", \"clear\", \"coffee\", \"colour\", \"com\", \"com\", \"come\", \"come\", \"compliment\", \"content\", \"cover\", \"craft\", \"cup\", \"curlass\", \"cushion\", \"cute\", \"cuuute\", \"daybe\", \"definitely\", \"depend\", \"detail\", \"disciplinary\", \"diy\", \"dot\", \"dot\", \"dq\", \"dream\", \"east\", \"eternalgluck\", \"eye\", \"fabric\", \"family\", \"favourite\", \"feature\", \"feel\", \"feelathome\", \"felix\", \"felix\", \"felixthegangsta\", \"find\", \"fire\", \"floor\", \"folded_hand\", \"forgive\", \"furniture\", \"future\", \"get\", \"get\", \"giftideas\", \"giftsnsuchsg\", \"give\", \"go\", \"gorgeousss\", \"great\", \"great\", \"greetingcard\", \"gumkid\", \"guy\", \"haha\", \"haha\", \"handmadecard\", \"happy\", \"happy\", \"hari\", \"heart_suit\", \"hellonoraa\", \"help\", \"hermeswechat\", \"home\", \"homesweethome\", \"hope\", \"hpu\", \"https\", \"hugging_face\", \"hugging_face\", \"hugging_face\", \"idea\", \"ideal\", \"insta\", \"interior\", \"jarrodstone\", \"jarrodstone\", \"keren\", \"kiddymouthwash\", \"kiddytoothpaste\", \"kind\", \"koniska\", \"lah\", \"lemon\", \"let\", \"lianaalin\", \"loaf\", \"look\", \"look\", \"love\", \"love\", \"love\", \"loveeee\", \"make\", \"mantolnya\", \"maxmara\", \"mind\", \"mr\", \"much\", \"much\", \"nadeeaannaa\", \"nadon\", \"nakspud\", \"name\", \"need\", \"need\", \"ngeeanncity\", \"oooh\", \"orchardroad\", \"outofstock\", \"page\", \"papercraft\", \"park\", \"partial\", \"particular\", \"piece\", \"pink\", \"pinprestige\", \"pleasure\", \"pleasure\", \"policy\", \"polka\", \"polka\", \"popup\", \"popupshop\", \"post\", \"product\", \"product\", \"product\", \"prologue\", \"purchase\", \"queen\", \"quotation\", \"raising_hand\", \"really\", \"red_heart\", \"redefiningluxe\", \"refund\", \"remove\", \"repost\", \"rozie\", \"rumah\", \"sallytumultuous\", \"say\", \"scanteaksmile\", \"scanteakstool\", \"see\", \"serve\", \"set\", \"sgchristma\", \"sgdesign\", \"share\", \"shot\", \"size\", \"slank\", \"snowglobe\", \"sofa\", \"sofa\", \"sparkle\", \"staff\", \"staff\", \"stephlimmss\", \"still\", \"stuff\", \"sunstargum\", \"suntec\", \"table\", \"table\", \"table\", \"table\", \"table\", \"thank\", \"thank\", \"thank\", \"theminiloft\", \"think\", \"think\", \"though\", \"thought\", \"tomorrow\", \"totebag\", \"trickeye\", \"two_heart\", \"uniquegrab\", \"uniquely\", \"version\", \"villa\", \"visualtroop\", \"wait\", \"wall\", \"want\", \"washing\", \"watch\", \"watchmerchant\", \"website\", \"website\", \"westgate\", \"whole\", \"window\", \"wish\", \"word\", \"www\", \"xmas\", \"year\", \"yong\", \"yuniqueee\", \"zhong\"]}, \"R\": 30, \"lambda.step\": 0.01, \"plot.opts\": {\"xlab\": \"PC1\", \"ylab\": \"PC2\"}, \"topic.order\": [11, 18, 19, 16, 20, 12, 7, 15, 17, 13, 3, 10, 9, 4, 5, 14, 8, 6, 1, 2]};\n",
       "\n",
       "function LDAvis_load_lib(url, callback){\n",
       "  var s = document.createElement('script');\n",
       "  s.src = url;\n",
       "  s.async = true;\n",
       "  s.onreadystatechange = s.onload = callback;\n",
       "  s.onerror = function(){console.warn(\"failed to load library \" + url);};\n",
       "  document.getElementsByTagName(\"head\")[0].appendChild(s);\n",
       "}\n",
       "\n",
       "if(typeof(LDAvis) !== \"undefined\"){\n",
       "   // already loaded: just create the visualization\n",
       "   !function(LDAvis){\n",
       "       new LDAvis(\"#\" + \"ldavis_el1782813583189092486482288145\", ldavis_el1782813583189092486482288145_data);\n",
       "   }(LDAvis);\n",
       "}else if(typeof define === \"function\" && define.amd){\n",
       "   // require.js is available: use it to load d3/LDAvis\n",
       "   require.config({paths: {d3: \"https://d3js.org/d3.v5\"}});\n",
       "   require([\"d3\"], function(d3){\n",
       "      window.d3 = d3;\n",
       "      LDAvis_load_lib(\"https://cdn.jsdelivr.net/gh/bmabey/pyLDAvis@3.3.1/pyLDAvis/js/ldavis.v3.0.0.js\", function(){\n",
       "        new LDAvis(\"#\" + \"ldavis_el1782813583189092486482288145\", ldavis_el1782813583189092486482288145_data);\n",
       "      });\n",
       "    });\n",
       "}else{\n",
       "    // require.js not available: dynamically load d3 & LDAvis\n",
       "    LDAvis_load_lib(\"https://d3js.org/d3.v5.js\", function(){\n",
       "         LDAvis_load_lib(\"https://cdn.jsdelivr.net/gh/bmabey/pyLDAvis@3.3.1/pyLDAvis/js/ldavis.v3.0.0.js\", function(){\n",
       "                 new LDAvis(\"#\" + \"ldavis_el1782813583189092486482288145\", ldavis_el1782813583189092486482288145_data);\n",
       "            })\n",
       "         });\n",
       "}\n",
       "</script>"
      ],
      "text/plain": [
       "PreparedData(topic_coordinates=              x         y  topics  cluster       Freq\n",
       "topic                                                \n",
       "10    -0.194681 -0.253542       1        1  30.211136\n",
       "17    -0.276607  0.196171       2        1   9.091770\n",
       "18     0.038043  0.005952       3        1   5.373158\n",
       "15    -0.021367 -0.021137       4        1   4.971832\n",
       "19     0.036698  0.000477       5        1   4.364509\n",
       "11     0.048452  0.020835       6        1   4.245199\n",
       "6      0.030945 -0.006359       7        1   4.171415\n",
       "14     0.040373  0.004630       8        1   4.155969\n",
       "16     0.038048  0.031978       9        1   4.026688\n",
       "12     0.000276 -0.048622      10        1   3.924788\n",
       "2      0.024423 -0.017696      11        1   3.785032\n",
       "9      0.031688  0.010253      12        1   2.886364\n",
       "8      0.031068  0.021599      13        1   2.874758\n",
       "3      0.026229  0.018505      14        1   2.590480\n",
       "4      0.030106  0.008844      15        1   2.434106\n",
       "13     0.022756  0.013033      16        1   2.429033\n",
       "7      0.027824  0.008111      17        1   2.322614\n",
       "5      0.021565 -0.002788      18        1   2.194487\n",
       "0      0.025650  0.006451      19        1   2.144566\n",
       "1      0.018512  0.003303      20        1   1.802096, topic_info=              Term       Freq      Total Category  logprob  loglift\n",
       "34             eye  45.000000  45.000000  Default  30.0000  30.0000\n",
       "86      feelathome  80.000000  80.000000  Default  29.0000  29.0000\n",
       "24            look  10.000000  10.000000  Default  28.0000  28.0000\n",
       "155         cantik   7.000000   7.000000  Default  27.0000  27.0000\n",
       "168        sparkle   5.000000   5.000000  Default  26.0000  26.0000\n",
       "..             ...        ...        ...      ...      ...      ...\n",
       "20   scanteaksmile   0.036186   1.846508  Topic20  -6.0598   0.0838\n",
       "21        business   0.036186   1.742105  Topic20  -6.0598   0.1420\n",
       "22          future   0.036186   1.742105  Topic20  -6.0598   0.1420\n",
       "23            haha   0.036186   2.393475  Topic20  -6.0598  -0.1756\n",
       "24            look   0.036186  10.525804  Topic20  -6.0598  -1.6567\n",
       "\n",
       "[906 rows x 6 columns], token_table=      Topic      Freq            Term\n",
       "term                                 \n",
       "15        1  0.599016      aifeiherme\n",
       "45        5  0.385146            andy\n",
       "45       14  0.385146            andy\n",
       "97        9  0.565142  audemarspiguet\n",
       "157       7  0.554558           aunty\n",
       "...     ...       ...             ...\n",
       "138       8  0.563384            xmas\n",
       "72        1  0.957699            year\n",
       "37       11  0.574019            yong\n",
       "167      20  0.621068       yuniqueee\n",
       "38       11  0.405097           zhong\n",
       "\n",
       "[238 rows x 3 columns], R=30, lambda_step=0.01, plot_opts={'xlab': 'PC1', 'ylab': 'PC2'}, topic_order=[11, 18, 19, 16, 20, 12, 7, 15, 17, 13, 3, 10, 9, 4, 5, 14, 8, 6, 1, 2])"
      ]
     },
     "execution_count": 128,
     "metadata": {},
     "output_type": "execute_result"
    }
   ],
   "source": [
    "'''\n",
    "Now that the LDA model is built, the next step is to examine the produced \n",
    "topics and the associated keywords. There is no better tool than pyLDAvis package’s \n",
    "interactive chart and is designed to work well with jupyter notebooks.\n",
    "'''\n",
    "# Visualize the topics\n",
    "pyLDAvis.enable_notebook()\n",
    "vis = pyLDAvis.gensim_models.prepare(lda_model, corpus, id2word)\n",
    "vis"
   ]
  },
  {
   "cell_type": "code",
   "execution_count": 129,
   "metadata": {},
   "outputs": [
    {
     "data": {
      "text/plain": [
       "'\\nSo how to infer pyLDAvis’s output?\\n\\nEach bubble on the left-hand side plot represents a topic. \\nThe larger the bubble, the more prevalent is that topic.\\n\\nA good topic model will have fairly big, non-overlapping bubbles scattered \\nthroughout the chart instead of being clustered in one quadrant.\\n\\nA model with too many topics, will typically have many overlaps, \\nsmall sized bubbles clustered in one region of the chart.\\n\\nAlright, if you move the cursor over one of the bubbles, \\nthe words and bars on the right-hand side will update. \\nThese words are the salient keywords that form the selected topic.\\n\\nWe have successfully built a good looking topic model.\\n'"
      ]
     },
     "execution_count": 129,
     "metadata": {},
     "output_type": "execute_result"
    }
   ],
   "source": [
    "'''\n",
    "So how to infer pyLDAvis’s output?\n",
    "\n",
    "Each bubble on the left-hand side plot represents a topic. \n",
    "The larger the bubble, the more prevalent is that topic.\n",
    "\n",
    "A good topic model will have fairly big, non-overlapping bubbles scattered \n",
    "throughout the chart instead of being clustered in one quadrant.\n",
    "\n",
    "A model with too many topics, will typically have many overlaps, \n",
    "small sized bubbles clustered in one region of the chart.\n",
    "\n",
    "Alright, if you move the cursor over one of the bubbles, \n",
    "the words and bars on the right-hand side will update. \n",
    "These words are the salient keywords that form the selected topic.\n",
    "\n",
    "We have successfully built a good looking topic model.\n",
    "'''"
   ]
  },
  {
   "cell_type": "code",
   "execution_count": null,
   "metadata": {},
   "outputs": [],
   "source": []
  },
  {
   "cell_type": "code",
   "execution_count": null,
   "metadata": {},
   "outputs": [],
   "source": []
  }
 ],
 "metadata": {
  "kernelspec": {
   "display_name": "Python 3",
   "language": "python",
   "name": "python3"
  },
  "language_info": {
   "codemirror_mode": {
    "name": "ipython",
    "version": 3
   },
   "file_extension": ".py",
   "mimetype": "text/x-python",
   "name": "python",
   "nbconvert_exporter": "python",
   "pygments_lexer": "ipython3",
   "version": "3.8.3"
  }
 },
 "nbformat": 4,
 "nbformat_minor": 2
}
