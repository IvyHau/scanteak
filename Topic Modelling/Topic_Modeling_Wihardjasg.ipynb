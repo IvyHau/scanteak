{
 "cells": [
  {
   "cell_type": "code",
   "execution_count": 1,
   "metadata": {},
   "outputs": [
    {
     "name": "stderr",
     "output_type": "stream",
     "text": [
      "[nltk_data] Downloading package stopwords to C:\\Users\\Yong\n",
      "[nltk_data]     Jie\\AppData\\Roaming\\nltk_data...\n",
      "[nltk_data]   Package stopwords is already up-to-date!\n"
     ]
    },
    {
     "data": {
      "text/plain": [
       "True"
      ]
     },
     "execution_count": 1,
     "metadata": {},
     "output_type": "execute_result"
    }
   ],
   "source": [
    "'''\n",
    "We will need the stopwords from NLTK and spacy’s en model for text pre-processing.\n",
    "Later, we will be using the spacy model for lemmatization.\n",
    "\n",
    "Lemmatization is nothing but converting a word to its root word.\n",
    "For example: the lemma of the word ‘machines’ is ‘machine’.\n",
    "\n",
    "Likewise, ‘walking’ –> ‘walk’, ‘mice’ –> ‘mouse’ and so on.\n",
    "\n",
    "'''\n",
    "\n",
    "# Run in python console\n",
    "import nltk\n",
    "nltk.download('stopwords')\n",
    "\n",
    "# nltk.download('stopwords') # You already did this in a previous lab"
   ]
  },
  {
   "cell_type": "code",
   "execution_count": 2,
   "metadata": {},
   "outputs": [],
   "source": [
    "import re\n",
    "import numpy as np\n",
    "import pandas as pd\n",
    "from pprint import pprint"
   ]
  },
  {
   "cell_type": "code",
   "execution_count": 3,
   "metadata": {},
   "outputs": [],
   "source": [
    "# Gensim (Topic Modeling Pacakge)\n",
    "import gensim\n",
    "import gensim.corpora as corpora\n",
    "from gensim.utils import simple_preprocess\n",
    "from gensim.models import CoherenceModel"
   ]
  },
  {
   "cell_type": "code",
   "execution_count": 4,
   "metadata": {},
   "outputs": [],
   "source": [
    "# spacy for lemmatization\n",
    "import spacy"
   ]
  },
  {
   "cell_type": "code",
   "execution_count": 5,
   "metadata": {},
   "outputs": [
    {
     "name": "stderr",
     "output_type": "stream",
     "text": [
      "C:\\Anaconda\\lib\\site-packages\\sklearn\\decomposition\\_lda.py:28: DeprecationWarning: `np.float` is a deprecated alias for the builtin `float`. To silence this warning, use `float` by itself. Doing this will not modify any behavior and is safe. If you specifically wanted the numpy scalar type, use `np.float64` here.\n",
      "Deprecated in NumPy 1.20; for more details and guidance: https://numpy.org/devdocs/release/1.20.0-notes.html#deprecations\n",
      "  EPS = np.finfo(np.float).eps\n"
     ]
    }
   ],
   "source": [
    "# Plotting tools\n",
    "import pyLDAvis\n",
    "import pyLDAvis.gensim_models  # don't skip this\n",
    "import matplotlib.pyplot as plt\n",
    "%matplotlib inline"
   ]
  },
  {
   "cell_type": "code",
   "execution_count": 6,
   "metadata": {},
   "outputs": [],
   "source": [
    "# Enable logging for gensim - optional\n",
    "import logging\n",
    "logging.basicConfig(format='%(asctime)s : %(levelname)s : %(message)s', level=logging.ERROR)\n",
    "\n",
    "import warnings\n",
    "warnings.filterwarnings(\"ignore\",category=DeprecationWarning)"
   ]
  },
  {
   "cell_type": "code",
   "execution_count": 7,
   "metadata": {},
   "outputs": [],
   "source": [
    "# NLTK Stop words\n",
    "from nltk.corpus import stopwords\n",
    "stop_words = stopwords.words('english')\n"
   ]
  },
  {
   "cell_type": "code",
   "execution_count": 8,
   "metadata": {},
   "outputs": [
    {
     "data": {
      "text/html": [
       "<div>\n",
       "<style scoped>\n",
       "    .dataframe tbody tr th:only-of-type {\n",
       "        vertical-align: middle;\n",
       "    }\n",
       "\n",
       "    .dataframe tbody tr th {\n",
       "        vertical-align: top;\n",
       "    }\n",
       "\n",
       "    .dataframe thead th {\n",
       "        text-align: right;\n",
       "    }\n",
       "</style>\n",
       "<table border=\"1\" class=\"dataframe\">\n",
       "  <thead>\n",
       "    <tr style=\"text-align: right;\">\n",
       "      <th></th>\n",
       "      <th>date</th>\n",
       "      <th>username</th>\n",
       "      <th>text</th>\n",
       "    </tr>\n",
       "  </thead>\n",
       "  <tbody>\n",
       "    <tr>\n",
       "      <th>0</th>\n",
       "      <td>2019-05-23 19:01:44</td>\n",
       "      <td>freelaslz</td>\n",
       "      <td>Muito bom seu perfil!! wihardjasg quer potenci...</td>\n",
       "    </tr>\n",
       "    <tr>\n",
       "      <th>1</th>\n",
       "      <td>2019-06-04 22:28:42</td>\n",
       "      <td>hearty_hearty</td>\n",
       "      <td>price pls</td>\n",
       "    </tr>\n",
       "    <tr>\n",
       "      <th>2</th>\n",
       "      <td>2019-05-25 21:47:44</td>\n",
       "      <td>qushie</td>\n",
       "      <td>Hi how much is this sofa?</td>\n",
       "    </tr>\n",
       "    <tr>\n",
       "      <th>3</th>\n",
       "      <td>2019-05-24 17:13:54</td>\n",
       "      <td>ardy_iphone</td>\n",
       "      <td>Nice la:smiling_face_with_heart-eyes:</td>\n",
       "    </tr>\n",
       "    <tr>\n",
       "      <th>4</th>\n",
       "      <td>2019-05-24 14:49:47</td>\n",
       "      <td>carpentersdesignsg</td>\n",
       "      <td>Wow :red_heart:</td>\n",
       "    </tr>\n",
       "  </tbody>\n",
       "</table>\n",
       "</div>"
      ],
      "text/plain": [
       "                  date            username  \\\n",
       "0  2019-05-23 19:01:44           freelaslz   \n",
       "1  2019-06-04 22:28:42       hearty_hearty   \n",
       "2  2019-05-25 21:47:44              qushie   \n",
       "3  2019-05-24 17:13:54         ardy_iphone   \n",
       "4  2019-05-24 14:49:47  carpentersdesignsg   \n",
       "\n",
       "                                                text  \n",
       "0  Muito bom seu perfil!! wihardjasg quer potenci...  \n",
       "1                                          price pls  \n",
       "2                          Hi how much is this sofa?  \n",
       "3              Nice la:smiling_face_with_heart-eyes:  \n",
       "4                                    Wow :red_heart:  "
      ]
     },
     "execution_count": 8,
     "metadata": {},
     "output_type": "execute_result"
    }
   ],
   "source": [
    "'''\n",
    "We will be using the 20-Newsgroups dataset for this exercise.\n",
    "This version of the dataset contains about 11k newsgroups posts from \n",
    "20 different topics. This is available as newsgroups.json.\n",
    "'''\n",
    "# Import Dataset\n",
    "df = pd.read_csv('./wihardjasg.csv', encoding='utf-8')\n",
    "\n",
    "df.head()"
   ]
  },
  {
   "cell_type": "code",
   "execution_count": 9,
   "metadata": {
    "scrolled": true
   },
   "outputs": [
    {
     "name": "stderr",
     "output_type": "stream",
     "text": [
      "[nltk_data] Downloading package words to C:\\Users\\Yong\n",
      "[nltk_data]     Jie\\AppData\\Roaming\\nltk_data...\n",
      "[nltk_data]   Package words is already up-to-date!\n"
     ]
    }
   ],
   "source": [
    "import nltk\n",
    "nltk.download('words')\n",
    "words = set(nltk.corpus.words.words())\n",
    "\n",
    "\n",
    "\n"
   ]
  },
  {
   "cell_type": "code",
   "execution_count": 10,
   "metadata": {},
   "outputs": [
    {
     "name": "stdout",
     "output_type": "stream",
     "text": [
      "['Muito bom seu perfil!! wihardjasg quer potencializar suas redes sociais? Visite nosso perfil e conhea um pouco do nosso trabalho! :smiling_face_with_sunglasses:', 'price pls', 'Hi how much is this sofa?', 'Nice la:smiling_face_with_heart-eyes:', 'Wow :red_heart:', ':smiling_face_with_heart-eyes::smiling_face_with_heart-eyes:', 'May I know the cost pls', ':red_heart:', '@revathy_1986 see this link: https://bit.ly/2M3utOV ', 'Hi... May I know the price ?', 'Hey! Where do your shop online usually?', ':thumbs_up::thumbs_up::thumbs_up::thumbs_up:', 'Pm me the the 3 seaters teak wood', 'How much?', ':clapping_hands::clapping_hands::clapping_hands:', 'Pm me the price pls.', ':sparkles:', 'Please price?', '$?', '@fahmikus see this link https://bit.ly/2Wlz0jS']\n"
     ]
    }
   ],
   "source": [
    "'''\n",
    "As you can see there are many emails, newline and extra spaces that is quite distracting.\n",
    "Let’s get rid of them using regular expressions.\n",
    "'''\n",
    "# Convert to list\n",
    "data = df.text.values.tolist()\n",
    "new_data = []\n",
    "\n",
    "# Remove Emails\n",
    "data = [re.sub(r'[^\\x00-\\x7F]+', '', sent) for sent in data]\n",
    "\n",
    "# # Remove new line characters\n",
    "# data = [re.sub('\\s+', ' ', sent) for sent in data]\n",
    "\n",
    "# # Remove distracting single quotes\n",
    "# data = [re.sub(\"\\'\", \"\", sent) for sent in data]\n",
    "\n",
    "        \n",
    "    \n",
    "\n",
    "print(data[:20])"
   ]
  },
  {
   "cell_type": "code",
   "execution_count": 11,
   "metadata": {},
   "outputs": [
    {
     "name": "stdout",
     "output_type": "stream",
     "text": [
      "['muito', 'bom', 'seu', 'perfil', 'wihardjasg', 'quer', 'potencializar', 'suas', 'redes', 'sociais', 'visite', 'nosso', 'perfil', 'conhea', 'um', 'pouco', 'do', 'nosso', 'trabalho']\n",
      "[['muito', 'seu', 'perfil', 'wihardjasg', 'quer', 'potencializar', 'suas', 'redes', 'sociais', 'nosso', 'perfil', 'conhea', 'pouco', 'nosso', 'trabalho'], ['pls'], ['how', 'is', 'sofa'], ['la', 'eyes'], ['red_heart'], ['eyes', 'eyes'], ['know', 'cost', 'pls'], [], ['see', 'link', 'https', 'ly', 'utov'], ['may', 'the'], ['where', 'your', 'online'], ['thumbs_up', 'thumbs_up'], ['pm', 'the', 'seaters', 'wood'], ['much'], ['clapping_hands'], ['pm', 'the', 'pls'], ['sparkles'], ['price'], [], ['fahmikus', 'this', 'https', 'ly', 'wlz', 'js'], ['know', 'price', 'the', 'cabinet', 'pls'], ['much'], ['marcthanmusic'], ['okay', 'awesome'], ['semoga', 'murah', 'rezeki'], [], ['soleilfatcat', 'by', 'showrooms', 'see'], ['bibilcutlet'], ['if', 'can', 'it', 'can', 'it'], ['thumbs_up'], ['have', 'door'], ['eyes', 'eyes', 'eyes'], ['price'], ['this', 'coffeetable', 'for', 'down', 'cushions', 'the', 'instead', 'sofa', 'much'], ['is'], [], ['eyes', 'eyes', 'eyes'], ['is', 'thumbs_up', 'sparkles'], ['clapping_hands'], ['thumbs_up'], ['eyes'], ['thumbs_up'], ['eyes', 'eyes'], ['eyes', 'eyes', 'eyes'], [], ['eyes', 'eyes', 'eyes'], ['we', 'by', 'but', 'shops', 'kaki', 'bukit', 'genting', 'close'], ['eyes', 'eyes', 'eyes'], ['please', 'our', 'website', 'wja', 'sg', 'more', 'details'], ['hw', 'is', 'lshape'], ['eyes', 'eyes', 'eyes'], [], ['this', 'sets', 'available', 'much'], ['can', 'pm', 'for', 'trunk', 'pls'], ['already', 'wsaap', 'no'], ['maya_mompreneur', 'we', 'have', 'visit', 'website', 'more', 'details', 'wja', 'sg'], ['do', 'have', 'how', 'is'], ['pm', 'plz'], ['pm'], ['wihardja', 'members', 'pm', 'the', 'thank', 'you'], ['pls', 'price', 'partition'], ['clapping_hands'], ['know', 'price'], ['kyuenfoziah', 'visit', 'website', 'wja', 'sg', 'more', 'details'], ['eating', 'in', 'wood', 'see', 'wja', 'sg', 'more', 'details'], ['clapping_hands'], ['much', 'pls'], ['wood', 'what', 'is', 'the', 'please'], ['much', 'this'], ['hello', 'visit', 'website', 'wja', 'sg'], [], ['is', 'piece'], ['much', 'this'], ['pm', 'of', 'the', 'furniture', 'you'], ['of', 'the', 'white', 'and', 'it', 'at', 'sungei', 'kadut', 'for', 'viewing'], ['pls'], ['pm', 'the', 'for', 'wood', 'bed'], ['of', 'furniture', 'purchased', 'wihardjsg', 'its', 'and', 'shines', 'kaki', 'bukit', 'is', 'still', 'open'], ['much'], ['eyes', 'eyes', 'eyes']]\n"
     ]
    }
   ],
   "source": [
    "'''\n",
    "After removing the emails and extra spaces, the text still looks messy.\n",
    "It is not ready for the LDA to consume. You need to break down each sentence\n",
    "into a list of words through tokenization, while clearing up all the messy \n",
    "text in the process.\n",
    "\n",
    "Let’s tokenize each sentence into a list of words, removing punctuations and \n",
    "unnecessary characters altogether.\n",
    "\n",
    "Gensim’s simple_preprocess() is great for this.\n",
    "Additionally I have set deacc=True to remove the punctuations.\n",
    "'''\n",
    "def sent_to_words(sentences):\n",
    "    for sentence in sentences:\n",
    "        yield(gensim.utils.simple_preprocess(str(sentence), deacc=True))  # deacc=True removes punctuations\n",
    "\n",
    "data_words = list(sent_to_words(data))\n",
    "print(data_words[0])\n",
    "for list_of_words in data_words:\n",
    "    for word in list_of_words:\n",
    "        if word.lower() in words or not word.isalpha():\n",
    "            list_of_words.remove(word)\n",
    "    \n",
    "print(data_words[:80])"
   ]
  },
  {
   "cell_type": "code",
   "execution_count": 12,
   "metadata": {},
   "outputs": [
    {
     "name": "stdout",
     "output_type": "stream",
     "text": [
      "[['muito', 'seu', 'perfil', 'wihardjasg', 'quer', 'potencializar', 'suas', 'redes', 'sociais', 'nosso', 'perfil', 'conhea', 'pouco', 'nosso', 'trabalho'], ['pls'], ['how', 'is', 'sofa'], ['la', 'eyes'], ['red_heart'], ['eyes', 'eyes'], ['know', 'cost', 'pls'], ['see', 'link', 'https', 'ly', 'utov'], ['may', 'the'], ['where', 'your', 'online'], ['thumbs_up', 'thumbs_up'], ['pm', 'the', 'seaters', 'wood'], ['much'], ['clapping_hands'], ['pm', 'the', 'pls'], ['sparkles'], ['price'], ['fahmikus', 'this', 'https', 'ly', 'wlz', 'js'], ['know', 'price', 'the', 'cabinet', 'pls'], ['much']]\n"
     ]
    }
   ],
   "source": [
    "data_words = [x for x in data_words if x]\n",
    "\n",
    "print(data_words[0:20])"
   ]
  },
  {
   "cell_type": "code",
   "execution_count": 13,
   "metadata": {},
   "outputs": [
    {
     "name": "stdout",
     "output_type": "stream",
     "text": [
      "['muito', 'seu', 'perfil', 'wihardjasg', 'quer', 'potencializar', 'suas', 'redes', 'sociais', 'nosso', 'perfil', 'conhea', 'pouco', 'nosso', 'trabalho']\n"
     ]
    }
   ],
   "source": [
    "'''\n",
    "Bigrams are two words frequently occurring together in the document.\n",
    "Trigrams are 3 words frequently occurring.\n",
    "\n",
    "Some examples in our example are: ‘front_bumper’, ‘oil_leak’, ‘maryland_college_park’ etc.\n",
    "\n",
    "Gensim’s Phrases model can build and implement the bigrams, trigrams, \n",
    "quadgrams and more.\n",
    "\n",
    "The two important arguments to Phrases are min_count and threshold.\n",
    "The higher the values of these param, the harder it is for words to be combined to bigrams.\n",
    "'''\n",
    "# Build the bigram and trigram models\n",
    "bigram = gensim.models.Phrases(data_words, min_count=5, threshold=100) # higher threshold fewer phrases.\n",
    "trigram = gensim.models.Phrases(bigram[data_words], threshold=100)  \n",
    "\n",
    "# Faster way to get a sentence clubbed as a trigram/bigram\n",
    "bigram_mod = gensim.models.phrases.Phraser(bigram)\n",
    "trigram_mod = gensim.models.phrases.Phraser(trigram)\n",
    "\n",
    "# See trigram example\n",
    "print(trigram_mod[bigram_mod[data_words[0]]])"
   ]
  },
  {
   "cell_type": "code",
   "execution_count": 14,
   "metadata": {},
   "outputs": [],
   "source": [
    "'''\n",
    "The bigrams model is ready. Let’s define the functions to remove the stopwords, \n",
    "make bigrams and lemmatization and call them sequentially.\n",
    "'''\n",
    "# Define functions for stopwords, bigrams, trigrams and lemmatization\n",
    "def remove_stopwords(texts):\n",
    "    return [[word for word in simple_preprocess(str(doc)) if word not in stop_words] for doc in texts]\n",
    "\n",
    "def make_bigrams(texts):\n",
    "    return [bigram_mod[doc] for doc in texts]\n",
    "\n",
    "def make_trigrams(texts):\n",
    "    return [trigram_mod[bigram_mod[doc]] for doc in texts]\n",
    "\n",
    "def lemmatization(texts, allowed_postags=['NOUN', 'ADJ', 'VERB', 'ADV']):\n",
    "    \"\"\"https://spacy.io/api/annotation\"\"\"\n",
    "    texts_out = []\n",
    "    for sent in texts:\n",
    "        doc = nlp(\" \".join(sent)) \n",
    "        texts_out.append([token.lemma_ for token in doc if token.pos_ in allowed_postags])\n",
    "    return texts_out"
   ]
  },
  {
   "cell_type": "code",
   "execution_count": 15,
   "metadata": {},
   "outputs": [
    {
     "name": "stdout",
     "output_type": "stream",
     "text": [
      "[['muito', 'seu', 'perfil', 'wihardjasg', 'quer', 'potencializar', 'suas', 'rede', 'sociais', 'nosso', 'perfil', 'conhea', 'pouco', 'nosso', 'trabalho']]\n"
     ]
    }
   ],
   "source": [
    "'''\n",
    "Let’s call the functions in order.\n",
    "'''\n",
    "# Remove Stop Words\n",
    "data_words_nostops = remove_stopwords(data_words)\n",
    "\n",
    "# Form Bigrams\n",
    "data_words_bigrams = make_bigrams(data_words_nostops)\n",
    "\n",
    "# Initialize spacy 'en' model, keeping only tagger component (for efficiency)\n",
    "# python3 -m spacy download en\n",
    "nlp = spacy.load('en_core_web_sm', disable=['parser', 'ner'])\n",
    "\n",
    "# Do lemmatization keeping only noun, adj, vb, adv\n",
    "data_lemmatized = lemmatization(data_words_bigrams, allowed_postags=['NOUN', 'ADJ', 'VERB', 'ADV'])\n",
    "\n",
    "print(data_lemmatized[:1])"
   ]
  },
  {
   "cell_type": "code",
   "execution_count": 16,
   "metadata": {},
   "outputs": [
    {
     "name": "stdout",
     "output_type": "stream",
     "text": [
      "[[(0, 1), (1, 1), (2, 2), (3, 2), (4, 1), (5, 1), (6, 1), (7, 1), (8, 1), (9, 1), (10, 1), (11, 1), (12, 1)]]\n"
     ]
    }
   ],
   "source": [
    "'''\n",
    "The two main inputs to the LDA topic model are the dictionary(id2word) and the corpus.\n",
    "Let’s create them.\n",
    "'''\n",
    "# Create Dictionary\n",
    "id2word = corpora.Dictionary(data_lemmatized)\n",
    "\n",
    "# Create Corpus\n",
    "texts = data_lemmatized\n",
    "\n",
    "# Term Document Frequency\n",
    "corpus = [id2word.doc2bow(text) for text in texts]\n",
    "\n",
    "# View\n",
    "print(corpus[:1])"
   ]
  },
  {
   "cell_type": "code",
   "execution_count": 17,
   "metadata": {},
   "outputs": [
    {
     "data": {
      "text/plain": [
       "\"\\nGensim creates a unique id for each word in the document.\\nThe produced corpus shown above is a mapping of (word_id, word_frequency).\\n\\nFor example, (0, 1) above implies, word id 0 occurs once in the first document.\\n\\nLikewise, word id 1 occurs twice and so on.\\n\\nThis is used as the input by the LDA model.\\n\\nIf you want to see what word a given id corresponds to, pass the id as a key to the dictionary.\\n\\nid2word[0]\\n'addition'\\n\\nOr, you can see a human-readable form of the corpus itself.\\n\\n# Human readable format of corpus (term-frequency)\\n[[(id2word[id], freq) for id, freq in cp] for cp in corpus[:1]]\\n\\n[[('addition', 1),\\n  ('anyone', 2),\\n  ('body', 1),\\n  ('bricklin', 1),\\n  ('bring', 1),\\n  ('call', 1),\\n  ('car', 5),\\n  ('could', 1),\\n  ('day', 1),\\n  ('door', 2),\\n  ('early', 1),\\n  ('engine', 1),\\n  ('enlighten', 1),\\n  ('front_bumper', 1),\\n  ('maryland_college', 1),\\n  (..truncated..)]]\\n\\n\\nAlright, without digressing further let’s jump back on track with the next step:\\n\\nBuilding the topic model.\\n\""
      ]
     },
     "execution_count": 17,
     "metadata": {},
     "output_type": "execute_result"
    }
   ],
   "source": [
    "'''\n",
    "Gensim creates a unique id for each word in the document.\n",
    "The produced corpus shown above is a mapping of (word_id, word_frequency).\n",
    "\n",
    "For example, (0, 1) above implies, word id 0 occurs once in the first document.\n",
    "\n",
    "Likewise, word id 1 occurs twice and so on.\n",
    "\n",
    "This is used as the input by the LDA model.\n",
    "\n",
    "If you want to see what word a given id corresponds to, pass the id as a key to the dictionary.\n",
    "\n",
    "id2word[0]\n",
    "'addition'\n",
    "\n",
    "Or, you can see a human-readable form of the corpus itself.\n",
    "\n",
    "# Human readable format of corpus (term-frequency)\n",
    "[[(id2word[id], freq) for id, freq in cp] for cp in corpus[:1]]\n",
    "\n",
    "[[('addition', 1),\n",
    "  ('anyone', 2),\n",
    "  ('body', 1),\n",
    "  ('bricklin', 1),\n",
    "  ('bring', 1),\n",
    "  ('call', 1),\n",
    "  ('car', 5),\n",
    "  ('could', 1),\n",
    "  ('day', 1),\n",
    "  ('door', 2),\n",
    "  ('early', 1),\n",
    "  ('engine', 1),\n",
    "  ('enlighten', 1),\n",
    "  ('front_bumper', 1),\n",
    "  ('maryland_college', 1),\n",
    "  (..truncated..)]]\n",
    "\n",
    "\n",
    "Alright, without digressing further let’s jump back on track with the next step:\n",
    "\n",
    "Building the topic model.\n",
    "'''"
   ]
  },
  {
   "cell_type": "code",
   "execution_count": 18,
   "metadata": {},
   "outputs": [],
   "source": [
    "'''\n",
    "We have everything required to train the LDA model.\n",
    "In addition to the corpus and dictionary, you need to provide the number of topics as well.\n",
    "\n",
    "Apart from that, alpha and eta are hyperparameters that affect sparsity of the topics.\n",
    "According to the Gensim docs, both defaults to 1.0/num_topics prior.\n",
    "\n",
    "chunksize is the number of documents to be used in each training chunk.\n",
    "\n",
    "update_every determines how often the model parameters should be updated and \n",
    "passes is the total number of training passes.\n",
    "'''\n",
    "# Build LDA model\n",
    "lda_model = gensim.models.ldamodel.LdaModel(corpus=corpus,\n",
    "                                           id2word=id2word,\n",
    "                                           num_topics=3, \n",
    "                                           random_state=100,\n",
    "                                           update_every=1,\n",
    "                                           chunksize=100,\n",
    "                                           passes=10,\n",
    "                                           alpha='auto',\n",
    "                                           per_word_topics=True)"
   ]
  },
  {
   "cell_type": "code",
   "execution_count": 19,
   "metadata": {},
   "outputs": [
    {
     "name": "stdout",
     "output_type": "stream",
     "text": [
      "[(0,\n",
      "  '0.147*\"much\" + 0.083*\"pm\" + 0.035*\"red_heart\" + 0.033*\"thank\" + '\n",
      "  '0.030*\"table\" + 0.023*\"wihardjasg\" + 0.021*\"chair\" + 0.012*\"stool\" + '\n",
      "  '0.010*\"coffee\" + 0.009*\"philippine\"'),\n",
      " (1,\n",
      "  '0.039*\"dimension\" + 0.023*\"ok_hand\" + 0.019*\"wood\" + 0.018*\"size\" + '\n",
      "  '0.013*\"see\" + 0.012*\"dining\" + 0.011*\"din\" + 0.011*\"frame\" + 0.011*\"detail\" '\n",
      "  '+ 0.011*\"shape\"'),\n",
      " (2,\n",
      "  '0.068*\"eye\" + 0.051*\"wihardjasg\" + 0.048*\"singapore\" + '\n",
      "  '0.044*\"furnitureonline\" + 0.044*\"teakfurniture\" + 0.044*\"homedecor\" + '\n",
      "  '0.039*\"interiorsg\" + 0.037*\"bto\" + 0.030*\"sghome\" + 0.027*\"homelive\"')]\n"
     ]
    },
    {
     "data": {
      "text/plain": [
       "'\\nThe output will look like this...\\n\\n\\n[(0,\\n  \\'0.016*\"car\" + 0.014*\"power\" + 0.010*\"light\" + 0.009*\"drive\" + 0.007*\"mount\" \\'\\n  \\'+ 0.007*\"controller\" + 0.007*\"cool\" + 0.007*\"engine\" + 0.007*\"back\" + \\'\\n  \\'0.006*\"turn\"\\'),\\n (1,\\n  \\'0.072*\"line\" + 0.066*\"organization\" + 0.037*\"write\" + 0.032*\"article\" + \\'\\n  \\'0.028*\"university\" + 0.027*\"nntp_post\" + 0.026*\"host\" + 0.016*\"reply\" + \\'\\n  \\'0.014*\"get\" + 0.013*\"thank\"\\'),\\n (2,\\n  \\'0.017*\"patient\" + 0.011*\"study\" + 0.010*\"slave\" + 0.009*\"wing\" + \\'\\n  \\'0.009*\"disease\" + 0.008*\"food\" + 0.008*\"eat\" + 0.008*\"pain\" + \\'\\n  \\'0.007*\"treatment\" + 0.007*\"syndrome\"\\'),\\n (3,\\n  \\'0.013*\"key\" + 0.009*\"use\" + 0.009*\"may\" + 0.007*\"public\" + 0.007*\"system\" + \\'\\n  \\'0.007*\"order\" + 0.007*\"government\" + 0.006*\"state\" + 0.006*\"provide\" + \\'\\n  \\'0.006*\"law\"\\'),\\n  \\n  so on...\\n\\n\\n\\nHow to interpret this?\\n\\nTopic 0 is a represented as _\\n\\n0.016“car” + 0.014“power” + 0.010“light” + 0.009“drive” \\n+ 0.007“mount” + 0.007“controller” + 0.007“cool” + 0.007“engine” \\n+ 0.007“back” + ‘0.006“turn”.\\n\\nIt means the top 10 keywords that contribute to this topic are:\\n‘car’, ‘power’, ‘light’.. and so on\\nand the weight of ‘car’ on topic 0 is 0.016.\\n\\n--> The weights reflect how important a keyword is to that topic.\\n\\nLooking at these keywords, can you guess what this topic could be?\\nYou may summarise it either are ‘cars’ or ‘automobiles’.\\n\\nLikewise, can you go through the remaining topic keywords and judge what the topic is?\\nhttps://www.machinelearningplus.com/wp-content/uploads/2018/03/Inferring-Topic-from-Keywords.png\\n'"
      ]
     },
     "execution_count": 19,
     "metadata": {},
     "output_type": "execute_result"
    }
   ],
   "source": [
    "'''\n",
    "The above LDA model is built with 20 different topics where each topic is a \n",
    "combination of keywords and each keyword contributes a certain weightage to the topic.\n",
    "\n",
    "You can see the keywords for each topic and the weightage(importance) of \n",
    "each keyword using lda_model.print_topics() as shown next.\n",
    "'''\n",
    "# Print the Keyword in the 10 topics\n",
    "pprint(lda_model.print_topics())\n",
    "doc_lda = lda_model[corpus]\n",
    "\n",
    "'''\n",
    "The output will look like this...\n",
    "\n",
    "\n",
    "[(0,\n",
    "  '0.016*\"car\" + 0.014*\"power\" + 0.010*\"light\" + 0.009*\"drive\" + 0.007*\"mount\" '\n",
    "  '+ 0.007*\"controller\" + 0.007*\"cool\" + 0.007*\"engine\" + 0.007*\"back\" + '\n",
    "  '0.006*\"turn\"'),\n",
    " (1,\n",
    "  '0.072*\"line\" + 0.066*\"organization\" + 0.037*\"write\" + 0.032*\"article\" + '\n",
    "  '0.028*\"university\" + 0.027*\"nntp_post\" + 0.026*\"host\" + 0.016*\"reply\" + '\n",
    "  '0.014*\"get\" + 0.013*\"thank\"'),\n",
    " (2,\n",
    "  '0.017*\"patient\" + 0.011*\"study\" + 0.010*\"slave\" + 0.009*\"wing\" + '\n",
    "  '0.009*\"disease\" + 0.008*\"food\" + 0.008*\"eat\" + 0.008*\"pain\" + '\n",
    "  '0.007*\"treatment\" + 0.007*\"syndrome\"'),\n",
    " (3,\n",
    "  '0.013*\"key\" + 0.009*\"use\" + 0.009*\"may\" + 0.007*\"public\" + 0.007*\"system\" + '\n",
    "  '0.007*\"order\" + 0.007*\"government\" + 0.006*\"state\" + 0.006*\"provide\" + '\n",
    "  '0.006*\"law\"'),\n",
    "  \n",
    "  so on...\n",
    "\n",
    "\n",
    "\n",
    "How to interpret this?\n",
    "\n",
    "Topic 0 is a represented as _\n",
    "\n",
    "0.016“car” + 0.014“power” + 0.010“light” + 0.009“drive” \n",
    "+ 0.007“mount” + 0.007“controller” + 0.007“cool” + 0.007“engine” \n",
    "+ 0.007“back” + ‘0.006“turn”.\n",
    "\n",
    "It means the top 10 keywords that contribute to this topic are:\n",
    "‘car’, ‘power’, ‘light’.. and so on\n",
    "and the weight of ‘car’ on topic 0 is 0.016.\n",
    "\n",
    "--> The weights reflect how important a keyword is to that topic.\n",
    "\n",
    "Looking at these keywords, can you guess what this topic could be?\n",
    "You may summarise it either are ‘cars’ or ‘automobiles’.\n",
    "\n",
    "Likewise, can you go through the remaining topic keywords and judge what the topic is?\n",
    "https://www.machinelearningplus.com/wp-content/uploads/2018/03/Inferring-Topic-from-Keywords.png\n",
    "'''"
   ]
  },
  {
   "cell_type": "code",
   "execution_count": 20,
   "metadata": {},
   "outputs": [
    {
     "name": "stdout",
     "output_type": "stream",
     "text": [
      "\n",
      "Perplexity:  -5.680227714938237\n",
      "\n",
      "Coherence Score:  0.6572289201953386\n"
     ]
    },
    {
     "data": {
      "text/plain": [
       "'\\nPerplexity:  -8.86067503009\\n\\nCoherence Score:  0.532947587081\\n\\n\\nThere you have a coherence score of 0.53.\\n'"
      ]
     },
     "execution_count": 20,
     "metadata": {},
     "output_type": "execute_result"
    }
   ],
   "source": [
    "'''\n",
    "Model perplexity and topic coherence provide a convenient measure to judge \n",
    "how good a given topic model is. In my experience, topic coherence score, \n",
    "in particular, has been more helpful.\n",
    "'''\n",
    "# Compute Perplexity\n",
    "print('\\nPerplexity: ', lda_model.log_perplexity(corpus))  # a measure of how good the model is. lower the better.\n",
    "\n",
    "# Compute Coherence Score\n",
    "coherence_model_lda = CoherenceModel(model=lda_model, texts=data_lemmatized, dictionary=id2word, coherence='c_v')\n",
    "coherence_lda = coherence_model_lda.get_coherence()\n",
    "print('\\nCoherence Score: ', coherence_lda)\n",
    "\n",
    "'''\n",
    "Perplexity:  -8.86067503009\n",
    "\n",
    "Coherence Score:  0.532947587081\n",
    "\n",
    "\n",
    "There you have a coherence score of 0.53.\n",
    "'''"
   ]
  },
  {
   "cell_type": "code",
   "execution_count": 21,
   "metadata": {},
   "outputs": [
    {
     "data": {
      "text/html": [
       "\n",
       "<link rel=\"stylesheet\" type=\"text/css\" href=\"https://cdn.jsdelivr.net/gh/bmabey/pyLDAvis@3.3.1/pyLDAvis/js/ldavis.v1.0.0.css\">\n",
       "\n",
       "\n",
       "<div id=\"ldavis_el443227789849013129416974304\"></div>\n",
       "<script type=\"text/javascript\">\n",
       "\n",
       "var ldavis_el443227789849013129416974304_data = {\"mdsDat\": {\"x\": [0.2521632755433726, -0.14909518832964755, -0.10306808721372523], \"y\": [-0.017992964583157776, -0.13886743188143655, 0.15686039646459438], \"topics\": [1, 2, 3], \"cluster\": [1, 1, 1], \"Freq\": [48.730679503595454, 29.602330318884533, 21.66699017752001]}, \"tinfo\": {\"Term\": [\"much\", \"pm\", \"eye\", \"singapore\", \"teakfurniture\", \"homedecor\", \"furnitureonline\", \"dimension\", \"red_heart\", \"interiorsg\", \"thank\", \"bto\", \"table\", \"sghome\", \"ok_hand\", \"homelive\", \"price\", \"chair\", \"wihardjasg\", \"wood\", \"size\", \"furnituresg\", \"sgfurniture\", \"igsg\", \"see\", \"dining\", \"din\", \"frame\", \"stool\", \"detail\", \"eye\", \"singapore\", \"furnitureonline\", \"homedecor\", \"teakfurniture\", \"interiorsg\", \"bto\", \"sghome\", \"homelive\", \"price\", \"furnituresg\", \"sgfurniture\", \"igsg\", \"hdb\", \"customfurniture\", \"homeinspo\", \"sgig\", \"sofa\", \"know\", \"diningchair\", \"hdbsg\", \"livingroom\", \"homeliving\", \"hdbdesign\", \"diningtable\", \"woodtable\", \"available\", \"coffeetable\", \"danishdesign\", \"loungearea\", \"wihardjasg\", \"look\", \"much\", \"pm\", \"red_heart\", \"thank\", \"table\", \"chair\", \"stool\", \"coffee\", \"philippine\", \"possible\", \"wihardja\", \"already\", \"sembawang\", \"operate\", \"free\", \"mount\", \"wall\", \"thx\", \"chsir\", \"eavh\", \"color\", \"washable\", \"love\", \"two_heart\", \"tq\", \"single\", \"hundred_point\", \"guy\", \"avail\", \"pass\", \"wihardjasg\", \"dimension\", \"ok_hand\", \"size\", \"see\", \"dining\", \"din\", \"frame\", \"wood\", \"detail\", \"place\", \"shape\", \"wja\", \"dine\", \"thumbs_up\", \"clapping_hand\", \"exposure\", \"ray\", \"outlet\", \"maintain\", \"ruin\", \"teak\", \"also\", \"customise\", \"bench\", \"bukit\", \"tv\", \"still\", \"sale\", \"visit\", \"website\", \"dresser\"], \"Freq\": [46.0, 26.0, 36.0, 25.0, 23.0, 23.0, 23.0, 9.0, 11.0, 21.0, 10.0, 19.0, 10.0, 15.0, 5.0, 14.0, 14.0, 7.0, 34.0, 5.0, 4.0, 10.0, 10.0, 10.0, 3.0, 3.0, 3.0, 3.0, 4.0, 2.0, 35.55393684970209, 25.255762941006527, 23.16344516280625, 23.16344516280625, 23.16344516280625, 20.608536023390528, 19.33115832325587, 15.49861168400871, 14.221180467082581, 14.1855956928846, 10.388993849887136, 10.388910169085927, 10.388361378715205, 7.834085683503983, 7.833413317996592, 6.556093999816266, 5.279175571055688, 5.470140511094519, 5.405897981580061, 4.001718082250109, 4.00171419011982, 4.00171102776396, 4.001710784505818, 4.001703730019669, 4.001593047564581, 3.994334224575958, 4.0061726253656476, 2.9552266592684218, 2.7242722698353967, 2.72424940356995, 26.635783901117573, 3.233591331007535, 46.52499917320559, 26.35765148261409, 10.980139984474032, 10.362982166317106, 9.62416521557379, 6.6806056478233655, 3.65097417809762, 3.0193784886991177, 2.907475824740969, 2.5185221979155474, 2.4054614483424777, 2.4054388392957655, 2.085400985594482, 2.0725930345178374, 2.0725334825843404, 2.0725334825843404, 2.0725334825843404, 2.072430042501344, 2.07242767815659, 2.07242767815659, 2.0720817449647395, 2.07171305495463, 1.9815973845918766, 2.392606505913843, 1.9115857376741625, 1.691467162087413, 1.5296298324634636, 1.5295546167459704, 1.5295256535227313, 1.471220616340842, 7.180296907729299, 9.131232276651431, 5.264800535211207, 4.2330382488838465, 2.98861375656387, 2.8357534267151148, 2.620737243676862, 2.6201906070297083, 4.3551071658850455, 2.573364807623542, 2.462504429550819, 2.4643969994067536, 2.299736716069443, 2.3049921720815503, 2.182762530494346, 2.182480883911602, 2.021096959362494, 2.021096959362494, 2.020994640749869, 2.0204263722607227, 2.0204162052949863, 2.0204162052949863, 2.020357150366346, 1.9236316668068618, 1.918896672913097, 1.8518576477121858, 2.103169898429857, 1.6985327740566385, 1.6497167370279409, 1.5344578483636486, 1.5344554688610295, 2.0161644667513365], \"Total\": [46.0, 26.0, 36.0, 25.0, 23.0, 23.0, 23.0, 9.0, 11.0, 21.0, 10.0, 19.0, 10.0, 15.0, 5.0, 14.0, 14.0, 7.0, 34.0, 5.0, 4.0, 10.0, 10.0, 10.0, 3.0, 3.0, 3.0, 3.0, 4.0, 2.0, 36.03762094808609, 25.73619000048536, 23.643865587010342, 23.643865587010342, 23.643865587010342, 21.08895564285946, 19.811474824930627, 15.979180877640166, 14.701719000676881, 14.697954802319911, 10.869285926472488, 10.869318785427037, 10.869536396199656, 8.314375674159775, 8.31464202520686, 7.037132337473923, 5.759464656041928, 5.9832265242307665, 5.917914976647193, 4.482009412192903, 4.482011148513947, 4.482011251935873, 4.482011679809779, 4.482015147456858, 4.482058029675468, 4.48493668517787, 4.513331284744846, 3.437257609459023, 3.204546995145898, 3.204555758711633, 34.06122752492, 4.257621502056537, 46.93940034860326, 26.7822865614009, 11.389344917875277, 10.778531083305872, 10.057456592676926, 7.1105734188232494, 4.057995146958151, 3.426510231445129, 3.3145122818715387, 2.933287836378849, 2.812326231228667, 2.8123200186020094, 2.4922998341254288, 2.479607868645822, 2.479589731611338, 2.479589731611338, 2.479589731611338, 2.4795646184246642, 2.479564213815075, 2.479564213815075, 2.4794724998702273, 2.4793603403428577, 2.388404664429391, 2.892957061333943, 2.3189962142921248, 2.098578091423644, 1.9364258447068787, 1.9364052475805587, 1.9363978654843623, 1.8780653534344343, 34.06122752492, 9.562517684362442, 5.691989547609024, 4.673591253908639, 3.4061621976140426, 3.248986790441717, 3.0338453588003307, 3.0337863017310167, 5.045144628590123, 2.98713506501875, 2.875559278849874, 2.888007146052181, 2.7125472709329688, 2.718923719980983, 2.5960488527356755, 2.596022010252395, 2.4345793520940657, 2.4345793520940657, 2.4345998681016887, 2.4345488955311145, 2.434548291400819, 2.434548291400819, 2.4345323385800315, 2.343084631726127, 2.3459198756701576, 2.2704942839967925, 2.589347961242172, 2.1127621286924048, 2.0629962948463505, 1.9472812135758897, 1.9472833998421204, 3.7111377046228164], \"Category\": [\"Default\", \"Default\", \"Default\", \"Default\", \"Default\", \"Default\", \"Default\", \"Default\", \"Default\", \"Default\", \"Default\", \"Default\", \"Default\", \"Default\", \"Default\", \"Default\", \"Default\", \"Default\", \"Default\", \"Default\", \"Default\", \"Default\", \"Default\", \"Default\", \"Default\", \"Default\", \"Default\", \"Default\", \"Default\", \"Default\", \"Topic1\", \"Topic1\", \"Topic1\", \"Topic1\", \"Topic1\", \"Topic1\", \"Topic1\", \"Topic1\", \"Topic1\", \"Topic1\", \"Topic1\", \"Topic1\", \"Topic1\", \"Topic1\", \"Topic1\", \"Topic1\", \"Topic1\", \"Topic1\", \"Topic1\", \"Topic1\", \"Topic1\", \"Topic1\", \"Topic1\", \"Topic1\", \"Topic1\", \"Topic1\", \"Topic1\", \"Topic1\", \"Topic1\", \"Topic1\", \"Topic1\", \"Topic1\", \"Topic2\", \"Topic2\", \"Topic2\", \"Topic2\", \"Topic2\", \"Topic2\", \"Topic2\", \"Topic2\", \"Topic2\", \"Topic2\", \"Topic2\", \"Topic2\", \"Topic2\", \"Topic2\", \"Topic2\", \"Topic2\", \"Topic2\", \"Topic2\", \"Topic2\", \"Topic2\", \"Topic2\", \"Topic2\", \"Topic2\", \"Topic2\", \"Topic2\", \"Topic2\", \"Topic2\", \"Topic2\", \"Topic2\", \"Topic2\", \"Topic2\", \"Topic3\", \"Topic3\", \"Topic3\", \"Topic3\", \"Topic3\", \"Topic3\", \"Topic3\", \"Topic3\", \"Topic3\", \"Topic3\", \"Topic3\", \"Topic3\", \"Topic3\", \"Topic3\", \"Topic3\", \"Topic3\", \"Topic3\", \"Topic3\", \"Topic3\", \"Topic3\", \"Topic3\", \"Topic3\", \"Topic3\", \"Topic3\", \"Topic3\", \"Topic3\", \"Topic3\", \"Topic3\", \"Topic3\", \"Topic3\", \"Topic3\"], \"logprob\": [30.0, 29.0, 28.0, 27.0, 26.0, 25.0, 24.0, 23.0, 22.0, 21.0, 20.0, 19.0, 18.0, 17.0, 16.0, 15.0, 14.0, 13.0, 12.0, 11.0, 10.0, 9.0, 8.0, 7.0, 6.0, 5.0, 4.0, 3.0, 2.0, 1.0, -2.6874, -3.0294, -3.1158, -3.1158, -3.1158, -3.2327, -3.2967, -3.5177, -3.6037, -3.6062, -3.9177, -3.9177, -3.9177, -4.1999, -4.2, -4.378, -4.5947, -4.5591, -4.5709, -4.8717, -4.8717, -4.8717, -4.8717, -4.8717, -4.8717, -4.8735, -4.8706, -5.1748, -5.2562, -5.2562, -2.9762, -5.0848, -1.92, -2.4882, -3.3639, -3.4217, -3.4957, -3.8608, -4.465, -4.6549, -4.6927, -4.8363, -4.8822, -4.8822, -5.025, -5.0312, -5.0312, -5.0312, -5.0312, -5.0312, -5.0312, -5.0312, -5.0314, -5.0316, -5.0761, -4.8876, -5.112, -5.2344, -5.3349, -5.335, -5.335, -5.3739, -3.7886, -3.2362, -3.7869, -4.005, -4.3531, -4.4056, -4.4844, -4.4847, -3.9766, -4.5027, -4.5467, -4.546, -4.6151, -4.6128, -4.6673, -4.6674, -4.7443, -4.7443, -4.7443, -4.7446, -4.7446, -4.7446, -4.7446, -4.7937, -4.7962, -4.8317, -4.7045, -4.9181, -4.9473, -5.0197, -5.0197, -4.7467], \"loglift\": [30.0, 29.0, 28.0, 27.0, 26.0, 25.0, 24.0, 23.0, 22.0, 21.0, 20.0, 19.0, 18.0, 17.0, 16.0, 15.0, 14.0, 13.0, 12.0, 11.0, 10.0, 9.0, 8.0, 7.0, 6.0, 5.0, 4.0, 3.0, 2.0, 1.0, 0.7053, 0.7, 0.6983, 0.6983, 0.6983, 0.6958, 0.6943, 0.6883, 0.6856, 0.6834, 0.6737, 0.6737, 0.6736, 0.6594, 0.6592, 0.6481, 0.6318, 0.6292, 0.6284, 0.6055, 0.6055, 0.6055, 0.6055, 0.6055, 0.6055, 0.603, 0.5997, 0.5678, 0.5565, 0.5565, 0.473, 0.4437, 1.2084, 1.2013, 1.1807, 1.178, 1.1733, 1.1549, 1.1116, 1.0908, 1.0863, 1.0649, 1.061, 1.061, 1.0391, 1.038, 1.038, 1.038, 1.038, 1.038, 1.038, 1.038, 1.0378, 1.0377, 1.0306, 1.0274, 1.0241, 1.0017, 0.9815, 0.9815, 0.9814, 0.9732, -0.3395, 1.4832, 1.4514, 1.4304, 1.3986, 1.3933, 1.383, 1.3828, 1.3823, 1.3803, 1.3743, 1.3708, 1.3643, 1.3642, 1.356, 1.3559, 1.3432, 1.3432, 1.3432, 1.3429, 1.3429, 1.3429, 1.3429, 1.3321, 1.3285, 1.3256, 1.3214, 1.3111, 1.3058, 1.2911, 1.2911, 0.9192]}, \"token.table\": {\"Topic\": [2, 3, 2, 1, 3, 1, 3, 2, 2, 3, 2, 1, 2, 1, 3, 1, 3, 3, 3, 3, 3, 1, 1, 1, 3, 2, 3, 1, 3, 2, 1, 1, 2, 1, 1, 1, 1, 1, 1, 1, 2, 1, 1, 1, 1, 1, 3, 1, 2, 3, 2, 2, 3, 2, 3, 2, 2, 3, 2, 2, 1, 3, 2, 3, 3, 3, 2, 1, 1, 1, 3, 1, 2, 3, 1, 3, 2, 2, 3, 1, 2, 3, 2, 2, 3, 2, 3, 2, 2, 3, 2, 1, 2, 3, 3, 1], \"Freq\": [0.7111566204311949, 0.8215130143502315, 1.0328455921426707, 0.886263326939922, 0.8525440364533597, 0.9590401607098189, 0.8808654635674147, 0.9844494371536144, 0.8065933476765201, 0.7704094927167249, 0.8755263511163519, 0.8727888162191482, 0.8066231829974633, 0.9621580791749081, 0.8535756553217713, 0.9361697626978989, 1.0043067804773567, 0.9411747300313676, 0.9888440725226304, 0.735585182218348, 0.9233647883167091, 0.892456849626054, 0.8924471690273112, 0.26945914692261075, 0.5389182938452215, 0.8065933476765201, 0.8214971503310134, 0.9989560646042567, 0.9888633218128321, 0.8065850469143211, 0.972768175971865, 0.9200236397907875, 1.0328416546582384, 0.9621889019115624, 0.8924557076228629, 0.8924565038902765, 0.972768175971865, 0.9947233708713723, 0.9522695950966976, 0.8924563980988474, 1.0328306686604591, 0.9200024394321293, 0.9957818848706441, 0.8448921655229255, 0.8924564832969389, 0.704618763915704, 0.23487292130523466, 0.9361672025348459, 0.8373790378934032, 0.8215074273805807, 0.8065850469143211, 1.0012910188657438, 0.8784274739401619, 0.806579147166625, 0.8214902276978452, 0.5324628337194397, 0.9051105396134029, 0.6955168737818308, 0.9707908971996311, 1.0227431358061019, 0.9525134747176017, 0.8214971503310134, 0.9658149857886724, 0.8215076312366827, 0.9694636897779584, 0.8807566480837137, 0.8024716659750606, 0.9200208584743536, 0.938721459808347, 0.8681362415784223, 0.692519062057703, 0.971394755771096, 0.9530262458059066, 0.8558728786251262, 0.835669513723254, 0.9466281001722643, 0.9857084237763016, 0.99428716473718, 0.8215076312366827, 0.972768175971865, 0.9277702056719319, 0.7704015268789843, 0.806593216058493, 0.8624421151159583, 0.7723952245647789, 0.6913341462032623, 1.0270730216347643, 0.8065850469143211, 0.8066596724393158, 1.0270718685129003, 0.7111550494361486, 0.7926901630379046, 0.2055122644913086, 0.7373143397099615, 0.7928414930530563, 0.8918743520325443], \"Term\": [\"already\", \"also\", \"avail\", \"available\", \"bench\", \"bto\", \"bukit\", \"chair\", \"chsir\", \"clapping_hand\", \"coffee\", \"coffeetable\", \"color\", \"customfurniture\", \"customise\", \"danishdesign\", \"detail\", \"dimension\", \"din\", \"dine\", \"dining\", \"diningchair\", \"diningtable\", \"dresser\", \"dresser\", \"eavh\", \"exposure\", \"eye\", \"frame\", \"free\", \"furnitureonline\", \"furnituresg\", \"guy\", \"hdb\", \"hdbdesign\", \"hdbsg\", \"homedecor\", \"homeinspo\", \"homelive\", \"homeliving\", \"hundred_point\", \"igsg\", \"interiorsg\", \"know\", \"livingroom\", \"look\", \"look\", \"loungearea\", \"love\", \"maintain\", \"mount\", \"much\", \"ok_hand\", \"operate\", \"outlet\", \"pass\", \"philippine\", \"place\", \"pm\", \"possible\", \"price\", \"ray\", \"red_heart\", \"ruin\", \"sale\", \"see\", \"sembawang\", \"sgfurniture\", \"sghome\", \"sgig\", \"shape\", \"singapore\", \"single\", \"size\", \"sofa\", \"still\", \"stool\", \"table\", \"teak\", \"teakfurniture\", \"thank\", \"thumbs_up\", \"thx\", \"tq\", \"tv\", \"two_heart\", \"visit\", \"wall\", \"washable\", \"website\", \"wihardja\", \"wihardjasg\", \"wihardjasg\", \"wja\", \"wood\", \"woodtable\"]}, \"R\": 30, \"lambda.step\": 0.01, \"plot.opts\": {\"xlab\": \"PC1\", \"ylab\": \"PC2\"}, \"topic.order\": [3, 1, 2]};\n",
       "\n",
       "function LDAvis_load_lib(url, callback){\n",
       "  var s = document.createElement('script');\n",
       "  s.src = url;\n",
       "  s.async = true;\n",
       "  s.onreadystatechange = s.onload = callback;\n",
       "  s.onerror = function(){console.warn(\"failed to load library \" + url);};\n",
       "  document.getElementsByTagName(\"head\")[0].appendChild(s);\n",
       "}\n",
       "\n",
       "if(typeof(LDAvis) !== \"undefined\"){\n",
       "   // already loaded: just create the visualization\n",
       "   !function(LDAvis){\n",
       "       new LDAvis(\"#\" + \"ldavis_el443227789849013129416974304\", ldavis_el443227789849013129416974304_data);\n",
       "   }(LDAvis);\n",
       "}else if(typeof define === \"function\" && define.amd){\n",
       "   // require.js is available: use it to load d3/LDAvis\n",
       "   require.config({paths: {d3: \"https://d3js.org/d3.v5\"}});\n",
       "   require([\"d3\"], function(d3){\n",
       "      window.d3 = d3;\n",
       "      LDAvis_load_lib(\"https://cdn.jsdelivr.net/gh/bmabey/pyLDAvis@3.3.1/pyLDAvis/js/ldavis.v3.0.0.js\", function(){\n",
       "        new LDAvis(\"#\" + \"ldavis_el443227789849013129416974304\", ldavis_el443227789849013129416974304_data);\n",
       "      });\n",
       "    });\n",
       "}else{\n",
       "    // require.js not available: dynamically load d3 & LDAvis\n",
       "    LDAvis_load_lib(\"https://d3js.org/d3.v5.js\", function(){\n",
       "         LDAvis_load_lib(\"https://cdn.jsdelivr.net/gh/bmabey/pyLDAvis@3.3.1/pyLDAvis/js/ldavis.v3.0.0.js\", function(){\n",
       "                 new LDAvis(\"#\" + \"ldavis_el443227789849013129416974304\", ldavis_el443227789849013129416974304_data);\n",
       "            })\n",
       "         });\n",
       "}\n",
       "</script>"
      ],
      "text/plain": [
       "PreparedData(topic_coordinates=              x         y  topics  cluster      Freq\n",
       "topic                                               \n",
       "2      0.252163 -0.017993       1        1  48.73068\n",
       "0     -0.149095 -0.138867       2        1  29.60233\n",
       "1     -0.103068  0.156860       3        1  21.66699, topic_info=              Term       Freq      Total Category  logprob  loglift\n",
       "27            much  46.000000  46.000000  Default  30.0000  30.0000\n",
       "24              pm  26.000000  26.000000  Default  29.0000  29.0000\n",
       "14             eye  36.000000  36.000000  Default  28.0000  28.0000\n",
       "84       singapore  25.000000  25.000000  Default  27.0000  27.0000\n",
       "330  teakfurniture  23.000000  23.000000  Default  26.0000  26.0000\n",
       "..             ...        ...        ...      ...      ...      ...\n",
       "79           still   1.698533   2.112762   Topic3  -4.9181   1.3111\n",
       "227           sale   1.649717   2.062996   Topic3  -4.9473   1.3058\n",
       "62           visit   1.534458   1.947281   Topic3  -5.0197   1.2911\n",
       "52         website   1.534455   1.947283   Topic3  -5.0197   1.2911\n",
       "314        dresser   2.016164   3.711138   Topic3  -4.7467   0.9192\n",
       "\n",
       "[124 rows x 6 columns], token_table=      Topic      Freq        Term\n",
       "term                             \n",
       "58        2  0.711157     already\n",
       "313       3  0.821513        also\n",
       "181       2  1.032846       avail\n",
       "55        1  0.886263   available\n",
       "192       3  0.852544       bench\n",
       "...     ...       ...         ...\n",
       "12        1  0.792690  wihardjasg\n",
       "12        2  0.205512  wihardjasg\n",
       "53        3  0.737314         wja\n",
       "26        3  0.792841        wood\n",
       "337       1  0.891874   woodtable\n",
       "\n",
       "[96 rows x 3 columns], R=30, lambda_step=0.01, plot_opts={'xlab': 'PC1', 'ylab': 'PC2'}, topic_order=[3, 1, 2])"
      ]
     },
     "execution_count": 21,
     "metadata": {},
     "output_type": "execute_result"
    }
   ],
   "source": [
    "'''\n",
    "Now that the LDA model is built, the next step is to examine the produced \n",
    "topics and the associated keywords. There is no better tool than pyLDAvis package’s \n",
    "interactive chart and is designed to work well with jupyter notebooks.\n",
    "'''\n",
    "# Visualize the topics\n",
    "pyLDAvis.enable_notebook()\n",
    "vis = pyLDAvis.gensim_models.prepare(lda_model, corpus, id2word)\n",
    "vis"
   ]
  },
  {
   "cell_type": "code",
   "execution_count": 22,
   "metadata": {},
   "outputs": [
    {
     "data": {
      "text/plain": [
       "'\\nSo how to infer pyLDAvis’s output?\\n\\nEach bubble on the left-hand side plot represents a topic. \\nThe larger the bubble, the more prevalent is that topic.\\n\\nA good topic model will have fairly big, non-overlapping bubbles scattered \\nthroughout the chart instead of being clustered in one quadrant.\\n\\nA model with too many topics, will typically have many overlaps, \\nsmall sized bubbles clustered in one region of the chart.\\n\\nAlright, if you move the cursor over one of the bubbles, \\nthe words and bars on the right-hand side will update. \\nThese words are the salient keywords that form the selected topic.\\n\\nWe have successfully built a good looking topic model.\\n'"
      ]
     },
     "execution_count": 22,
     "metadata": {},
     "output_type": "execute_result"
    }
   ],
   "source": [
    "'''\n",
    "So how to infer pyLDAvis’s output?\n",
    "\n",
    "Each bubble on the left-hand side plot represents a topic. \n",
    "The larger the bubble, the more prevalent is that topic.\n",
    "\n",
    "A good topic model will have fairly big, non-overlapping bubbles scattered \n",
    "throughout the chart instead of being clustered in one quadrant.\n",
    "\n",
    "A model with too many topics, will typically have many overlaps, \n",
    "small sized bubbles clustered in one region of the chart.\n",
    "\n",
    "Alright, if you move the cursor over one of the bubbles, \n",
    "the words and bars on the right-hand side will update. \n",
    "These words are the salient keywords that form the selected topic.\n",
    "\n",
    "We have successfully built a good looking topic model.\n",
    "'''"
   ]
  },
  {
   "cell_type": "code",
   "execution_count": 23,
   "metadata": {},
   "outputs": [],
   "source": [
    "pyLDAvis.save_html(vis, 'wihardjasg_lda.html')"
   ]
  },
  {
   "cell_type": "code",
   "execution_count": null,
   "metadata": {},
   "outputs": [],
   "source": []
  }
 ],
 "metadata": {
  "kernelspec": {
   "display_name": "Python 3",
   "language": "python",
   "name": "python3"
  },
  "language_info": {
   "codemirror_mode": {
    "name": "ipython",
    "version": 3
   },
   "file_extension": ".py",
   "mimetype": "text/x-python",
   "name": "python",
   "nbconvert_exporter": "python",
   "pygments_lexer": "ipython3",
   "version": "3.8.3"
  }
 },
 "nbformat": 4,
 "nbformat_minor": 2
}
