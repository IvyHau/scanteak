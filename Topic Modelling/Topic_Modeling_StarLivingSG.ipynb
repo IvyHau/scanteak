{
 "cells": [
  {
   "cell_type": "code",
   "execution_count": 1,
   "metadata": {},
   "outputs": [
    {
     "name": "stderr",
     "output_type": "stream",
     "text": [
      "[nltk_data] Downloading package stopwords to C:\\Users\\Yong\n",
      "[nltk_data]     Jie\\AppData\\Roaming\\nltk_data...\n",
      "[nltk_data]   Package stopwords is already up-to-date!\n"
     ]
    },
    {
     "data": {
      "text/plain": [
       "True"
      ]
     },
     "execution_count": 1,
     "metadata": {},
     "output_type": "execute_result"
    }
   ],
   "source": [
    "'''\n",
    "We will need the stopwords from NLTK and spacy’s en model for text pre-processing.\n",
    "Later, we will be using the spacy model for lemmatization.\n",
    "\n",
    "Lemmatization is nothing but converting a word to its root word.\n",
    "For example: the lemma of the word ‘machines’ is ‘machine’.\n",
    "\n",
    "Likewise, ‘walking’ –> ‘walk’, ‘mice’ –> ‘mouse’ and so on.\n",
    "\n",
    "'''\n",
    "\n",
    "# Run in python console\n",
    "import nltk\n",
    "nltk.download('stopwords')\n",
    "\n",
    "# nltk.download('stopwords') # You already did this in a previous lab"
   ]
  },
  {
   "cell_type": "code",
   "execution_count": 2,
   "metadata": {},
   "outputs": [],
   "source": [
    "import re\n",
    "import numpy as np\n",
    "import pandas as pd\n",
    "from pprint import pprint"
   ]
  },
  {
   "cell_type": "code",
   "execution_count": 3,
   "metadata": {},
   "outputs": [],
   "source": [
    "# Gensim (Topic Modeling Pacakge)\n",
    "import gensim\n",
    "import gensim.corpora as corpora\n",
    "from gensim.utils import simple_preprocess\n",
    "from gensim.models import CoherenceModel"
   ]
  },
  {
   "cell_type": "code",
   "execution_count": 4,
   "metadata": {},
   "outputs": [],
   "source": [
    "# spacy for lemmatization\n",
    "import spacy"
   ]
  },
  {
   "cell_type": "code",
   "execution_count": 5,
   "metadata": {},
   "outputs": [
    {
     "name": "stderr",
     "output_type": "stream",
     "text": [
      "C:\\Anaconda\\lib\\site-packages\\sklearn\\decomposition\\_lda.py:28: DeprecationWarning: `np.float` is a deprecated alias for the builtin `float`. To silence this warning, use `float` by itself. Doing this will not modify any behavior and is safe. If you specifically wanted the numpy scalar type, use `np.float64` here.\n",
      "Deprecated in NumPy 1.20; for more details and guidance: https://numpy.org/devdocs/release/1.20.0-notes.html#deprecations\n",
      "  EPS = np.finfo(np.float).eps\n"
     ]
    }
   ],
   "source": [
    "# Plotting tools\n",
    "import pyLDAvis\n",
    "import pyLDAvis.gensim_models  # don't skip this\n",
    "import matplotlib.pyplot as plt\n",
    "%matplotlib inline"
   ]
  },
  {
   "cell_type": "code",
   "execution_count": 6,
   "metadata": {},
   "outputs": [],
   "source": [
    "# Enable logging for gensim - optional\n",
    "import logging\n",
    "logging.basicConfig(format='%(asctime)s : %(levelname)s : %(message)s', level=logging.ERROR)\n",
    "\n",
    "import warnings\n",
    "warnings.filterwarnings(\"ignore\",category=DeprecationWarning)"
   ]
  },
  {
   "cell_type": "code",
   "execution_count": 7,
   "metadata": {},
   "outputs": [],
   "source": [
    "# NLTK Stop words\n",
    "from nltk.corpus import stopwords\n",
    "stop_words = stopwords.words('english')\n",
    "stop_words.extend(['scanteaksg','scanteak'])"
   ]
  },
  {
   "cell_type": "code",
   "execution_count": 8,
   "metadata": {},
   "outputs": [
    {
     "data": {
      "text/html": [
       "<div>\n",
       "<style scoped>\n",
       "    .dataframe tbody tr th:only-of-type {\n",
       "        vertical-align: middle;\n",
       "    }\n",
       "\n",
       "    .dataframe tbody tr th {\n",
       "        vertical-align: top;\n",
       "    }\n",
       "\n",
       "    .dataframe thead th {\n",
       "        text-align: right;\n",
       "    }\n",
       "</style>\n",
       "<table border=\"1\" class=\"dataframe\">\n",
       "  <thead>\n",
       "    <tr style=\"text-align: right;\">\n",
       "      <th></th>\n",
       "      <th>date</th>\n",
       "      <th>username</th>\n",
       "      <th>text</th>\n",
       "    </tr>\n",
       "  </thead>\n",
       "  <tbody>\n",
       "    <tr>\n",
       "      <th>0</th>\n",
       "      <td>2017-11-26 13:23:13</td>\n",
       "      <td>chocabloc_sg</td>\n",
       "      <td>Thank you for the lovely shot! :smiling_face:</td>\n",
       "    </tr>\n",
       "    <tr>\n",
       "      <th>1</th>\n",
       "      <td>2017-11-25 17:04:27</td>\n",
       "      <td>hobartkho</td>\n",
       "      <td>Pretty cool!</td>\n",
       "    </tr>\n",
       "    <tr>\n",
       "      <th>2</th>\n",
       "      <td>2017-11-25 15:43:14</td>\n",
       "      <td>alainlicious</td>\n",
       "      <td>.\\r\\n.\\r\\n.\\r\\n.\\r\\n.\\r\\n.\\r\\n.\\r\\n#foodspotti...</td>\n",
       "    </tr>\n",
       "    <tr>\n",
       "      <th>3</th>\n",
       "      <td>2017-12-08 16:32:11</td>\n",
       "      <td>mshannahchia</td>\n",
       "      <td>Santa belly mousse cake looks so cute</td>\n",
       "    </tr>\n",
       "    <tr>\n",
       "      <th>4</th>\n",
       "      <td>2017-12-08 16:19:22</td>\n",
       "      <td>inordinatelyjing</td>\n",
       "      <td>@francislyn</td>\n",
       "    </tr>\n",
       "  </tbody>\n",
       "</table>\n",
       "</div>"
      ],
      "text/plain": [
       "                  date          username  \\\n",
       "0  2017-11-26 13:23:13      chocabloc_sg   \n",
       "1  2017-11-25 17:04:27         hobartkho   \n",
       "2  2017-11-25 15:43:14      alainlicious   \n",
       "3  2017-12-08 16:32:11      mshannahchia   \n",
       "4  2017-12-08 16:19:22  inordinatelyjing   \n",
       "\n",
       "                                                text  \n",
       "0      Thank you for the lovely shot! :smiling_face:  \n",
       "1                                       Pretty cool!  \n",
       "2  .\\r\\n.\\r\\n.\\r\\n.\\r\\n.\\r\\n.\\r\\n.\\r\\n#foodspotti...  \n",
       "3              Santa belly mousse cake looks so cute  \n",
       "4                                        @francislyn  "
      ]
     },
     "execution_count": 8,
     "metadata": {},
     "output_type": "execute_result"
    }
   ],
   "source": [
    "'''\n",
    "We will be using the 20-Newsgroups dataset for this exercise.\n",
    "This version of the dataset contains about 11k newsgroups posts from \n",
    "20 different topics. This is available as newsgroups.json.\n",
    "'''\n",
    "# Import Dataset\n",
    "df = pd.read_csv('./starlivingsg.csv', encoding='utf-8')\n",
    "\n",
    "df.head()"
   ]
  },
  {
   "cell_type": "code",
   "execution_count": 9,
   "metadata": {
    "scrolled": true
   },
   "outputs": [
    {
     "name": "stderr",
     "output_type": "stream",
     "text": [
      "[nltk_data] Downloading package words to C:\\Users\\Yong\n",
      "[nltk_data]     Jie\\AppData\\Roaming\\nltk_data...\n",
      "[nltk_data]   Package words is already up-to-date!\n"
     ]
    }
   ],
   "source": [
    "import nltk\n",
    "nltk.download('words')\n",
    "words = set(nltk.corpus.words.words())\n",
    "\n",
    "\n",
    "\n"
   ]
  },
  {
   "cell_type": "code",
   "execution_count": 10,
   "metadata": {},
   "outputs": [
    {
     "name": "stdout",
     "output_type": "stream",
     "text": [
      "['Thank you for the lovely shot! :smiling_face:', 'Pretty cool!', '.\\r\\n.\\r\\n.\\r\\n.\\r\\n.\\r\\n.\\r\\n.\\r\\n#foodspotting #vscofood #foodvsco #buzzfeast #foodstyling #foodgasm #nomnom #eatingfortheinsta #foursquare #foursquarefind #home #starliving #starlivingsg #teatime #weekend #danielwellington #danielwellingtonwatches #dwmoments #chocabloc #chocablocsg', 'Santa belly mousse cake looks so cute', '@francislyn', '.\\r\\n.\\r\\n.\\r\\n.\\r\\n.\\r\\n.\\r\\n.\\r\\n#foodspotting #vscofood #foodvsco #buzzfeast #buzzfeedfood #foodgasm #nomnom #eatingfortheinsta #starlivingsg #foursquare #foursquarefind #christmas #choux #pastry #desserts #ollella #ollellasg #ollellasingapore', 'I just realised its pandan chiffon cakes :woman_facepalming_light_skin_tone:', 'Nice flatlay!!!', 'Can host me too? Hahaha #buyaolian :smiling_face_with_heart-eyes::smiling_face_with_heart-eyes:', '.\\r\\n.\\r\\n.\\r\\n.\\r\\n.\\r\\n.\\r\\n.\\r\\n#foodspotting #vscofood #foodvsco #buzzfeast #buzzfeedfood #foodgasm #nomnom #eatingfortheinsta #flatlay #flatlaystyle #starlivingsg #foursquare #foursquarefind #christmas #chiffoncake #desserts #andazsingapore', 'You have such a wonderful page. I have a food page as well, you may like it, do give it a look. Means a lot. Keep posting :)', 'I need those right now!', 'I saw this but didnt get it. :face_with_tears_of_joy: Is the bread nice?  @alainlicious', ':sparkling_heart:', ':smiling_face_with_heart-eyes:', 'another place to go next time~ :smiling_cat_with_heart-eyes:', '@emily.eatingthyme', 'So cute', 'Those are seriously adorable. I feel like I need cat donuts in my life right now!', 'Omg so cuteee']\n"
     ]
    }
   ],
   "source": [
    "'''\n",
    "As you can see there are many emails, newline and extra spaces that is quite distracting.\n",
    "Let’s get rid of them using regular expressions.\n",
    "'''\n",
    "# Convert to list\n",
    "data = df.text.values.tolist()\n",
    "new_data = []\n",
    "\n",
    "# Remove Emails\n",
    "data = [re.sub(r'[^\\x00-\\x7F]+', '', sent) for sent in data]\n",
    "\n",
    "# # Remove new line characters\n",
    "# data = [re.sub('\\s+', ' ', sent) for sent in data]\n",
    "\n",
    "# # Remove distracting single quotes\n",
    "# data = [re.sub(\"\\'\", \"\", sent) for sent in data]\n",
    "\n",
    "        \n",
    "    \n",
    "\n",
    "print(data[:20])"
   ]
  },
  {
   "cell_type": "code",
   "execution_count": 11,
   "metadata": {},
   "outputs": [
    {
     "name": "stdout",
     "output_type": "stream",
     "text": [
      "['thank', 'you', 'for', 'the', 'lovely', 'shot', 'smiling_face']\n",
      "[['you', 'the', 'shot'], ['cool'], ['foodspotting', 'vscofood', 'foodvsco', 'buzzfeast', 'foodstyling', 'foodgasm', 'nomnom', 'foursquarefind', 'starliving', 'starlivingsg', 'weekend', 'dwmoments', 'chocabloc', 'chocablocsg'], ['santa', 'mousse', 'looks', 'cute'], ['francislyn'], ['foodspotting', 'vscofood', 'foodvsco', 'buzzfeast', 'buzzfeedfood', 'foodgasm', 'nomnom', 'starlivingsg', 'foursquarefind', 'christmas', 'choux', 'desserts', 'ollella', 'ollellasg'], ['realised', 'pandan', 'cakes'], ['flatlay'], ['host', 'too', 'hahaha', 'buyaolian', 'eyes', 'eyes'], ['foodspotting', 'vscofood', 'foodvsco', 'buzzfeast', 'buzzfeedfood', 'foodgasm', 'nomnom', 'flatlay', 'flatlaystyle', 'starlivingsg', 'foursquarefind', 'christmas', 'chiffoncake', 'desserts', 'andazsingapore'], ['have', 'wonderful', 'have', 'page', 'well', 'may', 'give', 'it', 'look', 'means', 'keep'], ['those', 'now'], ['this', 'didnt', 'it', 'the', 'nice', 'alainlicious'], [], ['eyes'], ['place', 'go', 'time', 'eyes'], ['emily', 'eatingthyme'], ['cute'], ['are', 'adorable', 'like', 'cat', 'donuts', 'my', 'right'], ['omg', 'cuteee'], ['foodspotting', 'vscofood', 'foodvsco', 'starlivingsg', 'buzzfeedfood', 'luzerne', 'jurongpoint', 'foursquarefind', 'shokutsuten', 'gokokusg'], ['heavennnn'], ['christmas', 'snowman'], ['is', 'of', 'client', 'lol'], ['starlivingsg', 'vscofood', 'foodvsco', 'christmas', 'xmas', 'foursquarefind', 'bonbons', 'discoverthedark'], ['great', 'smiling_face'], ['you', 'alainlicious', 'reina', 'opening', 'your', 'home', 'welcoming', 'eyes', 'new', 'in'], ['you', 'enjoyed', 'brownies', 'alain'], ['starlivingsg', 'vscofood', 'foodvsco', 'foursquarefind', 'fairpricesg', 'tescosg', 'tescofoodhacks', 'haagendazssg', 'icecream', 'sarniescafe', 'brownies', 'amazinggraze', 'granola', 'christmas'], ['eyes'], ['photo', 'really'], ['positive', 'vibessssssss', 'watermelon'], ['you', 'our', 'before'], ['cool'], ['congratulations', 'bhaiya'], [], ['jiayous', 'follow', 'for', 'stuff', 'in'], ['cutiesssss', 'eyes', 'eyes', 'eyes', 'eyes', 'sadie', 'wantssss', 'playdateee'], ['boy'], ['what', 'the', 'time', 'cost'], ['will', 'order', 'delivered', 'may', 'items', 'bought', 'cb', 'imm', 'trying', 'call', 'number', 'at', 'the', 'but', 'response'], ['is'], ['starlivingsg', 'growing_heart'], ['you', 'more', 'for', 'online', 'stores', 'you'], [], ['wins', 'starlivingsg'], ['starlivingsg'], ['ask', 'minimum', 'required', 'utilize', 'voucher', 'are', 'thank'], ['atomesg', 'availabletome', 'accesstomore', 'shopwithatome', 'atome', 'buynowpaylater', 'paylater', 'sgshopping', 'shoppingsg', 'sgsales', 'sgstyle', 'sgonlineshop', 'sgshop', 'sgfintech', 'sginstagram', 'singapore', 'interestfree', 'homeinspo', 'interiordesign', 'homedecor', 'homedesign', 'homestyling', 'homesweethome', 'starlivingsg'], [], ['have', 'table', 'offer', 'well'], ['frezhman'], ['eyes']]\n"
     ]
    }
   ],
   "source": [
    "'''\n",
    "After removing the emails and extra spaces, the text still looks messy.\n",
    "It is not ready for the LDA to consume. You need to break down each sentence\n",
    "into a list of words through tokenization, while clearing up all the messy \n",
    "text in the process.\n",
    "\n",
    "Let’s tokenize each sentence into a list of words, removing punctuations and \n",
    "unnecessary characters altogether.\n",
    "\n",
    "Gensim’s simple_preprocess() is great for this.\n",
    "Additionally I have set deacc=True to remove the punctuations.\n",
    "'''\n",
    "def sent_to_words(sentences):\n",
    "    for sentence in sentences:\n",
    "        yield(gensim.utils.simple_preprocess(str(sentence), deacc=True))  # deacc=True removes punctuations\n",
    "\n",
    "data_words = list(sent_to_words(data))\n",
    "print(data_words[0])\n",
    "for list_of_words in data_words:\n",
    "    for word in list_of_words:\n",
    "        if word.lower() in words or not word.isalpha():\n",
    "            list_of_words.remove(word)\n",
    "    \n",
    "print(data_words[:80])"
   ]
  },
  {
   "cell_type": "code",
   "execution_count": 12,
   "metadata": {},
   "outputs": [
    {
     "name": "stdout",
     "output_type": "stream",
     "text": [
      "[['you', 'the', 'shot'], ['cool'], ['foodspotting', 'vscofood', 'foodvsco', 'buzzfeast', 'foodstyling', 'foodgasm', 'nomnom', 'foursquarefind', 'starliving', 'starlivingsg', 'weekend', 'dwmoments', 'chocabloc', 'chocablocsg'], ['santa', 'mousse', 'looks', 'cute'], ['francislyn'], ['foodspotting', 'vscofood', 'foodvsco', 'buzzfeast', 'buzzfeedfood', 'foodgasm', 'nomnom', 'starlivingsg', 'foursquarefind', 'christmas', 'choux', 'desserts', 'ollella', 'ollellasg'], ['realised', 'pandan', 'cakes'], ['flatlay'], ['host', 'too', 'hahaha', 'buyaolian', 'eyes', 'eyes'], ['foodspotting', 'vscofood', 'foodvsco', 'buzzfeast', 'buzzfeedfood', 'foodgasm', 'nomnom', 'flatlay', 'flatlaystyle', 'starlivingsg', 'foursquarefind', 'christmas', 'chiffoncake', 'desserts', 'andazsingapore'], ['have', 'wonderful', 'have', 'page', 'well', 'may', 'give', 'it', 'look', 'means', 'keep'], ['those', 'now'], ['this', 'didnt', 'it', 'the', 'nice', 'alainlicious'], ['eyes'], ['place', 'go', 'time', 'eyes'], ['emily', 'eatingthyme'], ['cute'], ['are', 'adorable', 'like', 'cat', 'donuts', 'my', 'right'], ['omg', 'cuteee'], ['foodspotting', 'vscofood', 'foodvsco', 'starlivingsg', 'buzzfeedfood', 'luzerne', 'jurongpoint', 'foursquarefind', 'shokutsuten', 'gokokusg']]\n"
     ]
    }
   ],
   "source": [
    "data_words = [x for x in data_words if x]\n",
    "\n",
    "print(data_words[0:20])"
   ]
  },
  {
   "cell_type": "code",
   "execution_count": 13,
   "metadata": {},
   "outputs": [
    {
     "name": "stdout",
     "output_type": "stream",
     "text": [
      "['you', 'the', 'shot']\n"
     ]
    }
   ],
   "source": [
    "'''\n",
    "Bigrams are two words frequently occurring together in the document.\n",
    "Trigrams are 3 words frequently occurring.\n",
    "\n",
    "Some examples in our example are: ‘front_bumper’, ‘oil_leak’, ‘maryland_college_park’ etc.\n",
    "\n",
    "Gensim’s Phrases model can build and implement the bigrams, trigrams, \n",
    "quadgrams and more.\n",
    "\n",
    "The two important arguments to Phrases are min_count and threshold.\n",
    "The higher the values of these param, the harder it is for words to be combined to bigrams.\n",
    "'''\n",
    "# Build the bigram and trigram models\n",
    "bigram = gensim.models.Phrases(data_words, min_count=5, threshold=100) # higher threshold fewer phrases.\n",
    "trigram = gensim.models.Phrases(bigram[data_words], threshold=100)  \n",
    "\n",
    "# Faster way to get a sentence clubbed as a trigram/bigram\n",
    "bigram_mod = gensim.models.phrases.Phraser(bigram)\n",
    "trigram_mod = gensim.models.phrases.Phraser(trigram)\n",
    "\n",
    "# See trigram example\n",
    "print(trigram_mod[bigram_mod[data_words[0]]])"
   ]
  },
  {
   "cell_type": "code",
   "execution_count": 14,
   "metadata": {},
   "outputs": [],
   "source": [
    "'''\n",
    "The bigrams model is ready. Let’s define the functions to remove the stopwords, \n",
    "make bigrams and lemmatization and call them sequentially.\n",
    "'''\n",
    "# Define functions for stopwords, bigrams, trigrams and lemmatization\n",
    "def remove_stopwords(texts):\n",
    "    return [[word for word in simple_preprocess(str(doc)) if word not in stop_words] for doc in texts]\n",
    "\n",
    "def make_bigrams(texts):\n",
    "    return [bigram_mod[doc] for doc in texts]\n",
    "\n",
    "def make_trigrams(texts):\n",
    "    return [trigram_mod[bigram_mod[doc]] for doc in texts]\n",
    "\n",
    "def lemmatization(texts, allowed_postags=['NOUN', 'ADJ', 'VERB', 'ADV']):\n",
    "    \"\"\"https://spacy.io/api/annotation\"\"\"\n",
    "    texts_out = []\n",
    "    for sent in texts:\n",
    "        doc = nlp(\" \".join(sent)) \n",
    "        texts_out.append([token.lemma_ for token in doc if token.pos_ in allowed_postags])\n",
    "    return texts_out"
   ]
  },
  {
   "cell_type": "code",
   "execution_count": 15,
   "metadata": {},
   "outputs": [
    {
     "name": "stdout",
     "output_type": "stream",
     "text": [
      "[['shoot']]\n"
     ]
    }
   ],
   "source": [
    "'''\n",
    "Let’s call the functions in order.\n",
    "'''\n",
    "# Remove Stop Words\n",
    "data_words_nostops = remove_stopwords(data_words)\n",
    "\n",
    "# Form Bigrams\n",
    "data_words_bigrams = make_bigrams(data_words_nostops)\n",
    "\n",
    "# Initialize spacy 'en' model, keeping only tagger component (for efficiency)\n",
    "# python3 -m spacy download en\n",
    "nlp = spacy.load('en_core_web_sm', disable=['parser', 'ner'])\n",
    "\n",
    "# Do lemmatization keeping only noun, adj, vb, adv\n",
    "data_lemmatized = lemmatization(data_words_bigrams, allowed_postags=['NOUN', 'ADJ', 'VERB', 'ADV'])\n",
    "\n",
    "print(data_lemmatized[:1])"
   ]
  },
  {
   "cell_type": "code",
   "execution_count": 16,
   "metadata": {},
   "outputs": [
    {
     "name": "stdout",
     "output_type": "stream",
     "text": [
      "[[(0, 1)]]\n"
     ]
    }
   ],
   "source": [
    "'''\n",
    "The two main inputs to the LDA topic model are the dictionary(id2word) and the corpus.\n",
    "Let’s create them.\n",
    "'''\n",
    "# Create Dictionary\n",
    "id2word = corpora.Dictionary(data_lemmatized)\n",
    "\n",
    "# Create Corpus\n",
    "texts = data_lemmatized\n",
    "\n",
    "# Term Document Frequency\n",
    "corpus = [id2word.doc2bow(text) for text in texts]\n",
    "\n",
    "# View\n",
    "print(corpus[:1])"
   ]
  },
  {
   "cell_type": "code",
   "execution_count": 17,
   "metadata": {},
   "outputs": [
    {
     "data": {
      "text/plain": [
       "\"\\nGensim creates a unique id for each word in the document.\\nThe produced corpus shown above is a mapping of (word_id, word_frequency).\\n\\nFor example, (0, 1) above implies, word id 0 occurs once in the first document.\\n\\nLikewise, word id 1 occurs twice and so on.\\n\\nThis is used as the input by the LDA model.\\n\\nIf you want to see what word a given id corresponds to, pass the id as a key to the dictionary.\\n\\nid2word[0]\\n'addition'\\n\\nOr, you can see a human-readable form of the corpus itself.\\n\\n# Human readable format of corpus (term-frequency)\\n[[(id2word[id], freq) for id, freq in cp] for cp in corpus[:1]]\\n\\n[[('addition', 1),\\n  ('anyone', 2),\\n  ('body', 1),\\n  ('bricklin', 1),\\n  ('bring', 1),\\n  ('call', 1),\\n  ('car', 5),\\n  ('could', 1),\\n  ('day', 1),\\n  ('door', 2),\\n  ('early', 1),\\n  ('engine', 1),\\n  ('enlighten', 1),\\n  ('front_bumper', 1),\\n  ('maryland_college', 1),\\n  (..truncated..)]]\\n\\n\\nAlright, without digressing further let’s jump back on track with the next step:\\n\\nBuilding the topic model.\\n\""
      ]
     },
     "execution_count": 17,
     "metadata": {},
     "output_type": "execute_result"
    }
   ],
   "source": [
    "'''\n",
    "Gensim creates a unique id for each word in the document.\n",
    "The produced corpus shown above is a mapping of (word_id, word_frequency).\n",
    "\n",
    "For example, (0, 1) above implies, word id 0 occurs once in the first document.\n",
    "\n",
    "Likewise, word id 1 occurs twice and so on.\n",
    "\n",
    "This is used as the input by the LDA model.\n",
    "\n",
    "If you want to see what word a given id corresponds to, pass the id as a key to the dictionary.\n",
    "\n",
    "id2word[0]\n",
    "'addition'\n",
    "\n",
    "Or, you can see a human-readable form of the corpus itself.\n",
    "\n",
    "# Human readable format of corpus (term-frequency)\n",
    "[[(id2word[id], freq) for id, freq in cp] for cp in corpus[:1]]\n",
    "\n",
    "[[('addition', 1),\n",
    "  ('anyone', 2),\n",
    "  ('body', 1),\n",
    "  ('bricklin', 1),\n",
    "  ('bring', 1),\n",
    "  ('call', 1),\n",
    "  ('car', 5),\n",
    "  ('could', 1),\n",
    "  ('day', 1),\n",
    "  ('door', 2),\n",
    "  ('early', 1),\n",
    "  ('engine', 1),\n",
    "  ('enlighten', 1),\n",
    "  ('front_bumper', 1),\n",
    "  ('maryland_college', 1),\n",
    "  (..truncated..)]]\n",
    "\n",
    "\n",
    "Alright, without digressing further let’s jump back on track with the next step:\n",
    "\n",
    "Building the topic model.\n",
    "'''"
   ]
  },
  {
   "cell_type": "code",
   "execution_count": 18,
   "metadata": {},
   "outputs": [],
   "source": [
    "'''\n",
    "We have everything required to train the LDA model.\n",
    "In addition to the corpus and dictionary, you need to provide the number of topics as well.\n",
    "\n",
    "Apart from that, alpha and eta are hyperparameters that affect sparsity of the topics.\n",
    "According to the Gensim docs, both defaults to 1.0/num_topics prior.\n",
    "\n",
    "chunksize is the number of documents to be used in each training chunk.\n",
    "\n",
    "update_every determines how often the model parameters should be updated and \n",
    "passes is the total number of training passes.\n",
    "'''\n",
    "# Build LDA model\n",
    "lda_model = gensim.models.ldamodel.LdaModel(corpus=corpus,\n",
    "                                           id2word=id2word,\n",
    "                                           num_topics=3, \n",
    "                                           random_state=100,\n",
    "                                           update_every=1,\n",
    "                                           chunksize=100,\n",
    "                                           passes=10,\n",
    "                                           alpha='auto',\n",
    "                                           per_word_topics=True)"
   ]
  },
  {
   "cell_type": "code",
   "execution_count": 19,
   "metadata": {},
   "outputs": [
    {
     "name": "stdout",
     "output_type": "stream",
     "text": [
      "[(0,\n",
      "  '0.089*\"eye\" + 0.045*\"starlivingsg\" + 0.020*\"christma\" + 0.020*\"foodvsco\" + '\n",
      "  '0.020*\"vscofood\" + 0.020*\"foursquarefind\" + 0.020*\"alainlicious\" + '\n",
      "  '0.020*\"brownie\" + 0.019*\"well\" + 0.011*\"sarniescafe\"'),\n",
      " (1,\n",
      "  '0.037*\"starlivingsg\" + 0.030*\"foursquarefind\" + 0.030*\"vscofood\" + '\n",
      "  '0.030*\"foodvsco\" + 0.030*\"foodspotte\" + 0.023*\"buzzfeedfood\" + '\n",
      "  '0.023*\"nomnom\" + 0.023*\"foodgasm\" + 0.023*\"buzzfeast\" + 0.016*\"dessert\"'),\n",
      " (2,\n",
      "  '0.027*\"cute\" + 0.015*\"response\" + 0.015*\"imm\" + 0.015*\"try\" + 0.015*\"order\" '\n",
      "  '+ 0.015*\"item\" + 0.015*\"number\" + 0.015*\"buy\" + 0.015*\"call\" + '\n",
      "  '0.015*\"deliver\"')]\n"
     ]
    },
    {
     "data": {
      "text/plain": [
       "'\\nThe output will look like this...\\n\\n\\n[(0,\\n  \\'0.016*\"car\" + 0.014*\"power\" + 0.010*\"light\" + 0.009*\"drive\" + 0.007*\"mount\" \\'\\n  \\'+ 0.007*\"controller\" + 0.007*\"cool\" + 0.007*\"engine\" + 0.007*\"back\" + \\'\\n  \\'0.006*\"turn\"\\'),\\n (1,\\n  \\'0.072*\"line\" + 0.066*\"organization\" + 0.037*\"write\" + 0.032*\"article\" + \\'\\n  \\'0.028*\"university\" + 0.027*\"nntp_post\" + 0.026*\"host\" + 0.016*\"reply\" + \\'\\n  \\'0.014*\"get\" + 0.013*\"thank\"\\'),\\n (2,\\n  \\'0.017*\"patient\" + 0.011*\"study\" + 0.010*\"slave\" + 0.009*\"wing\" + \\'\\n  \\'0.009*\"disease\" + 0.008*\"food\" + 0.008*\"eat\" + 0.008*\"pain\" + \\'\\n  \\'0.007*\"treatment\" + 0.007*\"syndrome\"\\'),\\n (3,\\n  \\'0.013*\"key\" + 0.009*\"use\" + 0.009*\"may\" + 0.007*\"public\" + 0.007*\"system\" + \\'\\n  \\'0.007*\"order\" + 0.007*\"government\" + 0.006*\"state\" + 0.006*\"provide\" + \\'\\n  \\'0.006*\"law\"\\'),\\n  \\n  so on...\\n\\n\\n\\nHow to interpret this?\\n\\nTopic 0 is a represented as _\\n\\n0.016“car” + 0.014“power” + 0.010“light” + 0.009“drive” \\n+ 0.007“mount” + 0.007“controller” + 0.007“cool” + 0.007“engine” \\n+ 0.007“back” + ‘0.006“turn”.\\n\\nIt means the top 10 keywords that contribute to this topic are:\\n‘car’, ‘power’, ‘light’.. and so on\\nand the weight of ‘car’ on topic 0 is 0.016.\\n\\n--> The weights reflect how important a keyword is to that topic.\\n\\nLooking at these keywords, can you guess what this topic could be?\\nYou may summarise it either are ‘cars’ or ‘automobiles’.\\n\\nLikewise, can you go through the remaining topic keywords and judge what the topic is?\\nhttps://www.machinelearningplus.com/wp-content/uploads/2018/03/Inferring-Topic-from-Keywords.png\\n'"
      ]
     },
     "execution_count": 19,
     "metadata": {},
     "output_type": "execute_result"
    }
   ],
   "source": [
    "'''\n",
    "The above LDA model is built with 20 different topics where each topic is a \n",
    "combination of keywords and each keyword contributes a certain weightage to the topic.\n",
    "\n",
    "You can see the keywords for each topic and the weightage(importance) of \n",
    "each keyword using lda_model.print_topics() as shown next.\n",
    "'''\n",
    "# Print the Keyword in the 10 topics\n",
    "pprint(lda_model.print_topics())\n",
    "doc_lda = lda_model[corpus]\n",
    "\n",
    "'''\n",
    "The output will look like this...\n",
    "\n",
    "\n",
    "[(0,\n",
    "  '0.016*\"car\" + 0.014*\"power\" + 0.010*\"light\" + 0.009*\"drive\" + 0.007*\"mount\" '\n",
    "  '+ 0.007*\"controller\" + 0.007*\"cool\" + 0.007*\"engine\" + 0.007*\"back\" + '\n",
    "  '0.006*\"turn\"'),\n",
    " (1,\n",
    "  '0.072*\"line\" + 0.066*\"organization\" + 0.037*\"write\" + 0.032*\"article\" + '\n",
    "  '0.028*\"university\" + 0.027*\"nntp_post\" + 0.026*\"host\" + 0.016*\"reply\" + '\n",
    "  '0.014*\"get\" + 0.013*\"thank\"'),\n",
    " (2,\n",
    "  '0.017*\"patient\" + 0.011*\"study\" + 0.010*\"slave\" + 0.009*\"wing\" + '\n",
    "  '0.009*\"disease\" + 0.008*\"food\" + 0.008*\"eat\" + 0.008*\"pain\" + '\n",
    "  '0.007*\"treatment\" + 0.007*\"syndrome\"'),\n",
    " (3,\n",
    "  '0.013*\"key\" + 0.009*\"use\" + 0.009*\"may\" + 0.007*\"public\" + 0.007*\"system\" + '\n",
    "  '0.007*\"order\" + 0.007*\"government\" + 0.006*\"state\" + 0.006*\"provide\" + '\n",
    "  '0.006*\"law\"'),\n",
    "  \n",
    "  so on...\n",
    "\n",
    "\n",
    "\n",
    "How to interpret this?\n",
    "\n",
    "Topic 0 is a represented as _\n",
    "\n",
    "0.016“car” + 0.014“power” + 0.010“light” + 0.009“drive” \n",
    "+ 0.007“mount” + 0.007“controller” + 0.007“cool” + 0.007“engine” \n",
    "+ 0.007“back” + ‘0.006“turn”.\n",
    "\n",
    "It means the top 10 keywords that contribute to this topic are:\n",
    "‘car’, ‘power’, ‘light’.. and so on\n",
    "and the weight of ‘car’ on topic 0 is 0.016.\n",
    "\n",
    "--> The weights reflect how important a keyword is to that topic.\n",
    "\n",
    "Looking at these keywords, can you guess what this topic could be?\n",
    "You may summarise it either are ‘cars’ or ‘automobiles’.\n",
    "\n",
    "Likewise, can you go through the remaining topic keywords and judge what the topic is?\n",
    "https://www.machinelearningplus.com/wp-content/uploads/2018/03/Inferring-Topic-from-Keywords.png\n",
    "'''"
   ]
  },
  {
   "cell_type": "code",
   "execution_count": 20,
   "metadata": {},
   "outputs": [
    {
     "name": "stdout",
     "output_type": "stream",
     "text": [
      "\n",
      "Perplexity:  -5.414884350025186\n",
      "\n",
      "Coherence Score:  0.4992119776480754\n"
     ]
    },
    {
     "data": {
      "text/plain": [
       "'\\nPerplexity:  -8.86067503009\\n\\nCoherence Score:  0.532947587081\\n\\n\\nThere you have a coherence score of 0.53.\\n'"
      ]
     },
     "execution_count": 20,
     "metadata": {},
     "output_type": "execute_result"
    }
   ],
   "source": [
    "'''\n",
    "Model perplexity and topic coherence provide a convenient measure to judge \n",
    "how good a given topic model is. In my experience, topic coherence score, \n",
    "in particular, has been more helpful.\n",
    "'''\n",
    "# Compute Perplexity\n",
    "print('\\nPerplexity: ', lda_model.log_perplexity(corpus))  # a measure of how good the model is. lower the better.\n",
    "\n",
    "# Compute Coherence Score\n",
    "coherence_model_lda = CoherenceModel(model=lda_model, texts=data_lemmatized, dictionary=id2word, coherence='c_v')\n",
    "coherence_lda = coherence_model_lda.get_coherence()\n",
    "print('\\nCoherence Score: ', coherence_lda)\n",
    "\n",
    "'''\n",
    "Perplexity:  -8.86067503009\n",
    "\n",
    "Coherence Score:  0.532947587081\n",
    "\n",
    "\n",
    "There you have a coherence score of 0.53.\n",
    "'''"
   ]
  },
  {
   "cell_type": "code",
   "execution_count": 21,
   "metadata": {},
   "outputs": [
    {
     "data": {
      "text/html": [
       "\n",
       "<link rel=\"stylesheet\" type=\"text/css\" href=\"https://cdn.jsdelivr.net/gh/bmabey/pyLDAvis@3.3.1/pyLDAvis/js/ldavis.v1.0.0.css\">\n",
       "\n",
       "\n",
       "<div id=\"ldavis_el770018214468749445916440596\"></div>\n",
       "<script type=\"text/javascript\">\n",
       "\n",
       "var ldavis_el770018214468749445916440596_data = {\"mdsDat\": {\"x\": [-0.10725213895558967, 0.0609536079634739, 0.04629853099211568], \"y\": [-0.008029610404406412, -0.08413139415271213, 0.09216100455711856], \"topics\": [1, 2, 3], \"cluster\": [1, 1, 1], \"Freq\": [47.080523194735655, 34.609645791059165, 18.309831014205173]}, \"tinfo\": {\"Term\": [\"eye\", \"cute\", \"foodspotte\", \"starlivingsg\", \"response\", \"imm\", \"try\", \"order\", \"item\", \"number\", \"buy\", \"call\", \"deliver\", \"ask\", \"utilize\", \"voucher\", \"require\", \"minimum\", \"thank\", \"mousse\", \"santa\", \"vibessssssss\", \"watermelon\", \"positive\", \"cuteee\", \"great\", \"emily\", \"smiling_face\", \"omg\", \"eatingthyme\", \"foodspotte\", \"buzzfeedfood\", \"nomnom\", \"foodgasm\", \"buzzfeast\", \"dessert\", \"flatlay\", \"cool\", \"choux\", \"ollella\", \"andazsingapore\", \"flatlaystyle\", \"ollellasg\", \"chiffoncake\", \"shokutsuten\", \"luzerne\", \"jurongpoint\", \"gokokusg\", \"right\", \"cat\", \"adorable\", \"donut\", \"pandan\", \"realise\", \"cake\", \"weekend\", \"congratulation\", \"foodstyling\", \"dwmoment\", \"bhaiya\", \"foursquarefind\", \"vscofood\", \"foodvsco\", \"starlivingsg\", \"christmas\", \"eye\", \"brownie\", \"alainlicious\", \"well\", \"sarniescafe\", \"fairpricesg\", \"tescofoodhack\", \"icecream\", \"haagendazssg\", \"amazinggraze\", \"tescosg\", \"granola\", \"sadie\", \"wantssss\", \"home\", \"playdateee\", \"bonbon\", \"open\", \"new\", \"welcome\", \"cutiesssss\", \"discoverthedark\", \"reina\", \"offer\", \"table\", \"nice\", \"jiayous\", \"stuff\", \"enjoy\", \"do\", \"starlivingsg\", \"christma\", \"foodvsco\", \"vscofood\", \"foursquarefind\", \"cute\", \"response\", \"imm\", \"order\", \"try\", \"item\", \"number\", \"buy\", \"call\", \"deliver\", \"ask\", \"utilize\", \"voucher\", \"require\", \"minimum\", \"thank\", \"mousse\", \"santa\", \"vibessssssss\", \"watermelon\", \"positive\", \"cuteee\", \"great\", \"emily\", \"smiling_face\", \"omg\", \"eatingthyme\", \"client\", \"lol\", \"snowman\"], \"Freq\": [7.0, 1.0, 3.0, 6.0, 0.0, 0.0, 0.0, 0.0, 0.0, 0.0, 0.0, 0.0, 0.0, 0.0, 0.0, 0.0, 0.0, 0.0, 0.0, 0.0, 0.0, 0.0, 0.0, 0.0, 0.0, 0.0, 0.0, 0.0, 0.0, 0.0, 2.866745031262508, 2.2057756510553537, 2.2052890528792712, 2.2052167787384116, 2.2047342951792595, 1.543955439625608, 1.5426244504969113, 1.540708470178586, 0.8822748568269038, 0.8822641230436078, 0.8822589350483481, 0.8822453389228399, 0.8822331739684378, 0.8822329950720496, 0.8822329056238555, 0.8821986469655025, 0.882188807664148, 0.88215249169733, 0.8819721641379582, 0.8819613409064682, 0.8819667077981161, 0.8819413045109824, 0.8818642001676399, 0.8818151825572551, 0.8817412983489014, 0.881604353163684, 0.881532973504766, 0.8815793971175209, 0.8815183934491223, 0.8814491605468635, 2.867715365272461, 2.867686205161174, 2.8675480971494327, 3.5361364956364336, 0.8844668742723232, 6.281983569190203, 1.3779987197109935, 1.3780068733060065, 1.3747307062259202, 0.7876154476684949, 0.7876074913378773, 0.787601178877222, 0.7875990747236703, 0.7875938143397909, 0.7875857264995764, 0.7875830305528382, 0.7875827675336442, 0.7875569258978367, 0.7875548874990834, 0.7875379227610724, 0.7875395666310346, 0.787536541910304, 0.7875299664304547, 0.7875231279314115, 0.7875095824429221, 0.7875112263128844, 0.7874989301655664, 0.7874774283464593, 0.7873511791333538, 0.7873249429687554, 0.7873135016338177, 0.787285358580063, 0.7872902244351514, 0.787284964051272, 0.7872789803646092, 3.143875790056979, 1.3791962461011373, 1.3783573463819712, 1.3783222333195762, 1.3781873044730697, 1.0083207983958264, 0.576614058586455, 0.5766092232195579, 0.5766060228328346, 0.576606092406459, 0.5766013961868107, 0.5765968043275991, 0.5765900556860305, 0.5765635481351269, 0.576559582438535, 0.5765526250760931, 0.57654611994221, 0.5765435457181064, 0.5765353360304251, 0.5765325530854483, 0.576532344364575, 0.5765142552222261, 0.5765120636530568, 0.5764094773438512, 0.5764077032164285, 0.5763764646590644, 0.5762898107098506, 0.5762737739894221, 0.5762465707022744, 0.5762396829134568, 0.5762171062723329, 0.5761689961110472, 0.5761523680148112, 0.5761298609473117, 0.5761015792689853], \"Total\": [7.0, 1.0, 3.0, 6.0, 0.0, 0.0, 0.0, 0.0, 0.0, 0.0, 0.0, 0.0, 0.0, 0.0, 0.0, 0.0, 0.0, 0.0, 0.0, 0.0, 0.0, 0.0, 0.0, 0.0, 0.0, 0.0, 0.0, 0.0, 0.0, 0.0, 3.2086761070009584, 2.546999320192902, 2.5469389578188233, 2.5469374238687776, 2.5468598456999154, 1.885206338151134, 1.8849191471858175, 1.8845153438896116, 1.2234473088460551, 1.2234445553078508, 1.223444909032569, 1.2234389452733099, 1.2234355334071751, 1.2234374089727897, 1.2234402832747806, 1.2234329161114474, 1.223430466842773, 1.2234225966340804, 1.2233832130800764, 1.2233779916468193, 1.2233876199083125, 1.223370033959634, 1.2233648112713276, 1.223354779296561, 1.223343735885596, 1.2233748373487312, 1.223284201401928, 1.2233699585367734, 1.2233649335760015, 1.2232778537685922, 4.390272427913542, 4.390298760963081, 4.390260182493243, 6.824890661842738, 1.656848303941155, 7.024231128157089, 1.7431725320997595, 1.7432006043290011, 1.7435710741608175, 1.1524553038680685, 1.1524525581726286, 1.152451902177029, 1.1524488391891623, 1.1524500923201086, 1.1524510847184957, 1.1524493343449003, 1.1524526216701723, 1.1524477376018458, 1.1524480099438974, 1.1524427237132866, 1.1524467562723055, 1.1524491666183851, 1.1524458997905824, 1.1524462445093369, 1.1524408455525306, 1.1524437712754025, 1.1524519247130938, 1.1524372558165348, 1.1524408812210147, 1.152427458526371, 1.1524351412379306, 1.1524228913318213, 1.1524324499654826, 1.1524390211380608, 1.1524414616018515, 6.824890661842738, 2.4048557779281885, 4.390260182493243, 4.390298760963081, 4.390272427913542, 1.4271580049663974, 0.9942664172591411, 0.9942690293232184, 0.9942704419606321, 0.9942707741700864, 0.9942728054517955, 0.9942755324475077, 0.9942780435212548, 0.994289746177498, 0.9942906839179074, 0.9942945669027858, 0.9942965584327039, 0.9942960739986135, 0.9943034502316269, 0.9943012576901736, 0.9943016624703189, 0.9943092442367267, 0.9943081426075258, 0.9943528620459037, 0.9943567587302062, 0.9943722453680286, 0.994402708680098, 0.994416425378805, 0.9944256110200812, 0.9944276113548831, 0.9944381448737256, 0.994463241458858, 0.9944594579271111, 0.9944814486901055, 0.9944833702346826], \"Category\": [\"Default\", \"Default\", \"Default\", \"Default\", \"Default\", \"Default\", \"Default\", \"Default\", \"Default\", \"Default\", \"Default\", \"Default\", \"Default\", \"Default\", \"Default\", \"Default\", \"Default\", \"Default\", \"Default\", \"Default\", \"Default\", \"Default\", \"Default\", \"Default\", \"Default\", \"Default\", \"Default\", \"Default\", \"Default\", \"Default\", \"Topic1\", \"Topic1\", \"Topic1\", \"Topic1\", \"Topic1\", \"Topic1\", \"Topic1\", \"Topic1\", \"Topic1\", \"Topic1\", \"Topic1\", \"Topic1\", \"Topic1\", \"Topic1\", \"Topic1\", \"Topic1\", \"Topic1\", \"Topic1\", \"Topic1\", \"Topic1\", \"Topic1\", \"Topic1\", \"Topic1\", \"Topic1\", \"Topic1\", \"Topic1\", \"Topic1\", \"Topic1\", \"Topic1\", \"Topic1\", \"Topic1\", \"Topic1\", \"Topic1\", \"Topic1\", \"Topic1\", \"Topic2\", \"Topic2\", \"Topic2\", \"Topic2\", \"Topic2\", \"Topic2\", \"Topic2\", \"Topic2\", \"Topic2\", \"Topic2\", \"Topic2\", \"Topic2\", \"Topic2\", \"Topic2\", \"Topic2\", \"Topic2\", \"Topic2\", \"Topic2\", \"Topic2\", \"Topic2\", \"Topic2\", \"Topic2\", \"Topic2\", \"Topic2\", \"Topic2\", \"Topic2\", \"Topic2\", \"Topic2\", \"Topic2\", \"Topic2\", \"Topic2\", \"Topic2\", \"Topic2\", \"Topic2\", \"Topic2\", \"Topic3\", \"Topic3\", \"Topic3\", \"Topic3\", \"Topic3\", \"Topic3\", \"Topic3\", \"Topic3\", \"Topic3\", \"Topic3\", \"Topic3\", \"Topic3\", \"Topic3\", \"Topic3\", \"Topic3\", \"Topic3\", \"Topic3\", \"Topic3\", \"Topic3\", \"Topic3\", \"Topic3\", \"Topic3\", \"Topic3\", \"Topic3\", \"Topic3\", \"Topic3\", \"Topic3\", \"Topic3\", \"Topic3\", \"Topic3\"], \"logprob\": [30.0, 29.0, 28.0, 27.0, 26.0, 25.0, 24.0, 23.0, 22.0, 21.0, 20.0, 19.0, 18.0, 17.0, 16.0, 15.0, 14.0, 13.0, 12.0, 11.0, 10.0, 9.0, 8.0, 7.0, 6.0, 5.0, 4.0, 3.0, 2.0, 1.0, -3.5116, -3.7737, -3.774, -3.774, -3.7742, -4.1305, -4.1313, -4.1326, -4.6901, -4.6901, -4.6901, -4.6901, -4.6901, -4.6901, -4.6901, -4.6901, -4.6902, -4.6902, -4.6904, -4.6904, -4.6904, -4.6904, -4.6905, -4.6906, -4.6907, -4.6908, -4.6909, -4.6908, -4.6909, -4.691, -3.5113, -3.5113, -3.5114, -3.3018, -4.6876, -2.4194, -3.9364, -3.9364, -3.9388, -4.4958, -4.4958, -4.4958, -4.4958, -4.4959, -4.4959, -4.4959, -4.4959, -4.4959, -4.4959, -4.4959, -4.4959, -4.4959, -4.4959, -4.4959, -4.496, -4.496, -4.496, -4.496, -4.4962, -4.4962, -4.4962, -4.4962, -4.4962, -4.4962, -4.4963, -3.1116, -3.9356, -3.9362, -3.9362, -3.9363, -3.6121, -4.171, -4.171, -4.171, -4.171, -4.171, -4.171, -4.171, -4.1711, -4.1711, -4.1711, -4.1711, -4.1711, -4.1711, -4.1711, -4.1711, -4.1711, -4.1711, -4.1713, -4.1713, -4.1714, -4.1715, -4.1716, -4.1716, -4.1716, -4.1717, -4.1717, -4.1718, -4.1718, -4.1719], \"loglift\": [30.0, 29.0, 28.0, 27.0, 26.0, 25.0, 24.0, 23.0, 22.0, 21.0, 20.0, 19.0, 18.0, 17.0, 16.0, 15.0, 14.0, 13.0, 12.0, 11.0, 10.0, 9.0, 8.0, 7.0, 6.0, 5.0, 4.0, 3.0, 2.0, 1.0, 0.6406, 0.6095, 0.6093, 0.6092, 0.6091, 0.5536, 0.5529, 0.5519, 0.4264, 0.4264, 0.4264, 0.4264, 0.4263, 0.4263, 0.4263, 0.4263, 0.4263, 0.4263, 0.4261, 0.4261, 0.4261, 0.4261, 0.426, 0.4259, 0.4259, 0.4257, 0.4257, 0.4257, 0.4256, 0.4256, 0.3274, 0.3274, 0.3274, 0.0958, 0.1256, 0.9494, 0.826, 0.826, 0.8234, 0.6804, 0.6804, 0.6804, 0.6804, 0.6804, 0.6804, 0.6804, 0.6804, 0.6803, 0.6803, 0.6803, 0.6803, 0.6803, 0.6803, 0.6803, 0.6803, 0.6803, 0.6803, 0.6802, 0.6801, 0.6801, 0.68, 0.68, 0.68, 0.68, 0.68, 0.2859, 0.505, -0.0975, -0.0975, -0.0976, 1.3503, 1.1529, 1.1529, 1.1529, 1.1529, 1.1529, 1.1529, 1.1528, 1.1528, 1.1528, 1.1528, 1.1528, 1.1527, 1.1527, 1.1527, 1.1527, 1.1527, 1.1527, 1.1525, 1.1525, 1.1524, 1.1522, 1.1522, 1.1521, 1.1521, 1.152, 1.1519, 1.1519, 1.1518, 1.1518]}, \"token.table\": {\"Topic\": [1, 2, 2, 1, 3, 1, 2, 2, 3, 1, 1, 1, 3, 1, 1, 1, 1, 2, 1, 3, 3, 1, 1, 3, 3, 2, 3, 1, 2, 2, 1, 1, 3, 3, 2, 2, 2, 1, 1, 1, 1, 1, 1, 2, 1, 2, 1, 2, 3, 2, 2, 2, 3, 3, 2, 1, 3, 1, 3, 3, 2, 2, 1, 3, 2, 1, 1, 3, 2, 3, 1, 2, 3, 1, 2, 3, 3, 1, 2, 3, 2, 1, 3, 3, 1, 2, 2, 2, 2, 2, 3, 3, 3, 3, 3, 1, 2, 2, 3, 1, 2, 2], \"Freq\": [0.8174024190917885, 0.5736574422453941, 0.867715787038602, 0.8173641433440133, 1.0057381718528207, 0.8174757655583048, 0.8677172312374397, 0.5736666804836799, 1.0057548856841703, 0.785280746161503, 0.7852377439380416, 0.8174317411092031, 1.0057430480847809, 0.8174088522337036, 0.8173691540457391, 0.8173625400698223, 0.4158253518477153, 0.4158253518477153, 0.6035555564267978, 0.6035555564267978, 1.0055714107083238, 0.8174715236687956, 1.0612808255898993, 0.7006932634789412, 1.0056287973383857, 0.8677212935892795, 1.0057420995433604, 1.060891828934464, 0.8677151545813531, 0.8677230326389304, 0.8174141692545297, 0.8174175771712808, 1.0055675849144707, 1.0056056369809308, 0.8677248701735875, 0.8541860155980073, 0.8677146776311877, 1.0610534690498519, 0.8173681276564277, 0.785256826986356, 0.9349650447592228, 0.8174142196495181, 0.6833307993824389, 0.22777693312747962, 0.6833288934248978, 0.22777629780829925, 0.8173790501754931, 0.8677146298220634, 1.0056149259793934, 0.8677165342464448, 0.8677220823416709, 0.8677174777698401, 1.005764004014771, 1.0057601842440034, 0.8677370152239248, 0.8173737920559022, 1.0055491747152885, 0.8173721557029825, 1.0057314041048937, 1.0057233258126266, 0.8677194313959156, 0.8677277915404534, 0.7852563540481484, 1.0057574257493807, 0.8677234696329905, 0.8173643796619567, 0.817370407098669, 1.0055929623727182, 0.867719690947502, 1.0057625750475592, 0.8174176588917859, 0.8677190460708063, 1.0056596055030564, 0.8174243620276763, 0.8677261993682002, 1.0057291863636257, 1.005766646284468, 0.817405363510203, 0.8677183071927602, 1.0057244400891132, 0.8677126103230453, 0.8173672337511249, 1.0056036141610394, 1.0055472317893215, 0.5860899753843074, 0.4395674815382306, 0.8677298179428667, 0.8677335762883656, 0.8677151715494233, 0.8677171049505975, 1.0057309946717012, 1.0057622389984215, 1.0057361574058814, 1.0056792092321, 1.0057366474137304, 0.6833247948123474, 0.2277749316041158, 0.8677181021369296, 1.0056752681773895, 0.8174109598062163, 0.8677234964893632, 0.5735355528774765], \"Term\": [\"adorable\", \"alainlicious\", \"amazinggraze\", \"andazsingapore\", \"ask\", \"bhaiya\", \"bonbon\", \"brownie\", \"buy\", \"buzzfeast\", \"buzzfeedfood\", \"cake\", \"call\", \"cat\", \"chiffoncake\", \"choux\", \"christma\", \"christma\", \"christmas\", \"christmas\", \"client\", \"congratulation\", \"cool\", \"cute\", \"cuteee\", \"cutiesssss\", \"deliver\", \"dessert\", \"discoverthedark\", \"do\", \"donut\", \"dwmoment\", \"eatingthyme\", \"emily\", \"enjoy\", \"eye\", \"fairpricesg\", \"flatlay\", \"flatlaystyle\", \"foodgasm\", \"foodspotte\", \"foodstyling\", \"foodvsco\", \"foodvsco\", \"foursquarefind\", \"foursquarefind\", \"gokokusg\", \"granola\", \"great\", \"haagendazssg\", \"home\", \"icecream\", \"imm\", \"item\", \"jiayous\", \"jurongpoint\", \"lol\", \"luzerne\", \"minimum\", \"mousse\", \"new\", \"nice\", \"nomnom\", \"number\", \"offer\", \"ollella\", \"ollellasg\", \"omg\", \"open\", \"order\", \"pandan\", \"playdateee\", \"positive\", \"realise\", \"reina\", \"require\", \"response\", \"right\", \"sadie\", \"santa\", \"sarniescafe\", \"shokutsuten\", \"smiling_face\", \"snowman\", \"starlivingsg\", \"starlivingsg\", \"stuff\", \"table\", \"tescofoodhack\", \"tescosg\", \"thank\", \"try\", \"utilize\", \"vibessssssss\", \"voucher\", \"vscofood\", \"vscofood\", \"wantssss\", \"watermelon\", \"weekend\", \"welcome\", \"well\"]}, \"R\": 30, \"lambda.step\": 0.01, \"plot.opts\": {\"xlab\": \"PC1\", \"ylab\": \"PC2\"}, \"topic.order\": [2, 1, 3]};\n",
       "\n",
       "function LDAvis_load_lib(url, callback){\n",
       "  var s = document.createElement('script');\n",
       "  s.src = url;\n",
       "  s.async = true;\n",
       "  s.onreadystatechange = s.onload = callback;\n",
       "  s.onerror = function(){console.warn(\"failed to load library \" + url);};\n",
       "  document.getElementsByTagName(\"head\")[0].appendChild(s);\n",
       "}\n",
       "\n",
       "if(typeof(LDAvis) !== \"undefined\"){\n",
       "   // already loaded: just create the visualization\n",
       "   !function(LDAvis){\n",
       "       new LDAvis(\"#\" + \"ldavis_el770018214468749445916440596\", ldavis_el770018214468749445916440596_data);\n",
       "   }(LDAvis);\n",
       "}else if(typeof define === \"function\" && define.amd){\n",
       "   // require.js is available: use it to load d3/LDAvis\n",
       "   require.config({paths: {d3: \"https://d3js.org/d3.v5\"}});\n",
       "   require([\"d3\"], function(d3){\n",
       "      window.d3 = d3;\n",
       "      LDAvis_load_lib(\"https://cdn.jsdelivr.net/gh/bmabey/pyLDAvis@3.3.1/pyLDAvis/js/ldavis.v3.0.0.js\", function(){\n",
       "        new LDAvis(\"#\" + \"ldavis_el770018214468749445916440596\", ldavis_el770018214468749445916440596_data);\n",
       "      });\n",
       "    });\n",
       "}else{\n",
       "    // require.js not available: dynamically load d3 & LDAvis\n",
       "    LDAvis_load_lib(\"https://d3js.org/d3.v5.js\", function(){\n",
       "         LDAvis_load_lib(\"https://cdn.jsdelivr.net/gh/bmabey/pyLDAvis@3.3.1/pyLDAvis/js/ldavis.v3.0.0.js\", function(){\n",
       "                 new LDAvis(\"#\" + \"ldavis_el770018214468749445916440596\", ldavis_el770018214468749445916440596_data);\n",
       "            })\n",
       "         });\n",
       "}\n",
       "</script>"
      ],
      "text/plain": [
       "PreparedData(topic_coordinates=              x         y  topics  cluster       Freq\n",
       "topic                                                \n",
       "1     -0.107252 -0.008030       1        1  47.080523\n",
       "0      0.060954 -0.084131       2        1  34.609646\n",
       "2      0.046299  0.092161       3        1  18.309831, topic_info=             Term      Freq     Total Category  logprob  loglift\n",
       "32            eye  7.000000  7.000000  Default  30.0000  30.0000\n",
       "16           cute  1.000000  1.000000  Default  29.0000  29.0000\n",
       "7      foodspotte  3.000000  3.000000  Default  28.0000  28.0000\n",
       "13   starlivingsg  6.000000  6.000000  Default  27.0000  27.0000\n",
       "109      response  0.000000  0.000000  Default  26.0000  26.0000\n",
       "..            ...       ...       ...      ...      ...      ...\n",
       "58            omg  0.576217  0.994438   Topic3  -4.1717   1.1520\n",
       "51    eatingthyme  0.576169  0.994463   Topic3  -4.1717   1.1519\n",
       "65         client  0.576152  0.994459   Topic3  -4.1718   1.1519\n",
       "66            lol  0.576130  0.994481   Topic3  -4.1718   1.1518\n",
       "64        snowman  0.576102  0.994483   Topic3  -4.1719   1.1518\n",
       "\n",
       "[130 rows x 6 columns], token_table=      Topic      Freq            Term\n",
       "term                                 \n",
       "53        1  0.817402        adorable\n",
       "45        2  0.573657    alainlicious\n",
       "79        2  0.867716    amazinggraze\n",
       "35        1  0.817364  andazsingapore\n",
       "115       3  1.005738             ask\n",
       "...     ...       ...             ...\n",
       "100       2  0.867718        wantssss\n",
       "91        3  1.005675      watermelon\n",
       "15        1  0.817411         weekend\n",
       "75        2  0.867723         welcome\n",
       "43        2  0.573536            well\n",
       "\n",
       "[102 rows x 3 columns], R=30, lambda_step=0.01, plot_opts={'xlab': 'PC1', 'ylab': 'PC2'}, topic_order=[2, 1, 3])"
      ]
     },
     "execution_count": 21,
     "metadata": {},
     "output_type": "execute_result"
    }
   ],
   "source": [
    "'''\n",
    "Now that the LDA model is built, the next step is to examine the produced \n",
    "topics and the associated keywords. There is no better tool than pyLDAvis package’s \n",
    "interactive chart and is designed to work well with jupyter notebooks.\n",
    "'''\n",
    "# Visualize the topics\n",
    "pyLDAvis.enable_notebook()\n",
    "vis = pyLDAvis.gensim_models.prepare(lda_model, corpus, id2word)\n",
    "vis"
   ]
  },
  {
   "cell_type": "code",
   "execution_count": 22,
   "metadata": {},
   "outputs": [
    {
     "data": {
      "text/plain": [
       "'\\nSo how to infer pyLDAvis’s output?\\n\\nEach bubble on the left-hand side plot represents a topic. \\nThe larger the bubble, the more prevalent is that topic.\\n\\nA good topic model will have fairly big, non-overlapping bubbles scattered \\nthroughout the chart instead of being clustered in one quadrant.\\n\\nA model with too many topics, will typically have many overlaps, \\nsmall sized bubbles clustered in one region of the chart.\\n\\nAlright, if you move the cursor over one of the bubbles, \\nthe words and bars on the right-hand side will update. \\nThese words are the salient keywords that form the selected topic.\\n\\nWe have successfully built a good looking topic model.\\n'"
      ]
     },
     "execution_count": 22,
     "metadata": {},
     "output_type": "execute_result"
    }
   ],
   "source": [
    "'''\n",
    "So how to infer pyLDAvis’s output?\n",
    "\n",
    "Each bubble on the left-hand side plot represents a topic. \n",
    "The larger the bubble, the more prevalent is that topic.\n",
    "\n",
    "A good topic model will have fairly big, non-overlapping bubbles scattered \n",
    "throughout the chart instead of being clustered in one quadrant.\n",
    "\n",
    "A model with too many topics, will typically have many overlaps, \n",
    "small sized bubbles clustered in one region of the chart.\n",
    "\n",
    "Alright, if you move the cursor over one of the bubbles, \n",
    "the words and bars on the right-hand side will update. \n",
    "These words are the salient keywords that form the selected topic.\n",
    "\n",
    "We have successfully built a good looking topic model.\n",
    "'''"
   ]
  },
  {
   "cell_type": "code",
   "execution_count": 23,
   "metadata": {},
   "outputs": [],
   "source": [
    "pyLDAvis.save_html(vis, 'starlivingsg_lda.html')"
   ]
  },
  {
   "cell_type": "code",
   "execution_count": null,
   "metadata": {},
   "outputs": [],
   "source": []
  }
 ],
 "metadata": {
  "kernelspec": {
   "display_name": "Python 3",
   "language": "python",
   "name": "python3"
  },
  "language_info": {
   "codemirror_mode": {
    "name": "ipython",
    "version": 3
   },
   "file_extension": ".py",
   "mimetype": "text/x-python",
   "name": "python",
   "nbconvert_exporter": "python",
   "pygments_lexer": "ipython3",
   "version": "3.8.3"
  }
 },
 "nbformat": 4,
 "nbformat_minor": 2
}
