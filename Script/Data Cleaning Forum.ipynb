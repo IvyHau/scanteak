{
 "metadata": {
  "language_info": {
   "codemirror_mode": {
    "name": "ipython",
    "version": 3
   },
   "file_extension": ".py",
   "mimetype": "text/x-python",
   "name": "python",
   "nbconvert_exporter": "python",
   "pygments_lexer": "ipython3",
   "version": "3.7.0"
  },
  "orig_nbformat": 2,
  "kernelspec": {
   "name": "python370jvsc74a57bd0097a94cc1bfc5a0a380b63d1eb45dc603bb0f63840061a2276c4020d01d7c102",
   "display_name": "Python 3.7.0 64-bit"
  },
  "metadata": {
   "interpreter": {
    "hash": "097a94cc1bfc5a0a380b63d1eb45dc603bb0f63840061a2276c4020d01d7c102"
   }
  }
 },
 "nbformat": 4,
 "nbformat_minor": 2,
 "cells": [
  {
   "cell_type": "code",
   "execution_count": 2,
   "metadata": {},
   "outputs": [
    {
     "output_type": "stream",
     "name": "stdout",
     "text": [
      "Downloading emoji data ...\n",
      "... OK (Got response in 1.26 seconds)\n",
      "Writing emoji data to C:\\Users\\ivyha\\.demoji\\codes.json ...\n",
      "... OK\n"
     ]
    }
   ],
   "source": [
    "import pandas as pd \n",
    "from emot import UNICODE_EMO\n",
    "from emot import EMOTICONS\n",
    "import re\n",
    "import demoji\n",
    "demoji.download_codes()"
   ]
  },
  {
   "cell_type": "code",
   "execution_count": 170,
   "metadata": {},
   "outputs": [],
   "source": [
    "# Import consolidates files\n",
    "scanteak_forum_df = pd.read_csv(\"../Consolidated Data/Consolidated_Scanteak (Forums).csv\")\n",
    "castlery_forum_df = pd.read_csv(\"../Consolidated Data/Consolidated_Castlery (Forums).csv\")\n",
    "wihardja_forum_df = pd.read_csv(\"../Consolidated Data/Consolidated_Wihardja (Forums).csv\")\n",
    "star_living_forum_df = pd.read_csv(\"../Consolidated Data/Consolidated_StarLiving (Forums).csv\")\n",
    "grey_and_sanders_forum_df = pd.read_csv(\"../Consolidated Data/Consolidated_GreySanders (Forums).csv\")\n",
    "teak_furniture_forum_df = pd.read_csv(\"../Consolidated Data/Consolidated_furniture (Forums).csv\")"
   ]
  },
  {
   "cell_type": "code",
   "execution_count": 4,
   "metadata": {},
   "outputs": [],
   "source": [
    "dataframes = [scanteak_forum_df, castlery_forum_df, wihardja_forum_df, star_living_forum_df, grey_and_sanders_forum_df, teak_furniture_forum_df]"
   ]
  },
  {
   "cell_type": "code",
   "execution_count": 96,
   "metadata": {},
   "outputs": [],
   "source": [
    "keyword = ['scanteak', 'scantech', 'scan','tech', 'castlery', 'cast','castery', 'wihardja','wiharja' 'wih', 'star','star living','grey and sanders','grey & sanders','grey&sanders','grey', 'sander', 'teak', 'furniture', 'wood', 'solid']"
   ]
  },
  {
   "source": [
    "### Functions"
   ],
   "cell_type": "markdown",
   "metadata": {}
  },
  {
   "cell_type": "code",
   "execution_count": 171,
   "metadata": {},
   "outputs": [],
   "source": [
    "def remove_row(df, keyword):\n",
    "    #for word in keyword:\n",
    "    df[df['Body'].isin(keyword)]\n",
    "    return df"
   ]
  },
  {
   "cell_type": "code",
   "execution_count": 6,
   "metadata": {},
   "outputs": [],
   "source": [
    "def remove_space(df, colname):\n",
    "    # Remove whitespace in header\n",
    "    df.rename(columns=lambda x: x.strip(), inplace=True)\n",
    "    # Remove whiteshpace in body\n",
    "    df[colname] = df[colname].str.strip(\" \")\n",
    "    df[colname] = df[colname].replace(r'\\\\n', ' ', regex = True)\n",
    "    df[colname] = df[colname].replace('\\s+', ' ', regex = True)\n",
    "    df[colname] = df[colname].dropna()"
   ]
  },
  {
   "cell_type": "code",
   "execution_count": 7,
   "metadata": {},
   "outputs": [],
   "source": [
    "def lower_case(df, colname):\n",
    "    df[colname] = df[colname].str.lower()"
   ]
  },
  {
   "cell_type": "code",
   "execution_count": 8,
   "metadata": {},
   "outputs": [],
   "source": [
    "def special_character(df, colname):\n",
    "    df[colname].replace({r'[^\\x00-\\x7F]+':''}, regex=True, inplace=True)"
   ]
  },
  {
   "cell_type": "code",
   "execution_count": 9,
   "metadata": {},
   "outputs": [],
   "source": [
    "# Emoticon Handling\n",
    "def convert_emoticons(text):\n",
    "    for emot in EMOTICONS:\n",
    "        text = re.sub(u'('+emot+')', \"_\".join(EMOTICONS[emot].replace(\",\",\"\").split()), text)\n",
    "    return text"
   ]
  },
  {
   "cell_type": "code",
   "execution_count": 10,
   "metadata": {},
   "outputs": [],
   "source": [
    "# Convert emoticon in dataframe\n",
    "def emoticon_handling(df, colname):\n",
    "    for body in df[colname].astype(str):\n",
    "        body = convert_emoticons(body)"
   ]
  },
  {
   "source": [
    "### Implement Functions"
   ],
   "cell_type": "markdown",
   "metadata": {}
  },
  {
   "cell_type": "code",
   "execution_count": 172,
   "metadata": {},
   "outputs": [],
   "source": [
    "# Remove whitespace\n",
    "scanteak_forum_df['Body'] = scanteak_forum_df['Body'].str.strip()\n",
    "castlery_forum_df['Body'] = castlery_forum_df['Body'].str.strip()\n",
    "wihardja_forum_df['Body'] = wihardja_forum_df['Body'].str.strip()\n",
    "star_living_forum_df['Body'] = star_living_forum_df['Body'].str.strip()\n",
    "grey_and_sanders_forum_df['Body'] = grey_and_sanders_forum_df['Body'].str.strip()\n",
    "teak_furniture_forum_df['Body'] = teak_furniture_forum_df['Body'].str.strip()"
   ]
  },
  {
   "cell_type": "code",
   "execution_count": 173,
   "metadata": {
    "tags": []
   },
   "outputs": [],
   "source": [
    "for dataframe in dataframes:\n",
    "    remove_space(dataframe, 'Body')\n",
    "    lower_case(dataframe, 'Body')\n",
    "    special_character(dataframe, 'Body')\n",
    "    emoticon_handling(dataframe, 'Body')"
   ]
  },
  {
   "cell_type": "code",
   "execution_count": 174,
   "metadata": {},
   "outputs": [],
   "source": [
    "scanteak_forum_df = remove_row(scanteak_forum_df, keyword)\n",
    "castlery_forum_df = remove_row(castlery_forum_df, keyword)\n",
    "wihardja_forum_df = remove_row(wihardja_forum_df, keyword)\n",
    "star_living_forum_df = remove_row(star_living_forum_df, keyword)\n",
    "grey_and_sanders_forum_df = remove_row(grey_and_sanders_forum_df, keyword)\n",
    "teak_furniture_forum_df = remove_row(teak_furniture_forum_df, keyword)"
   ]
  },
  {
   "cell_type": "code",
   "execution_count": 157,
   "metadata": {},
   "outputs": [],
   "source": [
    "# Export dataframe to csv\n",
    "scanteak_forum_df.to_csv(\"../Clean Data/clean_consolidated_scanteak (forum).csv\")\n",
    "castlery_forum_df.to_csv(\"../Clean Data/clean_consolidated_castlery (forum).csv\")\n",
    "wihardja_forum_df.to_csv(\"../Clean Data/clean_consolidated_wihardja (forum).csv\")\n",
    "star_living_forum_df.to_csv(\"../Clean Data/clean_consolidated_starliving (forum).csv\")\n",
    "grey_and_sanders_forum_df.to_csv(\"../Clean Data/clean_consolidated_greysanders (forum).csv\")\n",
    "teak_furniture_forum_df.to_csv(\"../Clean Data/clean_consolidated_furniture (forum).csv\")"
   ]
  },
  {
   "cell_type": "code",
   "execution_count": 175,
   "metadata": {},
   "outputs": [
    {
     "output_type": "execute_result",
     "data": {
      "text/plain": [
       "           Author                                               Body  \\\n",
       "0        feng1314  Hmmm.. never heard of the first two. Maybe can...   \n",
       "1      quirkyhill  we went grey and sanders commune harvey norman...   \n",
       "2     Fallingrain  Grey & Sanders Sent from Samsung SM-G975F usin...   \n",
       "3         g_t2006   Grey and Sanders does mainly walnut and ashwood.   \n",
       "4      theblueark  Have heard from various wood experts not to ge...   \n",
       "5             GBC  If you see wood dust below the furniture piece...   \n",
       "6         donut88  Suar Wood is actually American walnut. origin ...   \n",
       "7  touchyourheart  what $200K? probably didn't even spend a scent...   \n",
       "8      theblueark  If you buying from local shops you can guess w...   \n",
       "9          sellun  Wow you are very knowledgeable! Thanks for you...   \n",
       "\n",
       "      Reply to                                Message Replying to  Permalink  \\\n",
       "0   quirkyhill  we went grey and sanders commune harvey norman...        NaN   \n",
       "1     feng1314  Hmmmmm.. I typically source for most of my fur...        NaN   \n",
       "2          NaN                                                NaN        NaN   \n",
       "3  Fallingrain  Grey & Sanders Sent from Samsung SM-G975F usin...        NaN   \n",
       "4          NaN                                                NaN        NaN   \n",
       "5   theblueark  Have heard from various wood experts not to ge...        NaN   \n",
       "6   theblueark  Have heard from various wood experts not to ge...        NaN   \n",
       "7          NaN                                                NaN        NaN   \n",
       "8          NaN                                                NaN        NaN   \n",
       "9   theblueark  If you buying from local shops you can guess w...        NaN   \n",
       "\n",
       "   Score             TimeStamp  Year Source  \n",
       "0    NaN  08-11-2020, 12:07 AM  2020    HWZ  \n",
       "1    NaN  07-11-2020, 11:58 PM  2020    HWZ  \n",
       "2    NaN  23-03-2021, 02:35 AM  2021    HWZ  \n",
       "3    NaN  24-03-2021, 08:46 PM  2021    HWZ  \n",
       "4    NaN  09-07-2018, 12:16 PM  2018    HWZ  \n",
       "5    NaN  09-07-2018, 01:53 PM  2018    HWZ  \n",
       "6    NaN  09-07-2018, 02:29 PM  2018    HWZ  \n",
       "7    NaN  01-11-2020, 04:31 PM  2020    HWZ  \n",
       "8    NaN  20-08-2018, 11:22 AM  2018    HWZ  \n",
       "9    NaN  20-08-2018, 01:11 PM  2018    HWZ  "
      ],
      "text/html": "<div>\n<style scoped>\n    .dataframe tbody tr th:only-of-type {\n        vertical-align: middle;\n    }\n\n    .dataframe tbody tr th {\n        vertical-align: top;\n    }\n\n    .dataframe thead th {\n        text-align: right;\n    }\n</style>\n<table border=\"1\" class=\"dataframe\">\n  <thead>\n    <tr style=\"text-align: right;\">\n      <th></th>\n      <th>Author</th>\n      <th>Body</th>\n      <th>Reply to</th>\n      <th>Message Replying to</th>\n      <th>Permalink</th>\n      <th>Score</th>\n      <th>TimeStamp</th>\n      <th>Year</th>\n      <th>Source</th>\n    </tr>\n  </thead>\n  <tbody>\n    <tr>\n      <th>0</th>\n      <td>feng1314</td>\n      <td>Hmmm.. never heard of the first two. Maybe can...</td>\n      <td>quirkyhill</td>\n      <td>we went grey and sanders commune harvey norman...</td>\n      <td>NaN</td>\n      <td>NaN</td>\n      <td>08-11-2020, 12:07 AM</td>\n      <td>2020</td>\n      <td>HWZ</td>\n    </tr>\n    <tr>\n      <th>1</th>\n      <td>quirkyhill</td>\n      <td>we went grey and sanders commune harvey norman...</td>\n      <td>feng1314</td>\n      <td>Hmmmmm.. I typically source for most of my fur...</td>\n      <td>NaN</td>\n      <td>NaN</td>\n      <td>07-11-2020, 11:58 PM</td>\n      <td>2020</td>\n      <td>HWZ</td>\n    </tr>\n    <tr>\n      <th>2</th>\n      <td>Fallingrain</td>\n      <td>Grey &amp; Sanders Sent from Samsung SM-G975F usin...</td>\n      <td>NaN</td>\n      <td>NaN</td>\n      <td>NaN</td>\n      <td>NaN</td>\n      <td>23-03-2021, 02:35 AM</td>\n      <td>2021</td>\n      <td>HWZ</td>\n    </tr>\n    <tr>\n      <th>3</th>\n      <td>g_t2006</td>\n      <td>Grey and Sanders does mainly walnut and ashwood.</td>\n      <td>Fallingrain</td>\n      <td>Grey &amp; Sanders Sent from Samsung SM-G975F usin...</td>\n      <td>NaN</td>\n      <td>NaN</td>\n      <td>24-03-2021, 08:46 PM</td>\n      <td>2021</td>\n      <td>HWZ</td>\n    </tr>\n    <tr>\n      <th>4</th>\n      <td>theblueark</td>\n      <td>Have heard from various wood experts not to ge...</td>\n      <td>NaN</td>\n      <td>NaN</td>\n      <td>NaN</td>\n      <td>NaN</td>\n      <td>09-07-2018, 12:16 PM</td>\n      <td>2018</td>\n      <td>HWZ</td>\n    </tr>\n    <tr>\n      <th>5</th>\n      <td>GBC</td>\n      <td>If you see wood dust below the furniture piece...</td>\n      <td>theblueark</td>\n      <td>Have heard from various wood experts not to ge...</td>\n      <td>NaN</td>\n      <td>NaN</td>\n      <td>09-07-2018, 01:53 PM</td>\n      <td>2018</td>\n      <td>HWZ</td>\n    </tr>\n    <tr>\n      <th>6</th>\n      <td>donut88</td>\n      <td>Suar Wood is actually American walnut. origin ...</td>\n      <td>theblueark</td>\n      <td>Have heard from various wood experts not to ge...</td>\n      <td>NaN</td>\n      <td>NaN</td>\n      <td>09-07-2018, 02:29 PM</td>\n      <td>2018</td>\n      <td>HWZ</td>\n    </tr>\n    <tr>\n      <th>7</th>\n      <td>touchyourheart</td>\n      <td>what $200K? probably didn't even spend a scent...</td>\n      <td>NaN</td>\n      <td>NaN</td>\n      <td>NaN</td>\n      <td>NaN</td>\n      <td>01-11-2020, 04:31 PM</td>\n      <td>2020</td>\n      <td>HWZ</td>\n    </tr>\n    <tr>\n      <th>8</th>\n      <td>theblueark</td>\n      <td>If you buying from local shops you can guess w...</td>\n      <td>NaN</td>\n      <td>NaN</td>\n      <td>NaN</td>\n      <td>NaN</td>\n      <td>20-08-2018, 11:22 AM</td>\n      <td>2018</td>\n      <td>HWZ</td>\n    </tr>\n    <tr>\n      <th>9</th>\n      <td>sellun</td>\n      <td>Wow you are very knowledgeable! Thanks for you...</td>\n      <td>theblueark</td>\n      <td>If you buying from local shops you can guess w...</td>\n      <td>NaN</td>\n      <td>NaN</td>\n      <td>20-08-2018, 01:11 PM</td>\n      <td>2018</td>\n      <td>HWZ</td>\n    </tr>\n  </tbody>\n</table>\n</div>"
     },
     "metadata": {},
     "execution_count": 175
    }
   ],
   "source": [
    "grey_and_sanders_forum_df"
   ]
  },
  {
   "cell_type": "code",
   "execution_count": null,
   "metadata": {},
   "outputs": [],
   "source": []
  }
 ]
}