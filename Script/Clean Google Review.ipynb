{
 "metadata": {
  "language_info": {
   "codemirror_mode": {
    "name": "ipython",
    "version": 3
   },
   "file_extension": ".py",
   "mimetype": "text/x-python",
   "name": "python",
   "nbconvert_exporter": "python",
   "pygments_lexer": "ipython3",
   "version": "3.7.0"
  },
  "orig_nbformat": 2,
  "kernelspec": {
   "name": "python370jvsc74a57bd0097a94cc1bfc5a0a380b63d1eb45dc603bb0f63840061a2276c4020d01d7c102",
   "display_name": "Python 3.7.0 64-bit"
  },
  "metadata": {
   "interpreter": {
    "hash": "097a94cc1bfc5a0a380b63d1eb45dc603bb0f63840061a2276c4020d01d7c102"
   }
  }
 },
 "nbformat": 4,
 "nbformat_minor": 2,
 "cells": [
  {
   "cell_type": "code",
   "execution_count": 1,
   "metadata": {},
   "outputs": [
    {
     "output_type": "stream",
     "name": "stdout",
     "text": [
      "Downloading emoji data ...\n",
      "... OK (Got response in 1.20 seconds)\n",
      "Writing emoji data to C:\\Users\\ivyha\\.demoji\\codes.json ...\n",
      "... OK\n"
     ]
    }
   ],
   "source": [
    "import pandas as pd \n",
    "from emot import UNICODE_EMO\n",
    "from emot import EMOTICONS\n",
    "import re\n",
    "import demoji\n",
    "demoji.download_codes()"
   ]
  },
  {
   "cell_type": "code",
   "execution_count": 2,
   "metadata": {},
   "outputs": [],
   "source": [
    "scanteak_df = pd.read_csv(\"../Consolidated Data/google_reviews_scanteak.csv\")\n",
    "castlery_df = pd.read_csv(\"../Consolidated Data/google_reviews_castlery.csv\")\n",
    "wihardja_df = pd.read_csv(\"../Consolidated Data/google_reviews_wihardja.csv\")\n",
    "star_living_df = pd.read_csv(\"../Consolidated Data/google_reviews_star_living.csv\")\n",
    "grey_and_sanders_df = pd.read_csv(\"../Consolidated Data/google_reviews_greysanders.csv\")"
   ]
  },
  {
   "cell_type": "code",
   "execution_count": 3,
   "metadata": {},
   "outputs": [],
   "source": [
    "dataframes = [scanteak_df, castlery_df, wihardja_df, star_living_df, grey_and_sanders_df]"
   ]
  },
  {
   "cell_type": "code",
   "execution_count": 4,
   "metadata": {},
   "outputs": [],
   "source": [
    "keyword = ['scanteak', 'scantech', 'scan','tech', 'castlery', 'cast','castery', 'wihardja','wiharja' 'wih', 'star','star living','grey and sanders','grey & sanders','grey&sanders','grey', 'sander', 'teak', 'furniture', 'wood', 'solid']"
   ]
  },
  {
   "source": [
    "### Create Functions"
   ],
   "cell_type": "markdown",
   "metadata": {}
  },
  {
   "cell_type": "code",
   "execution_count": 13,
   "metadata": {},
   "outputs": [],
   "source": [
    "def remove_row(df, keyword):\n",
    "    #for word in keyword:\n",
    "    df[df['comments'].isin(keyword)]\n",
    "    return df"
   ]
  },
  {
   "cell_type": "code",
   "execution_count": 5,
   "metadata": {},
   "outputs": [],
   "source": [
    "def remove_space(df, colname):\n",
    "    # Remove whitespace in header\n",
    "    df.rename(columns=lambda x: x.strip(), inplace=True)\n",
    "    # Remove whiteshpace in body\n",
    "    df[colname] = df[colname].str.strip(\" \")\n",
    "    #df[colname] = df[colname].str.strip()\n",
    "    df[colname] = df[colname].replace(r'\\\\n', ' ', regex = True)\n",
    "    df[colname] = df[colname].replace(r'\\n', ' ', regex = True)\n",
    "    df[colname] = df[colname].replace('\\s+', ' ', regex = True)"
   ]
  },
  {
   "cell_type": "code",
   "execution_count": 6,
   "metadata": {},
   "outputs": [],
   "source": [
    "def lower_case(df, colname):\n",
    "    df[colname] = df[colname].str.lower()"
   ]
  },
  {
   "cell_type": "code",
   "execution_count": 7,
   "metadata": {},
   "outputs": [],
   "source": [
    "def special_character(df, colname):\n",
    "    df[colname].replace({r'[^\\x00-\\x7F]+':''}, regex=True, inplace=True)"
   ]
  },
  {
   "cell_type": "code",
   "execution_count": 8,
   "metadata": {},
   "outputs": [],
   "source": [
    "def convert_emoticons(text):\n",
    "    for emot in EMOTICONS:\n",
    "        text = re.sub(u'('+emot+')', \"_\".join(EMOTICONS[emot].replace(\",\",\"\").split()), text)\n",
    "    return text"
   ]
  },
  {
   "cell_type": "code",
   "execution_count": 9,
   "metadata": {},
   "outputs": [],
   "source": [
    "# Convert emoticon in dataframe\n",
    "def emoticon_handling(df, colname):\n",
    "    for body in df[colname].astype(str):\n",
    "        body = convert_emoticons(body)"
   ]
  },
  {
   "source": [
    "### Implement Functions"
   ],
   "cell_type": "markdown",
   "metadata": {}
  },
  {
   "cell_type": "code",
   "execution_count": 10,
   "metadata": {},
   "outputs": [],
   "source": [
    "# Remove whitespace\n",
    "scanteak_df = scanteak_df.dropna(subset=['comments'])\n",
    "castlery_df = castlery_df.dropna(subset=['comments'])\n",
    "wihardja_df = wihardja_df.dropna(subset=['comments'])\n",
    "star_living_df = star_living_df.dropna(subset=['comments'])\n",
    "grey_and_sanders_df = grey_and_sanders_df.dropna(subset=['comments'])"
   ]
  },
  {
   "cell_type": "code",
   "execution_count": 11,
   "metadata": {},
   "outputs": [],
   "source": [
    "for dataframe in dataframes:\n",
    "    remove_space(dataframe, 'comments')\n",
    "    special_character(dataframe, 'comments')\n",
    "    lower_case(dataframe, 'comments')\n",
    "    emoticon_handling(dataframe, 'comments')"
   ]
  },
  {
   "cell_type": "code",
   "execution_count": 14,
   "metadata": {},
   "outputs": [],
   "source": [
    "scanteak_df = remove_row(scanteak_df, keyword)\n",
    "castlery_df = remove_row(castlery_df, keyword)\n",
    "wihardja_df = remove_row(wihardja_df, keyword)\n",
    "star_living_df = remove_row(star_living_df, keyword)\n",
    "grey_and_sanders_df = remove_row(grey_and_sanders_df, keyword)"
   ]
  },
  {
   "cell_type": "code",
   "execution_count": 16,
   "metadata": {},
   "outputs": [],
   "source": [
    "scanteak_df.to_csv(\"../Clean Data/clean_scanteak_google_review.csv\")\n",
    "castlery_df.to_csv(\"../Clean Data/clean_castlery_google_review.csv\")\n",
    "wihardja_df.to_csv(\"../Clean Data/clean_wihardja_google_review.csv\")\n",
    "star_living_df.to_csv(\"../Clean Data/clean_starliving_google_review.csv\")\n",
    "grey_and_sanders_df.to_csv(\"../Clean Data/clean_greysanders_google_review.csv\")"
   ]
  },
  {
   "cell_type": "code",
   "execution_count": null,
   "metadata": {},
   "outputs": [],
   "source": []
  }
 ]
}