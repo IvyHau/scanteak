{
 "metadata": {
  "language_info": {
   "codemirror_mode": {
    "name": "ipython",
    "version": 3
   },
   "file_extension": ".py",
   "mimetype": "text/x-python",
   "name": "python",
   "nbconvert_exporter": "python",
   "pygments_lexer": "ipython3",
   "version": "3.7.0"
  },
  "orig_nbformat": 2,
  "kernelspec": {
   "name": "python370jvsc74a57bd0097a94cc1bfc5a0a380b63d1eb45dc603bb0f63840061a2276c4020d01d7c102",
   "display_name": "Python 3.7.0 64-bit"
  },
  "metadata": {
   "interpreter": {
    "hash": "097a94cc1bfc5a0a380b63d1eb45dc603bb0f63840061a2276c4020d01d7c102"
   }
  }
 },
 "nbformat": 4,
 "nbformat_minor": 2,
 "cells": [
  {
   "cell_type": "code",
   "execution_count": 2,
   "metadata": {},
   "outputs": [
    {
     "output_type": "stream",
     "name": "stderr",
     "text": [
      "[nltk_data] Downloading package vader_lexicon to\n[nltk_data]     C:\\Users\\ivyha\\AppData\\Roaming\\nltk_data...\n[nltk_data]   Package vader_lexicon is already up-to-date!\n"
     ]
    },
    {
     "output_type": "execute_result",
     "data": {
      "text/plain": [
       "True"
      ]
     },
     "metadata": {},
     "execution_count": 2
    }
   ],
   "source": [
    "import nltk\n",
    "nltk.download('vader_lexicon')"
   ]
  },
  {
   "cell_type": "code",
   "execution_count": 3,
   "metadata": {},
   "outputs": [],
   "source": [
    "from nltk.sentiment.vader import SentimentIntensityAnalyzer\n",
    "import pandas as pd\n",
    "sentiment = SentimentIntensityAnalyzer()"
   ]
  },
  {
   "cell_type": "code",
   "execution_count": 4,
   "metadata": {},
   "outputs": [],
   "source": [
    "scanteak_df = pd.read_csv(\"../Clean Data/clean_consolidated_scanteak (forum).csv\")\n",
    "castlery_df = pd.read_csv(\"../Clean Data/clean_consolidated_castlery (forum).csv\")\n",
    "wihardja_df = pd.read_csv(\"../Clean Data/clean_consolidated_wihardja (forum).csv\")\n",
    "star_living_df = pd.read_csv(\"../Clean Data/clean_consolidated_starliving (forum).csv\")\n",
    "grey_and_sanders_df = pd.read_csv(\"../Clean Data/clean_consolidated_greysanders (forum).csv\")\n",
    "teak_furniture_df = pd.read_csv(\"../Clean Data/clean_consolidated_furniture (forum).csv\")"
   ]
  },
  {
   "cell_type": "code",
   "execution_count": 5,
   "metadata": {},
   "outputs": [],
   "source": [
    "dataframes = [scanteak_df, castlery_df, wihardja_df, star_living_df, grey_and_sanders_df, teak_furniture_df]"
   ]
  },
  {
   "cell_type": "code",
   "execution_count": 12,
   "metadata": {},
   "outputs": [],
   "source": [
    "def vader_sentiment(org_df):\n",
    "    sentiment_df = pd.DataFrame(org_df[['Body','Year']])\n",
    "    comment_list = org_df['Body'].tolist()\n",
    "    neg = []\n",
    "    neu = []\n",
    "    pos = []    \n",
    "    compound = []\n",
    "    \n",
    "    for comments in comment_list:\n",
    "        score = sentiment.polarity_scores(comments)\n",
    "        neg.append(score['neg'])\n",
    "        neu.append(score['neu'])\n",
    "        pos.append(score['pos'])\n",
    "        compound.append(score['compound'])\n",
    "    \n",
    "    sentiment_df.insert(2, \"Positive\", pos)\n",
    "    sentiment_df.insert(3, \"Neutral\", neu)\n",
    "    sentiment_df.insert(4, \"Negative\", neg)\n",
    "    sentiment_df.insert(5, \"Compound\", compound)\n",
    "    \n",
    "    return sentiment_df"
   ]
  },
  {
   "cell_type": "code",
   "execution_count": 14,
   "metadata": {},
   "outputs": [],
   "source": [
    "vader_sentiment(scanteak_df).to_csv(\"../Sentiment/scanteak forum.csv\")\n",
    "vader_sentiment(castlery_df).to_csv(\"../Sentiment/castlery forum.csv\")\n",
    "vader_sentiment(wihardja_df).to_csv(\"../Sentiment/wihardja forum.csv\")\n",
    "vader_sentiment(star_living_df).to_csv(\"../Sentiment/starLiving forum.csv\")\n",
    "vader_sentiment(grey_and_sanders_df).to_csv(\"../Sentiment/greysanders forum.csv\")\n",
    "vader_sentiment(teak_furniture_df).to_csv(\"../Sentiment/furniture forum.csv\")"
   ]
  },
  {
   "cell_type": "code",
   "execution_count": 9,
   "metadata": {},
   "outputs": [
    {
     "output_type": "execute_result",
     "data": {
      "text/plain": [
       "     Unnamed: 0               Author  \\\n",
       "0             0  sundaymorningstaple   \n",
       "1             1             American   \n",
       "2             2                x9200   \n",
       "3             3                x9200   \n",
       "4             4                x9200   \n",
       "..          ...                  ...   \n",
       "104         104        Jammy_buttons   \n",
       "105         105          wasteofrice   \n",
       "106         106     Resident_Lolicon   \n",
       "107         107             AhJibKor   \n",
       "108         108  very_unhappy_player   \n",
       "\n",
       "                                                  Body             Reply to  \\\n",
       "0    oh, if you are thinking how good scanteak appe...      brian_singapore   \n",
       "1    courts stuff is terrible in my opinion. have a...           carismomuk   \n",
       "2    another place to take a look around is scantea...  sundaymorningstaple   \n",
       "3    check with scantech: http://www.scanteak.com.s...               nburge   \n",
       "4    wooden top and metal frame sounds like not rea...            vealshank   \n",
       "..                                                 ...                  ...   \n",
       "104                                           scanteak                    -   \n",
       "105  according to google maps there's a scanteak op...                    -   \n",
       "106  not sure if king albert park is the right plac...                    -   \n",
       "107                  scanteak is pretty successful too                    -   \n",
       "108  does anyone know any more big places like ikea...                    -   \n",
       "\n",
       "                                   Message Replying to  \\\n",
       "0    I am will shortly be moving to a work from hom...   \n",
       "1    My husband and I are moving from the US to Sin...   \n",
       "2    I've not been to a vhive in a long, long time....   \n",
       "3    nburgeCan anyone recommend somewhere to pick u...   \n",
       "4    Hi\\n\\nAm looking for a very simply contemporar...   \n",
       "..                                                 ...   \n",
       "104                                                  -   \n",
       "105                                                  -   \n",
       "106                                                  -   \n",
       "107                                                  -   \n",
       "108                                                  -   \n",
       "\n",
       "                                             Permalink  Score  \\\n",
       "0    https://forum.singaporeexpats.com/viewtopic.ph...    0.0   \n",
       "1    https://forum.singaporeexpats.com/viewtopic.ph...    0.0   \n",
       "2    https://forum.singaporeexpats.com/viewtopic.ph...    0.0   \n",
       "3    https://forum.singaporeexpats.com/viewtopic.ph...    0.0   \n",
       "4    https://forum.singaporeexpats.com/viewtopic.ph...    0.0   \n",
       "..                                                 ...    ...   \n",
       "104                                      No Link Found    4.0   \n",
       "105                                      No Link Found    1.0   \n",
       "106                                      No Link Found    1.0   \n",
       "107                                      No Link Found    0.0   \n",
       "108                                      No Link Found    1.0   \n",
       "\n",
       "    Subpage/Subreddit           TimeStamp  Year           Source  \\\n",
       "0               Forum  02/03/2021 12:51pm  2021  Singapore Expat   \n",
       "1               Forum  17/07/2015 02:22am  2015  Singapore Expat   \n",
       "2               Forum  13/03/2014 07:21am  2014  Singapore Expat   \n",
       "3               Forum  02/11/2011 12:01pm  2011  Singapore Expat   \n",
       "4               Forum  12/08/2010 08:41pm  2010  Singapore Expat   \n",
       "..                ...                 ...   ...              ...   \n",
       "104         singapore     14/8/2017 07:27  2017           Reddit   \n",
       "105         singapore      4/5/2017 02:22  2017           Reddit   \n",
       "106         singapore      4/5/2017 02:11  2017           Reddit   \n",
       "107         singapore    28/10/2016 10:37  2016           Reddit   \n",
       "108         singapore     21/6/2016 02:33  2016           Reddit   \n",
       "\n",
       "    Search Term/Query  \n",
       "0            Scanteak  \n",
       "1            Scanteak  \n",
       "2            Scanteak  \n",
       "3            Scanteak  \n",
       "4            Scanteak  \n",
       "..                ...  \n",
       "104          Scanteak  \n",
       "105          Scanteak  \n",
       "106          Scanteak  \n",
       "107          Scanteak  \n",
       "108          Scanteak  \n",
       "\n",
       "[109 rows x 12 columns]"
      ],
      "text/html": "<div>\n<style scoped>\n    .dataframe tbody tr th:only-of-type {\n        vertical-align: middle;\n    }\n\n    .dataframe tbody tr th {\n        vertical-align: top;\n    }\n\n    .dataframe thead th {\n        text-align: right;\n    }\n</style>\n<table border=\"1\" class=\"dataframe\">\n  <thead>\n    <tr style=\"text-align: right;\">\n      <th></th>\n      <th>Unnamed: 0</th>\n      <th>Author</th>\n      <th>Body</th>\n      <th>Reply to</th>\n      <th>Message Replying to</th>\n      <th>Permalink</th>\n      <th>Score</th>\n      <th>Subpage/Subreddit</th>\n      <th>TimeStamp</th>\n      <th>Year</th>\n      <th>Source</th>\n      <th>Search Term/Query</th>\n    </tr>\n  </thead>\n  <tbody>\n    <tr>\n      <th>0</th>\n      <td>0</td>\n      <td>sundaymorningstaple</td>\n      <td>oh, if you are thinking how good scanteak appe...</td>\n      <td>brian_singapore</td>\n      <td>I am will shortly be moving to a work from hom...</td>\n      <td>https://forum.singaporeexpats.com/viewtopic.ph...</td>\n      <td>0.0</td>\n      <td>Forum</td>\n      <td>02/03/2021 12:51pm</td>\n      <td>2021</td>\n      <td>Singapore Expat</td>\n      <td>Scanteak</td>\n    </tr>\n    <tr>\n      <th>1</th>\n      <td>1</td>\n      <td>American</td>\n      <td>courts stuff is terrible in my opinion. have a...</td>\n      <td>carismomuk</td>\n      <td>My husband and I are moving from the US to Sin...</td>\n      <td>https://forum.singaporeexpats.com/viewtopic.ph...</td>\n      <td>0.0</td>\n      <td>Forum</td>\n      <td>17/07/2015 02:22am</td>\n      <td>2015</td>\n      <td>Singapore Expat</td>\n      <td>Scanteak</td>\n    </tr>\n    <tr>\n      <th>2</th>\n      <td>2</td>\n      <td>x9200</td>\n      <td>another place to take a look around is scantea...</td>\n      <td>sundaymorningstaple</td>\n      <td>I've not been to a vhive in a long, long time....</td>\n      <td>https://forum.singaporeexpats.com/viewtopic.ph...</td>\n      <td>0.0</td>\n      <td>Forum</td>\n      <td>13/03/2014 07:21am</td>\n      <td>2014</td>\n      <td>Singapore Expat</td>\n      <td>Scanteak</td>\n    </tr>\n    <tr>\n      <th>3</th>\n      <td>3</td>\n      <td>x9200</td>\n      <td>check with scantech: http://www.scanteak.com.s...</td>\n      <td>nburge</td>\n      <td>nburgeCan anyone recommend somewhere to pick u...</td>\n      <td>https://forum.singaporeexpats.com/viewtopic.ph...</td>\n      <td>0.0</td>\n      <td>Forum</td>\n      <td>02/11/2011 12:01pm</td>\n      <td>2011</td>\n      <td>Singapore Expat</td>\n      <td>Scanteak</td>\n    </tr>\n    <tr>\n      <th>4</th>\n      <td>4</td>\n      <td>x9200</td>\n      <td>wooden top and metal frame sounds like not rea...</td>\n      <td>vealshank</td>\n      <td>Hi\\n\\nAm looking for a very simply contemporar...</td>\n      <td>https://forum.singaporeexpats.com/viewtopic.ph...</td>\n      <td>0.0</td>\n      <td>Forum</td>\n      <td>12/08/2010 08:41pm</td>\n      <td>2010</td>\n      <td>Singapore Expat</td>\n      <td>Scanteak</td>\n    </tr>\n    <tr>\n      <th>...</th>\n      <td>...</td>\n      <td>...</td>\n      <td>...</td>\n      <td>...</td>\n      <td>...</td>\n      <td>...</td>\n      <td>...</td>\n      <td>...</td>\n      <td>...</td>\n      <td>...</td>\n      <td>...</td>\n      <td>...</td>\n    </tr>\n    <tr>\n      <th>104</th>\n      <td>104</td>\n      <td>Jammy_buttons</td>\n      <td>scanteak</td>\n      <td>-</td>\n      <td>-</td>\n      <td>No Link Found</td>\n      <td>4.0</td>\n      <td>singapore</td>\n      <td>14/8/2017 07:27</td>\n      <td>2017</td>\n      <td>Reddit</td>\n      <td>Scanteak</td>\n    </tr>\n    <tr>\n      <th>105</th>\n      <td>105</td>\n      <td>wasteofrice</td>\n      <td>according to google maps there's a scanteak op...</td>\n      <td>-</td>\n      <td>-</td>\n      <td>No Link Found</td>\n      <td>1.0</td>\n      <td>singapore</td>\n      <td>4/5/2017 02:22</td>\n      <td>2017</td>\n      <td>Reddit</td>\n      <td>Scanteak</td>\n    </tr>\n    <tr>\n      <th>106</th>\n      <td>106</td>\n      <td>Resident_Lolicon</td>\n      <td>not sure if king albert park is the right plac...</td>\n      <td>-</td>\n      <td>-</td>\n      <td>No Link Found</td>\n      <td>1.0</td>\n      <td>singapore</td>\n      <td>4/5/2017 02:11</td>\n      <td>2017</td>\n      <td>Reddit</td>\n      <td>Scanteak</td>\n    </tr>\n    <tr>\n      <th>107</th>\n      <td>107</td>\n      <td>AhJibKor</td>\n      <td>scanteak is pretty successful too</td>\n      <td>-</td>\n      <td>-</td>\n      <td>No Link Found</td>\n      <td>0.0</td>\n      <td>singapore</td>\n      <td>28/10/2016 10:37</td>\n      <td>2016</td>\n      <td>Reddit</td>\n      <td>Scanteak</td>\n    </tr>\n    <tr>\n      <th>108</th>\n      <td>108</td>\n      <td>very_unhappy_player</td>\n      <td>does anyone know any more big places like ikea...</td>\n      <td>-</td>\n      <td>-</td>\n      <td>No Link Found</td>\n      <td>1.0</td>\n      <td>singapore</td>\n      <td>21/6/2016 02:33</td>\n      <td>2016</td>\n      <td>Reddit</td>\n      <td>Scanteak</td>\n    </tr>\n  </tbody>\n</table>\n<p>109 rows × 12 columns</p>\n</div>"
     },
     "metadata": {},
     "execution_count": 9
    }
   ],
   "source": [
    "scanteak_df"
   ]
  }
 ]
}