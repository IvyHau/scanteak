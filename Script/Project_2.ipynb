{
 "cells": [
  {
   "cell_type": "code",
   "execution_count": 1,
   "metadata": {},
   "outputs": [],
   "source": [
    "from selenium import webdriver\n",
    "import requests\n",
    "import time\n",
    "import csv\n",
    "import re\n",
    "from selenium.webdriver.chrome.options import Options\n",
    "from selenium.webdriver.support.ui import WebDriverWait\n",
    "import os\n",
    "from selenium.webdriver.remote.webelement import WebElement\n",
    "from selenium.webdriver.common.action_chains import ActionChains\n",
    "from selenium.webdriver.common.keys import Keys\n",
    "from selenium.common.exceptions import NoSuchElementException\n",
    "import pandas as pd\n",
    "driver = webdriver.Chrome()"
   ]
  },
  {
   "cell_type": "code",
   "execution_count": 15,
   "metadata": {},
   "outputs": [],
   "source": [
    "links=[\"https://www.google.com/maps/place/Scanteak+Signature+@+Suntec+City+Mall/@1.3172733,103.8286344,13z/data=!3m1!5s0x31da19af1faffddb:0x64dca853efdf6385!4m10!1m2!2m1!1sscanteak!3m6!1s0x31da19af00b4032b:0x92de6d5361390414!8m2!3d1.2953908!4d103.8582487!9m1!1b1\",\n",
    "#        \"https://www.google.com/maps/place/Scanteak+@+Isetan+Scotts/@1.2781445,103.778166,12z/data=!4m8!1m2!2m1!1sscanteak!3m4!1s0x0:0x16d163110163a42f!8m2!3d1.3059081!4d103.8315082\",\n",
    " \n",
    "]"
   ]
  },
  {
   "cell_type": "code",
   "execution_count": 16,
   "metadata": {},
   "outputs": [
    {
     "name": "stdout",
     "output_type": "stream",
     "text": [
      "https://www.google.com/maps/place/Scanteak+Signature+@+Suntec+City+Mall/@1.3172733,103.8286344,13z/data=!3m1!5s0x31da19af1faffddb:0x64dca853efdf6385!4m10!1m2!2m1!1sscanteak!3m6!1s0x31da19af00b4032b:0x92de6d5361390414!8m2!3d1.2953908!4d103.8582487!9m1!1b1\n",
      "https://www.google.com/maps/place/Scanteak+-+Balestier+Showroom/@1.2781445,103.778166,12z/data=!4m10!1m2!2m1!1sscanteak!3m6!1s0x0:0xb2c45a46edcfce09!8m2!3d1.3231556!4d103.8516784!9m1!1b1\n",
      "https://www.google.com/maps/place/Scanteak+-+Henderson+Showroom/@1.2781445,103.778166,12z/data=!4m10!1m2!2m1!1sscanteak!3m6!1s0x0:0xb8df016db8ac5716!8m2!3d1.2819889!4d103.8194704!9m1!1b1\n",
      "https://www.google.com/maps/place/Scanteak+-+Toh+Guan+Showroom/@1.3049169,103.6964551,12z/data=!4m10!1m2!2m1!1sscanteak!3m6!1s0x0:0x69b280178849c0ff!8m2!3d1.32721!4d103.7541533!9m1!1b1\n",
      "https://www.google.com/maps/place/Scanteak+-+Trade+Showroom/@1.3625795,103.6511365,12z/data=!4m10!1m2!2m1!1sscanteak!3m6!1s0x0:0xe84f25fd908c0d4a!8m2!3d1.4111928!4d103.7450981!9m1!1b1\n",
      "https://www.google.com/maps/place/Scanteak+-+Paya+Lebar+Showroom/@1.3034479,103.8250346,12z/data=!4m10!1m2!2m1!1sscanteak!3m6!1s0x0:0xec403a37352ca47b!8m2!3d1.3292694!4d103.8901949!9m1!1b1\n",
      "https://www.google.com/maps/place/Scanteak+-+Joo+Chiat+Showroom/@1.3034479,103.8250346,12z/data=!4m10!1m2!2m1!1sscanteak!3m6!1s0x0:0xec4cb1531b977ee8!8m2!3d1.3087827!4d103.9030695!9m1!1b1\n"
     ]
    }
   ],
   "source": [
    "result=[]\n",
    "for l in links:\n",
    "    print(l)\n",
    "    driver.get(l)\n",
    "    time.sleep(5)\n",
    "\n",
    "    for i in range(0,30):\n",
    "        scrollable_div = driver.find_element_by_css_selector(\n",
    "         'div.section-layout.section-scrollbox.scrollable-y.scrollable-show'\n",
    "                             )\n",
    "        driver.execute_script(\n",
    "                       'arguments[0].scrollTop = arguments[0].scrollHeight', \n",
    "                        scrollable_div\n",
    "                       )\n",
    "        time.sleep(3)\n",
    "\n",
    "    text=driver.find_elements_by_class_name('section-review-text')\n",
    "    \n",
    "    for t in text:\n",
    "        result.append(t.text)"
   ]
  },
  {
   "cell_type": "code",
   "execution_count": 19,
   "metadata": {},
   "outputs": [],
   "source": [
    "without_space=[]\n",
    "for n in result:\n",
    "    if n!='':\n",
    "        without_space.append(n)"
   ]
  },
  {
   "cell_type": "code",
   "execution_count": 22,
   "metadata": {},
   "outputs": [],
   "source": [
    "\n",
    "df = pd.DataFrame(without_space, columns=[\"comments\"])\n",
    "df.to_csv('google_reviews.csv', index=False)"
   ]
  },
  {
   "cell_type": "code",
   "execution_count": null,
   "metadata": {},
   "outputs": [],
   "source": []
  }
 ],
 "metadata": {
  "kernelspec": {
   "display_name": "Python 3",
   "language": "python",
   "name": "python3"
  },
  "language_info": {
   "codemirror_mode": {
    "name": "ipython",
    "version": 3
   },
   "file_extension": ".py",
   "mimetype": "text/x-python",
   "name": "python",
   "nbconvert_exporter": "python",
   "pygments_lexer": "ipython3",
   "version": "3.7.10"
  }
 },
 "nbformat": 4,
 "nbformat_minor": 4
}