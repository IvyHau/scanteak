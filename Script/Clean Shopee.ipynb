{
 "metadata": {
  "language_info": {
   "codemirror_mode": {
    "name": "ipython",
    "version": 3
   },
   "file_extension": ".py",
   "mimetype": "text/x-python",
   "name": "python",
   "nbconvert_exporter": "python",
   "pygments_lexer": "ipython3",
   "version": "3.7.0"
  },
  "orig_nbformat": 2,
  "kernelspec": {
   "name": "python370jvsc74a57bd0097a94cc1bfc5a0a380b63d1eb45dc603bb0f63840061a2276c4020d01d7c102",
   "display_name": "Python 3.7.0 64-bit"
  },
  "metadata": {
   "interpreter": {
    "hash": "097a94cc1bfc5a0a380b63d1eb45dc603bb0f63840061a2276c4020d01d7c102"
   }
  }
 },
 "nbformat": 4,
 "nbformat_minor": 2,
 "cells": [
  {
   "cell_type": "code",
   "execution_count": 1,
   "metadata": {},
   "outputs": [
    {
     "output_type": "stream",
     "name": "stdout",
     "text": [
      "Downloading emoji data ...\n",
      "... OK (Got response in 1.15 seconds)\n",
      "Writing emoji data to C:\\Users\\ivyha\\.demoji\\codes.json ...\n",
      "... OK\n"
     ]
    }
   ],
   "source": [
    "import pandas as pd \n",
    "from emot import UNICODE_EMO\n",
    "from emot import EMOTICONS\n",
    "import re\n",
    "import demoji\n",
    "demoji.download_codes()"
   ]
  },
  {
   "cell_type": "code",
   "execution_count": 78,
   "metadata": {},
   "outputs": [],
   "source": [
    "scanteak_forum_df = pd.read_csv(\"../Consolidated Data/shopee_scanteak.csv\")\n",
    "castlery_forum_df = pd.read_csv(\"../Consolidated Data/shopee_castlery.csv\")\n",
    "wihardja_forum_df = pd.read_csv(\"../Consolidated Data/shopee_wihardja.csv\")"
   ]
  },
  {
   "cell_type": "code",
   "execution_count": 39,
   "metadata": {},
   "outputs": [],
   "source": [
    "dataframes = [scanteak_forum_df, castlery_forum_df, wihardja_forum_df]"
   ]
  },
  {
   "cell_type": "code",
   "execution_count": 4,
   "metadata": {},
   "outputs": [],
   "source": [
    "keyword = ['scanteak', 'scantech', 'scan','tech', 'castlery', 'cast','castery', 'wihardja','wiharja' 'wih', 'star','star living','grey and sanders','grey & sanders','grey&sanders','grey', 'sander', 'teak', 'furniture', 'wood', 'solid']"
   ]
  },
  {
   "cell_type": "code",
   "execution_count": null,
   "metadata": {},
   "outputs": [],
   "source": []
  },
  {
   "cell_type": "code",
   "execution_count": 26,
   "metadata": {},
   "outputs": [],
   "source": [
    "def remove_row(df, keyword):\n",
    "    #for word in keyword:\n",
    "    df[df['comments'].isin(keyword)]\n",
    "    return df"
   ]
  },
  {
   "cell_type": "code",
   "execution_count": 88,
   "metadata": {},
   "outputs": [],
   "source": [
    "def remove_space(df, colname):\n",
    "    # Remove whitespace in header\n",
    "    df.rename(columns=lambda x: x.strip(), inplace=True)\n",
    "    # Remove whiteshpace in body\n",
    "    df[colname] = df[colname].str.strip(\" \")\n",
    "    #df[colname] = df[colname].str.strip()\n",
    "    df[colname] = df[colname].replace(r'\\\\n', ' ', regex = True)\n",
    "    df[colname] = df[colname].replace(r'\\n', ' ', regex = True)\n",
    "    df[colname] = df[colname].replace('\\s+', ' ', regex = True)"
   ]
  },
  {
   "cell_type": "code",
   "execution_count": 7,
   "metadata": {},
   "outputs": [],
   "source": [
    "def lower_case(df, colname):\n",
    "    df[colname] = df[colname].str.lower()"
   ]
  },
  {
   "cell_type": "code",
   "execution_count": 8,
   "metadata": {},
   "outputs": [],
   "source": [
    "def special_character(df, colname):\n",
    "    df[colname].replace({r'[^\\x00-\\x7F]+':''}, regex=True, inplace=True)"
   ]
  },
  {
   "cell_type": "code",
   "execution_count": 9,
   "metadata": {},
   "outputs": [],
   "source": [
    "def convert_emoticons(text):\n",
    "    for emot in EMOTICONS:\n",
    "        text = re.sub(u'('+emot+')', \"_\".join(EMOTICONS[emot].replace(\",\",\"\").split()), text)\n",
    "    return text"
   ]
  },
  {
   "cell_type": "code",
   "execution_count": 10,
   "metadata": {},
   "outputs": [],
   "source": [
    "# Convert emoticon in dataframe\n",
    "def emoticon_handling(df, colname):\n",
    "    for body in df[colname].astype(str):\n",
    "        body = convert_emoticons(body)"
   ]
  },
  {
   "cell_type": "code",
   "execution_count": 75,
   "metadata": {},
   "outputs": [],
   "source": []
  },
  {
   "cell_type": "code",
   "execution_count": 83,
   "metadata": {},
   "outputs": [],
   "source": [
    "# Remove whitespace\n",
    "scanteak_forum_df = scanteak_forum_df.dropna(subset=['comments'])\n",
    "castlery_forum_df = castlery_forum_df.dropna(subset=['comments'])\n",
    "wihardja_forum_df = wihardja_forum_df.dropna(subset=['comments'])"
   ]
  },
  {
   "cell_type": "code",
   "execution_count": 89,
   "metadata": {},
   "outputs": [],
   "source": [
    "for dataframe in dataframes:\n",
    "    remove_space(dataframe, 'comments')\n",
    "    lower_case(dataframe, 'comments')\n",
    "    emoticon_handling(dataframe, 'comments')"
   ]
  },
  {
   "cell_type": "code",
   "execution_count": 48,
   "metadata": {},
   "outputs": [],
   "source": [
    "scanteak_forum_df = remove_row(scanteak_forum_df, keyword)\n",
    "castlery_forum_df = remove_row(castlery_forum_df, keyword)\n",
    "wihardja_forum_df = remove_row(wihardja_forum_df, keyword)"
   ]
  },
  {
   "cell_type": "code",
   "execution_count": 90,
   "metadata": {},
   "outputs": [],
   "source": [
    "# Export dataframe to csv\n",
    "scanteak_forum_df.to_csv(\"../Clean Data/clean_scanteak_shopee.csv\")\n",
    "castlery_forum_df.to_csv(\"../Clean Data/clean_castlery_shopee.csv\")\n",
    "wihardja_forum_df.to_csv(\"../Clean Data/clean_wihardja_shopee.csv\")"
   ]
  },
  {
   "cell_type": "code",
   "execution_count": 91,
   "metadata": {},
   "outputs": [
    {
     "output_type": "execute_result",
     "data": {
      "text/plain": [
       "                                             comments\n",
       "6                                      Good quality! \n",
       "7   Very accomodating customer service, helped me ...\n",
       "9   Solidly built, eyeing this for 6 months and bo...\n",
       "10  Highly recommended! Shipping was quick with re...\n",
       "12                      rcvd in full n good condition\n",
       "13  Great quality & sturdy. Nice furnishing. Hope ...\n",
       "14  Quite pricey but quality not bad. Easy to move...\n",
       "15  Item delivery took quite awhile, other than th...\n",
       "17    Received the chair yesterday at this condition \n",
       "20  Good quality. Took more than a month to arrive...\n",
       "22                                      Good product \n",
       "23  Item arrived with an assembly kit and was deli...\n",
       "24  Delivery take more than a week . Direct delive...\n",
       "25  Bed frame was delivered 9 days after placing o...\n",
       "28            Good deal. Delivery person was punctual\n",
       "30  The nest of 3 little tables are very handsome ...\n",
       "31  Bought it during double 11 event. Beautiful pi...\n",
       "32  Received in good condition. \\nNice small woode...\n",
       "33        Item came in good condition! Thanks Seller!\n",
       "34                                    Good solid item\n",
       "35  The item was delivered on time as committed. \\...\n",
       "36                         Received in good condition\n",
       "38  Repeat purchase and good price during promotion. "
      ],
      "text/html": "<div>\n<style scoped>\n    .dataframe tbody tr th:only-of-type {\n        vertical-align: middle;\n    }\n\n    .dataframe tbody tr th {\n        vertical-align: top;\n    }\n\n    .dataframe thead th {\n        text-align: right;\n    }\n</style>\n<table border=\"1\" class=\"dataframe\">\n  <thead>\n    <tr style=\"text-align: right;\">\n      <th></th>\n      <th>comments</th>\n    </tr>\n  </thead>\n  <tbody>\n    <tr>\n      <th>6</th>\n      <td>Good quality!</td>\n    </tr>\n    <tr>\n      <th>7</th>\n      <td>Very accomodating customer service, helped me ...</td>\n    </tr>\n    <tr>\n      <th>9</th>\n      <td>Solidly built, eyeing this for 6 months and bo...</td>\n    </tr>\n    <tr>\n      <th>10</th>\n      <td>Highly recommended! Shipping was quick with re...</td>\n    </tr>\n    <tr>\n      <th>12</th>\n      <td>rcvd in full n good condition</td>\n    </tr>\n    <tr>\n      <th>13</th>\n      <td>Great quality &amp; sturdy. Nice furnishing. Hope ...</td>\n    </tr>\n    <tr>\n      <th>14</th>\n      <td>Quite pricey but quality not bad. Easy to move...</td>\n    </tr>\n    <tr>\n      <th>15</th>\n      <td>Item delivery took quite awhile, other than th...</td>\n    </tr>\n    <tr>\n      <th>17</th>\n      <td>Received the chair yesterday at this condition</td>\n    </tr>\n    <tr>\n      <th>20</th>\n      <td>Good quality. Took more than a month to arrive...</td>\n    </tr>\n    <tr>\n      <th>22</th>\n      <td>Good product</td>\n    </tr>\n    <tr>\n      <th>23</th>\n      <td>Item arrived with an assembly kit and was deli...</td>\n    </tr>\n    <tr>\n      <th>24</th>\n      <td>Delivery take more than a week . Direct delive...</td>\n    </tr>\n    <tr>\n      <th>25</th>\n      <td>Bed frame was delivered 9 days after placing o...</td>\n    </tr>\n    <tr>\n      <th>28</th>\n      <td>Good deal. Delivery person was punctual</td>\n    </tr>\n    <tr>\n      <th>30</th>\n      <td>The nest of 3 little tables are very handsome ...</td>\n    </tr>\n    <tr>\n      <th>31</th>\n      <td>Bought it during double 11 event. Beautiful pi...</td>\n    </tr>\n    <tr>\n      <th>32</th>\n      <td>Received in good condition. \\nNice small woode...</td>\n    </tr>\n    <tr>\n      <th>33</th>\n      <td>Item came in good condition! Thanks Seller!</td>\n    </tr>\n    <tr>\n      <th>34</th>\n      <td>Good solid item</td>\n    </tr>\n    <tr>\n      <th>35</th>\n      <td>The item was delivered on time as committed. \\...</td>\n    </tr>\n    <tr>\n      <th>36</th>\n      <td>Received in good condition</td>\n    </tr>\n    <tr>\n      <th>38</th>\n      <td>Repeat purchase and good price during promotion.</td>\n    </tr>\n  </tbody>\n</table>\n</div>"
     },
     "metadata": {},
     "execution_count": 91
    }
   ],
   "source": [
    "scanteak_forum_df"
   ]
  },
  {
   "cell_type": "code",
   "execution_count": null,
   "metadata": {},
   "outputs": [],
   "source": []
  }
 ]
}