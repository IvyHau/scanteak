{
 "metadata": {
  "language_info": {
   "codemirror_mode": {
    "name": "ipython",
    "version": 3
   },
   "file_extension": ".py",
   "mimetype": "text/x-python",
   "name": "python",
   "nbconvert_exporter": "python",
   "pygments_lexer": "ipython3",
   "version": "3.8.5"
  },
  "orig_nbformat": 2,
  "kernelspec": {
   "name": "python385jvsc74a57bd087f9c2987d76ccc83ed4d9e64503fb1224433dd8ec72f95a54cd89fff4c5ed9c",
   "display_name": "Python 3.8.5 64-bit ('base': conda)"
  }
 },
 "nbformat": 4,
 "nbformat_minor": 2,
 "cells": [
  {
   "cell_type": "code",
   "execution_count": 131,
   "metadata": {},
   "outputs": [],
   "source": [
    "import pandas as pd\n",
    "import matplotlib.pyplot as plt\n",
    "import numpy as np\n",
    "from pyvis.network import Network\n",
    "\n",
    "import networkx as nx\n",
    "file_path = \"./Castlery/castlery_\""
   ]
  },
  {
   "cell_type": "code",
   "execution_count": 132,
   "metadata": {},
   "outputs": [],
   "source": [
    "compiled_df = pd.read_csv(\"../Clean Data/clean_consolidated_castlery (forum).csv\") "
   ]
  },
  {
   "cell_type": "code",
   "execution_count": 133,
   "metadata": {},
   "outputs": [
    {
     "output_type": "execute_result",
     "data": {
      "text/plain": [
       "Index(['Unnamed: 0', 'Author', 'Body', 'Reply to', 'Message Replying to',\n",
       "       'Permalink', 'Score', 'Subpage/Subreddit', 'TimeStamp', 'Year',\n",
       "       'Source'],\n",
       "      dtype='object')"
      ]
     },
     "metadata": {},
     "execution_count": 133
    }
   ],
   "source": [
    "compiled_df.columns"
   ]
  },
  {
   "cell_type": "code",
   "execution_count": 134,
   "metadata": {},
   "outputs": [
    {
     "output_type": "execute_result",
     "data": {
      "text/plain": [
       "['Reddit', 'Singapore Expat', 'HardwareZone']"
      ]
     },
     "metadata": {},
     "execution_count": 134
    }
   ],
   "source": [
    "list(compiled_df[\"Source\"].unique())\n"
   ]
  },
  {
   "cell_type": "code",
   "execution_count": 135,
   "metadata": {},
   "outputs": [],
   "source": [
    "hwz_df = compiled_df[compiled_df[\"Source\"] == \"HardwareZone\"]\n",
    "reddit_df = compiled_df[compiled_df[\"Source\"] == \"Reddit\"]\n",
    "expat_df = compiled_df[compiled_df[\"Source\"] == \"Singapore Expat\"]\n"
   ]
  },
  {
   "cell_type": "code",
   "execution_count": 136,
   "metadata": {},
   "outputs": [
    {
     "output_type": "stream",
     "name": "stdout",
     "text": [
      "(96, 11)\n(31, 11)\n(1, 11)\n"
     ]
    }
   ],
   "source": [
    "print(hwz_df.shape)\n",
    "print(reddit_df.shape)\n",
    "print(expat_df.shape)"
   ]
  },
  {
   "cell_type": "code",
   "execution_count": 137,
   "metadata": {},
   "outputs": [
    {
     "output_type": "execute_result",
     "data": {
      "text/plain": [
       "Gixxerfied             20\n",
       "purpleberry             6\n",
       "pacificstorm            4\n",
       "d3n                     3\n",
       "snowydust               3\n",
       "DarthGW                 2\n",
       "ironut                  2\n",
       "jacko123                2\n",
       "hwaa                    2\n",
       "Asakura                 2\n",
       "donnatona               2\n",
       "popdod                  2\n",
       "Elfblade                1\n",
       "Bunny2016               1\n",
       "orbvius                 1\n",
       "cybercom8               1\n",
       "BizarreLoveTriangle     1\n",
       "chewchun                1\n",
       "AspireX                 1\n",
       "Ivanlee80               1\n",
       "trepies                 1\n",
       "AnTzX_                  1\n",
       "kaypohchee              1\n",
       "Niccolo Machiavelli     1\n",
       "KnightDroid             1\n",
       "gnoes85                 1\n",
       "walkofwinners           1\n",
       "Repsol_2                1\n",
       "mero_cwj                1\n",
       "dilphinus               1\n",
       "_Dave_                  1\n",
       "Name: Reply to, dtype: int64"
      ]
     },
     "metadata": {},
     "execution_count": 137
    }
   ],
   "source": [
    "hwz_df[\"Reply to\"].value_counts()\n"
   ]
  },
  {
   "cell_type": "code",
   "execution_count": 138,
   "metadata": {},
   "outputs": [],
   "source": [
    "G = nx.Graph()"
   ]
  },
  {
   "cell_type": "code",
   "execution_count": 139,
   "metadata": {},
   "outputs": [],
   "source": [
    "def color(size):\n",
    "    if size > 4 :\n",
    "        return \"red\"\n",
    "    elif size > 2:\n",
    "        return \"green\"\n",
    "    return \"blue\"\n",
    "\n",
    "nodes = [author for author in hwz_df[\"Author\"].values] + [reply_to for reply_to in hwz_df[\"Reply to\"].values]\n",
    "nodes = [node for node in nodes if type(node) == str]\n",
    "\n",
    "edges = [(author, reply_to) for author, reply_to in hwz_df[[\"Author\", \"Reply to\"]].values]\n",
    "edges = [edge for edge in edges if (type(edge[0]) == str and type(edge[1]) == str)]\n",
    "pairwise_weight = {edge: 1 for edge in edges }\n",
    "for indexOuter, itemOuter in enumerate(pairwise_weight):\n",
    "    leftO, rightO = itemOuter\n",
    "    for indexInner, itemInner in enumerate(pairwise_weight):\n",
    "        leftI, rightI = itemInner\n",
    "        if indexInner > indexOuter and leftO == rightI and rightO == leftI:\n",
    "            pairwise_weight[itemInner] += 1\n",
    "            pairwise_weight[itemOuter] = 0\n",
    "\n",
    "pairwise_weight = {key: pairwise_weight[key] for key in pairwise_weight if pairwise_weight[key] > 0}\n",
    "weighted_edges = [(key[0], key[1], 2**pairwise_weight[key] ) for key in pairwise_weight]\n",
    "\n",
    "degrees = {node : 1 for node in nodes}\n",
    "\n",
    "for author in hwz_df[\"Author\"].values:\n",
    "    if author in degrees:\n",
    "        degrees[author] += 1\n",
    "\n",
    "nodes = [(node, {\"size\" : 2*degrees[node], \"color\" : color(degrees[node])}) for node in nodes]\n",
    "\n"
   ]
  },
  {
   "cell_type": "code",
   "execution_count": 140,
   "metadata": {},
   "outputs": [],
   "source": [
    "G.add_nodes_from(nodes)\n",
    "G.add_weighted_edges_from(weighted_edges)"
   ]
  },
  {
   "cell_type": "code",
   "execution_count": 141,
   "metadata": {},
   "outputs": [],
   "source": [
    "nt = Network('1000px', '1000px')\n",
    "# populates the nodes and edges data structures\n",
    "\n",
    "nt.from_nx(G)\n",
    "nt.show(file_path+'hwz_network.html')\n"
   ]
  },
  {
   "cell_type": "code",
   "execution_count": 142,
   "metadata": {},
   "outputs": [
    {
     "output_type": "execute_result",
     "data": {
      "text/plain": [
       "-    31\n",
       "Name: Reply to, dtype: int64"
      ]
     },
     "metadata": {},
     "execution_count": 142
    }
   ],
   "source": [
    "reddit_df[\"Reply to\"].value_counts()"
   ]
  },
  {
   "cell_type": "code",
   "execution_count": 143,
   "metadata": {},
   "outputs": [],
   "source": [
    "G= nx.Graph()"
   ]
  },
  {
   "cell_type": "code",
   "execution_count": 144,
   "metadata": {},
   "outputs": [],
   "source": [
    "def color(size):\n",
    "    if size > 4 :\n",
    "        return \"red\"\n",
    "    elif size > 2:\n",
    "        return \"green\"\n",
    "    return \"blue\"\n",
    "\n",
    "nodes = [author for author in reddit_df[\"Author\"].values] + [reply_to for reply_to in reddit_df[\"Reply to\"].values]\n",
    "nodes = [node for node in nodes if type(node) == str or node.strip() != \"-\"]\n",
    "\n",
    "edges = [(author, reply_to) for author, reply_to in reddit_df[[\"Author\", \"Reply to\"]].values]\n",
    "edges = [edge for edge in edges if (type(edge[0]) == str and type(edge[1]) == str and edge[0].strip() != \"-\" and edge[1].strip() != \"-\")]\n",
    "pairwise_weight = {edge: 1 for edge in edges }\n",
    "for indexOuter, itemOuter in enumerate(pairwise_weight):\n",
    "    leftO, rightO = itemOuter\n",
    "    for indexInner, itemInner in enumerate(pairwise_weight):\n",
    "        leftI, rightI = itemInner\n",
    "        if indexInner > indexOuter and leftO == rightI and rightO == leftI:\n",
    "            pairwise_weight[itemInner] += 1\n",
    "            pairwise_weight[itemOuter] = 0\n",
    "\n",
    "pairwise_weight = {key: pairwise_weight[key] for key in pairwise_weight if pairwise_weight[key] > 0}\n",
    "weighted_edges = [(key[0], key[1], 10**pairwise_weight[key] ) for key in pairwise_weight]\n",
    "\n",
    "degrees = {node : 1 for node in nodes}\n",
    "\n",
    "for author in hwz_df[\"Author\"].values:\n",
    "    if author in degrees:\n",
    "        degrees[author] += 1\n",
    "\n",
    "nodes = [(node, {\"size\" : 2*degrees[node], \"color\" : color(degrees[node])}) for node in nodes]"
   ]
  },
  {
   "cell_type": "code",
   "execution_count": 145,
   "metadata": {},
   "outputs": [],
   "source": [
    "G.add_nodes_from(nodes)\n",
    "G.add_weighted_edges_from(weighted_edges)"
   ]
  },
  {
   "cell_type": "code",
   "execution_count": 146,
   "metadata": {},
   "outputs": [],
   "source": [
    "nt = Network('800px', '800px')\n",
    "# populates the nodes and edges data structures\n",
    "\n",
    "nt.from_nx(G)\n",
    "nt.show(file_path+'reddit_network.html')"
   ]
  },
  {
   "cell_type": "code",
   "execution_count": 147,
   "metadata": {},
   "outputs": [
    {
     "output_type": "execute_result",
     "data": {
      "text/plain": [
       "ropentie     1\n",
       "Name: Reply to, dtype: int64"
      ]
     },
     "metadata": {},
     "execution_count": 147
    }
   ],
   "source": [
    "expat_df[\"Reply to\"].value_counts()"
   ]
  },
  {
   "cell_type": "code",
   "execution_count": 148,
   "metadata": {},
   "outputs": [],
   "source": [
    "G= nx.Graph()"
   ]
  },
  {
   "cell_type": "code",
   "execution_count": 149,
   "metadata": {},
   "outputs": [],
   "source": [
    "def color(size):\n",
    "    if size > 4 :\n",
    "        return \"red\"\n",
    "    elif size > 2:\n",
    "        return \"green\"\n",
    "    return \"blue\"\n",
    "\n",
    "nodes = [author for author in expat_df[\"Author\"].values] + [reply_to for reply_to in expat_df[\"Reply to\"].values]\n",
    "nodes = [node for node in nodes if type(node) == str or node.strip() != \"-\"]\n",
    "\n",
    "edges = [(author, reply_to) for author, reply_to in expat_df[[\"Author\", \"Reply to\"]].values]\n",
    "edges = [edge for edge in edges if (type(edge[0]) == str and type(edge[1]) == str)]\n",
    "pairwise_weight = {edge: 1 for edge in edges }\n",
    "for indexOuter, itemOuter in enumerate(pairwise_weight):\n",
    "    leftO, rightO = itemOuter\n",
    "    for indexInner, itemInner in enumerate(pairwise_weight):\n",
    "        leftI, rightI = itemInner\n",
    "        if indexInner > indexOuter and leftO == rightI and rightO == leftI:\n",
    "            pairwise_weight[itemInner] += 1\n",
    "            pairwise_weight[itemOuter] = 0\n",
    "\n",
    "pairwise_weight = {key: pairwise_weight[key] for key in pairwise_weight if pairwise_weight[key] > 0}\n",
    "weighted_edges = [(key[0], key[1], 10**pairwise_weight[key] ) for key in pairwise_weight]\n",
    "\n",
    "degrees = {node : 1 for node in nodes}\n",
    "\n",
    "for author in hwz_df[\"Author\"].values:\n",
    "    if author in degrees:\n",
    "        degrees[author] += 1\n",
    "\n",
    "nodes = [(node, {\"size\" : 2*degrees[node], \"color\" : color(degrees[node])}) for node in nodes]"
   ]
  },
  {
   "cell_type": "code",
   "execution_count": 150,
   "metadata": {},
   "outputs": [],
   "source": [
    "G.add_nodes_from(nodes)\n",
    "G.add_weighted_edges_from(weighted_edges)"
   ]
  },
  {
   "cell_type": "code",
   "execution_count": 151,
   "metadata": {},
   "outputs": [],
   "source": [
    "nt = Network('800px', '800px')\n",
    "# populates the nodes and edges data structures\n",
    "\n",
    "nt.from_nx(G)\n",
    "nt.show(file_path+'expat_network.html')"
   ]
  },
  {
   "cell_type": "code",
   "execution_count": null,
   "metadata": {},
   "outputs": [],
   "source": []
  }
 ]
}