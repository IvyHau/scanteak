{
 "cells": [
  {
   "cell_type": "markdown",
   "metadata": {},
   "source": [
    "### Import Packages"
   ]
  },
  {
   "cell_type": "code",
   "execution_count": 158,
   "metadata": {},
   "outputs": [],
   "source": [
    "from datetime import datetime, timedelta\n",
    "import pandas as pd\n",
    "import time\n",
    "import re\n",
    "import numpy as np\n",
    "import nltk\n",
    "from wordcloud import WordCloud, STOPWORDS, ImageColorGenerator\n",
    "from nltk.sentiment import SentimentIntensityAnalyzer\n",
    "\n",
    "import matplotlib.pyplot as plt\n",
    "%matplotlib inline"
   ]
  },
  {
   "cell_type": "code",
   "execution_count": 159,
   "metadata": {},
   "outputs": [
    {
     "output_type": "stream",
     "name": "stderr",
     "text": [
      "[nltk_data] Downloading package vader_lexicon to\n[nltk_data]     /Users/qilinpo/nltk_data...\n[nltk_data]   Package vader_lexicon is already up-to-date!\n"
     ]
    },
    {
     "output_type": "execute_result",
     "data": {
      "text/plain": [
       "True"
      ]
     },
     "metadata": {},
     "execution_count": 159
    }
   ],
   "source": [
    "nltk.download('vader_lexicon')"
   ]
  },
  {
   "cell_type": "markdown",
   "metadata": {},
   "source": [
    "### Read CSV into DataFrame"
   ]
  },
  {
   "cell_type": "code",
   "execution_count": 161,
   "metadata": {},
   "outputs": [],
   "source": [
    "scanteak_df = pd.read_csv(\"HWZ_scanteak.csv\")\n",
    "castlery_df = pd.read_csv(\"HWZ_castlery.csv\")\n",
    "wihardja_df = pd.read_csv(\"HWZ_wihardja.csv\")\n",
    "star_living_df = pd.read_csv(\"HWZ_star_living.csv\")\n",
    "teak_and_mahogany_df = pd.read_csv(\"HWZ_teak_and_mahogany.csv\")\n",
    "grey_and_sanders_df = pd.read_csv(\"HWZ_grey_and_sanders.csv\")\n",
    "teak_furniture_df = pd.read_csv(\"HWZ_teak_furniture.csv\")"
   ]
  },
  {
   "cell_type": "code",
   "execution_count": null,
   "metadata": {},
   "outputs": [],
   "source": []
  },
  {
   "cell_type": "markdown",
   "metadata": {},
   "source": [
    "### Adding MetaData"
   ]
  },
  {
   "cell_type": "code",
   "execution_count": 162,
   "metadata": {},
   "outputs": [],
   "source": [
    "scanteak_df['query'] = scanteak_df.apply(lambda x: \"scanteak\", axis=1)\n",
    "scanteak_df['source'] = scanteak_df.apply(lambda x: \"HardwareZone\", axis=1)\n",
    "\n",
    "castlery_df['query'] = castlery_df.apply(lambda x: \"castlery\", axis=1)\n",
    "castlery_df['source'] = castlery_df.apply(lambda x: \"HardwareZone\", axis=1)\n",
    "\n",
    "wihardja_df['query'] = wihardja_df.apply(lambda x: \"wihardja\", axis=1)\n",
    "wihardja_df['source'] = wihardja_df.apply(lambda x: \"HardwareZone\", axis=1)\n",
    "\n",
    "star_living_df['query'] = star_living_df.apply(lambda x: \"star living\", axis=1)\n",
    "star_living_df['source'] = star_living_df.apply(lambda x: \"HardwareZone\", axis=1)\n",
    "\n",
    "teak_and_mahogany_df['query'] = teak_and_mahogany_df.apply(lambda x: \"teak and mahogany\", axis=1)\n",
    "teak_and_mahogany_df['source'] = teak_and_mahogany_df.apply(lambda x: \"HardwareZone\", axis=1)\n",
    "\n",
    "grey_and_sanders_df['query'] = grey_and_sanders_df.apply(lambda x: \"grey and sanders\", axis=1)\n",
    "grey_and_sanders_df['source'] = grey_and_sanders_df.apply(lambda x: \"HardwareZone\", axis=1)\n",
    "\n",
    "\n",
    "teak_furniture_df['query'] = teak_furniture_df.apply(lambda x: \"teak furniture\", axis=1)\n",
    "teak_furniture_df['source'] = teak_furniture_df.apply(lambda x: \"HardwareZone\", axis=1)\n"
   ]
  },
  {
   "cell_type": "markdown",
   "metadata": {},
   "source": [
    "### Convert Timestamp to Pandas Datetime Type"
   ]
  },
  {
   "cell_type": "code",
   "execution_count": 163,
   "metadata": {},
   "outputs": [],
   "source": [
    "scanteak_df['timestamp'] = pd.to_datetime(scanteak_df['timestamp'], format='%d-%m-%Y, %I:%M %p')\n",
    "castlery_df['timestamp'] = pd.to_datetime(castlery_df['timestamp'], format='%d-%m-%Y, %I:%M %p')\n",
    "wihardja_df['timestamp'] = pd.to_datetime(wihardja_df['timestamp'], format='%d-%m-%Y, %I:%M %p')\n",
    "star_living_df['timestamp'] = pd.to_datetime(star_living_df['timestamp'], format='%d-%m-%Y, %I:%M %p')\n",
    "teak_and_mahogany_df['timestamp'] = pd.to_datetime(teak_and_mahogany_df['timestamp'], format='%d-%m-%Y, %I:%M %p')\n",
    "grey_and_sanders_df['timestamp'] = pd.to_datetime(grey_and_sanders_df['timestamp'], format='%d-%m-%Y, %I:%M %p')\n",
    "teak_furniture_df['timestamp'] = pd.to_datetime(teak_furniture_df['timestamp'], format='%d-%m-%Y, %I:%M %p')"
   ]
  },
  {
   "cell_type": "code",
   "execution_count": 164,
   "metadata": {},
   "outputs": [],
   "source": [
    "scanteak_df['year'] = scanteak_df[\"timestamp\"].dt.year\n",
    "castlery_df['year'] = castlery_df[\"timestamp\"].dt.year\n",
    "wihardja_df['year'] = wihardja_df[\"timestamp\"].dt.year\n",
    "star_living_df['year'] = star_living_df[\"timestamp\"].dt.year\n",
    "teak_and_mahogany_df['year'] = teak_and_mahogany_df[\"timestamp\"].dt.year\n",
    "grey_and_sanders_df['year'] = grey_and_sanders_df[\"timestamp\"].dt.year\n",
    "teak_furniture_df['year'] = teak_furniture_df[\"timestamp\"].dt.year"
   ]
  },
  {
   "cell_type": "code",
   "execution_count": 165,
   "metadata": {},
   "outputs": [],
   "source": [
    "scanteak_df.to_csv(\"HWZ_scanteak.csv\", sep=\",\", index=False)\n",
    "castlery_df.to_csv(\"HWZ_castlery.csv\", sep=\",\", index=False)\n",
    "wihardja_df.to_csv(\"HWZ_wihardja.csv\", sep=\",\", index=False)\n",
    "star_living_df.to_csv(\"HWZ_star_living.csv\", sep=\",\", index=False)\n",
    "teak_and_mahogany_df.to_csv(\"HWZ_teak_and_mahogany.csv\", sep=\",\", index=False)\n",
    "grey_and_sanders_df.to_csv(\"HWZ_grey_and_sanders.csv\", sep=\",\", index=False)\n",
    "teak_furniture_df.to_csv(\"HWZ_teak_furniture.csv\", sep=\",\", index=False)\n"
   ]
  }
 ],
 "metadata": {
  "kernelspec": {
   "name": "python385jvsc74a57bd087f9c2987d76ccc83ed4d9e64503fb1224433dd8ec72f95a54cd89fff4c5ed9c",
   "display_name": "Python 3.8.5 64-bit ('base': conda)"
  },
  "language_info": {
   "codemirror_mode": {
    "name": "ipython",
    "version": 3
   },
   "file_extension": ".py",
   "mimetype": "text/x-python",
   "name": "python",
   "nbconvert_exporter": "python",
   "pygments_lexer": "ipython3",
   "version": "3.8.5"
  }
 },
 "nbformat": 4,
 "nbformat_minor": 4
}