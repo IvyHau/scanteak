{
 "metadata": {
  "language_info": {
   "codemirror_mode": {
    "name": "ipython",
    "version": 3
   },
   "file_extension": ".py",
   "mimetype": "text/x-python",
   "name": "python",
   "nbconvert_exporter": "python",
   "pygments_lexer": "ipython3",
   "version": "3.7.0"
  },
  "orig_nbformat": 2,
  "kernelspec": {
   "name": "python370jvsc74a57bd0097a94cc1bfc5a0a380b63d1eb45dc603bb0f63840061a2276c4020d01d7c102",
   "display_name": "Python 3.7.0 64-bit"
  },
  "metadata": {
   "interpreter": {
    "hash": "097a94cc1bfc5a0a380b63d1eb45dc603bb0f63840061a2276c4020d01d7c102"
   }
  }
 },
 "nbformat": 4,
 "nbformat_minor": 2,
 "cells": [
  {
   "cell_type": "code",
   "execution_count": 107,
   "metadata": {},
   "outputs": [
    {
     "output_type": "stream",
     "name": "stdout",
     "text": [
      "Downloading emoji data ...\n",
      "... OK (Got response in 1.06 seconds)\n",
      "Writing emoji data to C:\\Users\\ivyha\\.demoji\\codes.json ...\n",
      "... OK\n"
     ]
    }
   ],
   "source": [
    "import pandas as pd \n",
    "from emot import UNICODE_EMO\n",
    "from emot import EMOTICONS\n",
    "import re\n",
    "import demoji\n",
    "demoji.download_codes()"
   ]
  },
  {
   "cell_type": "code",
   "execution_count": 124,
   "metadata": {},
   "outputs": [],
   "source": [
    "# Import consolidates files\n",
    "scanteak_forum_df = pd.read_csv(\"../Consolidated Data/Consolidated_Scanteak (Forums).csv\")\n",
    "castlery_forum_df = pd.read_csv(\"../Consolidated Data/Consolidated_Castlery (Forums).csv\")\n",
    "wihardja_forum_df = pd.read_csv(\"../Consolidated Data/Consolidated_Wihardja (Forums).csv\")\n",
    "star_living_forum_df = pd.read_csv(\"../Consolidated Data/Consolidated_StarLiving (Forums).csv\")\n",
    "grey_and_sanders_forum_df = pd.read_csv(\"../Consolidated Data/Consolidated_GreySanders (Forums).csv\")\n",
    "teak_furniture_forum_df = pd.read_csv(\"../Consolidated Data/Consolidated_furniture (Forums).csv\")"
   ]
  },
  {
   "cell_type": "code",
   "execution_count": 125,
   "metadata": {},
   "outputs": [],
   "source": [
    "dataframes = [scanteak_forum_df, castlery_forum_df, wihardja_forum_df, star_living_forum_df, grey_and_sanders_forum_df, teak_furniture_forum_df]"
   ]
  },
  {
   "cell_type": "code",
   "execution_count": 126,
   "metadata": {},
   "outputs": [],
   "source": [
    "# Remove whitespace\n",
    "scanteak_forum_df['Body'] = scanteak_forum_df['Body'].str.strip()\n",
    "castlery_forum_df['Body'] = castlery_forum_df['Body'].str.strip()\n",
    "wihardja_forum_df['Body'] = wihardja_forum_df['Body'].str.strip()\n",
    "star_living_forum_df['Body'] = star_living_forum_df['Body'].str.strip()\n",
    "grey_and_sanders_forum_df['Body'] = grey_and_sanders_forum_df['Body'].str.strip()\n",
    "teak_furniture_forum_df['Body'] = teak_furniture_forum_df['Body'].str.strip()"
   ]
  },
  {
   "cell_type": "code",
   "execution_count": 149,
   "metadata": {},
   "outputs": [],
   "source": [
    "def remove_space(df, colname):\n",
    "    # Remove whitespace in header\n",
    "    df.rename(columns=lambda x: x.strip(), inplace=True)\n",
    "    # Remove whiteshpace in body\n",
    "    df[colname] = df[colname].str.strip(\" \")\n",
    "    df[colname] = df[colname].replace(r'\\\\n', ' ', regex = True)\n",
    "    df[colname] = df[colname].replace('\\s+', ' ', regex = True)"
   ]
  },
  {
   "cell_type": "code",
   "execution_count": 128,
   "metadata": {},
   "outputs": [],
   "source": [
    "def lower_case(df, colname):\n",
    "    df[colname] = df[colname].str.lower()"
   ]
  },
  {
   "cell_type": "code",
   "execution_count": 129,
   "metadata": {},
   "outputs": [],
   "source": [
    "def special_character(df, colname):\n",
    "    df[colname].replace({r'[^\\x00-\\x7F]+':''}, regex=True, inplace=True)"
   ]
  },
  {
   "cell_type": "code",
   "execution_count": 130,
   "metadata": {},
   "outputs": [],
   "source": [
    "# Emoticon Handling\n",
    "def convert_emoticons(text):\n",
    "    for emot in EMOTICONS:\n",
    "        text = re.sub(u'('+emot+')', \"_\".join(EMOTICONS[emot].replace(\",\",\"\").split()), text)\n",
    "    return text"
   ]
  },
  {
   "cell_type": "code",
   "execution_count": 131,
   "metadata": {},
   "outputs": [],
   "source": [
    "# Convert emoticon in dataframe\n",
    "def emoticon_handling(df, colname):\n",
    "    for body in df[colname].astype(str):\n",
    "        body = convert_emoticons(body)"
   ]
  },
  {
   "cell_type": "code",
   "execution_count": 150,
   "metadata": {
    "tags": []
   },
   "outputs": [],
   "source": [
    "for dataframe in dataframes:\n",
    "    remove_space(dataframe, 'Body')\n",
    "    lower_case(dataframe, 'Body')\n",
    "    special_character(dataframe, 'Body')\n",
    "    emoticon_handling(dataframe, 'Body')"
   ]
  },
  {
   "cell_type": "code",
   "execution_count": 151,
   "metadata": {},
   "outputs": [],
   "source": [
    "# Export dataframe to csv\n",
    "scanteak_forum_df.to_csv(\"../Clean Data/clean_consolidated_scanteak (forum).csv\")\n",
    "castlery_forum_df.to_csv(\"../Clean Data/clean_consolidated_castlery (forum).csv\")\n",
    "wihardja_forum_df.to_csv(\"../Clean Data/clean_consolidated_wihardja (forum).csv\")\n",
    "star_living_forum_df.to_csv(\"../Clean Data/clean_consolidated_starliving (forum).csv\")\n",
    "grey_and_sanders_forum_df.to_csv(\"../Clean Data/clean_consolidated_greysanders (forum).csv\")\n",
    "teak_furniture_forum_df.to_csv(\"../Clean Data/clean_consolidated_furniture (forum).csv\")"
   ]
  },
  {
   "cell_type": "code",
   "execution_count": null,
   "metadata": {},
   "outputs": [],
   "source": []
  }
 ]
}